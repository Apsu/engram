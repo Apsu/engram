{
 "cells": [
  {
   "cell_type": "markdown",
   "metadata": {
    "colab_type": "text",
    "id": "J1wRG8laa8Pm"
   },
   "source": [
    "# Arno's Engram key layout\n",
    "\n",
    "The [Engram layout](https://github.com/binarybottle/engram-layout) is a keyboard layout optimized for comfortable touch typing in English created by [Arno Klein](https://binarybottle.com), with open source code to create other optimized key layouts.\n",
    "\n",
    "                   J  U  O  Y        W  S  M  Q  Z\n",
    "                   H  I  E  A        T  N  R  C  X \n",
    "                   P  K  G  D        L  F  B  V\n",
    "\n",
    "The Shift key accesses characters (top) that look similar to the numbers:\n",
    "\n",
    "                   !  =  ?  +  $  @  ^  &  %  *\n",
    "                   1  2  3  4  5  6  7  8  9  0\n",
    "\n",
    "and accesses related but less common punctuation (top):\n",
    "\n",
    "                `    \\    ;    :    {    }    |    _\n",
    "                '    \"    ,    .    (    )    /    -\n",
    "\n",
    "Swapping the Backspace and Caps lock keys completes the layout:\n",
    "\n",
    "\n",
    "          ~        !  =  ?  +  $  @  ^  &  %  *  <  >\n",
    "          #        1  2  3  4  5  6  7  8  9  0  [  ]     Caps\n",
    "\n",
    "        Tab        J  U  O  Y  '  \"  W  S  M  Q  Z  -     /\n",
    "        Back       H  I  E  A  ,  .  T  N  R  C  X        Enter\n",
    "        Shift      P  K  G  D  (  )  L  F  B  V           Shift\n",
    "\n",
    "        Ctrl  Fn  Cmd  Alt  Space   Alt  Ctrl       Arrows\n"
   ]
  },
  {
   "cell_type": "markdown",
   "metadata": {
    "colab_type": "text",
    "id": "awscg4wBa8Po"
   },
   "source": [
    "# Contents\n",
    "1. [Rationale](#rationale)\n",
    "2. [Comparison with other key layouts](#comparison)\n",
    "3. [Factors used to compute the layout](#factors)\n",
    "4. [Guiding criteria](#criteria)\n",
    "5. [Summary of steps and results](#summary)\n",
    "6. Setup:\n",
    "    - [Dependencies and functions](#import)\n",
    "    - [Speed matrix](#speed)\n",
    "    - [Strength matrix](#strength)\n",
    "    - [Flow matrix](#flow)\n",
    "7. Steps:\n",
    "    - [Step 1: Distribute the 8 most frequent letters (4 vowels, 4 consonants) to the left and right](#step1)\n",
    "    - [Step 2: Add command shortcut characters on the left or right](#step2)\n",
    "    - [Step 3: Distribute 8 of the remaining letters to the left and right](#step3)\n",
    "    - [Step 4: Optimize arrangement of all letters on the left and right](#step4)\n",
    "    - [Step 5: Arrange punctuation marks and characters in easy-to-remember places](#step5)"
   ]
  },
  {
   "cell_type": "markdown",
   "metadata": {
    "colab_type": "text",
    "id": "SSdE4O9Wa8Pp"
   },
   "source": [
    "## Rationale <a name=\"rationale\">\n",
    "\n",
    "**Why?** <br>\n",
    "In the future, I hope to include an engaging rationale for why I took on this challenge.\n",
    "Suffice to say that I have battled repetitive strain injury since I worked\n",
    "on an old DEC workstation at the MIT Media Lab while composing my thesis back in the mid-90s.\n",
    "Ever since then I have used different key layouts (Dvorak, Colemak, my own, etc.),\n",
    "and have primarily used Colemak for almost 10 years.  I find that they all place too much stress on tendons, with lateral extension of the index and little fingers,\n",
    "and on uniform distribution of finger use, which has damaged my little fingers.\n",
    "I have also experimented with a wide variety of human interface technologies\n",
    "(voice dictation, one-handed keyboard, keyless keyboard, foot mouse, and ergonomic keyboards like the Kinesis Advantage. I recently got an Ergodox that I am looking forward to trying out with the Engram layout.\n",
    "\n",
    "**\"Engram\"?** <br>\n",
    "The name is a pun, referring both to \"n-gram\", letter permutations used to compute this layout, and \"engram\", or memory trace, the postulated change in neural tissue to account for the persistence of memory."
   ]
  },
  {
   "cell_type": "markdown",
   "metadata": {
    "colab_type": "text",
    "id": "vkv2v3gla8Pt"
   },
   "source": [
    "## Comparison with other key layouts <a name=\"comparison\">\n",
    "\n",
    "Despite the fact that the Engram layout was designed to reduce strain and discomfort, not to reduce finger travel from the home row, it scores higher than all other key layouts (Colemak, Dvorak, QWERTY, etc.) I've tested using the online Keyboard Layout Analyzer, for all of the examples of prose and tweet data I've tried, including the data sets below:\n",
    "\n",
    "- [See the complete analysis](http://patorjk.com/keyboard-layout-analyzer/#/load/x0WPtw3x)\n",
    "of __Alice in Wonderland__ provided by the Keyboard Layout Analyzer \n",
    "\n",
    "- All __20,000 tweets__ from [Gender Classifier Data](https://www.kaggle.com/crowdflower/twitter-user-gender-classification) <br>\n",
    "Added: November 15, 2015 by CrowdFlower\n",
    "\n",
    "- The first __100,000 tweets__ from: [Sentiment140 dataset](https://data.world/data-society/twitter-user-data) training data <br>\n",
    "Go, A., Bhayani, R. and Huang, L., 2009. <br>\n",
    "Twitter sentiment classification using distant supervision. <br>\n",
    "CS224N Project Report, Stanford, 1(2009), p.12.\n",
    "\n",
    "According to the [Keyboard Layout Analyzer](http://patorjk.com/keyboard-layout-analyzer/):\n",
    "\n",
    "\"The optimal layout score is based on a weighted calculation that factors in the distance your fingers moved (33%), how often you use particular fingers (33%), and how often you switch fingers and hands while typing (34%).\""
   ]
  },
  {
   "cell_type": "markdown",
   "metadata": {
    "colab_type": "text",
    "id": "skuQOyi0DzRD"
   },
   "source": [
    "## Factors used to compute the layout <a name=\"factors\">\n",
    "  - **N-gram letter frequencies** <br>\n",
    "    \n",
    "    [Peter Norvig's analysis](http://www.norvig.com/mayzner.html) of data from Google's book scanning project\n",
    "  - **Flow factors** (transitions between ordered key pairs) <br>\n",
    "    These factors are influenced by Dvorak's 11 criteria (1936) that can be summarized as follows:\n",
    "      - Alternate between hands and balance finger loads.\n",
    "      - Avoid using the same finger.\n",
    "      - Avoid the upper and lower rows.\n",
    "      - Avoid skipping over the home row (\"hurdling\").\n",
    "      - Avoid tapping adjacent rows (\"reaching\") with (same or) adjacent fingers.\n",
    "  - **Finger strengths** (peak keyboard reaction forces) <br>\n",
    "      \"Keyboard Reaction Force and Finger Flexor Electromyograms during Computer Keyboard Work\", BJ Martin, TJ Armstrong, JA Foulke, S Natarajan, Human Factors,1996,38(4),654-664.\n",
    "  - **Speed** (unordered interkey stroke times) <br>\n",
    "      \"Estimation of digraph costs for keyboard layout optimization\", A Iseri, Ma Eksioglu, International Journal of Industrial Ergonomics, 48, 127-138, 2015. <br>\n",
    "      _NOTE: Speed data were only used for exploration of early key layouts._"
   ]
  },
  {
   "cell_type": "markdown",
   "metadata": {
    "colab_type": "text",
    "id": "wm3T-hmja8Ps"
   },
   "source": [
    "## Guiding criteria   <a name=\"criteria\">\n",
    "\n",
    "1.  Assign 24 letters to keys that don't require lateral extension of index or little fingers.\n",
    "2.  Group letters for common command shortcut keys (F,C,Z,Y,X,V) close together.\n",
    "3.  Assign punctuation to keys that require lateral extension of index or little fingers.\n",
    "4.  Assign easier-to-remember characters to the shift-number keys.\n",
    "5.  Arrange letters so that more frequent bigrams are faster and easier to type.\n",
    "6.  Balance finger loads according to their relative strength.\n",
    "7.  Promote alternating between hands over typing with the same hand.\n",
    "8.  Promote little-to-index-finger roll-ins over index-to-little-finger roll_outs.\n",
    "9.  Avoid extending nearer, shorter fingers to upper rows.\n",
    "10. Avoid using the same finger.\n",
    "11. Avoid the upper and lower rows.\n",
    "12. Avoid skipping over the home row."
   ]
  },
  {
   "cell_type": "markdown",
   "metadata": {
    "colab_type": "text",
    "id": "_8C_BEaXa8Pu"
   },
   "source": [
    "## Summary of steps and results  <a name=\"summary\">\n",
    "\n",
    "- Step 1: Distribute the 8 most frequent letters (4 vowels, 4 consonants) to the left and right\n",
    "- Step 2: Add command shortcut characters on the left or right\n",
    "- Step 3: Distribute 8 of the remaining letters to the left and right\n",
    "- Step 4: Optimize arrangement of all letters on the left and right \n",
    "- Step 5: Arrange punctuation marks and characters in easy-to-remember places\n",
    "    \n",
    "### 1. Distribute the 8 most frequent letters (4 vowels, 4 consonants) to the left and right\n",
    "\n",
    "**E, T, A, O, I, N, S, R**, H, L, D, C, U, M, F, P, G, W, Y, B, V, K, X, J, Q, Z\n",
    "\n",
    "My goal was to arrange 24 of the 26 letters in finger-column keys (requiring no lateral movements) with 2 columns reserved for punctuation between the left and right sides. Our optimization algorithm splits the 8 most frequent letters across left and right sides:\n",
    "\n",
    "                   -  -  O  -        -  S  -  - \n",
    "                   -  I  E  A        T  N  R  -\n",
    "                   -  -  -  -        -  -  -  -\n",
    "\n",
    "This algorithm also generates a mirror image of the above arrangement:\n",
    "\n",
    "                   -  -  S  -        -  O  -  -\n",
    "                   -  R  N  T        A  E  I  - \n",
    "                   -  -  -  -        -  -  -  -\n",
    "\n",
    "In all of the following steps, we build a layout from both arrangements but only show the top arrangement for clarity.\n",
    "These initial arrangements are very reasonable, as they place letters of decreasing frequency in positions of decreasing finger strength, and roll in for most common bigrams: IO, EA, IE, NT, ST, RT (not TR or NS).\n",
    "    \n",
    "#### **Details** <br>\n",
    "The optimization algorithm finds every permutation of a given set of letters (40,320 for this intial set of 8), maps these letter permutations to a set of keys, and ranks these letter-key mappings according to a score reflecting ease of typing key pairs and frequency of letter pairs (bigrams). The score is the average of the scores for all possible bigrams in this arrangement. The score for each bigram is a product of the frequency of occurrence of that bigram and the factors Flow, Strength, and Speed: \n",
    "\n",
    "**Flow**: measure of ease of a finger transition from the first in a pair of letters to the second\n",
    "\n",
    "Flow factors to _penalize_ difficult key transitions include:\n",
    "    \n",
    "- roll out from index to little finger\n",
    "- index or little finger on top row\n",
    "- middle or ring finger on bottom row\n",
    "- index above middle, or little above ring \n",
    "- index above ring, or little above middle\n",
    "- ring above middle\n",
    "- use same finger twice for a non-repeating letter\n",
    "- at least one key not on home row\n",
    "- one key on top row, the other on bottom row\n",
    "\n",
    "**Strength**: measure of the average strength of the finger(s) used to type the two letters\n",
    "\n",
    "Finger strengths are based on peak keyboard reaction forces (in newtons) from \"Keyboard Reaction Force and Finger Flexor Electromyograms during Computer Keyboard Work\", BJ Martin, TJ Armstrong, JA Foulke, S Natarajan, Human Factors,1996, 38(4), 654-664.\n",
    "\n",
    "**Speed**: normalized interkey stroke times\n",
    "\n",
    "These are left-right averaged versions derived from the study data below, to compensate for right-handedness of participants in the study (we used this data for early experimentation):\n",
    "\n",
    "\"Estimation of digraph costs for keyboard layout optimization\", \n",
    "A Iseri, Ma Eksioglu, International Journal of Industrial Ergonomics, 48, 127-138, 2015. \n",
    "    \n",
    "### 2. Add command shortcut characters on the left or right\n",
    "\n",
    "I experimented with common command characters (Z,X,C,V) on the left, a familiar location (with Q on the right):\n",
    "\n",
    "                   -  -  O  -        -  S  -  -  Q\n",
    "                   -  I  E  A        T  N  R  -  -\n",
    "                   Z  X  C  V        -  -  -  -\n",
    "    \n",
    "and with command characters on the right (with Q on the left):\n",
    "\n",
    "                   Q  -  O  -        -  S  -  Y  Z\n",
    "                   -  I  E  A        T  N  R  C  X \n",
    "                   -  -  -  -        -  -  -  V\n",
    "\n",
    "Rationale for placement on the right:\n",
    "    \n",
    "- Z is the least frequent letter and is placed in the hardest-to-reach position.\n",
    "- Z & Y (Undo & Redo), and X & C (Cut & Copy) pair well together. \n",
    "- Moving command shortcuts to the right puts C & V (Copy & Paste) in closer proximity to a Ctrl key, or it enforces two-handed Ctrl operations when using the harder-to-reach left Ctrl key.\n",
    "- Q is the least frequent remaining letter, and is placed in the hardest-to-reach remaining key location.\n",
    "- Q is in the upper left key in the QWERTY layout, so will be easy to remember.\n",
    "    \n",
    "### 3. Distribute 8 of the remaining letters to the left and right\n",
    "\n",
    "*E, T, A, O, I, N, S, R*, **H, L, D**, [C], **U, M, F, P, G**, W, [Y], B, [V], K, [X], J, *Q*, [Z] \n",
    "    \n",
    "### 4. Optimize arrangement of all letters on the left and right \n",
    "    \n",
    "I applied the same algorithm as in Steps 1 and 3, but to each side separately (to make it computationally tractable), then to the remaining letters, and finally to the command characters on the left side.    \n",
    "\n",
    "The top-scoring full layouts had vowels on the left side and command characters on either side:\n",
    "    \n",
    "                   J  U  O  Y        W  S  M  Q  Z    score: 0.04264\n",
    "                   H  I  E  A        T  N  R  C  X \n",
    "                   P  K  G  D        L  F  B  V\n",
    "\n",
    "                   Q  U  O  Y        W  S  M  J  Z    score: 0.04264\n",
    "                   H  I  E  A        T  N  R  C  X \n",
    "                   P  K  G  D        L  F  B  V\n",
    "\n",
    "                   K  U  O  Y        W  L  G  B  Q    score: 0.04263\n",
    "                   H  I  E  A        T  R  S  N  J \n",
    "                   V  Z  X  C        D  M  F  P\n",
    "    \n",
    "### 5. Arrange punctuation marks and characters in easy-to-remember places\n",
    "\n",
    "**Frequency of punctuation** \n",
    "\n",
    "These sources helped guided our arrangement:\n",
    "    \n",
    "  - \"Punctuation Input on Touchscreen Keyboards: Analyzing Frequency of Use and Costs\" <br>\n",
    "    S Malik, L Findlater - College Park: The Human-Computer Interaction Lab. 2013 <br>\n",
    "    https://www.cs.umd.edu/sites/default/files/scholarly_papers/Malik.pdf\n",
    "\n",
    "  - \"Frequencies for English Punctuation Marks\" by Vivian Cook <br>\n",
    "    http://www.viviancook.uk/Punctuation/PunctFigs.htm\n",
    "\n",
    "  - \"Computer Languages Character Frequency\" <br>\n",
    "    Xah Lee. Date: 2013-05-23. Last updated: 2020-06-29. <br>\n",
    "    http://xahlee.info/comp/computer_language_char_distribution.html\n",
    "\n",
    "Resulting in:\n",
    "\n",
    "                   J  U  O  Y  '  \"  W  S  M  Q  Z\n",
    "                   H  I  E  A  ,  .  T  N  R  C  X \n",
    "                   P  K  G  D  (  )  L  F  B  V\n",
    "\n",
    "Shift accesses similar-looking characters above the numbers:\n",
    "\n",
    "                ~  !  =  ?  +  $  @  ^  &  %  *  [  ]\n",
    "                #  1  2  3  4  5  6  7  8  9  0  <  >\n",
    "\n",
    "Shift accesses less common, but similar-meaning punctuation:\n",
    "\n",
    "                `    \\    ;    :    {    }    |    _\n",
    "                '    \"    ,    .    (    )    /    -\n",
    "             \n",
    "**Rationale for shift-characters**\n",
    "\n",
    "**#** &nbsp;&nbsp; The pound/hash represents numbers, and sits to the left of the number keys. <br>\n",
    "**~** &nbsp;&nbsp; The tilde has several meanings, including \"approximately equal to\" <br>\n",
    " &nbsp;&nbsp;&nbsp;&nbsp;&nbsp; (here \"similar-looking\" to the numbers), and is in the standard location.\n",
    "\n",
    "**'** &nbsp;&nbsp; Single quotation marks are used to quote text for 'emphasis', or to quote text within a quote. <br>\n",
    "**`** &nbsp;&nbsp; One use of the backquote is to quote computer code. It is used in an analogous manner as a single quote <br>\n",
    " &nbsp;&nbsp;&nbsp;&nbsp;&nbsp; in a quote, to quote code within code for command substitution (to replace a command with output).\n",
    "\n",
    "**\"** &nbsp;&nbsp; \"Double quotation marks are used to quote direct speech?\" <br>\n",
    "**\\** &nbsp;&nbsp; The backslash is an escape character used to quote special characters in regular expressions.\n",
    "\n",
    "**,** &nbsp;&nbsp; The comma is used to separate text, for example in lists, or to provide a pause. <br>\n",
    "**;** &nbsp;&nbsp; The semicolon provides a stronger separation or pause; it can be used in place <br>\n",
    " &nbsp;&nbsp;&nbsp;&nbsp;&nbsp; of the comma to separate items in a list, especially if those items contain commas. <br>\n",
    "   \n",
    "**.** &nbsp;&nbsp; The period ends a sentence. <br>\n",
    "**:** &nbsp;&nbsp; The colon similarly ends a statement but precedes something following: explanation, quotation, list, etc.\n",
    "\n",
    "**|** &nbsp;&nbsp; The pipe connects commands in computer code. <br>\n",
    "**/** &nbsp;&nbsp; The slash connects conjunctions/disjunctions/alternatives, or locations such as file paths or urls.\n",
    "\n",
    "**-** &nbsp;&nbsp; The dash connects side-by-side words, or can surround a phrase for emphasis. <br>\n",
    "**_** &nbsp;&nbsp; The underscore connects strings within variable or file names, or can _underline a phrase_ for emphasis."
   ]
  },
  {
   "cell_type": "markdown",
   "metadata": {
    "colab_type": "text",
    "id": "2eTQ4jxPa8Pv"
   },
   "source": [
    "### Import dependencies and functions  <a name=\"import\">"
   ]
  },
  {
   "cell_type": "code",
   "execution_count": 1,
   "metadata": {
    "colab": {
     "base_uri": "https://localhost:8080/",
     "height": 71
    },
    "colab_type": "code",
    "id": "q1wNgX_FDzRH",
    "outputId": "7c14cebc-a4b7-4a77-d14f-26cbc7690c28"
   },
   "outputs": [],
   "source": [
    "# Import dependencies\n",
    "import xlrd\n",
    "import numpy as np\n",
    "from sympy.utilities.iterables import multiset_permutations\n",
    "import matplotlib\n",
    "import matplotlib.pyplot as plt    \n",
    "import seaborn as sns\n",
    "\n",
    "# Use speed data?\n",
    "use_speed_data = False\n",
    "\n",
    "\n",
    "# Select keys to quantify pairwise relationships:\n",
    "def select_keys(data_matrix, keys, verbose=False):\n",
    "\n",
    "    # Extract pairwise entries for the keys:\n",
    "    nkeys = len(keys)\n",
    "    Select = np.zeros((nkeys, nkeys))\n",
    "    u = 0\n",
    "    for i in keys:\n",
    "        u += 1\n",
    "        v = 0\n",
    "        for j in keys:\n",
    "            v += 1\n",
    "            Select[u-1,v-1] = data_matrix[i-1,j-1]\n",
    "\n",
    "    # Normalize matrix with min-max scaling to a range with max 1:\n",
    "    newMin = np.min(Select) / np.max(Select)\n",
    "    newMax = 1.0\n",
    "    Select = newMin + (Select - np.min(Select)) * (newMax - newMin) / (np.max(Select) - np.min(Select))\n",
    "    \n",
    "    if verbose:\n",
    "        #print(\"Matrix:\")\n",
    "        #np.set_printoptions(precision=2); print(Select)\n",
    "\n",
    "        # Heatmap of array\n",
    "        heatmap(data=Select, title=\"Matrix heatmap\", xlabel=\"Key 1\", ylabel=\"Key 2\"); plt.show()\n",
    "    \n",
    "    return Select\n",
    "\n",
    "\n",
    "# Find all permutations of a given set of letters (max: 8-10 letters)\n",
    "def permute_letters(letters, verbose=False):\n",
    "    letter_permutations = []\n",
    "    for p in multiset_permutations(letters):\n",
    "        letter_permutations.append(p)\n",
    "    letter_permutations = np.array(letter_permutations)\n",
    "    #if verbose:\n",
    "    #    print(\"First permutation: {0}\".format(letter_permutations[0])) \n",
    "    \n",
    "    return letter_permutations\n",
    "\n",
    "\n",
    "# Compute the score for a given letter-key layout:\n",
    "def score_layout(data_matrix, letters, bigrams, verbose=False):\n",
    "\n",
    "    # Create a matrix of bigram frequencies:\n",
    "    nletters = len(letters)\n",
    "    F = np.zeros((nletters, nletters))\n",
    "\n",
    "    # Find the bigram frequency for each ordered pair of letters in the permutation:\n",
    "    for i1 in range(nletters):\n",
    "        for i2 in range(nletters):\n",
    "            bigram = letters[i1] + letters[i2]\n",
    "            i2gram = np.where(bigrams == bigram)\n",
    "            if np.size(i2gram) > 0:\n",
    "                F[i1, i2] = bigram_frequencies[i2gram][0]\n",
    "\n",
    "    # Normalize matrix with min-max scaling to a range with max 1:\n",
    "    newMax = 1\n",
    "    newMin = np.min(F) / np.max(F)\n",
    "    F = newMin + (F - np.min(F)) * (newMax - newMin) / (np.max(F) - np.min(F))\n",
    "\n",
    "    # Compute the score for this permutation:\n",
    "    score = np.average(data_matrix * F) \n",
    "\n",
    "    if verbose:\n",
    "        print(\"Score for letter permutation {0}: {1}\".format(letters, score))\n",
    "\n",
    "    return score\n",
    "\n",
    "\n",
    "# Compute scores for all letter-key layouts:\n",
    "def optimize_layout(data_matrix, bigrams, letter_permutations, move_positions, fixed_letters, fixed_positions=[], verbose=False):\n",
    "    iter = 0\n",
    "    top_score = 0\n",
    "    scores = []\n",
    "    use_score_function = False\n",
    "\n",
    "    nletters = len(move_positions) + len(fixed_positions)\n",
    "    top_permutation = np.array(['E' for x in range(nletters)])\n",
    "    F = np.zeros((nletters, nletters))\n",
    "\n",
    "    # Loop through the permutations of the selected letters:\n",
    "    for p in letter_permutations:\n",
    "        letters = np.array(['E' for x in range(nletters)])  # KEEP to initialize!\n",
    "        for imove, move_position in enumerate(move_positions):\n",
    "            letters[move_position] = p[imove]\n",
    "        for ifixed, fixed_position in enumerate(fixed_positions):\n",
    "            letters[fixed_position] = fixed_letters[ifixed]\n",
    "\n",
    "        # Compute the score for this permutation:\n",
    "        if use_score_function:\n",
    "            score = score_layout(data_matrix, letters, bigrams, verbose=False)\n",
    "        else:\n",
    "            # Find the bigram frequency for each ordered pair of letters in the permutation:\n",
    "            for i1 in range(nletters):\n",
    "                for i2 in range(nletters):\n",
    "                    bigram = letters[i1] + letters[i2]\n",
    "                    i2gram = np.where(bigrams == bigram)\n",
    "                    # Put bigram frequency in matrix of bigram frequencies:\n",
    "                    if np.size(i2gram) > 0:\n",
    "                        F[i1, i2] = bigram_frequencies[i2gram][0]\n",
    "                    else:\n",
    "                        F[i1, i2] = 0\n",
    "                        \n",
    "            # Normalize matrix with min-max scaling to a range with max 1:\n",
    "            minF = np.min(F)\n",
    "            maxF = np.max(F)\n",
    "            newMin = minF / maxF\n",
    "            F = newMin + (F - minF) * (1 - newMin) / (maxF - minF)\n",
    "\n",
    "            # Compute the score for this permutation:\n",
    "            score = np.average(data_matrix * F) \n",
    "\n",
    "        # Store all scores and the top score and permutation:\n",
    "        scores.append(score)\n",
    "        if score > top_score:\n",
    "            top_score = score\n",
    "            top_permutation = letters\n",
    "            \n",
    "        if verbose:\n",
    "            iter += 1\n",
    "            if iter % 1000000 == 0:\n",
    "                print(\"{0}: {1} {2:0.5f}\".format(iter, top_permutation, top_score))\n",
    "                #imax = np.argmax(scores)\n",
    "                #print(scores[imax], letter_permutations[imax])\n",
    "        \n",
    "    print(\"Topmost of {0} permutations: {1}\".format(len(letter_permutations), top_score))\n",
    "    print(\"{0}\".format(top_permutation))\n",
    "        \n",
    "    return top_permutation, scores\n",
    "    \n",
    "\n",
    "# Scramble letters, optimize layout, and generate output:\n",
    "def permute_and_optimize(keys, data_matrix, bigrams, all_letters, move_positions, fixed_positions=[], ntop=10, verbose=False):\n",
    "    matrix_selected = select_keys(data_matrix, keys, verbose)\n",
    "    move_letters = [all_letters[i] for i in move_positions]\n",
    "    fixed_letters = [all_letters[i] for i in fixed_positions]\n",
    "    letter_permutations = permute_letters(move_letters, verbose)\n",
    "    top_permutation, scores = optimize_layout(matrix_selected, bigrams, letter_permutations, move_positions, fixed_letters, fixed_positions, verbose)\n",
    "    print_top_scores(letter_permutations, scores, ntop)\n",
    "    \n",
    "    return top_permutation, letter_permutations, scores\n",
    "\n",
    "\n",
    "# Combine top-scored left and right layouts:\n",
    "def optimize_full_layout_with_left_right_top_scores(data_matrix, bigrams, letter_permutations_left, scores_permutations_left, move_positions_left, fixed_letters_left, fixed_positions_left, letter_permutations_right, scores_permutations_right, move_positions_right, fixed_letters_right, fixed_positions_right, ntop=100, verbose=False):\n",
    "\n",
    "    scores_negative_left = -np.array(scores_permutations_left)\n",
    "    isort = np.argsort(scores_negative_left)[:ntop]\n",
    "    sorted_scores_left = [scores_permutations_left[isort[x]] for x in range(len(isort))]\n",
    "    sorted_permutations_left = [letter_permutations_left[isort[x]].tolist() for x in range(len(isort))]\n",
    "\n",
    "    scores_negative_right = -np.array(scores_permutations_right)\n",
    "    isort = np.argsort(scores_negative_right)[:ntop]\n",
    "    sorted_scores_right = [scores_permutations_right[isort[x]] for x in range(len(isort))]\n",
    "    sorted_permutations_right = [letter_permutations_right[isort[x]].tolist() for x in range(len(isort))]\n",
    "\n",
    "    iter = 0\n",
    "    display_incr = ntop*ntop/10\n",
    "    top_score = 0\n",
    "    scores = []\n",
    "    use_score_function = False\n",
    "    nletters_left = len(move_positions_left) + len(fixed_positions_left)\n",
    "    nletters_right = len(move_positions_right) + len(fixed_positions_right)\n",
    "    nletters = np.shape(data_matrix)[0]\n",
    "    top_permutation = np.array(['E' for x in range(nletters)])\n",
    "    F = np.zeros((nletters, nletters))\n",
    "\n",
    "    # Loop through the permutations of the selected letters:\n",
    "    for p_left in sorted_permutations_left:\n",
    "        letters_left = np.array(['E' for x in range(nletters_left)])  # KEEP to initialize!\n",
    "        for imove, move_position in enumerate(move_positions_left):\n",
    "            letters_left[move_position] = p_left[imove]\n",
    "        for ifixed, fixed_position in enumerate(fixed_positions_left):\n",
    "            letters_left[fixed_position] = fixed_letters_left[ifixed]\n",
    "\n",
    "        for p_right in sorted_permutations_right:\n",
    "            letters_right = np.array(['E' for x in range(nletters_right)])  # KEEP to initialize!\n",
    "            for imove, move_position in enumerate(move_positions_right):\n",
    "                letters_right[move_position] = p_right[imove]\n",
    "            for ifixed, fixed_position in enumerate(fixed_positions_right):\n",
    "                letters_right[fixed_position] = fixed_letters_right[ifixed]\n",
    "\n",
    "            letters = [x for x in letters_left] + [x for x in letters_right]\n",
    "\n",
    "            # Compute the score for this permutation:\n",
    "            if use_score_function:\n",
    "                score = score_layout(data_matrix, letters, bigrams, verbose=False)\n",
    "            else:\n",
    "                # Find the bigram frequency for each ordered pair of letters in the permutation:\n",
    "                for i1 in range(nletters):\n",
    "                    for i2 in range(nletters):\n",
    "                        bigram = letters[i1] + letters[i2]\n",
    "                        i2gram = np.where(bigrams == bigram)\n",
    "                        # Put bigram frequency in matrix of bigram frequencies:\n",
    "                        if np.size(i2gram) > 0:\n",
    "                            F[i1, i2] = bigram_frequencies[i2gram][0]\n",
    "                        else:\n",
    "                            F[i1, i2] = 0\n",
    "\n",
    "                # Normalize matrix with min-max scaling to a range with max 1:\n",
    "                minF = np.min(F)\n",
    "                maxF = np.max(F)\n",
    "                newMin = minF / maxF\n",
    "                F = newMin + (F - minF) * (1 - newMin) / (maxF - minF)\n",
    "\n",
    "                # Compute the score for this permutation:\n",
    "                score = np.average(data_matrix * F) \n",
    "\n",
    "            # Store all scores and the top score and permutation:\n",
    "            scores.append(score)\n",
    "            if score > top_score:\n",
    "                #print(score)\n",
    "                top_score = score\n",
    "                top_permutation = letters\n",
    "\n",
    "            if verbose:\n",
    "                iter += 1\n",
    "                if iter % display_incr == 0:\n",
    "                    print(\"{0}: {1} {2:0.5f}\".format(iter, top_permutation, top_score))\n",
    "        \n",
    "    print(\"Topmost of {0} permutations: {1}\".format(len(sorted_permutations_left) * len(sorted_permutations_right), top_score))\n",
    "    print(\"{0}\".format(top_permutation))\n",
    "        \n",
    "    return top_permutation, top_score, scores\n",
    "\n",
    "    \n",
    "# Print top-scored letter permutations:\n",
    "def print_top_scores(letter_permutations, scores, ntop):\n",
    "    scores_negative = -np.array(scores)\n",
    "    isort = np.argsort(scores_negative)[:ntop]\n",
    "    sorted_scores = [scores[isort[x]] for x in range(len(isort))]\n",
    "    sorted_letter_permutations = [letter_permutations[isort[x]].tolist() for x in range(len(isort))]\n",
    "    for ix, x in enumerate(sorted_letter_permutations):\n",
    "        print(x, sorted_scores[ix])\n",
    "        \n",
    "    \n",
    "# Print matrix output:\n",
    "def print_matrix_info(matrix_data, matrix_label, nlines=10):\n",
    "    nkeys = 24\n",
    "    print(\"{0} min = {1}, max = {2}\".format(matrix_label, np.min(matrix_data), np.max(matrix_data)))\n",
    "    matrix_flat = matrix_data.flatten()\n",
    "    argsort = np.argsort(matrix_flat)\n",
    "    print(\"{0} key number pairs with minimum values:\".format(matrix_label))\n",
    "    for x in argsort[0:nlines]:\n",
    "        if x % nkeys == 0:\n",
    "            min_row = np.int(np.ceil(x / nkeys)) + 1\n",
    "            min_col = 1\n",
    "        else:\n",
    "            min_row = np.int(np.ceil(x / nkeys))\n",
    "            min_col = x - nkeys * (min_row-1) + 1                \n",
    "        print(\"        {0} -> {1}        ({2})\".format(min_row, min_col, matrix_flat[x]))\n",
    "    print(\"{0} key number pairs with maximum values:\".format(matrix_label))\n",
    "    max_sort = argsort[-nlines::]\n",
    "    for x in max_sort[::-1]:\n",
    "        if x % nkeys == 0:\n",
    "            max_row = np.int(np.ceil(x / nkeys)) + 1\n",
    "            max_col = 1\n",
    "        else:\n",
    "            max_row = np.int(np.ceil(x / nkeys))\n",
    "            max_col = x - nkeys * (max_row-1) + 1                \n",
    "        print(\"        {0} -> {1}        ({2})\".format(max_row, max_col, matrix_flat[x]))\n",
    "\n",
    "\n",
    "# Plot heatmap of matrix:\n",
    "def heatmap(data, title=\"\", xlabel=\"\", ylabel=\"\"):\n",
    "    # use heatmap function, set the color as viridis and\n",
    "    # make each cell seperate using linewidth parameter\n",
    "    sns_plot = sns.heatmap(data, linewidths=1, cmap=\"viridis\", square=True, vmin=np.min(data), vmax=np.max(data))\n",
    "    plt.title(title)\n",
    "    plt.xlabel(xlabel)\n",
    "    plt.ylabel(ylabel)\n",
    "    sns_plot.figure.savefig(\"{0}_heatmap.png\".format(title))\n",
    "    \n",
    "# Plot histogram:\n",
    "def histmap(data, title=\"\"):\n",
    "    sns.distplot(data)\n",
    "    plt.title(title)\n",
    "    sns_plot.figure.savefig(\"{0}_histogram.png\".format(title))"
   ]
  },
  {
   "cell_type": "markdown",
   "metadata": {
    "colab_type": "text",
    "id": "rFiySi8rDzRN"
   },
   "source": [
    "### Peter Norvig's ngrams table  <a name=\"ngrams\">\n",
    "\n",
    "[http://www.norvig.com/mayzner.html](http://www.norvig.com/mayzner.html)"
   ]
  },
  {
   "cell_type": "code",
   "execution_count": 2,
   "metadata": {
    "colab": {},
    "colab_type": "code",
    "id": "K68F0fkqDzRO"
   },
   "outputs": [],
   "source": [
    "load_original_ngram_files = False\n",
    "if load_original_ngram_files:\n",
    "    ngrams_table = \"data/bigrams-trigrams-frequencies.xlsx\"\n",
    "    wb = xlrd.open_workbook(ngrams_table) \n",
    "    ngrams_sheet = wb.sheet_by_index(0)\n",
    "    # 1-grams and frequencies\n",
    "    onegrams = np.array(())\n",
    "    onegram_frequencies = np.array(())\n",
    "    i = 0\n",
    "    start1 = 0\n",
    "    stop1 = 0\n",
    "    while stop1 == 0:\n",
    "        if ngrams_sheet.cell_value(i, 0) == \"2-gram\":\n",
    "            stop1 = 1\n",
    "        elif ngrams_sheet.cell_value(i, 0) == \"1-gram\":\n",
    "            start1 = 1\n",
    "        elif start1 == 1:\n",
    "            onegrams = np.append(onegrams, ngrams_sheet.cell_value(i, 0))\n",
    "            onegram_frequencies = np.append(onegram_frequencies, ngrams_sheet.cell_value(i, 1))\n",
    "        i += 1\n",
    "    onegram_frequencies = onegram_frequencies / np.sum(onegram_frequencies)\n",
    "\n",
    "    # 2-grams and frequencies\n",
    "    bigrams = np.array(())\n",
    "    bigram_frequencies = np.array(())\n",
    "    i = 0\n",
    "    start1 = 0\n",
    "    stop1 = 0\n",
    "    while stop1 == 0:\n",
    "        if ngrams_sheet.cell_value(i, 0) == \"3-gram\":\n",
    "            stop1 = 1\n",
    "        elif ngrams_sheet.cell_value(i, 0) == \"2-gram\":\n",
    "            start1 = 1\n",
    "        elif start1 == 1:\n",
    "            bigrams = np.append(bigrams, ngrams_sheet.cell_value(i, 0))\n",
    "            bigram_frequencies = np.append(bigram_frequencies, ngrams_sheet.cell_value(i, 1))\n",
    "        i += 1\n",
    "    bigram_frequencies = bigram_frequencies / np.sum(bigram_frequencies)\n",
    "\n",
    "    # Save:\n",
    "    file = open(\"onegrams.txt\", \"w+\")\n",
    "    file.write(str(onegrams))\n",
    "    file.close()\n",
    "    file = open(\"onegram_frequencies.txt\", \"w+\")\n",
    "    file.write(str(onegram_frequencies))\n",
    "    file.close()\n",
    "    file = open(\"bigrams.txt\", \"w+\")\n",
    "    file.write(str(bigrams))\n",
    "    file.close()\n",
    "    file = open(\"bigram_frequencies.txt\", \"w+\")\n",
    "    file.write(str(bigram_frequencies))\n",
    "    file.close()\n",
    "\n",
    "    # Print:\n",
    "    print(repr(onegrams))\n",
    "    print(repr(onegram_frequencies))\n",
    "    print(repr(bigrams))\n",
    "    print(repr(bigram_frequencies))\n",
    "\n",
    "else:\n",
    "    onegrams = np.array(['E', 'T', 'A', 'O', 'I', 'N', 'S', 'R', 'H', 'L', 'D', 'C', 'U',\n",
    "       'M', 'F', 'P', 'G', 'W', 'Y', 'B', 'V', 'K', 'X', 'J', 'Q', 'Z'],\n",
    "      dtype='<U32')\n",
    "    onegram_frequencies = np.array([0.12492063, 0.09275565, 0.08040605, 0.07640693, 0.07569278,\n",
    "       0.07233629, 0.06512767, 0.06279421, 0.05053301, 0.04068986,\n",
    "       0.03816958, 0.03343774, 0.02729702, 0.02511761, 0.02403123,\n",
    "       0.02135891, 0.01869376, 0.01675664, 0.0166498 , 0.01484649,\n",
    "       0.01053252, 0.00540513, 0.00234857, 0.00158774, 0.00120469,\n",
    "       0.00089951])\n",
    "    bigrams = np.array(['TH', 'HE', 'IN', 'ER', 'AN', 'RE', 'ON', 'AT', 'EN', 'ND', 'TI',\n",
    "       'ES', 'OR', 'TE', 'OF', 'ED', 'IS', 'IT', 'AL', 'AR', 'ST', 'TO',\n",
    "       'NT', 'NG', 'SE', 'HA', 'AS', 'OU', 'IO', 'LE', 'VE', 'CO', 'ME',\n",
    "       'DE', 'HI', 'RI', 'RO', 'IC', 'NE', 'EA', 'RA', 'CE', 'LI', 'CH',\n",
    "       'LL', 'BE', 'MA', 'SI', 'OM', 'UR', 'CA', 'EL', 'TA', 'LA', 'NS',\n",
    "       'DI', 'FO', 'HO', 'PE', 'EC', 'PR', 'NO', 'CT', 'US', 'AC', 'OT',\n",
    "       'IL', 'TR', 'LY', 'NC', 'ET', 'UT', 'SS', 'SO', 'RS', 'UN', 'LO',\n",
    "       'WA', 'GE', 'IE', 'WH', 'EE', 'WI', 'EM', 'AD', 'OL', 'RT', 'PO',\n",
    "       'WE', 'NA', 'UL', 'NI', 'TS', 'MO', 'OW', 'PA', 'IM', 'MI', 'AI',\n",
    "       'SH', 'IR', 'SU', 'ID', 'OS', 'IV', 'IA', 'AM', 'FI', 'CI', 'VI',\n",
    "       'PL', 'IG', 'TU', 'EV', 'LD', 'RY', 'MP', 'FE', 'BL', 'AB', 'GH',\n",
    "       'TY', 'OP', 'WO', 'SA', 'AY', 'EX', 'KE', 'FR', 'OO', 'AV', 'AG',\n",
    "       'IF', 'AP', 'GR', 'OD', 'BO', 'SP', 'RD', 'DO', 'UC', 'BU', 'EI',\n",
    "       'OV', 'BY', 'RM', 'EP', 'TT', 'OC', 'FA', 'EF', 'CU', 'RN', 'SC',\n",
    "       'GI', 'DA', 'YO', 'CR', 'CL', 'DU', 'GA', 'QU', 'UE', 'FF', 'BA',\n",
    "       'EY', 'LS', 'VA', 'UM', 'PP', 'UA', 'UP', 'LU', 'GO', 'HT', 'RU',\n",
    "       'UG', 'DS', 'LT', 'PI', 'RC', 'RR', 'EG', 'AU', 'CK', 'EW', 'MU',\n",
    "       'BR', 'BI', 'PT', 'AK', 'PU', 'UI', 'RG', 'IB', 'TL', 'NY', 'KI',\n",
    "       'RK', 'YS', 'OB', 'MM', 'FU', 'PH', 'OG', 'MS', 'YE', 'UD', 'MB',\n",
    "       'IP', 'UB', 'OI', 'RL', 'GU', 'DR', 'HR', 'CC', 'TW', 'FT', 'WN',\n",
    "       'NU', 'AF', 'HU', 'NN', 'EO', 'VO', 'RV', 'NF', 'XP', 'GN', 'SM',\n",
    "       'FL', 'IZ', 'OK', 'NL', 'MY', 'GL', 'AW', 'JU', 'OA', 'EQ', 'SY',\n",
    "       'SL', 'PS', 'JO', 'LF', 'NV', 'JE', 'NK', 'KN', 'GS', 'DY', 'HY',\n",
    "       'ZE', 'KS', 'XT', 'BS', 'IK', 'DD', 'CY', 'RP', 'SK', 'XI', 'OE',\n",
    "       'OY', 'WS', 'LV', 'DL', 'RF', 'EU', 'DG', 'WR', 'XA', 'YI', 'NM',\n",
    "       'EB', 'RB', 'TM', 'XC', 'EH', 'TC', 'GY', 'JA', 'HN', 'YP', 'ZA',\n",
    "       'GG', 'YM', 'SW', 'BJ', 'LM', 'CS', 'II', 'IX', 'XE', 'OH', 'LK',\n",
    "       'DV', 'LP', 'AX', 'OX', 'UF', 'DM', 'IU', 'SF', 'BT', 'KA', 'YT',\n",
    "       'EK', 'PM', 'YA', 'GT', 'WL', 'RH', 'YL', 'HS', 'AH', 'YC', 'YN',\n",
    "       'RW', 'HM', 'LW', 'HL', 'AE', 'ZI', 'AZ', 'LC', 'PY', 'AJ', 'IQ',\n",
    "       'NJ', 'BB', 'NH', 'UO', 'KL', 'LR', 'TN', 'GM', 'SN', 'NR', 'FY',\n",
    "       'MN', 'DW', 'SB', 'YR', 'DN', 'SQ', 'ZO', 'OJ', 'YD', 'LB', 'WT',\n",
    "       'LG', 'KO', 'NP', 'SR', 'NQ', 'KY', 'LN', 'NW', 'TF', 'FS', 'CQ',\n",
    "       'DH', 'SD', 'VY', 'DJ', 'HW', 'XU', 'AO', 'ML', 'UK', 'UY', 'EJ',\n",
    "       'EZ', 'HB', 'NZ', 'NB', 'MC', 'YB', 'TP', 'XH', 'UX', 'TZ', 'BV',\n",
    "       'MF', 'WD', 'OZ', 'YW', 'KH', 'GD', 'BM', 'MR', 'KU', 'UV', 'DT',\n",
    "       'HD', 'AA', 'XX', 'DF', 'DB', 'JI', 'KR', 'XO', 'CM', 'ZZ', 'NX',\n",
    "       'YG', 'XY', 'KG', 'TB', 'DC', 'BD', 'SG', 'WY', 'ZY', 'AQ', 'HF',\n",
    "       'CD', 'VU', 'KW', 'ZU', 'BN', 'IH', 'TG', 'XV', 'UZ', 'BC', 'XF',\n",
    "       'YZ', 'KM', 'DP', 'LH', 'WF', 'KF', 'PF', 'CF', 'MT', 'YU', 'CP',\n",
    "       'PB', 'TD', 'ZL', 'SV', 'HC', 'MG', 'PW', 'GF', 'PD', 'PN', 'PC',\n",
    "       'RX', 'TV', 'IJ', 'WM', 'UH', 'WK', 'WB', 'BH', 'OQ', 'KT', 'RQ',\n",
    "       'KB', 'CG', 'VR', 'CN', 'PK', 'UU', 'YF', 'WP', 'CZ', 'KP', 'DQ',\n",
    "       'WU', 'FM', 'WC', 'MD', 'KD', 'ZH', 'GW', 'RZ', 'CB', 'IW', 'XL',\n",
    "       'HP', 'MW', 'VS', 'FC', 'RJ', 'BP', 'MH', 'HH', 'YH', 'UJ', 'FG',\n",
    "       'FD', 'GB', 'PG', 'TK', 'KK', 'HQ', 'FN', 'LZ', 'VL', 'GP', 'HZ',\n",
    "       'DK', 'YK', 'QI', 'LX', 'VD', 'ZS', 'BW', 'XQ', 'MV', 'UW', 'HG',\n",
    "       'FB', 'SJ', 'WW', 'GK', 'UQ', 'BG', 'SZ', 'JR', 'QL', 'ZT', 'HK',\n",
    "       'VC', 'XM', 'GC', 'FW', 'PZ', 'KC', 'HV', 'XW', 'ZW', 'FP', 'IY',\n",
    "       'PV', 'VT', 'JP', 'CV', 'ZB', 'VP', 'ZR', 'FH', 'YV', 'ZG', 'ZM',\n",
    "       'ZV', 'QS', 'KV', 'VN', 'ZN', 'QA', 'YX', 'JN', 'BF', 'MK', 'CW',\n",
    "       'JM', 'LQ', 'JH', 'KJ', 'JC', 'GZ', 'JS', 'TX', 'FK', 'JL', 'VM',\n",
    "       'LJ', 'TJ', 'JJ', 'CJ', 'VG', 'MJ', 'JT', 'PJ', 'WG', 'VH', 'BK',\n",
    "       'VV', 'JD', 'TQ', 'VB', 'JF', 'DZ', 'XB', 'JB', 'ZC', 'FJ', 'YY',\n",
    "       'QN', 'XS', 'QR', 'JK', 'JV', 'QQ', 'XN', 'VF', 'PX', 'ZD', 'QT',\n",
    "       'ZP', 'QO', 'DX', 'HJ', 'GV', 'JW', 'QC', 'JY', 'GJ', 'QB', 'PQ',\n",
    "       'JG', 'BZ', 'MX', 'QM', 'MZ', 'QF', 'WJ', 'ZQ', 'XR', 'ZK', 'CX',\n",
    "       'FX', 'FV', 'BX', 'VW', 'VJ', 'MQ', 'QV', 'ZF', 'QE', 'YJ', 'GX',\n",
    "       'KX', 'XG', 'QD', 'XJ', 'SX', 'VZ', 'VX', 'WV', 'YQ', 'BQ', 'GQ',\n",
    "       'VK', 'ZJ', 'XK', 'QP', 'HX', 'FZ', 'QH', 'QJ', 'JZ', 'VQ', 'KQ',\n",
    "       'XD', 'QW', 'JX', 'QX', 'KZ', 'WX', 'FQ', 'XZ', 'ZX'], dtype='<U32')\n",
    "    bigram_frequencies = np.array([3.55620339e-02, 3.07474124e-02, 2.43274529e-02, 2.04826481e-02,\n",
    "       1.98515108e-02, 1.85432319e-02, 1.75804642e-02, 1.48673230e-02,\n",
    "       1.45424846e-02, 1.35228145e-02, 1.34257882e-02, 1.33939375e-02,\n",
    "       1.27653906e-02, 1.20486963e-02, 1.17497528e-02, 1.16812337e-02,\n",
    "       1.12842988e-02, 1.12327374e-02, 1.08744953e-02, 1.07489847e-02,\n",
    "       1.05347566e-02, 1.04126653e-02, 1.04125115e-02, 9.53014842e-03,\n",
    "       9.32114579e-03, 9.25763559e-03, 8.71095073e-03, 8.70002319e-03,\n",
    "       8.34931851e-03, 8.29254235e-03, 8.25280566e-03, 7.93859725e-03,\n",
    "       7.93006486e-03, 7.64818391e-03, 7.63241814e-03, 7.27618866e-03,\n",
    "       7.26724441e-03, 6.98707488e-03, 6.91722265e-03, 6.88165290e-03,\n",
    "       6.85633031e-03, 6.51417363e-03, 6.24352184e-03, 5.97765978e-03,\n",
    "       5.76571076e-03, 5.76283716e-03, 5.65269345e-03, 5.50057242e-03,\n",
    "       5.46256885e-03, 5.42747781e-03, 5.38164098e-03, 5.30301559e-03,\n",
    "       5.29886071e-03, 5.27529444e-03, 5.08937452e-03, 4.92966405e-03,\n",
    "       4.87753568e-03, 4.84902069e-03, 4.77989185e-03, 4.77282719e-03,\n",
    "       4.74470916e-03, 4.64574958e-03, 4.60971757e-03, 4.54257059e-03,\n",
    "       4.47772200e-03, 4.42103298e-03, 4.31534618e-03, 4.25820178e-03,\n",
    "       4.25013516e-03, 4.15745843e-03, 4.12608242e-03, 4.05151268e-03,\n",
    "       4.05075209e-03, 3.97732158e-03, 3.96527277e-03, 3.94413046e-03,\n",
    "       3.86884200e-03, 3.85337077e-03, 3.85189513e-03, 3.84646388e-03,\n",
    "       3.78793431e-03, 3.77605408e-03, 3.74420703e-03, 3.73663638e-03,\n",
    "       3.67956418e-03, 3.65492648e-03, 3.61676413e-03, 3.61373182e-03,\n",
    "       3.60899233e-03, 3.47234973e-03, 3.45829494e-03, 3.39212478e-03,\n",
    "       3.37488213e-03, 3.36877623e-03, 3.30478042e-03, 3.23572471e-03,\n",
    "       3.17759946e-03, 3.17691369e-03, 3.16447752e-03, 3.15240004e-03,\n",
    "       3.15172398e-03, 3.11176534e-03, 2.95503911e-03, 2.89966768e-03,\n",
    "       2.87848219e-03, 2.86282435e-03, 2.84865969e-03, 2.84585627e-03,\n",
    "       2.81484803e-03, 2.69544349e-03, 2.62987083e-03, 2.54961380e-03,\n",
    "       2.54906719e-03, 2.54783715e-03, 2.52606379e-03, 2.47740122e-03,\n",
    "       2.39175226e-03, 2.36573195e-03, 2.33400171e-03, 2.29786417e-03,\n",
    "       2.27503360e-03, 2.27277101e-03, 2.23911052e-03, 2.21754315e-03,\n",
    "       2.18017446e-03, 2.17360835e-03, 2.14044590e-03, 2.13767970e-03,\n",
    "       2.13188615e-03, 2.10259217e-03, 2.04932647e-03, 2.04724906e-03,\n",
    "       2.03256516e-03, 2.02845908e-03, 1.96777866e-03, 1.95449429e-03,\n",
    "       1.95410531e-03, 1.91254221e-03, 1.89316385e-03, 1.88234971e-03,\n",
    "       1.87652262e-03, 1.84944194e-03, 1.83351654e-03, 1.78086545e-03,\n",
    "       1.76468430e-03, 1.75132925e-03, 1.71573739e-03, 1.70683303e-03,\n",
    "       1.66405086e-03, 1.63999785e-03, 1.62732115e-03, 1.62613977e-03,\n",
    "       1.60361051e-03, 1.54749379e-03, 1.51636562e-03, 1.51067364e-03,\n",
    "       1.49901610e-03, 1.49455831e-03, 1.49011351e-03, 1.48460771e-03,\n",
    "       1.48077067e-03, 1.47541326e-03, 1.47480347e-03, 1.46316579e-03,\n",
    "       1.46204465e-03, 1.43745726e-03, 1.41513491e-03, 1.39980075e-03,\n",
    "       1.38382616e-03, 1.36545598e-03, 1.36333253e-03, 1.36012483e-03,\n",
    "       1.35189358e-03, 1.32127808e-03, 1.30185876e-03, 1.28328757e-03,\n",
    "       1.27907576e-03, 1.26260675e-03, 1.23637099e-03, 1.23094105e-03,\n",
    "       1.21386641e-03, 1.20743055e-03, 1.19536134e-03, 1.19032774e-03,\n",
    "       1.17626124e-03, 1.16805780e-03, 1.14618533e-03, 1.11559852e-03,\n",
    "       1.06597119e-03, 1.05782134e-03, 1.04699320e-03, 1.04540205e-03,\n",
    "       1.01153313e-03, 9.97734501e-04, 9.86028683e-04, 9.84491816e-04,\n",
    "       9.79174450e-04, 9.78784303e-04, 9.70343472e-04, 9.68322624e-04,\n",
    "       9.66708177e-04, 9.60690121e-04, 9.59749105e-04, 9.43900197e-04,\n",
    "       9.40242103e-04, 9.28331656e-04, 9.26685761e-04, 9.14014864e-04,\n",
    "       9.02555222e-04, 8.92112065e-04, 8.85803335e-04, 8.77507468e-04,\n",
    "       8.62646840e-04, 8.57695087e-04, 8.54499050e-04, 8.43925356e-04,\n",
    "       8.31382851e-04, 8.23722323e-04, 8.16643644e-04, 7.89875969e-04,\n",
    "       7.86444549e-04, 7.42072946e-04, 7.36927617e-04, 7.27646949e-04,\n",
    "       7.25004577e-04, 7.11071849e-04, 6.92833068e-04, 6.71807283e-04,\n",
    "       6.68638321e-04, 6.56391013e-04, 6.51990243e-04, 6.49048818e-04,\n",
    "       6.43397537e-04, 6.43118050e-04, 6.37839069e-04, 6.21864133e-04,\n",
    "       6.06367626e-04, 5.99162639e-04, 5.87024289e-04, 5.74860663e-04,\n",
    "       5.72519573e-04, 5.68447140e-04, 5.58806800e-04, 5.45711864e-04,\n",
    "       5.37896691e-04, 5.34768852e-04, 5.20071483e-04, 5.18874875e-04,\n",
    "       5.16054649e-04, 5.14388309e-04, 5.11931727e-04, 5.04227393e-04,\n",
    "       5.00890900e-04, 4.97325634e-04, 4.75088970e-04, 4.66605249e-04,\n",
    "       4.58324041e-04, 4.29127437e-04, 4.27514542e-04, 4.17186146e-04,\n",
    "       4.16199437e-04, 3.94646924e-04, 3.94183167e-04, 3.86306652e-04,\n",
    "       3.61812839e-04, 3.50841120e-04, 3.49059129e-04, 3.23402665e-04,\n",
    "       3.22604151e-04, 3.11527347e-04, 3.10032877e-04, 3.07611603e-04,\n",
    "       2.96010489e-04, 2.88197255e-04, 2.77494857e-04, 2.70735751e-04,\n",
    "       2.67122244e-04, 2.64790886e-04, 2.64597695e-04, 2.63237166e-04,\n",
    "       2.61362824e-04, 2.59399816e-04, 2.58614910e-04, 2.57579773e-04,\n",
    "       2.49143242e-04, 2.49036616e-04, 2.47547306e-04, 2.36748821e-04,\n",
    "       2.35282013e-04, 2.32245156e-04, 2.30209194e-04, 2.28229670e-04,\n",
    "       2.27822992e-04, 2.20319919e-04, 2.17945603e-04, 2.13543715e-04,\n",
    "       1.97145202e-04, 1.90526970e-04, 1.90304866e-04, 1.88393786e-04,\n",
    "       1.85754127e-04, 1.85322815e-04, 1.81767370e-04, 1.74089940e-04,\n",
    "       1.71644610e-04, 1.71039222e-04, 1.69557657e-04, 1.66839046e-04,\n",
    "       1.64718022e-04, 1.59561636e-04, 1.57658164e-04, 1.54026397e-04,\n",
    "       1.52211752e-04, 1.51115808e-04, 1.47564559e-04, 1.46841709e-04,\n",
    "       1.36432949e-04, 1.35005671e-04, 1.32141796e-04, 1.27573620e-04,\n",
    "       1.27432415e-04, 1.26388914e-04, 1.25919175e-04, 1.23965197e-04,\n",
    "       1.21174483e-04, 1.18691292e-04, 1.18219114e-04, 1.17637524e-04,\n",
    "       1.17526303e-04, 1.13037594e-04, 1.10863960e-04, 1.09331046e-04,\n",
    "       1.08837112e-04, 1.06567401e-04, 1.05698197e-04, 1.00512685e-04,\n",
    "       1.00106518e-04, 9.85814937e-05, 9.17495595e-05, 9.15174736e-05,\n",
    "       9.09807382e-05, 8.79007001e-05, 8.16240791e-05, 7.91627682e-05,\n",
    "       7.79158645e-05, 7.56940333e-05, 7.44394656e-05, 7.18101849e-05,\n",
    "       6.97589276e-05, 6.81802488e-05, 6.69029567e-05, 6.54143249e-05,\n",
    "       6.08786925e-05, 6.07607969e-05, 6.03570614e-05, 5.98994801e-05,\n",
    "       5.95001291e-05, 5.94970869e-05, 5.86983574e-05, 5.79700512e-05,\n",
    "       5.66119466e-05, 5.50952209e-05, 5.47453912e-05, 5.43839597e-05,\n",
    "       5.25861529e-05, 4.89722417e-05, 4.78187439e-05, 4.77415865e-05,\n",
    "       4.77107257e-05, 4.62616737e-05, 4.60653783e-05, 4.60409299e-05,\n",
    "       4.56730211e-05, 4.54645078e-05, 4.52324283e-05, 4.38982745e-05,\n",
    "       4.36906610e-05, 4.33593810e-05, 4.31226640e-05, 4.29912118e-05,\n",
    "       4.29446346e-05, 4.17137339e-05, 3.93478837e-05, 3.84895449e-05,\n",
    "       3.84390172e-05, 3.81834469e-05, 3.53827628e-05, 3.47222349e-05,\n",
    "       3.37168917e-05, 3.18518637e-05, 3.15951703e-05, 3.12905207e-05,\n",
    "       3.10605585e-05, 3.02567524e-05, 2.91709879e-05, 2.89567711e-05,\n",
    "       2.85652293e-05, 2.82994071e-05, 2.80417376e-05, 2.77861205e-05,\n",
    "       2.77303518e-05, 2.76273746e-05, 2.72172235e-05, 2.69880432e-05,\n",
    "       2.66503046e-05, 2.66033916e-05, 2.62086568e-05, 2.59259584e-05,\n",
    "       2.57640153e-05, 2.56299050e-05, 2.54449453e-05, 2.51909823e-05,\n",
    "       2.47409597e-05, 2.46797892e-05, 2.42472084e-05, 2.35748710e-05,\n",
    "       2.24438116e-05, 2.24317329e-05, 2.23097275e-05, 2.21249597e-05,\n",
    "       2.17815183e-05, 2.15248592e-05, 2.09465192e-05, 2.09125513e-05,\n",
    "       1.96913177e-05, 1.95330853e-05, 1.91064697e-05, 1.88952009e-05,\n",
    "       1.85746459e-05, 1.81220081e-05, 1.78919334e-05, 1.73267658e-05,\n",
    "       1.61874055e-05, 1.60765855e-05, 1.58740992e-05, 1.45486411e-05,\n",
    "       1.40812264e-05, 1.36678429e-05, 1.32768479e-05, 1.31460479e-05,\n",
    "       1.30872012e-05, 1.29588223e-05, 1.25748548e-05, 1.24146066e-05,\n",
    "       1.22821602e-05, 1.22486357e-05, 1.20714645e-05, 1.20448925e-05,\n",
    "       1.19866728e-05, 1.18936663e-05, 1.17590888e-05, 1.17001978e-05,\n",
    "       1.16346360e-05, 1.11092945e-05, 1.08992577e-05, 1.06740258e-05,\n",
    "       1.06735218e-05, 1.06144296e-05, 1.05679067e-05, 1.03656570e-05,\n",
    "       1.03317955e-05, 9.98437559e-06, 9.01036943e-06, 8.85768061e-06,\n",
    "       8.76035160e-06, 8.60019167e-06, 8.19227801e-06, 7.80479658e-06,\n",
    "       7.53516931e-06, 7.44150882e-06, 7.30644125e-06, 7.26777599e-06,\n",
    "       7.06747616e-06, 6.95177332e-06, 6.85925126e-06, 6.74132156e-06,\n",
    "       6.71322068e-06, 6.70106994e-06, 6.66133186e-06, 6.47626505e-06,\n",
    "       6.38130476e-06, 6.29576510e-06, 6.24612583e-06, 5.93271496e-06,\n",
    "       5.92132104e-06, 5.83947722e-06, 5.76779879e-06, 5.76465728e-06,\n",
    "       5.53187023e-06, 5.47131015e-06, 5.33180695e-06, 5.22417954e-06,\n",
    "       5.20732008e-06, 5.15949060e-06, 5.11569104e-06, 4.95336950e-06,\n",
    "       4.94557425e-06, 4.73636484e-06, 4.63955858e-06, 4.53340156e-06,\n",
    "       4.22935422e-06, 4.19307790e-06, 4.17347414e-06, 4.12142146e-06,\n",
    "       4.11855764e-06, 3.80541311e-06, 3.36707879e-06, 3.29563656e-06,\n",
    "       3.17577578e-06, 3.05442971e-06, 2.98983688e-06, 2.97762691e-06,\n",
    "       2.95066092e-06, 2.91720550e-06, 2.89840858e-06, 2.77497857e-06,\n",
    "       2.76265227e-06, 2.74176112e-06, 2.70310579e-06, 2.61648976e-06,\n",
    "       2.60275585e-06, 2.56616744e-06, 2.55465117e-06, 2.49712549e-06,\n",
    "       2.42815484e-06, 2.37933375e-06, 2.35040476e-06, 2.33914845e-06,\n",
    "       2.33036549e-06, 2.32978989e-06, 2.28930419e-06, 2.28804340e-06,\n",
    "       2.26346210e-06, 2.24353844e-06, 2.23182640e-06, 2.23165865e-06,\n",
    "       2.22696341e-06, 2.22115030e-06, 2.21572164e-06, 2.20668084e-06,\n",
    "       2.19243658e-06, 2.17382266e-06, 2.08159887e-06, 2.07762818e-06,\n",
    "       1.95415065e-06, 1.88693410e-06, 1.83219245e-06, 1.81431726e-06,\n",
    "       1.67631850e-06, 1.67169206e-06, 1.63803449e-06, 1.57770706e-06,\n",
    "       1.56577585e-06, 1.53130790e-06, 1.52519015e-06, 1.52439998e-06,\n",
    "       1.49350905e-06, 1.47212210e-06, 1.45715861e-06, 1.40331777e-06,\n",
    "       1.38641504e-06, 1.29786439e-06, 1.27069447e-06, 1.25613209e-06,\n",
    "       1.23105569e-06, 1.22268909e-06, 1.21688094e-06, 1.18065108e-06,\n",
    "       1.18060143e-06, 1.16794389e-06, 1.13216621e-06, 1.12716419e-06,\n",
    "       1.12418866e-06, 1.12412659e-06, 1.05684621e-06, 1.05049722e-06,\n",
    "       1.04986594e-06, 1.03676402e-06, 1.03482230e-06, 9.96847192e-07,\n",
    "       9.75926251e-07, 9.54397081e-07, 9.36101632e-07, 9.30100914e-07,\n",
    "       9.27467975e-07, 8.92801774e-07, 8.85217179e-07, 8.58891337e-07,\n",
    "       7.80484800e-07, 7.67724409e-07, 7.54031637e-07, 7.45052550e-07,\n",
    "       7.32511689e-07, 7.06828122e-07, 6.59585949e-07, 6.40055245e-07,\n",
    "       6.18628925e-07, 6.17142222e-07, 6.09904832e-07, 6.07242457e-07,\n",
    "       5.72270900e-07, 5.49823535e-07, 5.22568859e-07, 5.01838721e-07,\n",
    "       4.91372576e-07, 4.82981856e-07, 4.69688423e-07, 4.59727658e-07,\n",
    "       4.54795508e-07, 4.22875379e-07, 4.13494116e-07, 3.99834682e-07,\n",
    "       3.97288987e-07, 3.87644926e-07, 3.84245584e-07, 3.81268632e-07,\n",
    "       3.67029696e-07, 3.57267536e-07, 3.52642869e-07, 3.51058992e-07,\n",
    "       3.44112772e-07, 3.36167495e-07, 3.24215712e-07, 3.23810344e-07,\n",
    "       3.21814716e-07, 3.21505459e-07, 3.10936465e-07, 2.88018831e-07,\n",
    "       2.86309762e-07, 2.76140106e-07, 2.63218703e-07, 2.56899508e-07,\n",
    "       2.51244222e-07, 2.25386521e-07, 2.15766576e-07, 2.03018243e-07,\n",
    "       1.99078411e-07, 1.97551987e-07, 1.96981706e-07, 1.92415912e-07,\n",
    "       1.84391194e-07, 1.81253585e-07, 1.78663913e-07, 1.77747846e-07,\n",
    "       1.59541769e-07, 1.38003378e-07, 1.36499298e-07, 1.22889160e-07,\n",
    "       1.22576357e-07, 1.19711121e-07, 1.09597855e-07, 9.97477409e-08,\n",
    "       9.65292710e-08, 9.36271510e-08, 9.35785637e-08, 9.34540807e-08,\n",
    "       8.40270671e-08, 7.82629028e-08, 7.54898762e-08, 6.64058115e-08,\n",
    "       5.96748649e-08, 5.79118882e-08, 5.73650143e-08, 5.65688198e-08,\n",
    "       5.34673852e-08, 5.34237630e-08, 5.29956976e-08, 4.84174907e-08,\n",
    "       3.83818937e-08])"
   ]
  },
  {
   "cell_type": "markdown",
   "metadata": {
    "colab_type": "text",
    "id": "46wIL5xzDzRS"
   },
   "source": [
    "## Speed matrix  <a name=\"speed\">\n",
    "### 24x24 relative Speed matrix between key pair (averaged for left/right symmetry)\n",
    "\n",
    "  - does not take into account order of key pairs (see Flow24x24 matrix)\n",
    "  - the original version was constructed with data from right-handed people\n",
    "  - 24 keys that don't require extending index or little fingers (\"vertical range keys\")\n",
    "\n",
    "### Vertical range keys\n",
    "\n",
    "        Left:            Right:\n",
    "     1  2  3  4       13 14 15 16 \n",
    "     5  6  7  8       17 18 19 20\n",
    "     9 10 11 12       21 22 23 24\n",
    "\n",
    "Interkey stroke times in milliseconds from Table 3 of <br>\n",
    "\"Estimation of digraph costs for keyboard layout optimization\", <br>\n",
    "A Iseri, Ma Eksioglu, International Journal of Industrial Ergonomics, 48, 127-138, 2015. <br>\n",
    "Key numbering in article and in spreadsheet:\n",
    "\n",
    "         Left:           Right:\n",
    "     1 4 7 10 13   16 19 22 25 28 31\n",
    "     2 5 8 11 14   17 20 23 26 29 32\n",
    "     3 6 9 12 15   18 21 24 27 30\n",
    "     \n",
    "### Load table of interkey speeds"
   ]
  },
  {
   "cell_type": "code",
   "execution_count": 3,
   "metadata": {
    "colab": {},
    "colab_type": "code",
    "id": "095yG4iPDzRT"
   },
   "outputs": [],
   "source": [
    "if use_speed_data:\n",
    "\n",
    "    load_original_interkey_timings_table = False\n",
    "    if load_original_interkey_timings_table:\n",
    "\n",
    "        interkey_table = \"data/interkey-timings.xlsx\"\n",
    "        wb = xlrd.open_workbook(interkey_table) \n",
    "        interkey_sheet = wb.sheet_by_index(0)\n",
    "        \n",
    "        # Convert interkey stroke times table to array:\n",
    "        Time32x32 = np.zeros((32,32))\n",
    "        for i in range(1,33):\n",
    "            for j in range(1,33):\n",
    "                if interkey_sheet.cell_value(i,j):\n",
    "                    Time32x32[i-1,j-1] = interkey_sheet.cell_value(i,j)\n",
    "\n",
    "        # Fill empty (symmetric) portion of the array:\n",
    "        for i in range(1,33):\n",
    "            for j in range(1,33):\n",
    "                if interkey_sheet.cell_value(i,j):\n",
    "                    Time32x32[j-1,i-1] = interkey_sheet.cell_value(i,j)\n",
    "\n",
    "        # Extract pairwise entries for the 24 vertical range keys:\n",
    "        table_24_positions = [1,4,7,10, 2,5,8,11, 3,6,9,12,  19,22,25,28, 20,23,26,29, 21,24,27,30]\n",
    "        Time24x24 = np.zeros((24, 24))\n",
    "        u = 0\n",
    "        for i in table_24_positions:\n",
    "            u += 1\n",
    "            v = 0\n",
    "            for j in table_24_positions:\n",
    "                v += 1\n",
    "                Time24x24[u-1,v-1] = Time32x32[i-1,j-1]\n",
    "\n",
    "        # Left/right symmetric version of the Time24x24 matrix\n",
    "        # (The original version was constructed with data from right-handed people.)\n",
    "        TimeSymmetric24x24 = np.ones((24,24))\n",
    "        for i in range(24):\n",
    "            for j in range(24):\n",
    "                avgvalue = (Time24x24[i,j] + Time24x24[j,i]) / 2 \n",
    "                TimeSymmetric24x24[i,j] = avgvalue\n",
    "                TimeSymmetric24x24[j,i] = avgvalue\n",
    "\n",
    "        # Normalize matrix with min-max scaling to a range with maximum = 1:\n",
    "        newMin = np.min(TimeSymmetric24x24) / np.max(TimeSymmetric24x24)\n",
    "        newMax = 1.0\n",
    "        TimeSymmetric24x24 = newMin + (TimeSymmetric24x24 - np.min(TimeSymmetric24x24)) * (newMax - newMin) / (np.max(TimeSymmetric24x24) - np.min(TimeSymmetric24x24))\n",
    "\n",
    "        # Convert relative interkey stroke times to relative speeds by subtracting from 1:\n",
    "        Speed24x24 = 1 - TimeSymmetric24x24 + np.min(TimeSymmetric24x24)\n",
    "\n",
    "        # Print:\n",
    "        print(repr(Speed24x24))\n",
    "\n",
    "    else:\n",
    "        Speed24x24 = np.array([[0.78729282, 0.70718232, 0.76519337, 0.87569061, 0.59392265,\n",
    "        0.6160221 , 0.69060773, 0.87016575, 0.34254144, 0.43093923,\n",
    "        0.60220994, 0.81491713, 0.86187845, 0.84254144, 0.83701657,\n",
    "        0.81491713, 0.89779006, 0.89779006, 0.89226519, 0.87845304,\n",
    "        0.85635359, 0.84530387, 0.83977901, 0.81767956],\n",
    "       [0.70718232, 0.82872928, 0.82596685, 0.92265193, 0.66850829,\n",
    "        0.6519337 , 0.78729282, 0.91436464, 0.53038674, 0.51104972,\n",
    "        0.6961326 , 0.86740331, 0.88121547, 0.86187845, 0.85911602,\n",
    "        0.83701657, 0.9198895 , 0.9198895 , 0.91436464, 0.90055249,\n",
    "        0.87845304, 0.86740331, 0.86187845, 0.83977901],\n",
    "       [0.76519337, 0.82596685, 0.85911602, 0.91712707, 0.78729282,\n",
    "        0.79281768, 0.6878453 , 0.90055249, 0.67403315, 0.73756906,\n",
    "        0.60220994, 0.87016575, 0.89502762, 0.87569061, 0.87292818,\n",
    "        0.85082873, 0.93370166, 0.93370166, 0.9281768 , 0.91436464,\n",
    "        0.89226519, 0.87845304, 0.87569061, 0.85359116],\n",
    "       [0.87569061, 0.92265193, 0.91712707, 0.86187845, 0.88674033,\n",
    "        0.8839779 , 0.89502762, 0.70441989, 0.87292818, 0.81767956,\n",
    "        0.68232044, 0.61878453, 0.90331492, 0.88121547, 0.87845304,\n",
    "        0.85635359, 0.93922652, 0.93922652, 0.93370166, 0.9198895 ,\n",
    "        0.89779006, 0.88674033, 0.88121547, 0.85911602],\n",
    "       [0.59392265, 0.66850829, 0.78729282, 0.88674033, 0.78729282,\n",
    "        0.66574586, 0.75414365, 0.87016575, 0.5801105 , 0.59116022,\n",
    "        0.75414365, 0.86187845, 0.93370166, 0.91436464, 0.91160221,\n",
    "        0.88674033, 0.97237569, 0.97237569, 0.9640884 , 0.95027624,\n",
    "        0.9281768 , 0.91712707, 0.91160221, 0.88950276],\n",
    "       [0.6160221 , 0.6519337 , 0.79281768, 0.8839779 , 0.66574586,\n",
    "        0.82872928, 0.82320442, 0.91712707, 0.6519337 , 0.62154696,\n",
    "        0.82044199, 0.91436464, 0.94751381, 0.9281768 , 0.92541436,\n",
    "        0.90331492, 0.98618785, 0.98618785, 0.98066298, 0.96685083,\n",
    "        0.94475138, 0.93093923, 0.9281768 , 0.90607735],\n",
    "       [0.69060773, 0.78729282, 0.6878453 , 0.89502762, 0.75414365,\n",
    "        0.82320442, 0.85911602, 0.91712707, 0.77348066, 0.73480663,\n",
    "        0.66850829, 0.91160221, 0.95856354, 0.93922652, 0.93646409,\n",
    "        0.91436464, 0.99723757, 0.99723757, 0.99171271, 0.97790055,\n",
    "        0.9558011 , 0.94198895, 0.93922652, 0.91712707],\n",
    "       [0.87016575, 0.91436464, 0.90055249, 0.70441989, 0.87016575,\n",
    "        0.91712707, 0.91712707, 0.86187845, 0.88674033, 0.92265193,\n",
    "        0.85911602, 0.71823204, 0.96132597, 0.94198895, 0.93922652,\n",
    "        0.91436464, 1.        , 1.        , 0.99171271, 0.98066298,\n",
    "        0.9558011 , 0.94475138, 0.93922652, 0.91712707],\n",
    "       [0.34254144, 0.53038674, 0.67403315, 0.87292818, 0.5801105 ,\n",
    "        0.6519337 , 0.77348066, 0.88674033, 0.78729282, 0.67679558,\n",
    "        0.79281768, 0.8839779 , 0.85635359, 0.83701657, 0.83425414,\n",
    "        0.80939227, 0.89502762, 0.89502762, 0.88674033, 0.87569061,\n",
    "        0.85082873, 0.83977901, 0.83425414, 0.8121547 ],\n",
    "       [0.43093923, 0.51104972, 0.73756906, 0.81767956, 0.59116022,\n",
    "        0.62154696, 0.73480663, 0.92265193, 0.67679558, 0.82872928,\n",
    "        0.82044199, 0.89502762, 0.87016575, 0.85082873, 0.8480663 ,\n",
    "        0.82596685, 0.90883978, 0.90883978, 0.90331492, 0.88950276,\n",
    "        0.86740331, 0.85359116, 0.85082873, 0.82872928],\n",
    "       [0.60220994, 0.6961326 , 0.60220994, 0.68232044, 0.75414365,\n",
    "        0.82044199, 0.66850829, 0.85911602, 0.79281768, 0.82044199,\n",
    "        0.85911602, 0.91436464, 0.88950276, 0.87016575, 0.86740331,\n",
    "        0.84254144, 0.9281768 , 0.9281768 , 0.9198895 , 0.90607735,\n",
    "        0.8839779 , 0.87292818, 0.86740331, 0.84530387],\n",
    "       [0.81491713, 0.86740331, 0.87016575, 0.61878453, 0.86187845,\n",
    "        0.91436464, 0.91160221, 0.71823204, 0.8839779 , 0.89502762,\n",
    "        0.91436464, 0.86187845, 0.90607735, 0.88674033, 0.8839779 ,\n",
    "        0.86187845, 0.94475138, 0.94475138, 0.93922652, 0.92541436,\n",
    "        0.90331492, 0.88950276, 0.88674033, 0.86464088],\n",
    "       [0.86187845, 0.88121547, 0.89502762, 0.90331492, 0.93370166,\n",
    "        0.94751381, 0.95856354, 0.96132597, 0.85635359, 0.87016575,\n",
    "        0.88950276, 0.90607735, 0.91160221, 0.92265193, 0.93922652,\n",
    "        0.9281768 , 0.80939227, 0.91160221, 0.93646409, 0.87569061,\n",
    "        0.74033149, 0.76519337, 0.88121547, 0.9281768 ],\n",
    "       [0.84254144, 0.86187845, 0.87569061, 0.88121547, 0.91436464,\n",
    "        0.9281768 , 0.93922652, 0.94198895, 0.83701657, 0.85082873,\n",
    "        0.87016575, 0.88674033, 0.92265193, 0.91160221, 0.80662983,\n",
    "        0.75138122, 0.95027624, 0.75690608, 0.80110497, 0.75966851,\n",
    "        0.91712707, 0.70165746, 0.75414365, 0.70441989],\n",
    "       [0.83701657, 0.85911602, 0.87292818, 0.87845304, 0.91160221,\n",
    "        0.92541436, 0.93646409, 0.93922652, 0.83425414, 0.8480663 ,\n",
    "        0.86740331, 0.8839779 , 0.93922652, 0.80662983, 0.89502762,\n",
    "        0.62983425, 0.95303867, 0.80939227, 0.74861878, 0.69060773,\n",
    "        0.90055249, 0.70441989, 0.66850829, 0.70718232],\n",
    "       [0.81491713, 0.83701657, 0.85082873, 0.85635359, 0.88674033,\n",
    "        0.90331492, 0.91436464, 0.91436464, 0.80939227, 0.82596685,\n",
    "        0.84254144, 0.86187845, 0.9281768 , 0.75138122, 0.62983425,\n",
    "        0.85911602, 0.92265193, 0.75966851, 0.63535912, 0.68508287,\n",
    "        0.87569061, 0.58839779, 0.32872928, 0.67679558],\n",
    "       [0.89779006, 0.9198895 , 0.93370166, 0.93922652, 0.97237569,\n",
    "        0.98618785, 0.99723757, 1.        , 0.89502762, 0.90883978,\n",
    "        0.9281768 , 0.94475138, 0.80939227, 0.95027624, 0.95303867,\n",
    "        0.92265193, 0.91160221, 0.96132597, 0.94751381, 0.90883978,\n",
    "        0.79834254, 0.91712707, 0.94475138, 0.93370166],\n",
    "       [0.89779006, 0.9198895 , 0.93370166, 0.93922652, 0.97237569,\n",
    "        0.98618785, 0.99723757, 1.        , 0.89502762, 0.90883978,\n",
    "        0.9281768 , 0.94475138, 0.91160221, 0.75690608, 0.80939227,\n",
    "        0.75966851, 0.96132597, 0.91160221, 0.83425414, 0.82320442,\n",
    "        0.9281768 , 0.76519337, 0.82320442, 0.79281768],\n",
    "       [0.89226519, 0.91436464, 0.9281768 , 0.93370166, 0.9640884 ,\n",
    "        0.98066298, 0.99171271, 0.99171271, 0.88674033, 0.90331492,\n",
    "        0.9198895 , 0.93922652, 0.93646409, 0.80110497, 0.74861878,\n",
    "        0.63535912, 0.94751381, 0.83425414, 0.89502762, 0.66574586,\n",
    "        0.9281768 , 0.81767956, 0.75414365, 0.67955801],\n",
    "       [0.87845304, 0.90055249, 0.91436464, 0.9198895 , 0.95027624,\n",
    "        0.96685083, 0.97790055, 0.98066298, 0.87569061, 0.88950276,\n",
    "        0.90607735, 0.92541436, 0.87569061, 0.75966851, 0.69060773,\n",
    "        0.68508287, 0.90883978, 0.82320442, 0.66574586, 0.85911602,\n",
    "        0.88674033, 0.72099448, 0.51933702, 0.69337017],\n",
    "       [0.85635359, 0.87845304, 0.89226519, 0.89779006, 0.9281768 ,\n",
    "        0.94475138, 0.9558011 , 0.9558011 , 0.85082873, 0.86740331,\n",
    "        0.8839779 , 0.90331492, 0.74033149, 0.91712707, 0.90055249,\n",
    "        0.87569061, 0.79834254, 0.9281768 , 0.9281768 , 0.88674033,\n",
    "        0.91160221, 0.94198895, 0.93646409, 0.84530387],\n",
    "       [0.84530387, 0.86740331, 0.87845304, 0.88674033, 0.91712707,\n",
    "        0.93093923, 0.94198895, 0.94475138, 0.83977901, 0.85359116,\n",
    "        0.87292818, 0.88950276, 0.76519337, 0.70165746, 0.70441989,\n",
    "        0.58839779, 0.91712707, 0.76519337, 0.81767956, 0.72099448,\n",
    "        0.94198895, 0.91160221, 0.84530387, 0.59668508],\n",
    "       [0.83977901, 0.86187845, 0.87569061, 0.88121547, 0.91160221,\n",
    "        0.9281768 , 0.93922652, 0.93922652, 0.83425414, 0.85082873,\n",
    "        0.86740331, 0.88674033, 0.88121547, 0.75414365, 0.66850829,\n",
    "        0.32872928, 0.94475138, 0.82320442, 0.75414365, 0.51933702,\n",
    "        0.93646409, 0.84530387, 0.89502762, 0.59668508],\n",
    "       [0.81767956, 0.83977901, 0.85359116, 0.85911602, 0.88950276,\n",
    "        0.90607735, 0.91712707, 0.91712707, 0.8121547 , 0.82872928,\n",
    "        0.84530387, 0.86464088, 0.9281768 , 0.70441989, 0.70718232,\n",
    "        0.67679558, 0.93370166, 0.79281768, 0.67955801, 0.69337017,\n",
    "        0.84530387, 0.59668508, 0.59668508, 0.85911602]])\n",
    "    \n",
    "        # Print:\n",
    "        print_matrix_info(matrix_data=Speed24x24, matrix_label=\"Speed24x24\", nlines=10)\n",
    "        heatmap(data=Speed24x24, title=\"Speed24x24\", xlabel=\"Key 1\", ylabel=\"Key 2\")\n",
    "\n",
    "        # Save:\n",
    "        file = open(\"Speed24x24.txt\", \"w+\")\n",
    "        file.write(str(Speed24x24))\n",
    "        file.close()"
   ]
  },
  {
   "cell_type": "code",
   "execution_count": 4,
   "metadata": {
    "colab": {},
    "colab_type": "code",
    "id": "TK3mj_z1DzRZ"
   },
   "outputs": [],
   "source": [
    "# Histogram\n",
    "if use_speed_data:\n",
    "    sns_plot = sns.distplot(Speed24x24)\n",
    "    sns_plot.figure.savefig(\"{0}_histogram.png\".format(\"Speed24x24\"))"
   ]
  },
  {
   "cell_type": "markdown",
   "metadata": {
    "colab_type": "raw",
    "id": "NtZcIyqSDzRf"
   },
   "source": [
    "Output:\n",
    "\n",
    "    Left:            Right:\n",
    " 1  2  3  4       13 14 15 16 \n",
    " 5  6  7  8       17 18 19 20\n",
    " 9 10 11 12       21 22 23 24\n",
    "\n",
    "    Speed24x24 min = 0.1, max = 1.0\n",
    "    Speed24x24 key number pairs with minimum values:\n",
    "        16 -> 23        (0.1)\n",
    "        23 -> 16        (0.1)\n",
    "        1 -> 9        (0.1185185185185185)\n",
    "        9 -> 1        (0.1185185185185185)\n",
    "        10 -> 1        (0.23703703703703707)\n",
    "        1 -> 10        (0.23703703703703707)\n",
    "        2 -> 10        (0.34444444444444444)\n",
    "        10 -> 2        (0.34444444444444444)\n",
    "        20 -> 23        (0.3555555555555556)\n",
    "        23 -> 20        (0.3555555555555556)\n",
    "    Speed24x24 key number pairs with maximum values:\n",
    "        8 -> 17        (1.0)\n",
    "        18 -> 8        (1.0)\n",
    "        17 -> 8        (1.0)\n",
    "        8 -> 18        (1.0)\n",
    "        18 -> 7        (0.9962962962962962)\n",
    "        7 -> 18        (0.9962962962962962)\n",
    "        17 -> 7        (0.9962962962962962)\n",
    "        7 -> 17        (0.9962962962962962)\n",
    "        8 -> 19        (0.9888888888888888)\n",
    "        7 -> 19        (0.9888888888888888)"
   ]
  },
  {
   "cell_type": "markdown",
   "metadata": {
    "colab_type": "text",
    "id": "tFfuA8zMDzRg"
   },
   "source": [
    "## Strength matrix  <a name=\"strength\">\n",
    "\n",
    "### 24x24 relative finger position STRENGTH matrix\n",
    "\n",
    "Finger strengths are based on peak keyboard reaction forces (in newtons) from Table 4 of <br>\n",
    "\"Keyboard Reaction Force and Finger Flexor Electromyograms during Computer Keyboard Work\" <br>\n",
    "BJ Martin, TJ Armstrong, JA Foulke, S Natarajan, Human Factors,1996,38(4),654-664.\n",
    "\n",
    "This does not take into account order of key pairs (see Flow matrix).\n"
   ]
  },
  {
   "cell_type": "code",
   "execution_count": 5,
   "metadata": {
    "colab": {
     "base_uri": "https://localhost:8080/",
     "height": 695
    },
    "colab_type": "code",
    "id": "3cC-oxnQDzRh",
    "outputId": "bd27fc7e-09a0-4198-cf92-57abca3aba2c"
   },
   "outputs": [
    {
     "name": "stdout",
     "output_type": "stream",
     "text": [
      "Strength24x24 min = 0.9, max = 1.0\n",
      "Strength24x24 key number pairs with minimum values:\n",
      "        1 -> 1        (0.9)\n",
      "        5 -> 9        (0.9)\n",
      "        5 -> 16        (0.9)\n",
      "        5 -> 20        (0.9)\n",
      "        5 -> 24        (0.9)\n",
      "        9 -> 1        (0.9)\n",
      "        9 -> 5        (0.9)\n",
      "        9 -> 9        (0.9)\n",
      "        9 -> 16        (0.9)\n",
      "        9 -> 20        (0.9)\n",
      "Strength24x24 key number pairs with maximum values:\n",
      "        18 -> 11        (1.0)\n",
      "        22 -> 14        (1.0)\n",
      "        3 -> 14        (1.0)\n",
      "        7 -> 18        (1.0)\n",
      "        18 -> 7        (1.0)\n",
      "        18 -> 14        (1.0)\n",
      "        3 -> 18        (1.0)\n",
      "        18 -> 18        (1.0)\n",
      "        22 -> 22        (1.0)\n",
      "        18 -> 22        (1.0)\n"
     ]
    },
    {
     "data": {
      "image/png": "[encoded data removed]",
      "text/plain": [
       "<Figure size 432x288 with 2 Axes>"
      ]
     },
     "metadata": {
      "needs_background": "light"
     },
     "output_type": "display_data"
    }
   ],
   "source": [
    "# Normalize by the highest peak force (middle finger):\n",
    "middle_force = 2.36\n",
    "index_force = 2.26\n",
    "ring_force = 2.02\n",
    "little_force = 1.84\n",
    "middle_norm = 1.0\n",
    "index_norm = index_force / middle_force\n",
    "ring_norm = ring_force / middle_force\n",
    "little_norm = little_force / middle_force\n",
    "\n",
    "# Relative left/right hand strength (assume equal):\n",
    "lf = 1.0\n",
    "rf = 1.0\n",
    "\n",
    "strengths24 = np.array((lf * little_norm, lf * ring_norm, lf * middle_norm, lf * index_norm,\n",
    "                        lf * little_norm, lf * ring_norm, lf * middle_norm, lf * index_norm,\n",
    "                        lf * little_norm, lf * ring_norm, lf * middle_norm, lf * index_norm,\n",
    "                        rf * index_norm, rf * middle_norm, rf * ring_norm, rf * little_norm,\n",
    "                        rf * index_norm, rf * middle_norm, rf * ring_norm, rf * little_norm,\n",
    "                        rf * index_norm, rf * middle_norm, rf * ring_norm, rf * little_norm))\n",
    "\n",
    "# Create a finger-pair position strength matrix by adding pairs of strength values:\n",
    "Strength24x24 = np.zeros((24, 24))\n",
    "for i in range(24):\n",
    "    Strength24x24[i,:] = strengths24\n",
    "Strength24x24 = (Strength24x24 + Strength24x24.transpose())\n",
    "\n",
    "# Normalize matrix with min-max scaling to a range with maximum = 1:\n",
    "newMin = 0.9  # np.min(Strength24x24) / np.max(Strength24x24)\n",
    "newMax = 1.0\n",
    "Strength24x24 = newMin + (Strength24x24 - np.min(Strength24x24)) * (newMax - newMin) / (np.max(Strength24x24) - np.min(Strength24x24))\n",
    "\n",
    "# Print:\n",
    "print_matrix_info(matrix_data=Strength24x24, matrix_label=\"Strength24x24\", nlines=10)\n",
    "heatmap(data=Strength24x24, title=\"Strength24x24\", xlabel=\"Key 1\", ylabel=\"Key 2\")\n",
    "\n",
    "# Save:\n",
    "file = open(\"Strength24x24.txt\", \"w+\")\n",
    "file.write(str(Strength24x24))\n",
    "file.close()"
   ]
  },
  {
   "cell_type": "code",
   "execution_count": 6,
   "metadata": {
    "colab": {
     "base_uri": "https://localhost:8080/",
     "height": 265
    },
    "colab_type": "code",
    "id": "qz7jPlfBDzRo",
    "outputId": "d9e44ba2-d677-4b88-fe9c-306a2cb85a27"
   },
   "outputs": [
    {
     "data": {
      "image/png": "[encoded data removed]",
      "text/plain": [
       "<Figure size 432x288 with 1 Axes>"
      ]
     },
     "metadata": {
      "needs_background": "light"
     },
     "output_type": "display_data"
    }
   ],
   "source": [
    "# Histogram\n",
    "sns_plot = sns.distplot(Strength24x24)\n",
    "sns_plot.figure.savefig(\"{0}_histogram.png\".format(\"Strength24x24\"))"
   ]
  },
  {
   "cell_type": "markdown",
   "metadata": {
    "colab_type": "raw",
    "id": "0kL0XyVFDzRx"
   },
   "source": [
    "### Strength output\n",
    "\n",
    "        Left:            Right:\n",
    "     1  2  3  4       13 14 15 16 \n",
    "     5  6  7  8       17 18 19 20\n",
    "     9 10 11 12       21 22 23 24\n",
    "\n",
    "Strength24x24 min = 0.9, max = 1.0\n",
    "Strength24x24 key number pairs with minimum values:\n",
    "\n",
    "        1 -> 1        (0.9)\n",
    "        5 -> 9        (0.9)\n",
    "        5 -> 16        (0.9)\n",
    "        5 -> 20        (0.9)\n",
    "        5 -> 24        (0.9)\n",
    "        9 -> 1        (0.9)\n",
    "        9 -> 5        (0.9)\n",
    "        9 -> 9        (0.9)\n",
    "        9 -> 16        (0.9)\n",
    "        9 -> 20        (0.9)\n",
    "\n",
    "Strength24x24 key number pairs with maximum values:\n",
    "\n",
    "        18 -> 11        (1.0)\n",
    "        22 -> 14        (1.0)\n",
    "        3 -> 14        (1.0)\n",
    "        7 -> 18        (1.0)\n",
    "        18 -> 7        (1.0)\n",
    "        18 -> 14        (1.0)\n",
    "        3 -> 18        (1.0)\n",
    "        18 -> 18        (1.0)\n",
    "        22 -> 22        (1.0)\n",
    "        18 -> 22        (1.0)"
   ]
  },
  {
   "cell_type": "markdown",
   "metadata": {
    "colab_type": "text",
    "id": "Dnn5-8S5DzRy"
   },
   "source": [
    "## Flow matrix  <a name=\"flow\">\n",
    "\n",
    "The Flow24x24 matrix takes into account ease of transition between ordered pairs of keys\n",
    "\n",
    "#### Dvorak et al. (1936) defined eleven criteria for the design and evaluation of keyboard layouts:\n",
    "1.  Deviation from the balance of hand and finger loads should be as low as possible.\n",
    "2.  Percentage of tapping with the same fingers should be as low as possible.\n",
    "3.  Percentage of tapping that includes top row should be as low as possible.\n",
    "4.  Percentage of tapping that includes bottom row should be as low as possible.\n",
    "5.  Percentage of tapping in the home row should be as high as possible.\n",
    "6.  Percentage of tapping by alternating hands should be as high as possible.\n",
    "7.  Percentage of hurdles with the same finger should be as low as possible.\n",
    "8.  Percentage of hurdles with adjacent fingers should be as low as possible.\n",
    "9.  Percentage of hurdles with remote fingers should be as low as possible.\n",
    "10. Percentage of reach with the same finger should be as low as possible.\n",
    "11. Percentage of reach with adjacent fingers should be as low as possible.\n",
    "\n",
    "#### Synopsis of above criteria for pairwise key presses when touch typing:\n",
    "(A) 1,6.    Alternate between hands and balance finger loads. <br>\n",
    "(B) 2,7,10. Avoid using the same finger. <br>\n",
    "(C) 3,4,5.  Avoid the upper and lower rows. <br>\n",
    "(D) 7,8,9.  Avoid skipping over the home row (\"hurdling\"). <br>\n",
    "(E) 10,11.  Avoid tapping adjacent rows (\"reaching\") with (same or) adjacent fingers.\n",
    "\n",
    "#### The approach here advocates the following related criteria (see above for complete list):\n",
    "  7.  Promote alternating between hands over typing with the same hand. <br>\n",
    "  8.  Promote little-to-index-finger roll-ins over index-to-little-finger roll_outs. <br>\n",
    "  9.  Avoid extending nearer, shorter fingers to upper rows and longer fingers to bottom row. <br>\n",
    "  10. Avoid using the same finger. <br>\n",
    "  11. Avoid the upper and lower rows. <br>\n",
    "  12. Avoid skipping over the home row.\n",
    "\n",
    "We will attempt to account for (A-E) by the rules to generate the Flow24x24 matrix. <br>\n",
    "Additionally, left/right balance for (A) will be accounted for in part by <br>\n",
    "splitting up the most common keeps to left and right sides of the keyboard, <br> \n",
    "and rather than try to balance finger loads equally, <br>\n",
    "we will weight finger use according to their relative strength.\n"
   ]
  },
  {
   "cell_type": "markdown",
   "metadata": {
    "colab_type": "text",
    "id": "dpKA0PZwDzR-"
   },
   "source": [
    "### Factors to penalize difficult key transitions"
   ]
  },
  {
   "cell_type": "code",
   "execution_count": 7,
   "metadata": {
    "colab": {
     "base_uri": "https://localhost:8080/",
     "height": 695
    },
    "colab_type": "code",
    "id": "qx1eL9whDzSE",
    "outputId": "8b9eff1d-450c-4ca3-bd6c-5d67591dcac0"
   },
   "outputs": [
    {
     "name": "stdout",
     "output_type": "stream",
     "text": [
      "Flow24x24 min = 0.5314410000000002, max = 1.0\n",
      "Flow24x24 key number pairs with minimum values:\n",
      "        4 -> 11        (0.5314410000000002)\n",
      "        10 -> 1        (0.5314410000000002)\n",
      "        13 -> 22        (0.5314410000000002)\n",
      "        23 -> 16        (0.5314410000000002)\n",
      "        13 -> 23        (0.5609655000000001)\n",
      "        11 -> 1        (0.5609655000000001)\n",
      "        22 -> 16        (0.5609655000000001)\n",
      "        4 -> 10        (0.5609655000000001)\n",
      "        22 -> 13        (0.5904900000000002)\n",
      "        22 -> 15        (0.5904900000000002)\n",
      "Flow24x24 key number pairs with maximum values:\n",
      "        5 -> 18        (1.0)\n",
      "        20 -> 18        (1.0)\n",
      "        5 -> 17        (1.0)\n",
      "        5 -> 19        (1.0)\n",
      "        5 -> 20        (1.0)\n",
      "        19 -> 17        (1.0)\n",
      "        19 -> 18        (1.0)\n",
      "        19 -> 19        (1.0)\n",
      "        6 -> 6        (1.0)\n",
      "        6 -> 7        (1.0)\n"
     ]
    },
    {
     "data": {
      "image/png": "[encoded data removed]",
      "text/plain": [
       "<Figure size 432x288 with 2 Axes>"
      ]
     },
     "metadata": {
      "needs_background": "light"
     },
     "output_type": "display_data"
    }
   ],
   "source": [
    "# Penalizing factors (set to less than 1.0):\n",
    "same_hand = 1.0  # Taken care of by splitting up the most frequent letters across left/right sides above\n",
    "roll_out = 0.9  # roll out from index to little finger\n",
    "side_top = 0.9  # either index or little finger on top row\n",
    "center_bottom = 0.9  # either middle or ring finger on bottom row\n",
    "side_up_1away_down = 0.9  # index above middle, or little above ring \n",
    "side_up_2away_down = 0.95  # index above ring, or little above middle\n",
    "side_up_3away_down = 1.0  # index above little, or little above index\n",
    "ring_up_middle_down = 0.9  # ring above middle\n",
    "same_finger = 0.9  # use same finger twice for a non-repeating letter\n",
    "not_home_row = 0.9  # at least one key not on home row\n",
    "skip_home_row = 0.9  # one key on top row, the other on bottom row\n",
    "\n",
    "all_24_keys = [1,2,3,4, 5,6,7,8, 9,10,11,12, 13,14,15,16, 17,18,19,20, 21,22,23,24]\n",
    "#        Left:            Right:\n",
    "#     1  2  3  4       13 14 15 16 \n",
    "#     5  6  7  8       17 18 19 20\n",
    "#     9 10 11 12       21 22 23 24\n",
    "\n",
    "# Create a matrix and multiply by flow factors that promote easy interkey transitions:\n",
    "T = np.ones((24, 24))\n",
    "\n",
    "#  6.  Promote alternating between hands over typing with the same hand.\n",
    "if same_hand < 1.0:\n",
    "    for i in range(0,12):\n",
    "        for j in range(0,12):\n",
    "            T[i,j] *= same_hand\n",
    "    for i in range(12,24):\n",
    "        for j in range(12,24):\n",
    "            T[i,j] *= same_hand\n",
    "\n",
    "#  7.  Promote little-to-index-finger roll-ins over index-to-little-finger roll_outs.\n",
    "if roll_out < 1.0:\n",
    "\n",
    "    # same-row roll-outs:\n",
    "    roll_ins = [[1,2],[2,3],[3,4], [5,6],[6,7],[7,8], [9,10],[10,11],[11,12],\n",
    "                [16,15],[15,14],[14,13], [20,19],[19,18],[18,17], [24,23],[23,22],[22,21]]\n",
    "    for x in roll_ins:\n",
    "        T[x[1]-1, x[0]-1] *= roll_out\n",
    "\n",
    "    # same-row roll-outs, skipping keys:\n",
    "    roll_ins_skip_keys = [[1,3],[2,4],[1,4], [5,7],[6,8],[5,8], [9,11],[10,12],[9,12],\n",
    "                          [16,14],[15,13],[16,13], [20,18],[19,17],[20,17], [24,22],[23,21],[24,21]]\n",
    "    for x in roll_ins_skip_keys:\n",
    "        T[x[1]-1, x[0]-1] *= roll_out\n",
    "\n",
    "    # adjacent-row roll-outs:\n",
    "    roll_ins_adj_rows = [[1,6],[1,7],[1,8],[2,7],[2,8],[3,8], [5,2],[5,3],[5,4],[6,3],[6,4],[7,4],\n",
    "                         [5,10],[5,11],[5,12],[6,11],[6,12],[7,12], [9,6],[9,7],[9,8],[10,7],[10,8],[11,8],\n",
    "                         [16,19],[16,18],[16,17],[15,18],[15,17],[14,17], [20,15],[20,14],[20,13],[19,14],[19,13],[18,13],\n",
    "                         [20,23],[20,22],[20,21],[19,22],[19,21],[18,21], [24,19],[24,18],[24,17],[23,18],[23,17],[22,17]]\n",
    "    for x in roll_ins_adj_rows:\n",
    "        T[x[1]-1, x[0]-1] *= roll_out\n",
    "\n",
    "    # upper<->lower row roll-outs:\n",
    "    roll_ins_skip_home = [[1,10],[1,11],[1,12],[2,11],[2,12],[3,12], [9,2],[9,3],[9,4],[10,3],[10,4],[11,4],\n",
    "                          [16,23],[16,22],[16,21],[15,22],[15,21],[14,21], [24,15],[24,14],[24,13],[23,14],[23,13],[22,13]]\n",
    "    for x in roll_ins_skip_home:\n",
    "        T[x[1]-1, x[0]-1] *= roll_out\n",
    "\n",
    "#  8.  Avoid extending nearer, shorter fingers to upper rows and longer fingers to bottom row.\n",
    "if side_top:\n",
    "    for x in all_24_keys:\n",
    "        for y in [1,4,13,16]:\n",
    "            T[x-1, y-1] *= side_top\n",
    "            T[y-1, x-1] *= side_top\n",
    "if center_bottom:\n",
    "    for x in all_24_keys:\n",
    "        for y in [10,11,22,23]:\n",
    "            T[x-1, y-1] *= center_bottom\n",
    "            T[y-1, x-1] *= center_bottom\n",
    "        \n",
    "if side_up_1away_down < 1.0 or side_up_2away_down < 1.0 or side_up_3away_down < 1.0 or ring_up_middle_down < 1.0:\n",
    "    side_up_1away_downs = [[1,6],  [1,10], [5,10],   [7,4],  [11,4], [11,8], \n",
    "                           [16,19],[16,23],[20,23],  [18,13],[22,13],[22,17]]\n",
    "    side_up_2away_downs = [[1,7],  [1,11], [5,11],   [6,4],  [10,4], [10,8], \n",
    "                           [16,18],[16,22],[20,22],  [19,13],[23,13],[23,17]]\n",
    "    side_up_3away_downs = [[1,8],  [1,12], [5,12],   [5,4],  [9,4],  [9,8], \n",
    "                           [16,17],[16,21],[20,21],  [20,13],[24,13],[24,17]]\n",
    "    ring_up_middle_downs = [[2,7],[6,11],[2,11], [15,18],[19,22],[15,22]]\n",
    "    if side_up_1away_down < 1.0:\n",
    "        for x in side_up_1away_downs:\n",
    "            T[x[0]-1, x[1]-1] *= side_up_1away_down\n",
    "            T[x[1]-1, x[0]-1] *= side_up_1away_down\n",
    "    if side_up_2away_down < 1.0:\n",
    "        for x in side_up_2away_downs:\n",
    "            T[x[0]-1, x[1]-1] *= side_up_2away_down\n",
    "            T[x[1]-1, x[0]-1] *= side_up_2away_down\n",
    "    if side_up_3away_down < 1.0:\n",
    "        for x in side_up_3away_downs:\n",
    "            T[x[0]-1, x[1]-1] *= side_up_3away_down\n",
    "            T[x[1]-1, x[0]-1] *= side_up_3away_down\n",
    "    if ring_up_middle_down < 1.0:\n",
    "        for x in ring_up_middle_downs:\n",
    "            T[x[0]-1, x[1]-1] *= ring_up_middle_down\n",
    "            T[x[1]-1, x[0]-1] *= ring_up_middle_down\n",
    "\n",
    "#  9.  Avoid using the same finger.\n",
    "if same_finger < 1.0:\n",
    "    same_fingers = [[1,5],[5,9],[1,9], [2,6],[6,10],[2,10], [3,7],[7,11],[3,11], [4,8],[8,12],[4,12],\n",
    "                    [13,17],[17,21],[13,21], [14,18],[18,22],[14,22], [15,19],[19,23],[15,23], [16,20],[20,24],[16,24]] \n",
    "    for x in same_fingers:\n",
    "        T[x[0]-1, x[1]-1] *= same_finger\n",
    "        T[x[1]-1, x[0]-1] *= same_finger\n",
    "\n",
    "# 10.  Avoid the upper and lower rows.\n",
    "if not_home_row < 1.0:\n",
    "    not_home_row_keys = [1,2,3,4, 9,10,11,12, 13,14,15,16, 21,22,23,24]\n",
    "    home_row_keys = [5,6,7,8, 17,18,19,20]\n",
    "    for x in not_home_row_keys:\n",
    "        for y in not_home_row_keys:\n",
    "            T[x-1, y-1] *= not_home_row\n",
    "    for x in not_home_row_keys:\n",
    "        for y in home_row_keys:\n",
    "            T[x-1, y-1] *= not_home_row\n",
    "            T[y-1, x-1] *= not_home_row\n",
    "\n",
    "# 11. Avoid skipping over the home row.\n",
    "if skip_home_row < 1.0:\n",
    "    skip_home_rows_left = [[1,2,3,4], [9,10,11,12]] \n",
    "    skip_home_rows_right = [[13,14,15,16], [21,22,23,24]] \n",
    "    for x in skip_home_rows_left[0]:\n",
    "        for y in skip_home_rows_left[1]:\n",
    "            T[x-1, y-1] *= skip_home_row\n",
    "            T[y-1, x-1] *= skip_home_row\n",
    "    for x in skip_home_rows_right[0]:\n",
    "        for y in skip_home_rows_right[1]:\n",
    "            T[x-1, y-1] *= skip_home_row\n",
    "            T[y-1, x-1] *= skip_home_row\n",
    "\n",
    "Flow24x24 = T\n",
    "\n",
    "# Normalize matrix with min-max scaling to a range with maximum = 1:\n",
    "newMin = np.min(Flow24x24) / np.max(Flow24x24)\n",
    "newMax = 1.0\n",
    "Flow24x24 = newMin + (Flow24x24 - np.min(Flow24x24)) * (newMax - newMin) / (np.max(Flow24x24) - np.min(Flow24x24))\n",
    "\n",
    "# Print:\n",
    "print_matrix_info(matrix_data=Flow24x24, matrix_label=\"Flow24x24\", nlines=10)\n",
    "heatmap(data=Flow24x24, title=\"Flow24x24\", xlabel=\"Key 1\", ylabel=\"Key 2\")\n",
    "\n",
    "# Save:\n",
    "file = open(\"Flow24x24.txt\", \"w+\")\n",
    "file.write(str(Flow24x24))\n",
    "file.close()"
   ]
  },
  {
   "cell_type": "code",
   "execution_count": 8,
   "metadata": {
    "colab": {
     "base_uri": "https://localhost:8080/",
     "height": 265
    },
    "colab_type": "code",
    "id": "F6wZ4iRLDzSM",
    "outputId": "147c2189-b464-4202-fd34-0e8a5665291f"
   },
   "outputs": [
    {
     "data": {
      "image/png": "[encoded data removed]",
      "text/plain": [
       "<Figure size 432x288 with 1 Axes>"
      ]
     },
     "metadata": {
      "needs_background": "light"
     },
     "output_type": "display_data"
    }
   ],
   "source": [
    "# Histogram\n",
    "sns_plot = sns.distplot(Flow24x24)\n",
    "sns_plot.figure.savefig(\"{0}_histogram.png\".format(\"Flow24x24\"))"
   ]
  },
  {
   "cell_type": "markdown",
   "metadata": {
    "colab_type": "raw",
    "id": "GQWWDBJXDzSS"
   },
   "source": [
    "### Flow output\n",
    "\n",
    "        Left:            Right:\n",
    "     1  2  3  4       13 14 15 16 \n",
    "     5  6  7  8       17 18 19 20\n",
    "     9 10 11 12       21 22 23 24\n",
    "\n",
    "Flow24x24 min = 0.5314410000000002, max = 1.0\n",
    "Flow24x24 key number pairs with minimum values:\n",
    "\n",
    "    4 -> 11        (0.5314410000000002)\n",
    "    10 -> 1        (0.5314410000000002)\n",
    "    13 -> 22        (0.5314410000000002)\n",
    "    23 -> 16        (0.5314410000000002)\n",
    "    13 -> 23        (0.5609655000000001)\n",
    "    11 -> 1        (0.5609655000000001)\n",
    "    22 -> 16        (0.5609655000000001)\n",
    "    4 -> 10        (0.5609655000000001)\n",
    "    22 -> 13        (0.5904900000000002)\n",
    "    22 -> 15        (0.5904900000000002)\n",
    "\n",
    "Flow24x24 key number pairs with maximum values:\n",
    "\n",
    "    5 -> 18        (1.0)\n",
    "    20 -> 18        (1.0)\n",
    "    5 -> 17        (1.0)\n",
    "    5 -> 19        (1.0)\n",
    "    5 -> 20        (1.0)\n",
    "    19 -> 17        (1.0)\n",
    "    19 -> 18        (1.0)\n",
    "    19 -> 19        (1.0)\n",
    "    6 -> 6        (1.0)\n",
    "    6 -> 7        (1.0)"
   ]
  },
  {
   "cell_type": "markdown",
   "metadata": {
    "colab_type": "text",
    "id": "WMvP493uDzSU"
   },
   "source": [
    "## Combine Speed, Strength, and Flow matrices  <a name=\"speedstrengthflow\">"
   ]
  },
  {
   "cell_type": "code",
   "execution_count": 9,
   "metadata": {
    "colab": {
     "base_uri": "https://localhost:8080/",
     "height": 695
    },
    "colab_type": "code",
    "id": "UP7FUBR2DzSX",
    "outputId": "5dc11788-2c69-4f69-ab60-a07ac17e092f"
   },
   "outputs": [
    {
     "name": "stdout",
     "output_type": "stream",
     "text": [
      "SpeedStrengthFlow24x24 min = 0.4874949173076925, max = 1.0\n",
      "SpeedStrengthFlow24x24 key number pairs with minimum values:\n",
      "        23 -> 16        (0.4874949173076925)\n",
      "        10 -> 1        (0.4874949173076925)\n",
      "        13 -> 22        (0.5263309903846156)\n",
      "        4 -> 11        (0.5263309903846156)\n",
      "        11 -> 1        (0.5329172250000002)\n",
      "        22 -> 16        (0.5329172250000002)\n",
      "        13 -> 23        (0.5372323442307694)\n",
      "        4 -> 10        (0.5372323442307694)\n",
      "        1 -> 10        (0.5416610192307695)\n",
      "        16 -> 23        (0.5416610192307695)\n",
      "SpeedStrengthFlow24x24 key number pairs with maximum values:\n",
      "        7 -> 18        (1.0)\n",
      "        18 -> 18        (1.0)\n",
      "        7 -> 7        (1.0)\n",
      "        18 -> 7        (1.0)\n",
      "        7 -> 8        (0.9903846153846154)\n",
      "        18 -> 8        (0.9903846153846154)\n",
      "        7 -> 17        (0.9903846153846154)\n",
      "        18 -> 17        (0.9903846153846154)\n",
      "        8 -> 18        (0.9903846153846154)\n",
      "        17 -> 7        (0.9903846153846154)\n"
     ]
    },
    {
     "data": {
      "image/png": "[encoded data removed]",
      "text/plain": [
       "<Figure size 432x288 with 2 Axes>"
      ]
     },
     "metadata": {
      "needs_background": "light"
     },
     "output_type": "display_data"
    }
   ],
   "source": [
    "if use_speed_data:\n",
    "    SpeedStrengthFlow24x24 = Speed24x24 * Strength24x24 * Flow24x24\n",
    "else:\n",
    "    SpeedStrengthFlow24x24 = Strength24x24 * Flow24x24\n",
    "\n",
    "# Print:\n",
    "print_matrix_info(matrix_data=SpeedStrengthFlow24x24, matrix_label=\"SpeedStrengthFlow24x24\", nlines=10)\n",
    "heatmap(data=SpeedStrengthFlow24x24, title=\"SpeedStrengthFlow24x24\", xlabel=\"Key 1\", ylabel=\"Key 2\")\n",
    "\n",
    "# Save:\n",
    "file = open(\"SpeedStrengthFlow24x24.txt\", \"w+\")\n",
    "file.write(str(SpeedStrengthFlow24x24))\n",
    "file.close()"
   ]
  },
  {
   "cell_type": "code",
   "execution_count": 10,
   "metadata": {
    "colab": {
     "base_uri": "https://localhost:8080/",
     "height": 265
    },
    "colab_type": "code",
    "id": "mXoSOaalDzSc",
    "outputId": "d1f78386-db18-4028-e9de-8338b7590a2f"
   },
   "outputs": [
    {
     "data": {
      "image/png": "[encoded data removed]",
      "text/plain": [
       "<Figure size 432x288 with 1 Axes>"
      ]
     },
     "metadata": {
      "needs_background": "light"
     },
     "output_type": "display_data"
    }
   ],
   "source": [
    "# Histogram\n",
    "sns_plot = sns.distplot(SpeedStrengthFlow24x24)\n",
    "sns_plot.figure.savefig(\"{0}_histogram.png\".format(\"SpeedStrengthFlow24x24\"))"
   ]
  },
  {
   "cell_type": "markdown",
   "metadata": {
    "colab_type": "raw",
    "id": "TtqGHKbjDzSj"
   },
   "source": [
    "### Combined output\n",
    "\n",
    "                      Left:            Right:\n",
    "                   1  2  3  4       13 14 15 16 \n",
    "                   5  6  7  8       17 18 19 20\n",
    "                   9 10 11 12       21 22 23 24\n",
    "\n",
    "SpeedStrengthFlow24x24 min = 0.4874949173076925, max = 1.0\n",
    "SpeedStrengthFlow24x24 key number pairs with minimum values:\n",
    "\n",
    "        23 -> 16        (0.4874949173076925)\n",
    "        10 -> 1        (0.4874949173076925)\n",
    "        13 -> 22        (0.5263309903846156)\n",
    "        4 -> 11        (0.5263309903846156)\n",
    "        11 -> 1        (0.5329172250000002)\n",
    "        22 -> 16        (0.5329172250000002)\n",
    "        13 -> 23        (0.5372323442307694)\n",
    "        4 -> 10        (0.5372323442307694)\n",
    "        1 -> 10        (0.5416610192307695)\n",
    "        16 -> 23        (0.5416610192307695)\n",
    "\n",
    "SpeedStrengthFlow24x24 key number pairs with maximum values:\n",
    "\n",
    "        7 -> 18        (1.0)\n",
    "        18 -> 18        (1.0)\n",
    "        7 -> 7        (1.0)\n",
    "        18 -> 7        (1.0)\n",
    "        7 -> 8        (0.9903846153846154)\n",
    "        18 -> 8        (0.9903846153846154)\n",
    "        7 -> 17        (0.9903846153846154)\n",
    "        18 -> 17        (0.9903846153846154)\n",
    "        8 -> 18        (0.9903846153846154)\n",
    "        17 -> 7        (0.9903846153846154)"
   ]
  },
  {
   "cell_type": "markdown",
   "metadata": {
    "colab_type": "text",
    "id": "REInHU9tdYLP"
   },
   "source": [
    "## Step 1: Distribute the 8 most frequent letters (4 vowels, 4 consonants) to the left and right  <a name=\"step1\">\n",
    "\n",
    "### Select first set of keys to which we will assign letters\n",
    "\n",
    "From 24 finger-column keys (requiring no lateral movements):\n",
    "\n",
    "                      Left:            Right:\n",
    "                   1  2  3  4       13 14 15 16  \n",
    "                   5  6  7  8       17 18 19 20  \n",
    "                   9 10 11 12       21 22 23 24\n",
    "\n",
    "Select 8 keys for some of the strongest finger positions:\n",
    "\n",
    "                   -  -  3  -        - 14  -  -\n",
    "                   5  6  7  8       17 18 19 20\n",
    "                   -  -  -  -        -  -  -  -\n",
    "\n",
    "### Find all permutations of the 8 most frequent letters, assign to 8 keys\n",
    "#### **E, T, A, O, I, N, S, R**, H, L, D, C, U, M, F, P, G, W, Y, B, V, K, X, J, Q, Z\n",
    "\n",
    "#### Score each arrangement based on bigram frequencies\n",
    "For each permutation of letters, construct a frequency matrix of each ordered pair of letters (bigram).\n",
    "Multiply this frequency matrix by our speed-strength-flow matrix to compute a score."
   ]
  },
  {
   "cell_type": "code",
   "execution_count": 12,
   "metadata": {
    "colab": {
     "base_uri": "https://localhost:8080/",
     "height": 258
    },
    "colab_type": "code",
    "id": "KPZ-_k_NDzSv",
    "outputId": "cc3e4b3d-96e1-44d2-df27-d57f03a73e53"
   },
   "outputs": [
    {
     "name": "stdout",
     "output_type": "stream",
     "text": [
      "Topmost of 40320 permutations: ['O' 'I' 'E' 'A' 'S' 'T' 'N' 'R']\n",
      "['O', 'I', 'E', 'A', 'S', 'T', 'N', 'R'] 0.2414475577033772\n",
      "['S', 'R', 'N', 'T', 'O', 'A', 'E', 'I'] 0.24144755770337717\n",
      "['S', 'N', 'R', 'T', 'O', 'A', 'E', 'I'] 0.2411970761854927\n",
      "['O', 'I', 'E', 'A', 'S', 'T', 'R', 'N'] 0.24119707618549266\n",
      "['R', 'S', 'N', 'T', 'O', 'A', 'E', 'I'] 0.24111386949437247\n",
      "['O', 'I', 'E', 'A', 'R', 'T', 'N', 'S'] 0.24111386949437247\n",
      "['R', 'N', 'S', 'T', 'O', 'A', 'E', 'I'] 0.2409154006781842\n",
      "['O', 'I', 'E', 'A', 'R', 'T', 'S', 'N'] 0.24091540067818418\n",
      "['S', 'R', 'N', 'T', 'A', 'O', 'E', 'I'] 0.24080527033090263\n",
      "['A', 'I', 'E', 'O', 'S', 'T', 'N', 'R'] 0.2408052703309026\n"
     ]
    }
   ],
   "source": [
    "keys1 = [3, 6,7,8, 14, 17,18,19]\n",
    "all_letters1 = ['E','T','A','O','I','N','S','R']\n",
    "move_positions1 = [0,1,2,3, 4,5,6,7] # indices to selected keys that don't have assigned letters\n",
    "fixed_positions1 = []  # indices to keys with assigned letters\n",
    "top_permutation1, letter_permutations1, scores1 = permute_and_optimize(keys1, SpeedStrengthFlow24x24, bigrams, all_letters1, move_positions1, fixed_positions1, ntop=10, verbose=False)"
   ]
  },
  {
   "cell_type": "markdown",
   "metadata": {
    "colab_type": "raw",
    "id": "c4xacvCLDzS1"
   },
   "source": [
    "#### Top-scoring permutations and layout\n",
    "    \n",
    "    Topmost of 40320 permutations: ['O' 'I' 'E' 'A' 'S' 'T' 'N' 'R']\n",
    "    ['O', 'I', 'E', 'A', 'S', 'T', 'N', 'R'] 0.2414475577033772\n",
    "    ['S', 'R', 'N', 'T', 'O', 'A', 'E', 'I'] 0.24144755770337717\n",
    "    ['S', 'N', 'R', 'T', 'O', 'A', 'E', 'I'] 0.2411970761854927\n",
    "    ['O', 'I', 'E', 'A', 'S', 'T', 'R', 'N'] 0.24119707618549266\n",
    "    ['R', 'S', 'N', 'T', 'O', 'A', 'E', 'I'] 0.24111386949437247\n",
    "    ['O', 'I', 'E', 'A', 'R', 'T', 'N', 'S'] 0.24111386949437247\n",
    "    ['R', 'N', 'S', 'T', 'O', 'A', 'E', 'I'] 0.2409154006781842\n",
    "    ['O', 'I', 'E', 'A', 'R', 'T', 'S', 'N'] 0.24091540067818418\n",
    "    ['S', 'R', 'N', 'T', 'A', 'O', 'E', 'I'] 0.24080527033090263\n",
    "    ['A', 'I', 'E', 'O', 'S', 'T', 'N', 'R'] 0.2408052703309026\n",
    "\n",
    "The top two results scored equally, and are mirror images of each other, vowels on one side, consonants on the other:\n",
    "\n",
    "                      Left:            Right:\n",
    "\n",
    "                   -  -  S  -        -  O  -  - \n",
    "                   -  R  N  T        A  E  I  -\n",
    "                   -  -  -  -        -  -  -  -\n",
    "\n",
    "                   -  -  O  -        -  S  - \n",
    "                   -  I  E  A        T  N  R  -\n",
    "                   -  -  -  -        -  -  -  -\n",
    "                   \n",
    "These arrangements are very reasonable, as they place letters of decreasing frequency in positions of decreasing finger strength, and roll in for most common bigrams: IO, EA, IE, NT, ST, RT (but not TR or NS).\n",
    "\n",
    "Top bigram frequencies with vowels E, A, O, and I:\n",
    "\n",
    "    (OU 24531132241)\n",
    "     IO 23542263265  - roll-in  \n",
    "     EA 19403941063  - roll-in\n",
    "     IE 10845731320  - roll-in\n",
    "     AI  8922759715  - roll-OUT  \n",
    "     IA  8072199471  - roll-in    \n",
    "     EI  5169898489  - roll-OUT \n",
    "    (AU  3356322923)   \n",
    "    (UI  2852182384)   \n",
    "     OI  2474275212  - roll-OUT\n",
    "     EO  2044268477  - same finger \n",
    "     OA  1620913259  - roll-in  \n",
    "     OE  1089254517  - same finger \n",
    "     \n",
    "Top bigram frequencies with S, T, N, and R:\n",
    "\n",
    "     ST  29704461829  - roll-in\n",
    "     NT  29359771944  - roll-in\n",
    "     NS  14350320288  - same finger\n",
    "     TR  12006693396  - roll-OUT\n",
    "     RS  11180732354  - roll-in\n",
    "     RT  10198055461  - roll-in"
   ]
  },
  {
   "cell_type": "markdown",
   "metadata": {},
   "source": [
    "## Step 2: Add command shortcut characters <a name=\"step2\">\n",
    "\n",
    "### To the left:\n",
    "    \n",
    "Place common command characters (Z,X,C,V) on the left and Q on the right:\n",
    "\n",
    "with vowels on the right:\n",
    "\n",
    "                   -  -  S  -        -  O  -  -  Q\n",
    "                   -  R  N  T        A  E  I  -  J \n",
    "                   Z  X  C  V        -  -  -  -\n",
    "\n",
    "with vowels on the left:\n",
    "\n",
    "                   -  -  O  -        -  S  -  -  Q\n",
    "                   -  I  E  A        T  N  R  -  J \n",
    "                   Z  X  C  V        -  -  -  -\n",
    "    \n",
    "- Z,X,C,V command characters are familiarly placed on the bottom left row.\n",
    "    \n",
    "### To the right:\n",
    "    \n",
    "Arrange common command characters (Z,Y,X,V,C) on the right and Q on the left:\n",
    "\n",
    "with vowels on the right:\n",
    "\n",
    "                   Q  -  S  -        -  O  -  Y  Z\n",
    "                   -  R  N  T        A  E  I  C  X \n",
    "                   -  -  -  -        -  -  -  V\n",
    "\n",
    "with vowels on the left:\n",
    "\n",
    "                   Q  -  O  -        -  S  -  Y  Z\n",
    "                   -  I  E  A        T  N  R  C  X \n",
    "                   -  -  -  -        -  -  -  V\n",
    "\n",
    "- Z is the least frequent letter and is placed in the hardest-to-reach position.\n",
    "- Z & Y (Undo & Redo), and X & C (Cut & Copy) pair well together. \n",
    "- Common bigrams with Y and C (LY, CT, NC, SC, CR) are easy to type.\n",
    "- Moving common command shortcuts to the right puts C & V (Copy & Paste) in closer proximity to a Ctrl key, or it enforces two-handed Ctrl operations when using the harder-to-reach left Ctrl key.\n",
    "- Q is the least frequent remaining letter, and is placed in the hardest-to-reach remaining key location.\n",
    "- Q is in the upper left key in the QWERTY layout, so will be easy to remember."
   ]
  },
  {
   "cell_type": "markdown",
   "metadata": {
    "colab_type": "text",
    "id": "UONFg0NBV7vb"
   },
   "source": [
    "## Step 3: Distribute 8 of the remaining letters to the left and right  <a name=\"step3\">\n",
    "\n",
    "#### *E, T, A, O, I, N, S, R*, **H, L, D**, [C], **U, M, F, P, G**, W, [Y], B, [V], K, [X], J, *Q*, [Z]"
   ]
  },
  {
   "cell_type": "markdown",
   "metadata": {},
   "source": [
    "#### Left command characters, right vowels\n",
    "\n",
    "                   -  +  S  -        -  O  +  -  Q\n",
    "                   +  R  N  T        A  E  I  +  J \n",
    "                   Z  X  C  V        +  +  +  +"
   ]
  },
  {
   "cell_type": "code",
   "execution_count": 20,
   "metadata": {},
   "outputs": [
    {
     "name": "stdout",
     "output_type": "stream",
     "text": [
      "Topmost of 40320 permutations: ['M' 'S' 'L' 'R' 'N' 'T' 'Z' 'X' 'C' 'V' 'O' 'F' 'A' 'E' 'I' 'H' 'U' 'G'\n",
      " 'P' 'D']\n",
      "['M', 'L', 'F', 'H', 'U', 'G', 'P', 'D'] 0.05653252992827808\n",
      "['M', 'L', 'F', 'H', 'U', 'P', 'G', 'D'] 0.05651889410013813\n",
      "['M', 'L', 'F', 'H', 'D', 'G', 'P', 'U'] 0.05650413108199535\n",
      "['M', 'L', 'P', 'H', 'U', 'G', 'F', 'D'] 0.05649112103015269\n",
      "['M', 'L', 'F', 'H', 'D', 'P', 'G', 'U'] 0.056490526238105666\n",
      "['M', 'L', 'F', 'H', 'D', 'U', 'G', 'P'] 0.056488014197587685\n",
      "['M', 'L', 'U', 'H', 'D', 'G', 'F', 'P'] 0.05648689917534435\n",
      "['F', 'L', 'U', 'H', 'D', 'G', 'P', 'M'] 0.056475864062353\n",
      "['M', 'L', 'P', 'H', 'U', 'F', 'G', 'D'] 0.05647339959044164\n",
      "['M', 'L', 'U', 'H', 'D', 'F', 'G', 'P'] 0.056468911838577364\n"
     ]
    }
   ],
   "source": [
    "keys2_LR = [2,3, 5,6,7,8, 9,10,11,12, 14,15, 17,18,19,20, 21,22,23,24]\n",
    "all_letters2_LR = ['H','S', 'L','R','N','T', 'Z','X','C','V', 'O','D', 'A','E','I','U', 'M','F','P','G']  # all letters under consideration (move or fix in place)\n",
    "move_positions2_LR = [0, 2, 11, 15, 16,17,18,19]  # 0-indices to selected keys to assign letters to\n",
    "fixed_positions2_LR = [1, 3,4,5, 6,7,8,9, 10, 12,13,14]  # 0-indices to keys with fixed letter assignments\n",
    "top_permutation2_LR, letter_permutations2_LR, scores2_LR = permute_and_optimize(keys2_LR, SpeedStrengthFlow24x24, bigrams, all_letters2_LR, move_positions2_LR, fixed_positions2_LR, ntop=10, verbose=False)"
   ]
  },
  {
   "cell_type": "markdown",
   "metadata": {},
   "source": [
    "#### Left command characters, left vowels\n",
    "\n",
    "                   -  +  O  -        -  S  +  -  Q\n",
    "                   +  I  E  A        T  N  R  +  J \n",
    "                   Z  X  C  V        +  +  +  +\n"
   ]
  },
  {
   "cell_type": "code",
   "execution_count": 33,
   "metadata": {},
   "outputs": [
    {
     "name": "stdout",
     "output_type": "stream",
     "text": [
      "Topmost of 40320 permutations: ['U' 'O' 'H' 'I' 'E' 'A' 'Z' 'X' 'C' 'V' 'S' 'M' 'T' 'N' 'R' 'L' 'D' 'F'\n",
      " 'G' 'P']\n",
      "['U', 'H', 'M', 'L', 'D', 'F', 'G', 'P'] 0.05647397914070965\n",
      "['U', 'H', 'M', 'L', 'D', 'G', 'F', 'P'] 0.056462612397720394\n",
      "['U', 'H', 'P', 'L', 'D', 'F', 'G', 'M'] 0.056458083402632316\n",
      "['U', 'H', 'F', 'L', 'D', 'M', 'G', 'P'] 0.05645166995493001\n",
      "['U', 'H', 'P', 'L', 'D', 'G', 'F', 'M'] 0.05644712676674419\n",
      "['U', 'H', 'M', 'D', 'L', 'F', 'G', 'P'] 0.05643287517439686\n",
      "['U', 'H', 'M', 'L', 'D', 'P', 'G', 'F'] 0.05643026056183178\n",
      "['U', 'H', 'P', 'L', 'D', 'M', 'G', 'F'] 0.05642874967711153\n",
      "['U', 'H', 'M', 'L', 'D', 'G', 'P', 'F'] 0.056428646181063975\n",
      "['U', 'H', 'F', 'L', 'D', 'P', 'G', 'M'] 0.056427822779170425\n"
     ]
    }
   ],
   "source": [
    "keys2_LL = [2,3, 5,6,7,8, 9,10,11,12, 14,15, 17,18,19,20, 21,22,23,24]\n",
    "all_letters2_LL = ['H','O', 'L','I','E','A', 'Z','X','C','V', 'S','D', 'T','N','R','U', 'M','F','P','G']  # all letters under consideration (move or fix in place)\n",
    "move_positions2_LL = [0, 2, 11, 15, 16,17,18,19]  # 0-indices to selected keys to assign letters to\n",
    "fixed_positions2_LL = [1, 3,4,5, 6,7,8,9, 10, 12,13,14]  # 0-indices to keys with fixed letter assignments\n",
    "top_permutation2_LL, letter_permutations2_LL, scores2_LL = permute_and_optimize(keys2_LL, SpeedStrengthFlow24x24, bigrams, all_letters2_LL, move_positions2_LL, fixed_positions2_LL, ntop=10, verbose=False)"
   ]
  },
  {
   "cell_type": "markdown",
   "metadata": {},
   "source": [
    "#### Right command characters, right vowels:\n",
    "\n",
    "                   Q  +  S  -        -  O  +  Y  Z\n",
    "                   +  R  N  T        A  E  I  C  X \n",
    "                   +  -  +  +        +  +  -  V"
   ]
  },
  {
   "cell_type": "code",
   "execution_count": 36,
   "metadata": {
    "colab": {
     "base_uri": "https://localhost:8080/",
     "height": 362
    },
    "colab_type": "code",
    "id": "A5TQRHdCCQKO",
    "outputId": "8ad62e83-c7e8-4021-f0a6-1ea1997dc82e"
   },
   "outputs": [
    {
     "name": "stdout",
     "output_type": "stream",
     "text": [
      "Topmost of 40320 permutations: ['Q' 'L' 'S' 'H' 'R' 'N' 'T' 'F' 'M' 'D' 'O' 'P' 'Y' 'A' 'E' 'I' 'C' 'U'\n",
      " 'G' 'W']\n",
      "['L', 'H', 'F', 'M', 'D', 'P', 'U', 'G'] 0.05755601477119564\n",
      "['L', 'H', 'M', 'F', 'D', 'P', 'U', 'G'] 0.057526401485417704\n",
      "['L', 'H', 'F', 'M', 'D', 'G', 'U', 'P'] 0.05749969489247233\n",
      "['M', 'H', 'P', 'F', 'L', 'U', 'D', 'G'] 0.05748737521274351\n",
      "['M', 'H', 'F', 'P', 'L', 'U', 'D', 'G'] 0.05747568093551468\n",
      "['L', 'H', 'F', 'M', 'D', 'U', 'P', 'G'] 0.05747530163301242\n",
      "['L', 'H', 'M', 'F', 'D', 'G', 'U', 'P'] 0.0574705359974366\n",
      "['F', 'H', 'P', 'M', 'L', 'U', 'D', 'G'] 0.05745319667837533\n",
      "['M', 'H', 'F', 'D', 'L', 'P', 'U', 'G'] 0.05745289954975306\n",
      "['L', 'H', 'F', 'M', 'D', 'U', 'G', 'P'] 0.05745164832723386\n"
     ]
    }
   ],
   "source": [
    "keys2_RR = [1,2,3, 5,6,7,8, 10,11,12, 14,15,16, 17,18,19,20, 21,22,24]\n",
    "all_letters2_RR = ['Q','H','S', 'L','R','N','T', 'D','U','M', 'O','F','Y', 'A','E','I','C', 'P','G','W','V']  # all letters under consideration (move or fix in place)\n",
    "move_positions2_RR = [1, 3, 7,8,9, 11, 17,18]  # 0-indices to selected keys to assign letters to\n",
    "fixed_positions2_RR = [0,2, 4,5,6, 10,12, 13,14,15,16, 19]  # 0-indices to keys with fixed letter assignments\n",
    "top_permutation2_RR, letter_permutations2_RR, scores2_RR = permute_and_optimize(keys2_RR, SpeedStrengthFlow24x24, bigrams, all_letters2_RR, move_positions2_RR, fixed_positions2_RR, ntop=10, verbose=False)"
   ]
  },
  {
   "cell_type": "markdown",
   "metadata": {},
   "source": [
    "#### Right command characters, left vowels\n",
    "\n",
    "                   Q  +  O  -        -  S  +  Y  Z\n",
    "                   +  I  E  A        T  N  R  C  X \n",
    "                   +  -  +  +        +  +  -  V"
   ]
  },
  {
   "cell_type": "code",
   "execution_count": 38,
   "metadata": {},
   "outputs": [
    {
     "name": "stdout",
     "output_type": "stream",
     "text": [
      "Topmost of 40320 permutations: ['Q' 'U' 'O' 'H' 'I' 'E' 'A' 'P' 'G' 'D' 'S' 'M' 'Y' 'T' 'N' 'R' 'C' 'L'\n",
      " 'F' 'W']\n",
      "['U', 'H', 'P', 'G', 'D', 'M', 'L', 'F'] 0.057755290519043975\n",
      "['U', 'H', 'G', 'P', 'D', 'M', 'L', 'F'] 0.05773983663939299\n",
      "['F', 'H', 'P', 'G', 'U', 'L', 'D', 'M'] 0.057731089768289154\n",
      "['U', 'H', 'P', 'G', 'D', 'L', 'M', 'F'] 0.057722886453379516\n",
      "['F', 'H', 'G', 'P', 'U', 'L', 'D', 'M'] 0.05771603341563878\n",
      "['U', 'H', 'G', 'P', 'D', 'L', 'M', 'F'] 0.057707432573728526\n",
      "['U', 'H', 'P', 'G', 'D', 'F', 'L', 'M'] 0.05770269839579956\n",
      "['U', 'H', 'G', 'P', 'D', 'F', 'L', 'M'] 0.057686790125406374\n",
      "['P', 'H', 'F', 'G', 'U', 'L', 'D', 'M'] 0.05768673889268057\n",
      "['P', 'H', 'G', 'U', 'D', 'M', 'L', 'F'] 0.05768493193758663\n"
     ]
    }
   ],
   "source": [
    "keys2_RL = [1,2,3, 5,6,7,8, 10,11,12, 14,15,16, 17,18,19,20, 21,22,24]\n",
    "all_letters2_RL = ['Q','H','O', 'L','I','E','A', 'D','U','M', 'S','F','Y', 'T','N','R','C', 'P','G','W','V']  # all letters under consideration (move or fix in place)\n",
    "move_positions2_RL = [1, 3, 7,8,9, 11, 17,18]  # 0-indices to selected keys to assign letters to\n",
    "fixed_positions2_RL = [0,2, 4,5,6, 10,12, 13,14,15,16, 19]  # 0-indices to keys with fixed letter assignments\n",
    "top_permutation2_RL, letter_permutations2_RL, scores2_RL = permute_and_optimize(keys2_RL, SpeedStrengthFlow24x24, bigrams, all_letters2_RL, move_positions2_RL, fixed_positions2_RL, ntop=10, verbose=False)"
   ]
  },
  {
   "cell_type": "markdown",
   "metadata": {},
   "source": [
    "#### Top-scoring layouts\n",
    "\n",
    "                   -  M  S  -        -  O  F  -  Q\n",
    "                   L  R  N  T        A  E  I  H  J \n",
    "                   Z  X  C  V        U  G  P  D\n",
    "\n",
    "                   -  U  O  -        -  S  M  -  Q\n",
    "                   H  I  E  A        T  N  R  L  J \n",
    "                   Z  X  C  V        D  F  G  P\n",
    "\n",
    "                   Q  L  S  -        -  O  P  Y  Z\n",
    "                   H  R  N  T        A  E  I  C  X \n",
    "                   F  -  M  D        U  G  -  V\n",
    "\n",
    "                   Q  U  O  -        -  S  M  Y  Z\n",
    "                   H  I  E  A        T  N  R  C  X \n",
    "                   P  -  G  D        L  F  -  V"
   ]
  },
  {
   "cell_type": "markdown",
   "metadata": {},
   "source": [
    "## Step 4: Optimize arrangement of all letters on the left and right <a name=\"step4\">\n",
    "    \n",
    "### Left commands, right vowels:\n",
    "\n",
    "                   -  M  S  -        -  O  F  -  Q\n",
    "                   L  R  N  T        A  E  I  H  J \n",
    "                   Z  X  C  V        U  G  P  D\n",
    "\n",
    "#### Left side:"
   ]
  },
  {
   "cell_type": "code",
   "execution_count": 40,
   "metadata": {},
   "outputs": [
    {
     "name": "stdout",
     "output_type": "stream",
     "text": [
      "Topmost of 720 permutations: ['M' 'L' 'R' 'N' 'S' 'T']\n",
      "['M', 'L', 'R', 'N', 'S', 'T'] 0.1651638729629169\n",
      "['M', 'L', 'N', 'R', 'S', 'T'] 0.16439229776097006\n",
      "['L', 'M', 'R', 'N', 'S', 'T'] 0.1642654895365051\n",
      "['L', 'M', 'N', 'R', 'S', 'T'] 0.16377094007445894\n",
      "['M', 'L', 'R', 'N', 'T', 'S'] 0.16370560719964392\n",
      "['M', 'L', 'N', 'R', 'T', 'S'] 0.1629340319976971\n",
      "['M', 'L', 'R', 'S', 'N', 'T'] 0.16273574861635798\n",
      "['M', 'R', 'N', 'L', 'S', 'T'] 0.1626865094854999\n",
      "['L', 'M', 'R', 'N', 'T', 'S'] 0.16264499408523736\n",
      "['M', 'R', 'L', 'N', 'S', 'T'] 0.1626375519777269\n"
     ]
    }
   ],
   "source": [
    "keys3_LR_L = [2,3, 5,6,7,8]\n",
    "all_letters3_LR_L = ['M','S', 'L','R','N','T']  # all letters under consideration (move or fix in place)\n",
    "move_positions3_LR_L = [0,1, 2,3,4,5]  # 0-indices to selected keys to assign letters to\n",
    "fixed_positions3_LR_L = []  # 0-indices to keys with fixed letter assignments\n",
    "top_permutation3_LR_L, letter_permutations3_LR_L, scores3_LR_L = permute_and_optimize(keys3_LR_L, SpeedStrengthFlow24x24, bigrams, all_letters3_LR_L, move_positions3_LR_L, fixed_positions3_LR_L, ntop=10, verbose=False)"
   ]
  },
  {
   "cell_type": "markdown",
   "metadata": {},
   "source": [
    "#### Right side:"
   ]
  },
  {
   "cell_type": "code",
   "execution_count": 78,
   "metadata": {},
   "outputs": [
    {
     "name": "stdout",
     "output_type": "stream",
     "text": [
      "Topmost of 362880 permutations: ['O' 'F' 'D' 'E' 'I' 'H' 'A' 'U' 'G' 'P']\n",
      "['O', 'F', 'D', 'I', 'H', 'A', 'U', 'G', 'P'] 0.05948279903842399\n",
      "['O', 'F', 'I', 'H', 'D', 'A', 'U', 'G', 'P'] 0.05945459584219863\n",
      "['O', 'F', 'D', 'I', 'H', 'A', 'G', 'U', 'P'] 0.0594178538349773\n",
      "['O', 'F', 'D', 'I', 'H', 'A', 'U', 'P', 'G'] 0.05939739522598691\n",
      "['O', 'F', 'I', 'H', 'D', 'A', 'U', 'P', 'G'] 0.05938965831085997\n",
      "['O', 'F', 'D', 'H', 'I', 'A', 'U', 'G', 'P'] 0.059384130423447055\n",
      "['O', 'F', 'D', 'I', 'H', 'A', 'G', 'P', 'U'] 0.059347746040175585\n",
      "['I', 'G', 'A', 'H', 'D', 'O', 'U', 'P', 'F'] 0.05931868775082662\n",
      "['I', 'F', 'O', 'H', 'D', 'A', 'U', 'G', 'P'] 0.05931827814767703\n",
      "['O', 'F', 'D', 'I', 'H', 'A', 'P', 'G', 'U'] 0.05931083514314058\n"
     ]
    }
   ],
   "source": [
    "keys3_LR_R = [14,15, 17,18,19,20, 21,22,23,24]\n",
    "all_letters3_LR_R = ['O','F', 'A','E','I','H', 'U','G','P','D']  # all letters under consideration (move or fix in place)\n",
    "move_positions3_LR_R = [0,1, 2,4,5, 6,7,8,9]  # 0-indices to selected keys to assign letters to\n",
    "fixed_positions3_LR_R = [3]  # 0-indices to keys with fixed letter assignments\n",
    "top_permutation3_LR_R, letter_permutations3_LR_R, scores3_LR_R = permute_and_optimize(keys3_LR_R, SpeedStrengthFlow24x24, bigrams, all_letters3_LR_R, move_positions3_LR_R, fixed_positions3_LR_R, ntop=10, verbose=False)"
   ]
  },
  {
   "cell_type": "markdown",
   "metadata": {},
   "source": [
    "#### Combine left and right sides for left commands / right vowels\n",
    "\n",
    "Place Y, K, B, W in open spots to optimize layout of other letters:\n",
    "\n",
    "                   Y* M  S  K*       B* O  F  W* Q\n",
    "                   L  R  N  T        A  E  I  H  J \n",
    "                   Z  X  C  V        U  G  P  D\n"
   ]
  },
  {
   "cell_type": "code",
   "execution_count": 81,
   "metadata": {},
   "outputs": [
    {
     "name": "stdout",
     "output_type": "stream",
     "text": [
      "Topmost of 10000 permutations: 0.0421854410139796\n",
      "['Y', 'M', 'L', 'K', 'R', 'S', 'N', 'T', 'Z', 'X', 'C', 'V', 'B', 'O', 'F', 'W', 'A', 'E', 'I', 'H', 'D', 'U', 'G', 'P'])\n",
      "Topmost of 10000 permutations: 0.042136726981556\n",
      "['Y', 'F', 'L', 'K', 'R', 'S', 'N', 'T', 'Z', 'X', 'C', 'V', 'B', 'O', 'P', 'W', 'A', 'E', 'I', 'H', 'D', 'U', 'G', 'M'])\n",
      "Topmost of 10000 permutations: 0.041991045395782606\n",
      "['Y', 'M', 'D', 'K', 'S', 'N', 'T', 'R', 'Z', 'X', 'C', 'V', 'B', 'I', 'U', 'W', 'A', 'E', 'H', 'L', 'O', 'F', 'G', 'P'])\n"
     ]
    }
   ],
   "source": [
    "ntop=100\n",
    "verbose=False\n",
    "letter_permutations_left = letter_permutations3_LR_L\n",
    "scores_permutations_left = scores3_LR_L\n",
    "letter_permutations_right = letter_permutations3_LR_R\n",
    "scores_permutations_right = scores3_LR_R\n",
    "move_positions_left = [1,2, 4,5,6,7]\n",
    "fixed_positions_left = [0,3, 8,9,10,11]\n",
    "fixed_letters_left = ['Y','K', 'Z','X','C','V']\n",
    "move_positions_right = [1,2, 4,6,7, 8,9,10,11]\n",
    "fixed_positions_right = [0,3, 5]\n",
    "fixed_letters_right = ['B','W', 'E']\n",
    "top_permutation_LR, top_score_LR, scores_LR = optimize_full_layout_with_left_right_top_scores(SpeedStrengthFlow24x24, bigrams, letter_permutations_left, scores_permutations_left, move_positions_left, fixed_letters_left, fixed_positions_left, letter_permutations_right, scores_permutations_right, move_positions_right, fixed_letters_right, fixed_positions_right, ntop, verbose)"
   ]
  },
  {
   "cell_type": "markdown",
   "metadata": {},
   "source": [
    "Output:\n",
    "\n",
    "    Topmost of 10000 permutations: 0.0421854410139796\n",
    "    ['Y', 'M', 'L', 'K', 'R', 'S', 'N', 'T', 'Z', 'X', 'C', 'V', 'B', 'O', 'F', 'W', 'A', 'E', 'I', 'H', 'D', 'U', 'G', 'P'])\n",
    "    Topmost of 10000 permutations: 0.042136726981556\n",
    "    ['Y', 'F', 'L', 'K', 'R', 'S', 'N', 'T', 'Z', 'X', 'C', 'V', 'B', 'O', 'P', 'W', 'A', 'E', 'I', 'H', 'D', 'U', 'G', 'M'])\n",
    "    Topmost of 10000 permutations: 0.041991045395782606\n",
    "    ['Y', 'M', 'D', 'K', 'S', 'N', 'T', 'R', 'Z', 'X', 'C', 'V', 'B', 'I', 'U', 'W', 'A', 'E', 'H', 'L', 'O', 'F', 'G', 'P'])\n",
    "    \n",
    "#### Optimize arrangement of the least frequent letters in the top-scoring layout"
   ]
  },
  {
   "cell_type": "code",
   "execution_count": 88,
   "metadata": {},
   "outputs": [
    {
     "name": "stdout",
     "output_type": "stream",
     "text": [
      "Topmost of 24 permutations: ['B' 'M' 'L' 'W' 'R' 'S' 'N' 'T' 'Z' 'X' 'C' 'V' 'Y' 'O' 'F' 'K' 'A' 'E'\n",
      " 'I' 'H' 'D' 'U' 'G' 'P']\n",
      "['B', 'W', 'Y', 'K'] 0.04235313151961251\n",
      "['W', 'B', 'Y', 'K'] 0.04234931823341862\n",
      "['B', 'W', 'K', 'Y'] 0.042326873306453364\n",
      "['W', 'B', 'K', 'Y'] 0.04232306002025948\n",
      "['K', 'W', 'Y', 'B'] 0.04230952943631764\n",
      "['K', 'B', 'Y', 'W'] 0.04230005394844185\n",
      "['W', 'K', 'Y', 'B'] 0.042292669239400685\n",
      "['W', 'Y', 'K', 'B'] 0.04229181819176867\n",
      "['B', 'K', 'Y', 'W'] 0.04228704283962558\n",
      "['B', 'Y', 'K', 'W'] 0.0422860442304103\n"
     ]
    }
   ],
   "source": [
    "keys24 = [1,2,3,4, 5,6,7,8, 9,10,11,12, 13,14,15,16, 17,18,19,20, 21,22,23,24]\n",
    "all_letters4_LR = ['Y','M','L','K', 'R','S','N','T', 'Z','X','C','V', 'B','O','F','W', 'A','E','I','H', 'D','U','G','P']\n",
    "move_positions4_LR = [0,3, 12,15]\n",
    "fixed_positions4_LR = [1,2, 4,5,6,7, 8,9,10,11, 13,14, 16,17,18,19, 20,21,22,23]  # 0-indices to keys with fixed letter assignments\n",
    "top_permutation4_LR, letter_permutations4_LR, scores4_LR = permute_and_optimize(keys24, SpeedStrengthFlow24x24, bigrams, all_letters4_LR, move_positions4_LR, fixed_positions4_LR, ntop=10, verbose=False)"
   ]
  },
  {
   "cell_type": "markdown",
   "metadata": {},
   "source": [
    "#### Optimize arrangement of Z,X,C,V in resulting layout\n",
    "\n",
    "    Topmost of 24 permutations: \n",
    "    ['B' 'M' 'L' 'W' 'R' 'S' 'N' 'T' 'Z' 'X' 'C' 'V' 'Y' 'O' 'F' 'K' 'A' 'E' 'I' 'H' 'D' 'U' 'G' 'P']\n",
    "    ['B', 'W', 'Y', 'K'] 0.04235313151961251"
   ]
  },
  {
   "cell_type": "code",
   "execution_count": 89,
   "metadata": {},
   "outputs": [
    {
     "name": "stdout",
     "output_type": "stream",
     "text": [
      "Topmost of 24 permutations: ['B' 'M' 'L' 'W' 'R' 'S' 'N' 'T' 'V' 'Z' 'X' 'C' 'Y' 'O' 'F' 'K' 'A' 'E'\n",
      " 'I' 'H' 'D' 'U' 'G' 'P']\n",
      "['V', 'Z', 'X', 'C'] 0.042595494315931\n",
      "['V', 'X', 'Z', 'C'] 0.04259204382825718\n",
      "['X', 'Z', 'V', 'C'] 0.042558306680709555\n",
      "['Z', 'X', 'V', 'C'] 0.042546113820650815\n",
      "['X', 'V', 'Z', 'C'] 0.04252836803424828\n",
      "['C', 'Z', 'X', 'V'] 0.04252079737103899\n",
      "['Z', 'V', 'X', 'C'] 0.042519566343202274\n",
      "['C', 'X', 'Z', 'V'] 0.04251737958204827\n",
      "['C', 'Z', 'V', 'X'] 0.042441578392181434\n",
      "['C', 'X', 'V', 'Z'] 0.04242579132233767\n"
     ]
    }
   ],
   "source": [
    "keys24 = [1,2,3,4, 5,6,7,8, 9,10,11,12, 13,14,15,16, 17,18,19,20, 21,22,23,24]\n",
    "all_letters4_LR_ZXCV = ['B','M','L','W', 'R','S','N','T', 'Z','X','C','V', 'Y','O','F','K', 'A','E','I','H', 'D','U','G','P']\n",
    "move_positions4_LR_ZXCV = [8,9,10,11]\n",
    "fixed_positions4_LR_ZXCV = [0,1,2,3, 4,5,6,7, 12,13,14,15, 16,17,18,19, 20,21,22,23]  # 0-indices to keys with fixed letter assignments\n",
    "top_permutation4_LR_ZXCV, letter_permutations4_LR_ZXCV, scores4_LR_ZXCV = permute_and_optimize(keys24, SpeedStrengthFlow24x24, bigrams, all_letters4_LR_ZXCV, move_positions4_LR_ZXCV, fixed_positions4_LR_ZXCV, ntop=10, verbose=False)"
   ]
  },
  {
   "cell_type": "markdown",
   "metadata": {},
   "source": [
    "#### Top left/right layout\n",
    "\n",
    "    Topmost of 24 permutations: \n",
    "    ['B' 'M' 'L' 'W' 'R' 'S' 'N' 'T' 'V' 'Z' 'X' 'C' 'Y' 'O' 'F' 'K' 'A' 'E' 'I' 'H' 'D' 'U' 'G' 'P']\n",
    "    ['V', 'Z', 'X', 'C'] 0.042595494315931\n",
    "\n",
    "                   B  M  L  W        Y  O  F  K  Q\n",
    "                   R  S  N  T        A  E  I  H  J \n",
    "                   V  Z  X  C        D  U  G  P"
   ]
  },
  {
   "cell_type": "markdown",
   "metadata": {},
   "source": [
    "### Left commands, left vowels:\n",
    "\n",
    "                   -  U  O  -        -  S  M  -  Q\n",
    "                   H  I  E  A        T  N  R  L  J \n",
    "                   Z  X  C  V        D  F  G  P\n",
    "               \n",
    "#### Left side:"
   ]
  },
  {
   "cell_type": "code",
   "execution_count": 53,
   "metadata": {},
   "outputs": [
    {
     "name": "stdout",
     "output_type": "stream",
     "text": [
      "Topmost of 720 permutations: ['U' 'O' 'H' 'I' 'E' 'A']\n",
      "['U', 'O', 'H', 'I', 'E', 'A'] 0.08539155160506195\n",
      "['U', 'O', 'I', 'H', 'E', 'A'] 0.08510452743976268\n",
      "['O', 'U', 'I', 'H', 'E', 'A'] 0.08506349907893002\n",
      "['O', 'U', 'H', 'I', 'E', 'A'] 0.08504175994929969\n",
      "['U', 'O', 'H', 'I', 'A', 'E'] 0.08446924354411305\n",
      "['O', 'U', 'H', 'A', 'E', 'I'] 0.08443566524163071\n",
      "['U', 'A', 'H', 'I', 'E', 'O'] 0.08440839195179674\n",
      "['U', 'I', 'O', 'H', 'E', 'A'] 0.08438366891069034\n",
      "['U', 'A', 'O', 'H', 'E', 'I'] 0.08434701536999947\n",
      "['O', 'U', 'I', 'H', 'A', 'E'] 0.08425223855433134\n"
     ]
    }
   ],
   "source": [
    "keys3_LL_L = [2,3, 5,6,7,8]\n",
    "all_letters3_LL_L = ['U','O', 'H','I','E','A']  # all letters under consideration (move or fix in place)\n",
    "move_positions3_LL_L = [0,1, 2,3,4,5]  # 0-indices to selected keys to assign letters to\n",
    "fixed_positions3_LL_L = []  # 0-indices to keys with fixed letter assignments\n",
    "top_permutation3_LL_L, letter_permutations3_LL_L, scores3_LL_L = permute_and_optimize(keys3_LL_L, SpeedStrengthFlow24x24, bigrams, all_letters3_LL_L, move_positions3_LL_L, fixed_positions3_LL_L, ntop=10, verbose=False)"
   ]
  },
  {
   "cell_type": "markdown",
   "metadata": {},
   "source": [
    "#### Right side:"
   ]
  },
  {
   "cell_type": "code",
   "execution_count": 82,
   "metadata": {},
   "outputs": [
    {
     "name": "stdout",
     "output_type": "stream",
     "text": [
      "Topmost of 362880 permutations: ['D' 'G' 'T' 'S' 'R' 'N' 'L' 'M' 'F' 'P']\n",
      "['D', 'G', 'S', 'R', 'N', 'L', 'M', 'F', 'P'] 0.08058799750493228\n",
      "['L', 'G', 'S', 'R', 'N', 'D', 'M', 'F', 'P'] 0.08055900001156051\n",
      "['D', 'G', 'S', 'R', 'N', 'L', 'F', 'M', 'P'] 0.08051295932662204\n",
      "['D', 'L', 'S', 'R', 'N', 'G', 'M', 'F', 'P'] 0.08045899674163183\n",
      "['L', 'G', 'S', 'R', 'N', 'D', 'F', 'M', 'P'] 0.08044936842882697\n",
      "['G', 'D', 'S', 'R', 'N', 'L', 'M', 'F', 'P'] 0.08041570868597211\n",
      "['D', 'L', 'S', 'N', 'R', 'G', 'F', 'M', 'P'] 0.08039586103329369\n",
      "['D', 'L', 'S', 'N', 'R', 'G', 'M', 'F', 'P'] 0.08038835685413752\n",
      "['R', 'G', 'S', 'D', 'N', 'L', 'M', 'F', 'P'] 0.08038667265028764\n",
      "['L', 'D', 'S', 'R', 'N', 'G', 'M', 'F', 'P'] 0.08036969261760138\n"
     ]
    }
   ],
   "source": [
    "keys3_LL_R = [14,15, 17,18,19,20, 21,22,23,24]\n",
    "all_letters3_LL_R = ['S','M', 'T','N','R','L', 'D','F','G','P']  # all letters under consideration (move or fix in place)\n",
    "move_positions3_LL_R = [0,1, 3,4,5, 6,7,8,9]  # 0-indices to selected keys to assign letters to\n",
    "fixed_positions3_LL_R = [2]  # 0-indices to keys with fixed letter assignments\n",
    "top_permutation3_LL_R, letter_permutations3_LL_R, scores3_LL_R = permute_and_optimize(keys3_LL_R, SpeedStrengthFlow24x24, bigrams, all_letters3_LL_R, move_positions3_LL_R, fixed_positions3_LL_R, ntop=10, verbose=False)"
   ]
  },
  {
   "cell_type": "markdown",
   "metadata": {},
   "source": [
    "#### Combine left and right sides for left commands / left vowels\n",
    "\n",
    "Place Y, K, B, W in open spots to optimize layout of other letters:\n",
    "\n",
    "                   Y* U  O  K*       B* S  M  W* Q\n",
    "                   H  I  E  A        T  N  R  L  J \n",
    "                   Z  X  C  V        D  F  G  P"
   ]
  },
  {
   "cell_type": "code",
   "execution_count": 86,
   "metadata": {},
   "outputs": [
    {
     "name": "stdout",
     "output_type": "stream",
     "text": [
      "Topmost of 10000 permutations: 0.04226340049553633\n",
      "['Y', 'U', 'O', 'K', 'H', 'I', 'E', 'A', 'Z', 'X', 'C', 'V', 'B', 'L', 'G', 'W', 'T', 'R', 'S', 'N', 'D', 'M', 'F', 'P'])\n"
     ]
    }
   ],
   "source": [
    "ntop=100\n",
    "verbose=False\n",
    "letter_permutations_left = letter_permutations3_LL_L\n",
    "scores_permutations_left = scores3_LL_L\n",
    "letter_permutations_right = letter_permutations3_LL_R\n",
    "scores_permutations_right = scores3_LL_R\n",
    "move_positions_left = [1,2, 4,5,6,7]\n",
    "fixed_positions_left = [0,3, 8,9,10,11]\n",
    "fixed_letters_left = ['Y','K', 'Z','X','C','V']\n",
    "move_positions_right = [1,2, 5,6,7, 8,9,10,11]\n",
    "fixed_positions_right = [0,3, 4]\n",
    "fixed_letters_right = ['B','W', 'T']\n",
    "top_permutation_LL, top_score_LL, scores_LL = optimize_full_layout_with_left_right_top_scores(SpeedStrengthFlow24x24, bigrams, letter_permutations_left, scores_permutations_left, move_positions_left, fixed_letters_left, fixed_positions_left, letter_permutations_right, scores_permutations_right, move_positions_right, fixed_letters_right, fixed_positions_right, ntop, verbose)"
   ]
  },
  {
   "cell_type": "markdown",
   "metadata": {},
   "source": [
    "#### Optimize arrangement of the least frequent letters in the top-scoring layout"
   ]
  },
  {
   "cell_type": "code",
   "execution_count": 91,
   "metadata": {},
   "outputs": [
    {
     "name": "stdout",
     "output_type": "stream",
     "text": [
      "Topmost of 24 permutations: ['K' 'U' 'O' 'Y' 'H' 'I' 'E' 'A' 'Z' 'X' 'C' 'V' 'W' 'L' 'G' 'B' 'T' 'R'\n",
      " 'S' 'N' 'D' 'M' 'F' 'P']\n",
      "['K', 'Y', 'W', 'B'] 0.04230136085759886\n",
      "['B', 'Y', 'W', 'K'] 0.04228898453776422\n",
      "['K', 'Y', 'B', 'W'] 0.042286989632037524\n",
      "['Y', 'K', 'W', 'B'] 0.042277771721097666\n",
      "['B', 'Y', 'K', 'W'] 0.04227010555613585\n",
      "['Y', 'K', 'B', 'W'] 0.04226340049553633\n",
      "['W', 'Y', 'B', 'K'] 0.042256180478831035\n",
      "['W', 'Y', 'K', 'B'] 0.0422517085246708\n",
      "['Y', 'B', 'W', 'K'] 0.042249422315788904\n",
      "['B', 'K', 'Y', 'W'] 0.04223789452002668\n"
     ]
    }
   ],
   "source": [
    "keys24 = [1,2,3,4, 5,6,7,8, 9,10,11,12, 13,14,15,16, 17,18,19,20, 21,22,23,24]\n",
    "all_letters4_LL = ['Y','U','O','K', 'H','I','E','A', 'Z','X','C','V', 'B','L','G','W', 'T','R','S','N', 'D','M','F','P']\n",
    "move_positions4_LL = [0,3, 12,15]\n",
    "fixed_positions4_LL = [1,2, 4,5,6,7, 8,9,10,11, 13,14, 16,17,18,19, 20,21,22,23]  # 0-indices to keys with fixed letter assignments\n",
    "top_permutation4_LL, letter_permutations4_LL, scores4_LL = permute_and_optimize(keys24, SpeedStrengthFlow24x24, bigrams, all_letters4_LL, move_positions4_LL, fixed_positions4_LL, ntop=10, verbose=False)"
   ]
  },
  {
   "cell_type": "markdown",
   "metadata": {},
   "source": [
    "#### Optimize arrangement of Z,X,C,V in resulting layout\n",
    "\n",
    "    Topmost of 24 permutations: \n",
    "    ['K' 'U' 'O' 'Y' 'H' 'I' 'E' 'A' 'Z' 'X' 'C' 'V' 'W' 'L' 'G' 'B' 'T' 'R' 'S' 'N' 'D' 'M' 'F' 'P']\n",
    "    ['K', 'Y', 'W', 'B'] 0.04230136085759886"
   ]
  },
  {
   "cell_type": "code",
   "execution_count": 93,
   "metadata": {},
   "outputs": [
    {
     "name": "stdout",
     "output_type": "stream",
     "text": [
      "Topmost of 24 permutations: ['K' 'U' 'O' 'Y' 'H' 'I' 'E' 'A' 'V' 'Z' 'X' 'C' 'W' 'L' 'G' 'B' 'T' 'R'\n",
      " 'S' 'N' 'D' 'M' 'F' 'P']\n",
      "['V', 'Z', 'X', 'C'] 0.04263028029744371\n",
      "['V', 'X', 'Z', 'C'] 0.04262621629711719\n",
      "['C', 'Z', 'X', 'V'] 0.04256777710333201\n",
      "['C', 'X', 'Z', 'V'] 0.04256374580168862\n",
      "['X', 'V', 'Z', 'C'] 0.04255038653414093\n",
      "['Z', 'V', 'X', 'C'] 0.04254233653795026\n",
      "['X', 'Z', 'V', 'C'] 0.04252975181616877\n",
      "['Z', 'X', 'V', 'C'] 0.04251769713831269\n",
      "['C', 'V', 'Z', 'X'] 0.042488427111653154\n",
      "['C', 'Z', 'V', 'X'] 0.04246778901002632\n"
     ]
    }
   ],
   "source": [
    "keys24 = [1,2,3,4, 5,6,7,8, 9,10,11,12, 13,14,15,16, 17,18,19,20, 21,22,23,24]\n",
    "all_letters4_LL_ZXCV = ['K','U','O','Y', 'H','I','E','A', 'Z','X','C','V', 'W','L','G','B', 'T','R','S','N', 'D','M','F','P']\n",
    "move_positions4_LL_ZXCV = [8,9,10,11]\n",
    "fixed_positions4_LL_ZXCV = [0,1,2,3, 4,5,6,7, 12,13,14,15, 16,17,18,19, 20,21,22,23]  # 0-indices to keys with fixed letter assignments\n",
    "top_permutation4_LL_ZXCV, letter_permutations4_LL_ZXCV, scores4_LL_ZXCV = permute_and_optimize(keys24, SpeedStrengthFlow24x24, bigrams, all_letters4_LL_ZXCV, move_positions4_LL_ZXCV, fixed_positions4_LL_ZXCV, ntop=10, verbose=False)"
   ]
  },
  {
   "cell_type": "markdown",
   "metadata": {},
   "source": [
    "#### Top left/left layout\n",
    "\n",
    "    Topmost of 24 permutations: \n",
    "    ['K' 'U' 'O' 'Y' 'H' 'I' 'E' 'A' 'V' 'Z' 'X' 'C' 'W' 'L' 'G' 'B' 'T' 'R' 'S' 'N' 'D' 'M' 'F' 'P']\n",
    "    ['V', 'Z', 'X', 'C'] 0.04263028029744371\n",
    "    \n",
    "                   K  U  O  Y        W  L  G  B  Q\n",
    "                   H  I  E  A        T  R  S  N  J \n",
    "                   V  Z  X  C        D  M  F  P"
   ]
  },
  {
   "cell_type": "markdown",
   "metadata": {},
   "source": [
    "### Right commands, right vowels:\n",
    "\n",
    "                   Q  L  S  -        -  O  P  Y  Z\n",
    "                   H  R  N  T        A  E  I  C  X \n",
    "                   F  -  M  D        U  G  -  V\n",
    "             \n",
    "#### Left side:"
   ]
  },
  {
   "cell_type": "code",
   "execution_count": 84,
   "metadata": {},
   "outputs": [
    {
     "name": "stdout",
     "output_type": "stream",
     "text": [
      "Topmost of 362880 permutations: ['Q' 'F' 'L' 'N' 'S' 'T' 'H' 'R' 'M' 'D']\n",
      "['F', 'L', 'N', 'S', 'T', 'H', 'R', 'M', 'D'] 0.034730946160738796\n",
      "['L', 'D', 'N', 'S', 'T', 'H', 'F', 'M', 'R'] 0.034698307283392876\n",
      "['M', 'L', 'N', 'S', 'T', 'H', 'R', 'F', 'D'] 0.03468951214973294\n",
      "['L', 'D', 'N', 'S', 'T', 'H', 'M', 'F', 'R'] 0.034678250482088606\n",
      "['D', 'L', 'N', 'S', 'T', 'H', 'F', 'M', 'R'] 0.034678204890057344\n",
      "['F', 'L', 'R', 'S', 'T', 'H', 'N', 'M', 'D'] 0.03467320774075653\n",
      "['D', 'L', 'N', 'S', 'T', 'H', 'M', 'F', 'R'] 0.034667777619132166\n",
      "['M', 'D', 'N', 'S', 'T', 'H', 'R', 'F', 'L'] 0.03466086082083703\n",
      "['L', 'D', 'N', 'S', 'T', 'H', 'R', 'M', 'F'] 0.03465462319307794\n",
      "['F', 'D', 'N', 'S', 'T', 'H', 'R', 'M', 'L'] 0.03464181664252374\n"
     ]
    }
   ],
   "source": [
    "keys3_RR_L = [1,2,3, 5,6,7,8, 9,11,12]\n",
    "all_letters3_RR_L = ['Q','L','S', 'H','R','N','T', 'F','M','D']  # all letters under consideration (move or fix in place)\n",
    "move_positions3_RR_L = [1,2, 3,4,5,6, 7,8,9]  # 0-indices to selected keys to assign letters to\n",
    "fixed_positions3_RR_L = [0]  # 0-indices to keys with fixed letter assignments\n",
    "top_permutation3_RR_L, letter_permutations3_RR_L, scores3_RR_L = permute_and_optimize(keys3_RR_L, SpeedStrengthFlow24x24, bigrams, all_letters3_RR_L, move_positions3_RR_L, fixed_positions3_RR_L, ntop=10, verbose=False)"
   ]
  },
  {
   "cell_type": "markdown",
   "metadata": {},
   "source": [
    "#### Right side:"
   ]
  },
  {
   "cell_type": "code",
   "execution_count": 96,
   "metadata": {
    "colab": {
     "base_uri": "https://localhost:8080/",
     "height": 207
    },
    "colab_type": "code",
    "id": "1PE99eARDzS2",
    "outputId": "8fe3a936-27bd-45b1-eb5f-dc7e57c24324"
   },
   "outputs": [
    {
     "name": "stdout",
     "output_type": "stream",
     "text": [
      "Topmost of 5040 permutations: ['O' 'P' 'Y' 'A' 'E' 'I' 'C' 'U' 'G' 'V']\n",
      "['O', 'P', 'A', 'E', 'I', 'U', 'G'] 0.15876209940642608\n",
      "['P', 'U', 'O', 'E', 'I', 'A', 'G'] 0.1585669964339982\n",
      "['A', 'P', 'E', 'O', 'I', 'U', 'G'] 0.15850680167268233\n",
      "['U', 'P', 'O', 'E', 'I', 'A', 'G'] 0.15828982251872625\n",
      "['O', 'P', 'E', 'A', 'I', 'U', 'G'] 0.15807347477908162\n",
      "['O', 'U', 'A', 'E', 'I', 'P', 'G'] 0.15799439869619514\n",
      "['P', 'U', 'A', 'E', 'I', 'O', 'G'] 0.1579426065438477\n",
      "['E', 'P', 'A', 'O', 'I', 'U', 'G'] 0.15787674385174463\n",
      "['O', 'P', 'A', 'E', 'I', 'G', 'U'] 0.1578724153494835\n",
      "['G', 'U', 'O', 'E', 'I', 'A', 'P'] 0.1578134747642183\n"
     ]
    }
   ],
   "source": [
    "keys3_RR_R = [14,15,16, 17,18,19,20, 21,22,24]\n",
    "all_letters3_RR_R = ['O','P','Y', 'A','E','I','C', 'U','G','V']  # all letters under consideration (move or fix in place)\n",
    "move_positions3_RR_R = [0,1, 3,4,5, 7,8]  # 0-indices to selected keys to assign letters to\n",
    "fixed_positions3_RR_R = [2, 6, 9]  # 0-indices to keys with fixed letter assignments\n",
    "top_permutation3_RR_R, letter_permutations3_RR_R, scores3_RR_R = permute_and_optimize(keys3_RR_R, SpeedStrengthFlow24x24, bigrams, all_letters3_RR_R, move_positions3_RR_R, fixed_positions3_RR_R, ntop=10, verbose=False)"
   ]
  },
  {
   "cell_type": "markdown",
   "metadata": {},
   "source": [
    "#### Combine left and right sides for right commands / right vowels\n",
    "\n",
    "Place W, K, J, B in open spots to optimize layout of other letters:\n",
    "\n",
    "                   Q  L  S  W*       J* O  P  Y  Z\n",
    "                   H  R  N  T        A  E  I  C  X \n",
    "                   F  K* M  D        U  G  B* V"
   ]
  },
  {
   "cell_type": "code",
   "execution_count": 99,
   "metadata": {},
   "outputs": [
    {
     "name": "stdout",
     "output_type": "stream",
     "text": [
      "Topmost of 10000 permutations: 0.04248860225953034\n",
      "['Q', 'D', 'L', 'W', 'N', 'S', 'T', 'H', 'M', 'K', 'F', 'R', 'J', 'O', 'P', 'Y', 'A', 'E', 'I', 'C', 'U', 'G', 'B', 'V'])\n",
      "Topmost of 10000 permutations: 0.04242873990188859\n",
      "['Q', 'D', 'L', 'W', 'N', 'S', 'T', 'H', 'M', 'K', 'P', 'R', 'J', 'O', 'F', 'Y', 'A', 'E', 'I', 'C', 'U', 'G', 'B', 'V'])\n",
      "Topmost of 10000 permutations: 0.0423948444158682\n",
      "['Q', 'M', 'L', 'W', 'S', 'N', 'T', 'H', 'U', 'K', 'F', 'R', 'J', 'O', 'P', 'Y', 'A', 'E', 'I', 'C', 'D', 'G', 'B', 'V'])\n"
     ]
    }
   ],
   "source": [
    "ntop=100\n",
    "verbose=False\n",
    "letter_permutations_left = letter_permutations3_RR_L\n",
    "scores_permutations_left = scores3_RR_L\n",
    "letter_permutations_right = letter_permutations3_RR_R\n",
    "scores_permutations_right = scores3_RR_R\n",
    "move_positions_left = [1,2, 4,5,6,7, 8,10,11]\n",
    "fixed_positions_left = [0,3, 9]\n",
    "fixed_letters_left = ['Q','W', 'K']\n",
    "move_positions_right = [1,2, 4,5,6, 8,9]\n",
    "fixed_positions_right = [0,3, 7, 10,11]\n",
    "fixed_letters_right = ['J','Y', 'C', 'B','V']\n",
    "top_permutation_RR, top_score_RR, scores_RR = optimize_full_layout_with_left_right_top_scores(SpeedStrengthFlow24x24, bigrams, letter_permutations_left, scores_permutations_left, move_positions_left, fixed_letters_left, fixed_positions_left, letter_permutations_right, scores_permutations_right, move_positions_right, fixed_letters_right, fixed_positions_right, ntop, verbose)"
   ]
  },
  {
   "cell_type": "markdown",
   "metadata": {},
   "source": [
    "#### Optimize arrangement of the least frequent letters in the top-scoring layout"
   ]
  },
  {
   "cell_type": "code",
   "execution_count": 100,
   "metadata": {},
   "outputs": [
    {
     "name": "stdout",
     "output_type": "stream",
     "text": [
      "Topmost of 24 permutations: ['Q' 'D' 'L' 'W' 'N' 'S' 'T' 'H' 'M' 'K' 'F' 'R' 'Y' 'O' 'P' 'J' 'A' 'E'\n",
      " 'I' 'C' 'U' 'G' 'B' 'V']\n",
      "['Q', 'W', 'Y', 'J'] 0.04252868752198951\n",
      "['J', 'W', 'Y', 'Q'] 0.04252551092210074\n",
      "['W', 'Q', 'Y', 'J'] 0.04250646970268389\n",
      "['W', 'J', 'Y', 'Q'] 0.042503513930334476\n",
      "['W', 'Y', 'Q', 'J'] 0.04249166003628294\n",
      "['W', 'Y', 'J', 'Q'] 0.04248872395355332\n",
      "['Q', 'W', 'J', 'Y'] 0.04248860225953034\n",
      "['J', 'W', 'Q', 'Y'] 0.04248836314378131\n",
      "['Q', 'J', 'Y', 'W'] 0.04248458598621273\n",
      "['J', 'Q', 'Y', 'W'] 0.04248436477247928\n"
     ]
    }
   ],
   "source": [
    "keys24 = [1,2,3,4, 5,6,7,8, 9,10,11,12, 13,14,15,16, 17,18,19,20, 21,22,23,24]\n",
    "all_letters4_RR = ['Q', 'D', 'L', 'W', 'N', 'S', 'T', 'H', 'M', 'K', 'F', 'R', 'J', 'O', 'P', 'Y', 'A', 'E', 'I', 'C', 'U', 'G', 'B', 'V']\n",
    "move_positions4_RR = [0,3, 12,15]\n",
    "fixed_positions4_RR = [1,2, 4,5,6,7, 8,9,10,11, 13,14, 16,17,18,19, 20,21,22,23]  # 0-indices to keys with fixed letter assignments\n",
    "top_permutation4_RR, letter_permutations4_RR, scores4_RR = permute_and_optimize(keys24, SpeedStrengthFlow24x24, bigrams, all_letters4_RR, move_positions4_RR, fixed_positions4_RR, ntop=10, verbose=False)"
   ]
  },
  {
   "cell_type": "markdown",
   "metadata": {},
   "source": [
    "#### Top right/right layout\n",
    "\n",
    "    Topmost of 24 permutations: \n",
    "    ['Q' 'D' 'L' 'W' 'N' 'S' 'T' 'H' 'M' 'K' 'F' 'R' 'Y' 'O' 'P' 'J' 'A' 'E' 'I' 'C' 'U' 'G' 'B' 'V']\n",
    "    ['Q', 'W', 'Y', 'J'] 0.04252868752198951\n",
    "    \n",
    "                   Q  D  L  W        Y  O  P  J  Z\n",
    "                   N  S  T  H        A  E  I  C  X \n",
    "                   M  K  F  R        U  G  B  V"
   ]
  },
  {
   "cell_type": "markdown",
   "metadata": {},
   "source": [
    "### Right commands, left vowels:\n",
    "\n",
    "                   Q  U  O  -        -  S  M  Y  Z\n",
    "                   H  I  E  A        T  N  R  C  X \n",
    "                   P  -  G  D        L  F  -  V\n",
    "                   \n",
    "#### Left side:"
   ]
  },
  {
   "cell_type": "code",
   "execution_count": 102,
   "metadata": {},
   "outputs": [
    {
     "name": "stdout",
     "output_type": "stream",
     "text": [
      "Topmost of 362880 permutations: ['Q' 'U' 'O' 'H' 'I' 'E' 'D' 'P' 'G' 'A']\n",
      "['U', 'O', 'H', 'I', 'E', 'D', 'P', 'G', 'A'] 0.052684088792646654\n",
      "['G', 'I', 'D', 'H', 'E', 'A', 'P', 'U', 'O'] 0.052598976483746986\n",
      "['U', 'O', 'H', 'I', 'E', 'D', 'G', 'P', 'A'] 0.052553803311303444\n",
      "['U', 'O', 'I', 'H', 'E', 'D', 'P', 'G', 'A'] 0.05254204973974178\n",
      "['O', 'U', 'H', 'I', 'E', 'D', 'P', 'G', 'A'] 0.05251631265507524\n",
      "['P', 'A', 'D', 'H', 'I', 'E', 'G', 'U', 'O'] 0.05249632907826597\n",
      "['O', 'U', 'I', 'H', 'E', 'D', 'P', 'G', 'A'] 0.052485428388345017\n",
      "['P', 'O', 'H', 'I', 'E', 'D', 'G', 'U', 'A'] 0.05246659969027046\n",
      "['P', 'I', 'D', 'H', 'E', 'A', 'G', 'U', 'O'] 0.052457697048159814\n",
      "['G', 'A', 'H', 'I', 'E', 'D', 'P', 'U', 'O'] 0.052452255091635466\n"
     ]
    }
   ],
   "source": [
    "keys3_RL_L = [1,2,3, 5,6,7,8, 9,11,12]\n",
    "all_letters3_RL_L = ['Q','U','O', 'H','I','E','A', 'P','G','D']  # all letters under consideration (move or fix in place)\n",
    "move_positions3_RL_L = [1,2, 3,4,5,6, 7,8,9]  # 0-indices to selected keys to assign letters to\n",
    "fixed_positions3_RL_L = [0]  # 0-indices to keys with fixed letter assignments\n",
    "top_permutation3_RL_L, letter_permutations3_RL_L, scores3_RL_L = permute_and_optimize(keys3_RL_L, SpeedStrengthFlow24x24, bigrams, all_letters3_RL_L, move_positions3_RL_L, fixed_positions3_RL_L, ntop=10, verbose=False)"
   ]
  },
  {
   "cell_type": "markdown",
   "metadata": {},
   "source": [
    "#### Right side:"
   ]
  },
  {
   "cell_type": "code",
   "execution_count": 104,
   "metadata": {},
   "outputs": [
    {
     "name": "stdout",
     "output_type": "stream",
     "text": [
      "Topmost of 5040 permutations: ['R' 'F' 'Y' 'T' 'S' 'N' 'C' 'L' 'M' 'V']\n",
      "['R', 'F', 'T', 'S', 'N', 'L', 'M'] 0.0857773104318019\n",
      "['L', 'F', 'T', 'S', 'N', 'R', 'M'] 0.08561086886882388\n",
      "['R', 'M', 'T', 'S', 'N', 'L', 'F'] 0.0855410491902196\n",
      "['L', 'R', 'T', 'S', 'N', 'F', 'M'] 0.08547558085701457\n",
      "['L', 'M', 'T', 'S', 'N', 'R', 'F'] 0.08546834869725618\n",
      "['L', 'R', 'T', 'S', 'N', 'M', 'F'] 0.08538663872203965\n",
      "['R', 'L', 'T', 'S', 'N', 'M', 'F'] 0.08535902059799902\n",
      "['R', 'L', 'T', 'S', 'N', 'F', 'M'] 0.08535283795993394\n",
      "['L', 'M', 'S', 'T', 'N', 'R', 'F'] 0.08530022210737569\n",
      "['L', 'F', 'S', 'T', 'N', 'R', 'M'] 0.0852681449172875\n"
     ]
    }
   ],
   "source": [
    "keys3_RL_R = [14,15,16, 17,18,19,20, 21,22,24]\n",
    "all_letters3_RL_R = ['S','M','Y', 'T','N','R','C', 'L','F','V']  # all letters under consideration (move or fix in place)\n",
    "move_positions3_RL_R = [0,1, 3,4,5, 7,8]  # 0-indices to selected keys to assign letters to\n",
    "fixed_positions3_RL_R = [2, 6, 9]  # 0-indices to keys with fixed letter assignments\n",
    "top_permutation3_RL_R, letter_permutations3_RL_R, scores3_RL_R = permute_and_optimize(keys3_RL_R, SpeedStrengthFlow24x24, bigrams, all_letters3_RL_R, move_positions3_RL_R, fixed_positions3_RL_R, ntop=10, verbose=False)"
   ]
  },
  {
   "cell_type": "markdown",
   "metadata": {},
   "source": [
    "#### Combine left and right sides for right commands / left vowels\n",
    "\n",
    "Place W, K, J, B in open spots to optimize layout of other letters:\n",
    "\n",
    "                   Q  U  O  W*       J* S  M  Y  Z\n",
    "                   H  I  E  A        T  N  R  C  X \n",
    "                   P  K* G  D        L  F  B* V"
   ]
  },
  {
   "cell_type": "code",
   "execution_count": 105,
   "metadata": {},
   "outputs": [
    {
     "name": "stdout",
     "output_type": "stream",
     "text": [
      "Topmost of 10000 permutations: 0.042482114376815004\n",
      "['Q', 'U', 'O', 'W', 'H', 'I', 'E', 'A', 'P', 'K', 'G', 'D', 'J', 'S', 'M', 'Y', 'T', 'N', 'R', 'C', 'L', 'F', 'B', 'V'])\n"
     ]
    }
   ],
   "source": [
    "ntop=100\n",
    "verbose=False\n",
    "letter_permutations_left = letter_permutations3_RL_L\n",
    "scores_permutations_left = scores3_RL_L\n",
    "letter_permutations_right = letter_permutations3_RL_R\n",
    "scores_permutations_right = scores3_RL_R\n",
    "move_positions_left = [1,2, 4,5,6,7, 8,10,11]\n",
    "fixed_positions_left = [0,3, 9]\n",
    "fixed_letters_left = ['Q','W', 'K']\n",
    "move_positions_right = [1,2, 4,5,6, 8,9]\n",
    "fixed_positions_right = [0,3, 7, 10,11]\n",
    "fixed_letters_right = ['J','Y', 'C', 'B','V']\n",
    "top_permutation_RL, top_score_RL, scores_RL = optimize_full_layout_with_left_right_top_scores(SpeedStrengthFlow24x24, bigrams, letter_permutations_left, scores_permutations_left, move_positions_left, fixed_letters_left, fixed_positions_left, letter_permutations_right, scores_permutations_right, move_positions_right, fixed_letters_right, fixed_positions_right, ntop, verbose)"
   ]
  },
  {
   "cell_type": "markdown",
   "metadata": {},
   "source": [
    "#### Optimize arrangement of the least frequent letters in the top-scoring layout"
   ]
  },
  {
   "cell_type": "code",
   "execution_count": 107,
   "metadata": {},
   "outputs": [
    {
     "name": "stdout",
     "output_type": "stream",
     "text": [
      "Topmost of 24 permutations: ['J' 'U' 'O' 'Y' 'H' 'I' 'E' 'A' 'P' 'K' 'G' 'D' 'W' 'S' 'M' 'Q' 'T' 'N'\n",
      " 'R' 'C' 'L' 'F' 'B' 'V']\n",
      "['J', 'Y', 'W', 'Q'] 0.042644102680728185\n",
      "['Q', 'Y', 'W', 'J'] 0.04264062983799995\n",
      "['J', 'Y', 'Q', 'W'] 0.04261337699451447\n",
      "['Q', 'Y', 'J', 'W'] 0.0426106543023795\n",
      "['Y', 'Q', 'W', 'J'] 0.04260895596287972\n",
      "['Y', 'J', 'W', 'Q'] 0.04260888978740377\n",
      "['Y', 'Q', 'J', 'W'] 0.04257898042725927\n",
      "['Y', 'J', 'Q', 'W'] 0.04257816410119006\n",
      "['J', 'Q', 'Y', 'W'] 0.04257624441736603\n",
      "['Q', 'J', 'Y', 'W'] 0.04257270680057195\n"
     ]
    }
   ],
   "source": [
    "keys24 = [1,2,3,4, 5,6,7,8, 9,10,11,12, 13,14,15,16, 17,18,19,20, 21,22,23,24]\n",
    "all_letters4_RL = ['Q','U','O','W', 'H','I','E','A', 'P','K','G','D', 'J','S','M','Y', 'T','N','R','C', 'L','F','B','V']\n",
    "move_positions4_RL = [0,3, 12,15]\n",
    "fixed_positions4_RL = [1,2, 4,5,6,7, 8,9,10,11, 13,14, 16,17,18,19, 20,21,22,23]  # 0-indices to keys with fixed letter assignments\n",
    "top_permutation4_RL, letter_permutations4_RL, scores4_RL = permute_and_optimize(keys24, SpeedStrengthFlow24x24, bigrams, all_letters4_RL, move_positions4_RL, fixed_positions4_RL, ntop=10, verbose=False)"
   ]
  },
  {
   "cell_type": "markdown",
   "metadata": {},
   "source": [
    "#### Top right/left layout\n",
    "\n",
    "    Topmost of 24 permutations: \n",
    "    ['J' 'U' 'O' 'Y' 'H' 'I' 'E' 'A' 'P' 'K' 'G' 'D' 'W' 'S' 'M' 'Q' 'T' 'N' 'R' 'C' 'L' 'F' 'B' 'V']\n",
    "    ['J', 'Y', 'W', 'Q'] 0.042644102680728185\n",
    "\n",
    "                   J  U  O  Y        W  S  M  Q  Z\n",
    "                   H  I  E  A        T  N  R  C  X \n",
    "                   P  K  G  D        L  F  B  V"
   ]
  },
  {
   "cell_type": "markdown",
   "metadata": {},
   "source": [
    "### Try reversing UO in the top layouts for easier typing of the most common vowel bigram (OU)\n",
    "\n",
    "                   -  -  O  U        -  S  M  Q  Z\n",
    "                   -  I  E  A        T  N  R  C  X \n",
    "                   -  -  -  -        L  F  B  V\n",
    "\n",
    "                   -  -  O  U        -  S  M  -  Z\n",
    "                   H  I  E  A        T  N  R  C  X \n",
    "                   -  -  -  -        L  -  -  V\n",
    "\n",
    "                   J  -  O  U        W  -  -  Q  Z\n",
    "                   -  I  E  A        T  -  -  C  X \n",
    "                   P  K  G  D        -  -  -  V\n",
    "\n",
    "                   K  -  O  U        W  -  -  B  Q\n",
    "                   -  I  E  A        T  -  -  -  J \n",
    "                   V  Z  X  C        -  M  F  -"
   ]
  },
  {
   "cell_type": "code",
   "execution_count": 17,
   "metadata": {},
   "outputs": [
    {
     "name": "stdout",
     "output_type": "stream",
     "text": [
      "Topmost of 40320 permutations: 0.042615119883724975\n",
      "['J' 'P' 'O' 'U' 'H' 'I' 'E' 'A' 'G' 'K' 'Y' 'D' 'W' 'S' 'M' 'Q' 'T' 'N'\n",
      " 'R' 'C' 'L' 'F' 'B' 'V']\n",
      "['J', 'P', 'H', 'G', 'K', 'Y', 'D', 'W'] 0.042615119883724975\n",
      "['K', 'P', 'H', 'G', 'J', 'Y', 'D', 'W'] 0.042604268319476536\n",
      "['J', 'G', 'H', 'P', 'K', 'Y', 'D', 'W'] 0.04259953799206298\n",
      "['J', 'P', 'H', 'G', 'Y', 'K', 'D', 'W'] 0.0425975975229044\n",
      "['K', 'G', 'H', 'P', 'J', 'Y', 'D', 'W'] 0.04258884069260549\n",
      "['K', 'P', 'H', 'G', 'Y', 'J', 'D', 'W'] 0.04258572020683135\n",
      "['Y', 'P', 'H', 'G', 'J', 'K', 'D', 'W'] 0.042583784920755874\n",
      "['Y', 'P', 'H', 'G', 'K', 'J', 'D', 'W'] 0.04258258213436428\n",
      "['J', 'G', 'H', 'P', 'Y', 'K', 'D', 'W'] 0.042581275227955226\n",
      "['K', 'G', 'H', 'P', 'Y', 'J', 'D', 'W'] 0.042569615789694634\n"
     ]
    }
   ],
   "source": [
    "keys24 = [1,2,3,4, 5,6,7,8, 9,10,11,12, 13,14,15,16, 17,18,19,20, 21,22,23,24]\n",
    "all_letters5 = ['J','Y','O','U', 'H','I','E','A', 'P','K','G','D', 'W','S','M','Q', 'T','N','R','C', 'L','F','B','V']\n",
    "move_positions5 = [0,1, 4, 8,9,10,11, 12]\n",
    "fixed_positions5 = [2,3, 5,6,7, 13,14,15, 16,17,18,19, 20,21,22,23]\n",
    "top_permutation5, letter_permutations5, scores5 = permute_and_optimize(keys24, SpeedStrengthFlow24x24, bigrams, all_letters5, move_positions5, fixed_positions5, ntop=10, verbose=False)"
   ]
  },
  {
   "cell_type": "code",
   "execution_count": 11,
   "metadata": {},
   "outputs": [
    {
     "name": "stdout",
     "output_type": "stream",
     "text": [
      "Topmost of 3628800 permutations: 0.042615119883724975\n",
      "['J' 'P' 'O' 'U' 'H' 'I' 'E' 'A' 'G' 'K' 'Y' 'D' 'W' 'S' 'M' 'Q' 'T' 'N'\n",
      " 'R' 'C' 'L' 'F' 'B' 'V']\n",
      "['J', 'P', 'G', 'K', 'Y', 'D', 'W', 'Q', 'F', 'B'] 0.042615119883724975\n",
      "['Q', 'P', 'G', 'K', 'Y', 'D', 'W', 'J', 'F', 'B'] 0.04261163297224229\n",
      "['J', 'P', 'G', 'K', 'Y', 'D', 'F', 'Q', 'B', 'W'] 0.04260814564804119\n",
      "['J', 'P', 'G', 'K', 'Y', 'D', 'F', 'Q', 'W', 'B'] 0.04260809423956998\n",
      "['J', 'P', 'G', 'K', 'Y', 'D', 'B', 'Q', 'F', 'W'] 0.042606976322680574\n",
      "['Q', 'P', 'G', 'K', 'Y', 'D', 'F', 'J', 'B', 'W'] 0.042604905466687965\n",
      "['Q', 'P', 'G', 'K', 'Y', 'D', 'B', 'J', 'F', 'W'] 0.04260476447717166\n",
      "['Q', 'P', 'G', 'K', 'Y', 'D', 'F', 'J', 'W', 'B'] 0.04260460972728979\n",
      "['K', 'P', 'G', 'J', 'Y', 'D', 'W', 'Q', 'F', 'B'] 0.042604268319476536\n",
      "['J', 'P', 'G', 'K', 'Y', 'D', 'W', 'Q', 'B', 'F'] 0.0426026276638825\n"
     ]
    }
   ],
   "source": [
    "keys24 = [1,2,3,4, 5,6,7,8, 9,10,11,12, 13,14,15,16, 17,18,19,20, 21,22,23,24]\n",
    "all_letters5 = ['J','Y','O','U', 'H','I','E','A', 'P','K','G','D', 'W','S','M','Q', 'T','N','R','C', 'L','F','B','V']\n",
    "move_positions5 = [0,1, 8,9,10,11, 12,15, 21,22]\n",
    "fixed_positions5 = [2,3, 4,5,6,7, 13,14, 16,17,18,19, 20,23]\n",
    "top_permutation5, letter_permutations5, scores5 = permute_and_optimize(keys24, SpeedStrengthFlow24x24, bigrams, all_letters5, move_positions5, fixed_positions5, ntop=10, verbose=False)"
   ]
  },
  {
   "cell_type": "code",
   "execution_count": 12,
   "metadata": {},
   "outputs": [
    {
     "name": "stdout",
     "output_type": "stream",
     "text": [
      "Topmost of 362880 permutations: 0.04254047565195453\n",
      "['J' 'Y' 'O' 'U' 'H' 'I' 'E' 'A' 'P' 'K' 'G' 'D' 'W' 'S' 'M' 'Q' 'T' 'N'\n",
      " 'R' 'C' 'L' 'F' 'B' 'V']\n",
      "['Y', 'H', 'S', 'M', 'N', 'R', 'L', 'F', 'B'] 0.04254047565195453\n",
      "['Y', 'H', 'S', 'M', 'N', 'R', 'L', 'B', 'F'] 0.04252820563613146\n",
      "['Y', 'H', 'R', 'M', 'N', 'S', 'L', 'F', 'B'] 0.0425273945914476\n",
      "['Y', 'H', 'S', 'M', 'R', 'N', 'L', 'F', 'B'] 0.04251947852401386\n",
      "['Y', 'H', 'R', 'M', 'N', 'S', 'L', 'B', 'F'] 0.04251528543054824\n",
      "['Y', 'H', 'S', 'F', 'N', 'R', 'L', 'M', 'B'] 0.042507850016931956\n",
      "['Y', 'H', 'S', 'M', 'R', 'N', 'L', 'B', 'F'] 0.04250760365472182\n",
      "['Y', 'H', 'R', 'F', 'N', 'S', 'L', 'M', 'B'] 0.042504641682360934\n",
      "['Y', 'H', 'R', 'M', 'S', 'N', 'L', 'F', 'B'] 0.042494149380635254\n",
      "['Y', 'H', 'L', 'M', 'N', 'S', 'R', 'F', 'B'] 0.042493437466438265\n"
     ]
    }
   ],
   "source": [
    "keys24 = [1,2,3,4, 5,6,7,8, 9,10,11,12, 13,14,15,16, 17,18,19,20, 21,22,23,24]\n",
    "all_letters6 = ['J','Y','O','U', 'H','I','E','A', 'P','K','G','D', 'W','S','M','Q', 'T','N','R','C', 'L','F','B','V']\n",
    "move_positions6 = [1, 4, 13,14, 17,18, 20,21,22]\n",
    "fixed_positions6 = [0,2,3, 5,6,7, 8,9,10,11, 12,15, 16,19, 23]\n",
    "top_permutation6, letter_permutations6, scores6 = permute_and_optimize(keys24, SpeedStrengthFlow24x24, bigrams, all_letters6, move_positions6, fixed_positions6, ntop=10, verbose=False)"
   ]
  },
  {
   "cell_type": "code",
   "execution_count": 14,
   "metadata": {},
   "outputs": [
    {
     "name": "stdout",
     "output_type": "stream",
     "text": [
      "Topmost of 362880 permutations: 0.04253012090861278\n",
      "['K' 'Y' 'O' 'U' 'H' 'I' 'E' 'A' 'V' 'Z' 'X' 'C' 'W' 'L' 'G' 'B' 'T' 'R'\n",
      " 'S' 'N' 'D' 'M' 'F' 'P']\n",
      "['Y', 'H', 'L', 'G', 'R', 'S', 'N', 'D', 'P'] 0.04253012090861278\n",
      "['Y', 'H', 'L', 'P', 'N', 'R', 'S', 'D', 'G'] 0.042524146602695496\n",
      "['Y', 'H', 'L', 'G', 'S', 'R', 'N', 'D', 'P'] 0.04251531072063203\n",
      "['Y', 'H', 'L', 'P', 'N', 'S', 'R', 'D', 'G'] 0.04250681133517545\n",
      "['Y', 'H', 'D', 'G', 'R', 'S', 'N', 'L', 'P'] 0.042506578354697365\n",
      "['Y', 'H', 'L', 'G', 'R', 'N', 'S', 'D', 'P'] 0.042499842852286224\n",
      "['Y', 'H', 'L', 'P', 'R', 'N', 'S', 'D', 'G'] 0.042499482672462764\n",
      "['Y', 'H', 'D', 'G', 'S', 'R', 'N', 'L', 'P'] 0.042498520178134096\n",
      "['Y', 'H', 'L', 'D', 'R', 'S', 'N', 'G', 'P'] 0.04249472310297708\n",
      "['Y', 'H', 'L', 'G', 'N', 'R', 'S', 'D', 'P'] 0.042490017028245224\n"
     ]
    }
   ],
   "source": [
    "keys24 = [1,2,3,4, 5,6,7,8, 9,10,11,12, 13,14,15,16, 17,18,19,20, 21,22,23,24]\n",
    "all_letters8 = ['K','Y','O','U', 'H','I','E','A', 'V','Z','X','C', 'W','L','G','B', 'T','R','S','N', 'D','M','F','P']\n",
    "move_positions8 = [1,4, 13,14, 17,18,19, 20,23]\n",
    "fixed_positions8 = [0,2,3, 5,6,7, 8,9,10,11, 12,15, 16, 21,22]\n",
    "top_permutation8, letter_permutations8, scores8 = permute_and_optimize(keys24, SpeedStrengthFlow24x24, bigrams, all_letters8, move_positions8, fixed_positions8, ntop=10, verbose=False)"
   ]
  },
  {
   "cell_type": "code",
   "execution_count": 18,
   "metadata": {},
   "outputs": [
    {
     "name": "stdout",
     "output_type": "stream",
     "text": [
      "Topmost of 24 permutations: 0.04253012090861278\n",
      "['K' 'Y' 'O' 'U' 'H' 'I' 'E' 'A' 'V' 'Z' 'X' 'C' 'W' 'L' 'G' 'B' 'T' 'R'\n",
      " 'S' 'N' 'D' 'M' 'F' 'P']\n",
      "['V', 'Z', 'X', 'C'] 0.04253012090861278\n",
      "['V', 'X', 'Z', 'C'] 0.04252608010698354\n",
      "['C', 'Z', 'X', 'V'] 0.04247418654914578\n",
      "['C', 'X', 'Z', 'V'] 0.04247017844619968\n",
      "['X', 'V', 'Z', 'C'] 0.042450164617749205\n",
      "['Z', 'V', 'X', 'C'] 0.04244209606449878\n",
      "['X', 'Z', 'V', 'C'] 0.04242945204898617\n",
      "['Z', 'X', 'V', 'C'] 0.042417402012767606\n",
      "['C', 'V', 'Z', 'X'] 0.0423947394447039\n",
      "['C', 'Z', 'V', 'X'] 0.0423740234922862\n"
     ]
    }
   ],
   "source": [
    "keys24 = [1,2,3,4, 5,6,7,8, 9,10,11,12, 13,14,15,16, 17,18,19,20, 21,22,23,24]\n",
    "all_letters8_ZXCV = ['K','Y','O','U', 'H','I','E','A', 'V','Z','X','C', 'W','L','G','B', 'T','R','S','N', 'D','M','F','P']\n",
    "move_positions8_ZXCV = [8,9,10,11]\n",
    "fixed_positions8_ZXCV = [0,1,2,3, 4,5,6,7, 12,13,14,15, 16,17,18,19, 20,21,22,23]  # 0-indices to keys with fixed letter assignments\n",
    "top_permutation8_ZXCV, letter_permutations8_ZXCV, scores8_ZXCV = permute_and_optimize(keys24, SpeedStrengthFlow24x24, bigrams, all_letters8_ZXCV, move_positions8_ZXCV, fixed_positions8_ZXCV, ntop=10, verbose=False)"
   ]
  },
  {
   "cell_type": "markdown",
   "metadata": {},
   "source": [
    "## Optimized full layouts\n",
    "\n",
    "The top-scoring layouts had all vowels arranged the same way on the left, with command characters on either right or left, and additional small differences: \n",
    "\n",
    "                   J  U  O  Y        W  S  M  Q  Z    score: 0.042644102680728185\n",
    "                   H  I  E  A        T  N  R  C  X \n",
    "                   P  K  G  D        L  F  B  V\n",
    "\n",
    "                   Q  U  O  Y        W  S  M  J  Z    score: 0.04264062983799995\n",
    "                   H  I  E  A        T  N  R  C  X \n",
    "                   P  K  G  D        L  F  B  V\n",
    "\n",
    "                   K  U  O  Y        W  L  G  B  Q    score: 0.04263028029744371\n",
    "                   H  I  E  A        T  R  S  N  J \n",
    "                   V  Z  X  C        D  M  F  P\n",
    "                \n",
    "The top-scoring result with UO reversed for easier typing of the most common vowel bigram (OU):\n",
    "\n",
    "                   J  P  O  U        W  S  M  Q  Z    score: 0.042615119883724975\n",
    "                   H  I  E  A        T  N  R  C  X \n",
    "                   G  K  Y  D        L  F  B  V\n",
    "\n",
    "                   K  Y  O  U        W  L  G  B  Q    score: 0.04253012090861278\n",
    "                   H  I  E  A        T  R  S  N  J \n",
    "                   V  Z  X  C        D  M  F  P"
   ]
  },
  {
   "cell_type": "markdown",
   "metadata": {},
   "source": [
    "#### Workspace to score and explore alterations to the above layouts:"
   ]
  },
  {
   "cell_type": "code",
   "execution_count": 118,
   "metadata": {},
   "outputs": [
    {
     "name": "stdout",
     "output_type": "stream",
     "text": [
      "0.042644102680728185\n",
      "0.04264062983799995\n",
      "0.04255133904306378\n",
      "0.04263028029744371\n",
      "0.04209962973459089\n",
      "0.04220822420064549\n",
      "0.042103651319429586\n"
     ]
    }
   ],
   "source": [
    "# Top score:\n",
    "letters = ['J','U','O','Y', 'H','I','E','A', 'P','K','G','D', 'W','S','M','Q', 'T','N','R','C', 'L','F','B','V']\n",
    "t = score_layout(SpeedStrengthFlow24x24, letters, bigrams, verbose=False)\n",
    "print(t)\n",
    "# 2nd top score (same as top score with Q & J swap):\n",
    "letters = ['Q','U','O','Y', 'H','I','E','A', 'P','K','G','D', 'W','S','M','J', 'T','N','R','C', 'L','F','B','V']\n",
    "t = score_layout(SpeedStrengthFlow24x24, letters, bigrams, verbose=False)\n",
    "print(t)\n",
    "# 2nd top score with Y & J swap:\n",
    "letters = ['Q','U','O','J', 'H','I','E','A', 'P','K','G','D', 'W','S','M','Y', 'T','N','R','C', 'L','F','B','V']\n",
    "t = score_layout(SpeedStrengthFlow24x24, letters, bigrams, verbose=False)\n",
    "print(t)\n",
    "# 3rd top score:\n",
    "letters = ['K','U','O','Y', 'H','I','E','A', 'V','Z','X','C', 'W','L','G','B', 'T','R','S','N', 'D','M','F','P']\n",
    "t = score_layout(SpeedStrengthFlow24x24, letters, bigrams, verbose=False)\n",
    "print(t)\n",
    "# Earlier attempt:\n",
    "letters = ['Q','I','O','U', 'P','H','E','A', 'B','J','K','G', 'D','N','L','Y', 'T','S','R','C', 'M','F','W','V']\n",
    "t = score_layout(SpeedStrengthFlow24x24, letters, bigrams, verbose=False)\n",
    "print(t)\n",
    "# 2nd top score and earlier attempt amalgam:\n",
    "letters = ['Q','I','O','U', 'P','H','E','A', 'Y','K','G','D', 'W','S','M','J', 'T','N','R','C', 'L','F','B','V']\n",
    "t = score_layout(SpeedStrengthFlow24x24, letters, bigrams, verbose=False)\n",
    "print(t)\n",
    "# Top score:\n",
    "letters = ['J','I','O','U', 'H','Y','E','A', 'P','K','G','D', 'W','S','M','Q', 'T','N','R','C', 'L','F','B','V']\n",
    "t = score_layout(SpeedStrengthFlow24x24, letters, bigrams, verbose=False)\n",
    "print(t)\n"
   ]
  },
  {
   "cell_type": "markdown",
   "metadata": {
    "colab_type": "raw",
    "id": "lSk8xYCfDzS6"
   },
   "source": [
    "    \n"
   ]
  },
  {
   "cell_type": "markdown",
   "metadata": {
    "colab_type": "text",
    "id": "TPW3wZw2DzT7"
   },
   "source": [
    "## Step 5: Arrange punctuation marks and characters in easy-to-remember places <a name=\"step5\">"
   ]
  },
  {
   "cell_type": "markdown",
   "metadata": {
    "colab_type": "raw",
    "id": "ul_j8VsZDzT7"
   },
   "source": [
    "### Frequency of punctuation marks\n",
    "\n",
    "  - Google N-grams and Twitter analysis: <br>\n",
    "\"Punctuation Input on Touchscreen Keyboards: Analyzing Frequency of Use and Costs\" <br>\n",
    "S Malik, L Findlater - College Park: The Human-Computer Interaction Lab. 2013 <br>\n",
    "https://www.cs.umd.edu/sites/default/files/scholarly_papers/Malik.pdf <br>\n",
    " \"the Twitter corpora included substantially higher punctuation use than the Google corpus,  <br>\n",
    " comprising 7.5% of characters in the mobile tweets and 7.6% in desktop versus only 4.4%...  <br>\n",
    "With the Google corpus,only 6 punctuation symbols (. -’ ( ) “) appeared more frequently than [q]\"\n",
    "\n",
    "  - \"Frequencies for English Punctuation Marks\" by Vivian Cook <br>\n",
    "http://www.viviancook.uk/Punctuation/PunctFigs.htm  <br>\n",
    " \"Based on a writing system corpus some 459 thousand words long.  <br> \n",
    " This includes three novels of different types (276 thousand words),  <br>\n",
    " selections of articles from two newspapers (55 thousand), <br> \n",
    "one bureaucratic report (94 thousand), and assorted academic papers <br>\n",
    "on language topics (34 thousand). More information is in <br>\n",
    "Cook, V.J. (2013) ‘Standard punctuation and the punctuation of the street’ <br>\n",
    "in M. Pawlak and L. Aronin (eds.), Essential Topics in Applied Linguistics and Multilingualism,  <br>\n",
    " Springer International Publishing Switzerland (2013), 267-290\"\n",
    "\n",
    "  - \"Computer Languages Character Frequency\"\n",
    "by Xah Lee.  <br>\n",
    "Date: 2013-05-23. Last updated: 2020-06-29. <br>\n",
    "http://xahlee.info/comp/computer_language_char_distribution.html <br>\n",
    "NOTE: biased toward C (19.8%) and Py (18.5%), which have high use of \"_\".\n",
    "\n",
    "Frequency: \n",
    "\n",
    "      Google:    Cook:            Xah:\n",
    "        %        /1000      All%  JS%   Py%\n",
    "\n",
    "    \"  2.284      26.7       3.9   1.6   6.2\n",
    "    .  1.151      65.3       6.6   9.4  10.3\n",
    "    ,             61.6       5.8   8.9   7.5\n",
    "    -  0.217      15.3       4.1   1.9   3.0\n",
    "    '  0.200      24.3       4.4   4.0   8.6\n",
    "    () 0.140                 7.4   9.8   8.1\n",
    "    ;  0.096       3.2       3.8   8.6\n",
    "    z  0.09         -         -\n",
    "    :  0.087       3.4       3.5   2.8   4.7\n",
    "    ?  0.032       5.6       0.3\n",
    "    /  0.019                 4.0   4.9   1.1\n",
    "    !  0.013       3.3       0.4\n",
    "    _                       11.0   2.9  10.5\n",
    "    =                        4.4  10.7   5.4\n",
    "    *                        3.6   2.1\n",
    "    >                        3.0         1.4\n",
    "    $                        2.7   1.6\n",
    "    #                        2.2         3.2\n",
    "    {}                       1.9   4.2\n",
    "    <                        1.3\n",
    "    &                        1.3\n",
    "    \\                        1.2         1.1\n",
    "    []                       0.9   1.9   1.2\n",
    "    @                        0.8\n",
    "    |                        0.6\n",
    "    +                        0.6   1.9\n",
    "    %                        0.4"
   ]
  },
  {
   "cell_type": "markdown",
   "metadata": {
    "colab_type": "text",
    "id": "sdl3lLOfDzT8"
   },
   "source": [
    "### Add punctuation keys and number keys\n",
    "\n",
    "                #  1  2  3  4  5  6  7  8  9  0  <  >\n",
    "\n",
    "                   J  U  O  Y  '  \"  W  S  M  Q  Z\n",
    "                   H  I  E  A  ,  .  T  N  R  C  X \n",
    "                   P  K  G  D  (  )  L  F  B  V\n",
    "                   \n",
    "Shift to access similar-looking characters above the numbers, and swap the Backspace and Caps lock keys:\n",
    "\n",
    "\n",
    "          ~        !  =  ?  +  $  @  ^  &  %  *  <  >\n",
    "          #        1  2  3  4  5  6  7  8  9  0  [  ]     Caps\n",
    "\n",
    "        Tab        J  U  O  Y  '  \"  W  S  M  Q  Z  -     /\n",
    "        Back       H  I  E  A  ,  .  T  N  R  C  X        Enter\n",
    "        Shift      P  K  G  D  (  )  L  F  B  V           Shift\n",
    "\n",
    "        Ctrl  Fn  Cmd  Alt  Space   Alt  Ctrl       Arrows\n",
    "\n",
    "\n",
    "Shift to access less common, but similar-meaning punctuation (top):\n",
    "\n",
    "                ~    `    \\    ;    :    {    }    |    _\n",
    "                #    '    \"    ,    .    (    )    /    -"
   ]
  },
  {
   "cell_type": "code",
   "execution_count": null,
   "metadata": {},
   "outputs": [],
   "source": []
  }
 ],
 "metadata": {
  "colab": {
   "name": "engram-layout.ipynb",
   "provenance": []
  },
  "kernelspec": {
   "display_name": "Python 3",
   "language": "python",
   "name": "python3"
  },
  "language_info": {
   "codemirror_mode": {
    "name": "ipython",
    "version": 3
   },
   "file_extension": ".py",
   "mimetype": "text/x-python",
   "name": "python",
   "nbconvert_exporter": "python",
   "pygments_lexer": "ipython3",
   "version": "3.7.6"
  }
 },
 "nbformat": 4,
 "nbformat_minor": 4
}
