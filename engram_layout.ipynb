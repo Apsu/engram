{
 "cells": [
  {
   "cell_type": "markdown",
   "metadata": {
    "colab_type": "text",
    "id": "J1wRG8laa8Pm"
   },
   "source": [
    "# Arno's Engram key layout\n",
    "\n",
    "The [Engram layout](https://github.com/binarybottle/engram-layout) is a keyboard layout optimized for comfortable touch typing in English created by [Arno Klein](https://binarybottle.com), with open source code to create other optimized key layouts.\n",
    "\n",
    "\n",
    "                   Q  I  O  U        D  N  L  Y  Z  \n",
    "                   P  H  E  A        T  S  R  C  X \n",
    "                   B  J  K  G        M  F  W  V\n",
    "\n",
    "The Shift key accesses characters (top) that look similar to the numbers:\n",
    "\n",
    "                   !  =  ?  +  $  @  ^  &  %  *\n",
    "                   1  2  3  4  5  6  7  8  9  0\n",
    "\n",
    "and accesses related but less common punctuation (top):\n",
    "\n",
    "                `    \\    ;    :    {    }    |    _\n",
    "                '    \"    ,    .    (    )    /    -\n",
    "\n",
    "Swapping the Backspace and Caps lock keys completes the layout:\n",
    "\n",
    "\n",
    "           ~        !  =  ?  +  $  @  ^  &  %  *  <  >\n",
    "           #        1  2  3  4  5  6  7  8  9  0  [  ]     Caps\n",
    "\n",
    "         Tab        Q  I  O  U  '  \"  D  N  L  Y  Z  -     /\n",
    "         Back       P  H  E  A  ,  .  T  S  R  C  X        Enter\n",
    "         Shift      B  J  K  G  (  )  M  F  W  V           Shift\n",
    "\n",
    "         Ctrl  Fn  Cmd  Alt     Space     Alt  Ctrl       Arrows\n"
   ]
  },
  {
   "cell_type": "markdown",
   "metadata": {
    "colab_type": "text",
    "id": "awscg4wBa8Po"
   },
   "source": [
    "# Contents\n",
    "1. [Rationale](#rationale)\n",
    "2. [Comparison with other key layouts](#comparison)\n",
    "3. [Factors used to compute the layout](#factors)\n",
    "4. [Guiding criteria](#criteria)\n",
    "5. [Summary of steps and results](#summary)\n",
    "6. Setup:\n",
    "    - [Dependencies and functions](#import)\n",
    "    - [Speed matrix](#speed)\n",
    "    - [Strength matrix](#strength)\n",
    "    - [Flow matrix](#flow)\n",
    "7. Steps:\n",
    "    - [Step 1: Optimize arrangement of the 12 most frequent letters across left and right sides](#step1)\n",
    "    - [Step 2: Arrange the most common command shortcut characters on the right side](#step2)\n",
    "    - [Step 3: Optimize arrangement of all remaining letters](#step3)\n",
    "    - [Step 4: Add punctuation marks and characters above similar-looking numbers](#step4)"
   ]
  },
  {
   "cell_type": "markdown",
   "metadata": {
    "colab_type": "text",
    "id": "SSdE4O9Wa8Pp"
   },
   "source": [
    "## Rationale <a name=\"rationale\">\n",
    "\n",
    "**Why?** <br>\n",
    "In the future, I hope to include an engaging rationale for why I took on this challenge.\n",
    "Suffice to say that I have battled repetitive strain injury since I worked\n",
    "on an old DEC workstation at the MIT Media Lab while composing my thesis back in the mid-90s.\n",
    "Ever since then I have used different key layouts (Dvorak, Colemak, my own, etc.),\n",
    "and have primarily used Colemak for almost 10 years.  I find that they all place too much stress on tendons, with lateral extension of the index and little fingers,\n",
    "and on uniform distribution of finger use, which has damaged my little fingers.\n",
    "I have also experimented with a wide variety of human interface technologies\n",
    "(voice dictation, one-handed keyboard, keyless keyboard, foot mouse, and ergonomic keyboards like the Kinesis Advantage. I recently got an Ergodox that I am looking forward to trying out with the Engram layout.\n",
    "\n",
    "**\"Engram\"?** <br>\n",
    "The name is a pun, referring both to \"n-gram\", letter permutations used to compute this layout, and \"engram\", or memory trace, the postulated change in neural tissue to account for the persistence of memory."
   ]
  },
  {
   "cell_type": "markdown",
   "metadata": {
    "colab_type": "text",
    "id": "vkv2v3gla8Pt"
   },
   "source": [
    "## Comparison with other key layouts <a name=\"comparison\">\n",
    "\n",
    "Despite the fact that the Engram layout was designed to reduce strain and discomfort, not to reduce finger travel from the home row, it scores higher than all other key layouts (Colemak, Dvorak, QWERTY, etc.) I've tested using the online Keyboard Layout Analyzer, for all of the examples of prose and tweet data I've tried, including the data sets below:\n",
    "\n",
    "- [See the complete analysis](http://patorjk.com/keyboard-layout-analyzer/#/load/x0WPtw3x)\n",
    "of __Alice in Wonderland__ provided by the Keyboard Layout Analyzer \n",
    "\n",
    "- All __20,000 tweets__ from [Gender Classifier Data](https://www.kaggle.com/crowdflower/twitter-user-gender-classification) <br>\n",
    "Added: November 15, 2015 by CrowdFlower\n",
    "\n",
    "- The first __100,000 tweets__ from: [Sentiment140 dataset](https://data.world/data-society/twitter-user-data) training data <br>\n",
    "Go, A., Bhayani, R. and Huang, L., 2009. <br>\n",
    "Twitter sentiment classification using distant supervision. <br>\n",
    "CS224N Project Report, Stanford, 1(2009), p.12.\n",
    "\n",
    "According to the [Keyboard Layout Analyzer](http://patorjk.com/keyboard-layout-analyzer/):\n",
    "\n",
    "\"The optimal layout score is based on a weighted calculation that factors in the distance your fingers moved (33%), how often you use particular fingers (33%), and how often you switch fingers and hands while typing (34%).\""
   ]
  },
  {
   "cell_type": "markdown",
   "metadata": {
    "colab_type": "text",
    "id": "skuQOyi0DzRD"
   },
   "source": [
    "## Factors used to compute the layout <a name=\"factors\">\n",
    "  - **N-gram letter frequencies** <br>\n",
    "    \n",
    "    [Peter Norvig's analysis](http://www.norvig.com/mayzner.html) of data from Google's book scanning project\n",
    "  - **Flow factors** (transitions between ordered key pairs) <br>\n",
    "    These factors are influenced by Dvorak's 11 criteria (1936) that can be summarized as follows:\n",
    "      - Alternate between hands and balance finger loads.\n",
    "      - Avoid using the same finger.\n",
    "      - Avoid the upper and lower rows.\n",
    "      - Avoid skipping over the home row (\"hurdling\").\n",
    "      - Avoid tapping adjacent rows (\"reaching\") with (same or) adjacent fingers.\n",
    "  - **Finger strengths** (peak keyboard reaction forces) <br>\n",
    "      \"Keyboard Reaction Force and Finger Flexor Electromyograms during Computer Keyboard Work\", BJ Martin, TJ Armstrong, JA Foulke, S Natarajan, Human Factors,1996,38(4),654-664.\n",
    "  - **Speed** (unordered interkey stroke times) <br>\n",
    "      \"Estimation of digraph costs for keyboard layout optimization\", A Iseri, Ma Eksioglu, International Journal of Industrial Ergonomics, 48, 127-138, 2015. <br>\n",
    "      _NOTE: Speed data were only used for exploration of early key layouts._"
   ]
  },
  {
   "cell_type": "markdown",
   "metadata": {
    "colab_type": "text",
    "id": "wm3T-hmja8Ps"
   },
   "source": [
    "## Guiding criteria   <a name=\"criteria\">\n",
    "\n",
    "1.  Assign 24 letters to keys that don't require lateral extension of index or little fingers.\n",
    "2.  Group letters for common command shortcut keys (F,C,Z,Y,X,V) close together.\n",
    "3.  Assign punctuation to keys that require lateral extension of index or little fingers.\n",
    "4.  Assign easier-to-remember characters to the shift-number keys.\n",
    "5.  Arrange letters so that more frequent bigrams are faster and easier to type.\n",
    "6.  Balance finger loads according to their relative strength.\n",
    "7.  Promote alternating between hands over typing with the same hand.\n",
    "8.  Promote little-to-index-finger roll-ins over index-to-little-finger roll_outs.\n",
    "9.  Avoid extending nearer, shorter fingers to upper rows.\n",
    "10. Avoid using the same finger.\n",
    "11. Avoid the upper and lower rows.\n",
    "12. Avoid skipping over the home row."
   ]
  },
  {
   "cell_type": "markdown",
   "metadata": {
    "colab_type": "text",
    "id": "_8C_BEaXa8Pu"
   },
   "source": [
    "## Summary of steps and results  <a name=\"summary\">\n",
    "\n",
    "- Step 1: Optimize arrangement of the 12 most frequent letters across left and right sides\n",
    "- Step 2: Arrange the most common command shortcut characters on the right side\n",
    "- Step 3: Optimize arrangement of all remaining letters\n",
    "- Step 4: Add punctuation marks and characters above similar-looking numbers\n",
    "    \n",
    "### 1. Optimize arrangement of the 12 most frequent letters across left and right sides\n",
    "\n",
    "I selected 12 of the strongest key locations for the 12 most frequent letters in the English language (excluding C, which we group with other common command shortcut characters):\n",
    "\n",
    "**E, T, A, O, I, N, S, R, H, L, D**, C, **U**, M, F, P, G, W, (Y), B, (V), K, (X), J, Q, (Z)\n",
    "\n",
    "An optimization algorithm splits the 12 letters across left and right sides, and then arranges the 6 letters on each side.\n",
    "\n",
    "The resulting arrangement has all vowels on the left and the most common consonants on the right (except for H):\n",
    "\n",
    "                   -  I  O  U        D  N  L  -  - \n",
    "                   -  H  E  A        T  S  R  -  -\n",
    "                   -  -  -  -        -  -  -  -\n",
    "\n",
    "#### **Details** <br>\n",
    "I set an initial location for E and T, the most common letters, with E on the left side and T on the right side, to encourage a balance of typing across left and right hands, and to reduce the number of permutations to compute (3,628,800 for 10 letters). Each permutation corresponds to a unique arrangement of letters, and its score is the average of the scores for all possible pairs of letters (bigrams) in this arrangement. The score for each bigram is a product of the frequency of occurrence of that bigram and the factors Flow, Strength, and Speed: \n",
    "\n",
    "**Flow**: measure of ease of a finger transition from the first in a pair of letters to the second\n",
    "\n",
    "Flow factors to _penalize_ difficult key transitions include:\n",
    "    \n",
    "- roll out from index to little finger\n",
    "- index or little finger on top row\n",
    "- middle or ring finger on bottom row\n",
    "- index above middle, or little above ring \n",
    "- index above ring, or little above middle\n",
    "- ring above middle\n",
    "- use same finger twice for a non-repeating letter\n",
    "- at least one key not on home row\n",
    "- one key on top row, the other on bottom row\n",
    "\n",
    "**Strength**: measure of the average strength of the finger(s) used to type the two letters\n",
    "\n",
    "Finger strengths are based on peak keyboard reaction forces (in newtons) from \"Keyboard Reaction Force and Finger Flexor Electromyograms during Computer Keyboard Work\", BJ Martin, TJ Armstrong, JA Foulke, S Natarajan, Human Factors,1996, 38(4), 654-664.\n",
    "\n",
    "**Speed**: normalized interkey stroke times\n",
    "\n",
    "These are left-right averaged versions derived from the study data below, to compensate for right-handedness of participants in the study:\n",
    "\n",
    "\"Estimation of digraph costs for keyboard layout optimization\", \n",
    "A Iseri, Ma Eksioglu, International Journal of Industrial Ergonomics, 48, 127-138, 2015. \n",
    "    \n",
    "### 2. Arrange the most common command shortcut characters on the right side\n",
    "    \n",
    "                   -  I  O  U        D  N  L  Y  Z\n",
    "                   -  H  E  A        T  S  R  C  X \n",
    "                   -  -  -  -        -  -  -  V\n",
    "\n",
    "  - Typing a command shortcut is usually done by holding the Command/Control key with the left little finger, potentially the weakest, while simultaneously stretching and tapping the shortcut letter with the same hand. By placing the command shortcut key on the far right side, this encourages one to type the Command/Control key with the left hand and the shortcut with the right hand.\n",
    "  - Z is the least frequent letter and is placed in the worst position.\n",
    "  - Undo (Z) & Redo (Y), and Cut (X) & Copy (C) pair well together. Y is to the left of Z and C to the left of X because they are more frequent letters.\n",
    "  - Common bigrams with Y and C (LY, CT, NC, SC, CR) are easy to type.\n",
    "\n",
    "### 3. Optimize arrangement of all remaining letters (as in Step 1)\n",
    "\n",
    "E, T, A, O, I, N, S, R, H, L, D, C, U, **M, F, P, G, W**, (Y), **B**, (V), **K**, (X), **J, Q**, (Z)   \n",
    "\n",
    "                   Q  I  O  U        D  N  L  Y  Z\n",
    "                   P  H  E  A        T  S  R  C  X \n",
    "                   B  J  K  G        M  F  W  V\n",
    "\n",
    "### 4. Add punctuation, and characters above the number keys\n",
    "\n",
    "**Frequency of punctuation** \n",
    "\n",
    "These sources helped guided our arrangement:\n",
    "    \n",
    "  - \"Punctuation Input on Touchscreen Keyboards: Analyzing Frequency of Use and Costs\" <br>\n",
    "    S Malik, L Findlater - College Park: The Human-Computer Interaction Lab. 2013 <br>\n",
    "    https://www.cs.umd.edu/sites/default/files/scholarly_papers/Malik.pdf\n",
    "\n",
    "  - \"Frequencies for English Punctuation Marks\" by Vivian Cook <br>\n",
    "    http://www.viviancook.uk/Punctuation/PunctFigs.htm\n",
    "\n",
    "  - \"Computer Languages Character Frequency\" <br>\n",
    "    Xah Lee. Date: 2013-05-23. Last updated: 2020-06-29. <br>\n",
    "    http://xahlee.info/comp/computer_language_char_distribution.html\n",
    "\n",
    "Resulting in:\n",
    "\n",
    "                   Q  I  O  U  '  \"  D  N  L  Y  Z\n",
    "                   P  H  E  A  ,  .  T  S  R  C  X \n",
    "                   B  J  K  G  (  )  M  F  W  V\n",
    "\n",
    "Shift accesses similar-looking characters above the numbers:\n",
    "\n",
    "                ~  !  =  ?  +  $  @  ^  &  %  *  [  ]\n",
    "                #  1  2  3  4  5  6  7  8  9  0  <  >\n",
    "\n",
    "Shift accesses less common, but similar-meaning punctuation:\n",
    "\n",
    "                `    \\    ;    :    {    }    |    _\n",
    "                '    \"    ,    .    (    )    /    -\n",
    "             \n",
    "**Rationale for shift-characters**\n",
    "\n",
    "**#** &nbsp;&nbsp; The pound/hash represents numbers, and sits to the left of the number keys. <br>\n",
    "**~** &nbsp;&nbsp; The tilde has several meanings, including \"approximately equal to\" <br>\n",
    " &nbsp;&nbsp;&nbsp;&nbsp;&nbsp; (here \"similar-looking\" to the numbers), and is in the standard location.\n",
    "\n",
    "**'** &nbsp;&nbsp; Single quotation marks are used to quote text for 'emphasis', or to quote text within a quote. <br>\n",
    "**`** &nbsp;&nbsp; One use of the backquote is to quote computer code. It is used in an analogous manner as a single quote <br>\n",
    " &nbsp;&nbsp;&nbsp;&nbsp;&nbsp; in a quote, to quote code within code for command substitution (to replace a command with output).\n",
    "\n",
    "**\"** &nbsp;&nbsp; \"Double quotation marks are used to quote direct speech?\" <br>\n",
    "**\\** &nbsp;&nbsp; The backslash is an escape character used to quote special characters in regular expressions.\n",
    "\n",
    "**,** &nbsp;&nbsp; The comma is used to separate text, for example in lists, or to provide a pause. <br>\n",
    "**;** &nbsp;&nbsp; The semicolon provides a stronger separation or pause; it can be used in place <br>\n",
    " &nbsp;&nbsp;&nbsp;&nbsp;&nbsp; of the comma to separate items in a list, especially if those items contain commas. <br>\n",
    "   \n",
    "**.** &nbsp;&nbsp; The period ends a sentence. <br>\n",
    "**:** &nbsp;&nbsp; The colon similarly ends a statement but precedes something following: explanation, quotation, list, etc.\n",
    "\n",
    "**|** &nbsp;&nbsp; The pipe connects commands in computer code. <br>\n",
    "**/** &nbsp;&nbsp; The slash connects conjunctions/disjunctions/alternatives, or locations such as file paths or urls.\n",
    "\n",
    "**-** &nbsp;&nbsp; The dash connects side-by-side words, or can surround a phrase for emphasis. <br>\n",
    "**_** &nbsp;&nbsp; The underscore connects strings within variable or file names, or can _underline a phrase_ for emphasis."
   ]
  },
  {
   "cell_type": "markdown",
   "metadata": {
    "colab_type": "text",
    "id": "2eTQ4jxPa8Pv"
   },
   "source": [
    "### Import dependencies and functions  <a name=\"import\">"
   ]
  },
  {
   "cell_type": "code",
   "execution_count": 252,
   "metadata": {
    "colab": {
     "base_uri": "https://localhost:8080/",
     "height": 71
    },
    "colab_type": "code",
    "id": "q1wNgX_FDzRH",
    "outputId": "7c14cebc-a4b7-4a77-d14f-26cbc7690c28"
   },
   "outputs": [],
   "source": [
    "# Import dependencies\n",
    "import xlrd\n",
    "import numpy as np\n",
    "from sympy.utilities.iterables import multiset_permutations\n",
    "import matplotlib\n",
    "import matplotlib.pyplot as plt    \n",
    "import seaborn as sns\n",
    "\n",
    "# Use speed data?\n",
    "use_speed_data = False\n",
    "\n",
    "\n",
    "# Select keys to quantify pairwise relationships:\n",
    "def select_keys(data_matrix, keys, verbose=False):\n",
    "\n",
    "    # Extract pairwise entries for the keys:\n",
    "    nkeys = len(keys)\n",
    "    Select = np.zeros((nkeys, nkeys))\n",
    "    u = 0\n",
    "    for i in keys:\n",
    "        u += 1\n",
    "        v = 0\n",
    "        for j in keys:\n",
    "            v += 1\n",
    "            Select[u-1,v-1] = data_matrix[i-1,j-1]\n",
    "\n",
    "    # Normalize matrix with min-max scaling to a range with max 1:\n",
    "    newMin = np.min(Select) / np.max(Select)\n",
    "    newMax = 1.0\n",
    "    Select = newMin + (Select - np.min(Select)) * (newMax - newMin) / (np.max(Select) - np.min(Select))\n",
    "    \n",
    "    if verbose:\n",
    "        #print(\"Matrix:\")\n",
    "        #np.set_printoptions(precision=2); print(Select)\n",
    "\n",
    "        # Heatmap of array\n",
    "        heatmap(data=Select, title=\"Matrix heatmap\", xlabel=\"Key 1\", ylabel=\"Key 2\"); plt.show()\n",
    "    \n",
    "    return Select\n",
    "\n",
    "\n",
    "# Find all permutations of a given set of letters (max: 8-10 letters)\n",
    "def permute_letters(letters, verbose=False):\n",
    "    letter_permutations = []\n",
    "    for p in multiset_permutations(letters):\n",
    "        letter_permutations.append(p)\n",
    "    letter_permutations = np.array(letter_permutations)\n",
    "    #if verbose:\n",
    "    #    print(\"First permutation: {0}\".format(letter_permutations[0])) \n",
    "    \n",
    "    return letter_permutations\n",
    "\n",
    "\n",
    "# Compute the score for a given letter-key layout:\n",
    "def score_layout(data_matrix, letters, bigrams, verbose=False):\n",
    "\n",
    "    # Create a matrix of bigram frequencies:\n",
    "    nletters = len(letters)\n",
    "    F = np.zeros((nletters, nletters))\n",
    "\n",
    "    # Find the bigram frequency for each ordered pair of letters in the permutation:\n",
    "    for i1 in range(nletters):\n",
    "        for i2 in range(nletters):\n",
    "            bigram = letters[i1] + letters[i2]\n",
    "            i2gram = np.where(bigrams == bigram)\n",
    "            if np.size(i2gram) > 0:\n",
    "                F[i1, i2] = bigram_frequencies[i2gram][0]\n",
    "\n",
    "    # Normalize matrix with min-max scaling to a range with max 1:\n",
    "    newMax = 1\n",
    "    newMin = np.min(F) / np.max(F)\n",
    "    F = newMin + (F - np.min(F)) * (newMax - newMin) / (np.max(F) - np.min(F))\n",
    "\n",
    "    # Compute the score for this permutation:\n",
    "    score = np.average(data_matrix * F) \n",
    "\n",
    "    if verbose:\n",
    "        print(\"Score for letter permutation {0}: {1}\".format(letters, score))\n",
    "\n",
    "    return score\n",
    "\n",
    "\n",
    "# Compute scores for all letter-key layouts:\n",
    "def optimize_layout(data_matrix, bigrams, letter_permutations, move_positions, fixed_letters, fixed_positions=[], verbose=False):\n",
    "    iter = 0\n",
    "    top_score = 0\n",
    "    scores = []\n",
    "    use_score_function = False\n",
    "\n",
    "    nletters = len(move_positions) + len(fixed_positions)\n",
    "    top_permutation = np.array(['E' for x in range(nletters)])\n",
    "    F = np.zeros((nletters, nletters))\n",
    "\n",
    "    # Loop through the permutations of the selected letters:\n",
    "    for p in letter_permutations:\n",
    "        letters = np.array(['E' for x in range(nletters)])  # KEEP to initialize!\n",
    "        for imove, move_position in enumerate(move_positions):\n",
    "            letters[move_position] = p[imove]\n",
    "        for ifixed, fixed_position in enumerate(fixed_positions):\n",
    "            letters[fixed_position] = fixed_letters[ifixed]\n",
    "\n",
    "        # Compute the score for this permutation:\n",
    "        if use_score_function:\n",
    "            score = score_layout(data_matrix, letters, bigrams, verbose=False)\n",
    "        else:\n",
    "            # Find the bigram frequency for each ordered pair of letters in the permutation:\n",
    "            for i1 in range(nletters):\n",
    "                for i2 in range(nletters):\n",
    "                    bigram = letters[i1] + letters[i2]\n",
    "                    i2gram = np.where(bigrams == bigram)\n",
    "                    # Put bigram frequency in matrix of bigram frequencies:\n",
    "                    if np.size(i2gram) > 0:\n",
    "                        F[i1, i2] = bigram_frequencies[i2gram][0]\n",
    "                    else:\n",
    "                        F[i1, i2] = 0\n",
    "                        \n",
    "            # Normalize matrix with min-max scaling to a range with max 1:\n",
    "            minF = np.min(F)\n",
    "            maxF = np.max(F)\n",
    "            newMin = minF / maxF\n",
    "            F = newMin + (F - minF) * (1 - newMin) / (maxF - minF)\n",
    "\n",
    "            # Compute the score for this permutation:\n",
    "            score = np.average(data_matrix * F) \n",
    "\n",
    "        # Store all scores and the top score and permutation:\n",
    "        scores.append(score)\n",
    "        if score > top_score:\n",
    "            top_score = score\n",
    "            top_permutation = letters\n",
    "            \n",
    "        if verbose:\n",
    "            iter += 1\n",
    "            if iter % 1000000 == 0:\n",
    "                print(\"{0}: {1} {2:0.5f}\".format(iter, top_permutation, top_score))\n",
    "                #imax = np.argmax(scores)\n",
    "                #print(scores[imax], letter_permutations[imax])\n",
    "        \n",
    "    print(\"Top permutation: {0}\".format(top_permutation))\n",
    "        \n",
    "    return top_permutation, scores\n",
    "    \n",
    "\n",
    "# Scramble letters, optimize layout, and generate output:\n",
    "def permute_and_optimize(keys, data_matrix, bigrams, all_letters, move_positions, fixed_positions=[], ntop=10, verbose=False):\n",
    "    matrix_selected = select_keys(data_matrix, keys, verbose)\n",
    "    move_letters = [all_letters[i] for i in move_positions]\n",
    "    fixed_letters = [all_letters[i] for i in fixed_positions]\n",
    "    letter_permutations = permute_letters(move_letters, verbose)\n",
    "    top_permutation, scores = optimize_layout(matrix_selected, bigrams, letter_permutations, move_positions, fixed_letters, fixed_positions, verbose)\n",
    "    print_top_scores(letter_permutations, scores, ntop)\n",
    "    \n",
    "    return top_permutation, letter_permutations, scores\n",
    "\n",
    "\n",
    "# Combine top-scored left and right layouts:\n",
    "def optimize_full_layout_with_left_right_top_scores(data_matrix, bigrams, letter_permutations_left, scores_permutations_left, move_positions_left, fixed_letters_left, fixed_positions_left, letter_permutations_right, scores_permutations_right, move_positions_right, fixed_letters_right, fixed_positions_right, ntop=100, verbose=False):\n",
    "\n",
    "    scores_negative_left = -np.array(scores_permutations_left)\n",
    "    isort = np.argsort(scores_negative_left)[:ntop]\n",
    "    sorted_scores_left = [scores_permutations_left[isort[x]] for x in range(len(isort))]\n",
    "    sorted_permutations_left = [letter_permutations_left[isort[x]].tolist() for x in range(len(isort))]\n",
    "\n",
    "    scores_negative_right = -np.array(scores_permutations_right)\n",
    "    isort = np.argsort(scores_negative_right)[:ntop]\n",
    "    sorted_scores_right = [scores_permutations_right[isort[x]] for x in range(len(isort))]\n",
    "    sorted_permutations_right = [letter_permutations_right[isort[x]].tolist() for x in range(len(isort))]\n",
    "\n",
    "    iter = 0\n",
    "    display_incr = ntop*ntop/10\n",
    "    top_score = 0\n",
    "    scores = []\n",
    "    use_score_function = False\n",
    "    nletters_left = len(move_positions_left) + len(fixed_positions_left)\n",
    "    nletters_right = len(move_positions_right) + len(fixed_positions_right)\n",
    "    nletters = np.shape(data_matrix)[0]\n",
    "    top_permutation = np.array(['E' for x in range(nletters)])\n",
    "    F = np.zeros((nletters, nletters))\n",
    "\n",
    "    # Loop through the permutations of the selected letters:\n",
    "    for p_left in sorted_permutations_left:\n",
    "        letters_left = np.array(['E' for x in range(nletters_left)])  # KEEP to initialize!\n",
    "        for imove, move_position in enumerate(move_positions_left):\n",
    "            letters_left[move_position] = p_left[imove]\n",
    "        for ifixed, fixed_position in enumerate(fixed_positions_left):\n",
    "            letters_left[fixed_position] = fixed_letters_left[ifixed]\n",
    "\n",
    "        for p_right in sorted_permutations_right:\n",
    "            letters_right = np.array(['E' for x in range(nletters_right)])  # KEEP to initialize!\n",
    "            for imove, move_position in enumerate(move_positions_right):\n",
    "                letters_right[move_position] = p_right[imove]\n",
    "            for ifixed, fixed_position in enumerate(fixed_positions_right):\n",
    "                letters_right[fixed_position] = fixed_letters_right[ifixed]\n",
    "\n",
    "            letters = [x for x in letters_left] + [x for x in letters_right]\n",
    "\n",
    "            # Compute the score for this permutation:\n",
    "            if use_score_function:\n",
    "                score = score_layout(data_matrix, letters, bigrams, verbose=False)\n",
    "            else:\n",
    "                # Find the bigram frequency for each ordered pair of letters in the permutation:\n",
    "                for i1 in range(nletters):\n",
    "                    for i2 in range(nletters):\n",
    "                        bigram = letters[i1] + letters[i2]\n",
    "                        i2gram = np.where(bigrams == bigram)\n",
    "                        # Put bigram frequency in matrix of bigram frequencies:\n",
    "                        if np.size(i2gram) > 0:\n",
    "                            F[i1, i2] = bigram_frequencies[i2gram][0]\n",
    "                        else:\n",
    "                            F[i1, i2] = 0\n",
    "\n",
    "                # Normalize matrix with min-max scaling to a range with max 1:\n",
    "                minF = np.min(F)\n",
    "                maxF = np.max(F)\n",
    "                newMin = minF / maxF\n",
    "                F = newMin + (F - minF) * (1 - newMin) / (maxF - minF)\n",
    "\n",
    "                # Compute the score for this permutation:\n",
    "                score = np.average(data_matrix * F) \n",
    "\n",
    "            # Store all scores and the top score and permutation:\n",
    "            scores.append(score)\n",
    "            if score > top_score:\n",
    "                #print(score)\n",
    "                top_score = score\n",
    "                top_permutation = letters\n",
    "\n",
    "            if verbose:\n",
    "                iter += 1\n",
    "                if iter % display_incr == 0:\n",
    "                    print(\"{0}: {1} {2:0.5f}\".format(iter, top_permutation, top_score))\n",
    "        \n",
    "    print(\"Top permutation: {0}\".format(top_score))\n",
    "    print(\"{0})\".format(top_permutation))\n",
    "        \n",
    "    return top_permutation, top_score, scores\n",
    "\n",
    "    \n",
    "# Print top-scored letter permutations:\n",
    "def print_top_scores(letter_permutations, scores, ntop):\n",
    "    scores_negative = -np.array(scores)\n",
    "    isort = np.argsort(scores_negative)[:ntop]\n",
    "    sorted_scores = [scores[isort[x]] for x in range(len(isort))]\n",
    "    sorted_letter_permutations = [letter_permutations[isort[x]].tolist() for x in range(len(isort))]\n",
    "    for ix, x in enumerate(sorted_letter_permutations):\n",
    "        print(x, sorted_scores[ix])\n",
    "        \n",
    "    \n",
    "# Print matrix output:\n",
    "def print_matrix_info(matrix_data, matrix_label, nlines=10):\n",
    "    nkeys = 24\n",
    "    print(\"{0} min = {1}, max = {2}\".format(matrix_label, np.min(matrix_data), np.max(matrix_data)))\n",
    "    matrix_flat = matrix_data.flatten()\n",
    "    argsort = np.argsort(matrix_flat)\n",
    "    print(\"{0} key number pairs with minimum values:\".format(matrix_label))\n",
    "    for x in argsort[0:nlines]:\n",
    "        if x % nkeys == 0:\n",
    "            min_row = np.int(np.ceil(x / nkeys)) + 1\n",
    "            min_col = 1\n",
    "        else:\n",
    "            min_row = np.int(np.ceil(x / nkeys))\n",
    "            min_col = x - nkeys * (min_row-1) + 1                \n",
    "        print(\"        {0} -> {1}        ({2})\".format(min_row, min_col, matrix_flat[x]))\n",
    "    print(\"{0} key number pairs with maximum values:\".format(matrix_label))\n",
    "    max_sort = argsort[-nlines::]\n",
    "    for x in max_sort[::-1]:\n",
    "        if x % nkeys == 0:\n",
    "            max_row = np.int(np.ceil(x / nkeys)) + 1\n",
    "            max_col = 1\n",
    "        else:\n",
    "            max_row = np.int(np.ceil(x / nkeys))\n",
    "            max_col = x - nkeys * (max_row-1) + 1                \n",
    "        print(\"        {0} -> {1}        ({2})\".format(max_row, max_col, matrix_flat[x]))\n",
    "\n",
    "\n",
    "# Plot heatmap of matrix:\n",
    "def heatmap(data, title=\"\", xlabel=\"\", ylabel=\"\"):\n",
    "    # use heatmap function, set the color as viridis and\n",
    "    # make each cell seperate using linewidth parameter\n",
    "    sns_plot = sns.heatmap(data, linewidths=1, cmap=\"viridis\", square=True, vmin=np.min(data), vmax=np.max(data))\n",
    "    plt.title(title)\n",
    "    plt.xlabel(xlabel)\n",
    "    plt.ylabel(ylabel)\n",
    "    sns_plot.figure.savefig(\"{0}_heatmap.png\".format(title))\n",
    "    \n",
    "# Plot histogram:\n",
    "def histmap(data, title=\"\"):\n",
    "    sns.distplot(data)\n",
    "    plt.title(title)\n",
    "    sns_plot.figure.savefig(\"{0}_histogram.png\".format(title))"
   ]
  },
  {
   "cell_type": "markdown",
   "metadata": {
    "colab_type": "text",
    "id": "rFiySi8rDzRN"
   },
   "source": [
    "### Peter Norvig's ngrams table  <a name=\"ngrams\">\n",
    "\n",
    "[http://www.norvig.com/mayzner.html](http://www.norvig.com/mayzner.html)"
   ]
  },
  {
   "cell_type": "code",
   "execution_count": 2,
   "metadata": {
    "colab": {},
    "colab_type": "code",
    "id": "K68F0fkqDzRO"
   },
   "outputs": [],
   "source": [
    "load_original_ngram_files = False\n",
    "if load_original_ngram_files:\n",
    "    ngrams_table = \"data/bigrams-trigrams-frequencies.xlsx\"\n",
    "    wb = xlrd.open_workbook(ngrams_table) \n",
    "    ngrams_sheet = wb.sheet_by_index(0)\n",
    "    # 1-grams and frequencies\n",
    "    onegrams = np.array(())\n",
    "    onegram_frequencies = np.array(())\n",
    "    i = 0\n",
    "    start1 = 0\n",
    "    stop1 = 0\n",
    "    while stop1 == 0:\n",
    "        if ngrams_sheet.cell_value(i, 0) == \"2-gram\":\n",
    "            stop1 = 1\n",
    "        elif ngrams_sheet.cell_value(i, 0) == \"1-gram\":\n",
    "            start1 = 1\n",
    "        elif start1 == 1:\n",
    "            onegrams = np.append(onegrams, ngrams_sheet.cell_value(i, 0))\n",
    "            onegram_frequencies = np.append(onegram_frequencies, ngrams_sheet.cell_value(i, 1))\n",
    "        i += 1\n",
    "    onegram_frequencies = onegram_frequencies / np.sum(onegram_frequencies)\n",
    "\n",
    "    # 2-grams and frequencies\n",
    "    bigrams = np.array(())\n",
    "    bigram_frequencies = np.array(())\n",
    "    i = 0\n",
    "    start1 = 0\n",
    "    stop1 = 0\n",
    "    while stop1 == 0:\n",
    "        if ngrams_sheet.cell_value(i, 0) == \"3-gram\":\n",
    "            stop1 = 1\n",
    "        elif ngrams_sheet.cell_value(i, 0) == \"2-gram\":\n",
    "            start1 = 1\n",
    "        elif start1 == 1:\n",
    "            bigrams = np.append(bigrams, ngrams_sheet.cell_value(i, 0))\n",
    "            bigram_frequencies = np.append(bigram_frequencies, ngrams_sheet.cell_value(i, 1))\n",
    "        i += 1\n",
    "    bigram_frequencies = bigram_frequencies / np.sum(bigram_frequencies)\n",
    "\n",
    "    # Save:\n",
    "    file = open(\"onegrams.txt\", \"w+\")\n",
    "    file.write(str(onegrams))\n",
    "    file.close()\n",
    "    file = open(\"onegram_frequencies.txt\", \"w+\")\n",
    "    file.write(str(onegram_frequencies))\n",
    "    file.close()\n",
    "    file = open(\"bigrams.txt\", \"w+\")\n",
    "    file.write(str(bigrams))\n",
    "    file.close()\n",
    "    file = open(\"bigram_frequencies.txt\", \"w+\")\n",
    "    file.write(str(bigram_frequencies))\n",
    "    file.close()\n",
    "\n",
    "    # Print:\n",
    "    print(repr(onegrams))\n",
    "    print(repr(onegram_frequencies))\n",
    "    print(repr(bigrams))\n",
    "    print(repr(bigram_frequencies))\n",
    "\n",
    "else:\n",
    "    onegrams = np.array(['E', 'T', 'A', 'O', 'I', 'N', 'S', 'R', 'H', 'L', 'D', 'C', 'U',\n",
    "       'M', 'F', 'P', 'G', 'W', 'Y', 'B', 'V', 'K', 'X', 'J', 'Q', 'Z'],\n",
    "      dtype='<U32')\n",
    "    onegram_frequencies = np.array([0.12492063, 0.09275565, 0.08040605, 0.07640693, 0.07569278,\n",
    "       0.07233629, 0.06512767, 0.06279421, 0.05053301, 0.04068986,\n",
    "       0.03816958, 0.03343774, 0.02729702, 0.02511761, 0.02403123,\n",
    "       0.02135891, 0.01869376, 0.01675664, 0.0166498 , 0.01484649,\n",
    "       0.01053252, 0.00540513, 0.00234857, 0.00158774, 0.00120469,\n",
    "       0.00089951])\n",
    "    bigrams = np.array(['TH', 'HE', 'IN', 'ER', 'AN', 'RE', 'ON', 'AT', 'EN', 'ND', 'TI',\n",
    "       'ES', 'OR', 'TE', 'OF', 'ED', 'IS', 'IT', 'AL', 'AR', 'ST', 'TO',\n",
    "       'NT', 'NG', 'SE', 'HA', 'AS', 'OU', 'IO', 'LE', 'VE', 'CO', 'ME',\n",
    "       'DE', 'HI', 'RI', 'RO', 'IC', 'NE', 'EA', 'RA', 'CE', 'LI', 'CH',\n",
    "       'LL', 'BE', 'MA', 'SI', 'OM', 'UR', 'CA', 'EL', 'TA', 'LA', 'NS',\n",
    "       'DI', 'FO', 'HO', 'PE', 'EC', 'PR', 'NO', 'CT', 'US', 'AC', 'OT',\n",
    "       'IL', 'TR', 'LY', 'NC', 'ET', 'UT', 'SS', 'SO', 'RS', 'UN', 'LO',\n",
    "       'WA', 'GE', 'IE', 'WH', 'EE', 'WI', 'EM', 'AD', 'OL', 'RT', 'PO',\n",
    "       'WE', 'NA', 'UL', 'NI', 'TS', 'MO', 'OW', 'PA', 'IM', 'MI', 'AI',\n",
    "       'SH', 'IR', 'SU', 'ID', 'OS', 'IV', 'IA', 'AM', 'FI', 'CI', 'VI',\n",
    "       'PL', 'IG', 'TU', 'EV', 'LD', 'RY', 'MP', 'FE', 'BL', 'AB', 'GH',\n",
    "       'TY', 'OP', 'WO', 'SA', 'AY', 'EX', 'KE', 'FR', 'OO', 'AV', 'AG',\n",
    "       'IF', 'AP', 'GR', 'OD', 'BO', 'SP', 'RD', 'DO', 'UC', 'BU', 'EI',\n",
    "       'OV', 'BY', 'RM', 'EP', 'TT', 'OC', 'FA', 'EF', 'CU', 'RN', 'SC',\n",
    "       'GI', 'DA', 'YO', 'CR', 'CL', 'DU', 'GA', 'QU', 'UE', 'FF', 'BA',\n",
    "       'EY', 'LS', 'VA', 'UM', 'PP', 'UA', 'UP', 'LU', 'GO', 'HT', 'RU',\n",
    "       'UG', 'DS', 'LT', 'PI', 'RC', 'RR', 'EG', 'AU', 'CK', 'EW', 'MU',\n",
    "       'BR', 'BI', 'PT', 'AK', 'PU', 'UI', 'RG', 'IB', 'TL', 'NY', 'KI',\n",
    "       'RK', 'YS', 'OB', 'MM', 'FU', 'PH', 'OG', 'MS', 'YE', 'UD', 'MB',\n",
    "       'IP', 'UB', 'OI', 'RL', 'GU', 'DR', 'HR', 'CC', 'TW', 'FT', 'WN',\n",
    "       'NU', 'AF', 'HU', 'NN', 'EO', 'VO', 'RV', 'NF', 'XP', 'GN', 'SM',\n",
    "       'FL', 'IZ', 'OK', 'NL', 'MY', 'GL', 'AW', 'JU', 'OA', 'EQ', 'SY',\n",
    "       'SL', 'PS', 'JO', 'LF', 'NV', 'JE', 'NK', 'KN', 'GS', 'DY', 'HY',\n",
    "       'ZE', 'KS', 'XT', 'BS', 'IK', 'DD', 'CY', 'RP', 'SK', 'XI', 'OE',\n",
    "       'OY', 'WS', 'LV', 'DL', 'RF', 'EU', 'DG', 'WR', 'XA', 'YI', 'NM',\n",
    "       'EB', 'RB', 'TM', 'XC', 'EH', 'TC', 'GY', 'JA', 'HN', 'YP', 'ZA',\n",
    "       'GG', 'YM', 'SW', 'BJ', 'LM', 'CS', 'II', 'IX', 'XE', 'OH', 'LK',\n",
    "       'DV', 'LP', 'AX', 'OX', 'UF', 'DM', 'IU', 'SF', 'BT', 'KA', 'YT',\n",
    "       'EK', 'PM', 'YA', 'GT', 'WL', 'RH', 'YL', 'HS', 'AH', 'YC', 'YN',\n",
    "       'RW', 'HM', 'LW', 'HL', 'AE', 'ZI', 'AZ', 'LC', 'PY', 'AJ', 'IQ',\n",
    "       'NJ', 'BB', 'NH', 'UO', 'KL', 'LR', 'TN', 'GM', 'SN', 'NR', 'FY',\n",
    "       'MN', 'DW', 'SB', 'YR', 'DN', 'SQ', 'ZO', 'OJ', 'YD', 'LB', 'WT',\n",
    "       'LG', 'KO', 'NP', 'SR', 'NQ', 'KY', 'LN', 'NW', 'TF', 'FS', 'CQ',\n",
    "       'DH', 'SD', 'VY', 'DJ', 'HW', 'XU', 'AO', 'ML', 'UK', 'UY', 'EJ',\n",
    "       'EZ', 'HB', 'NZ', 'NB', 'MC', 'YB', 'TP', 'XH', 'UX', 'TZ', 'BV',\n",
    "       'MF', 'WD', 'OZ', 'YW', 'KH', 'GD', 'BM', 'MR', 'KU', 'UV', 'DT',\n",
    "       'HD', 'AA', 'XX', 'DF', 'DB', 'JI', 'KR', 'XO', 'CM', 'ZZ', 'NX',\n",
    "       'YG', 'XY', 'KG', 'TB', 'DC', 'BD', 'SG', 'WY', 'ZY', 'AQ', 'HF',\n",
    "       'CD', 'VU', 'KW', 'ZU', 'BN', 'IH', 'TG', 'XV', 'UZ', 'BC', 'XF',\n",
    "       'YZ', 'KM', 'DP', 'LH', 'WF', 'KF', 'PF', 'CF', 'MT', 'YU', 'CP',\n",
    "       'PB', 'TD', 'ZL', 'SV', 'HC', 'MG', 'PW', 'GF', 'PD', 'PN', 'PC',\n",
    "       'RX', 'TV', 'IJ', 'WM', 'UH', 'WK', 'WB', 'BH', 'OQ', 'KT', 'RQ',\n",
    "       'KB', 'CG', 'VR', 'CN', 'PK', 'UU', 'YF', 'WP', 'CZ', 'KP', 'DQ',\n",
    "       'WU', 'FM', 'WC', 'MD', 'KD', 'ZH', 'GW', 'RZ', 'CB', 'IW', 'XL',\n",
    "       'HP', 'MW', 'VS', 'FC', 'RJ', 'BP', 'MH', 'HH', 'YH', 'UJ', 'FG',\n",
    "       'FD', 'GB', 'PG', 'TK', 'KK', 'HQ', 'FN', 'LZ', 'VL', 'GP', 'HZ',\n",
    "       'DK', 'YK', 'QI', 'LX', 'VD', 'ZS', 'BW', 'XQ', 'MV', 'UW', 'HG',\n",
    "       'FB', 'SJ', 'WW', 'GK', 'UQ', 'BG', 'SZ', 'JR', 'QL', 'ZT', 'HK',\n",
    "       'VC', 'XM', 'GC', 'FW', 'PZ', 'KC', 'HV', 'XW', 'ZW', 'FP', 'IY',\n",
    "       'PV', 'VT', 'JP', 'CV', 'ZB', 'VP', 'ZR', 'FH', 'YV', 'ZG', 'ZM',\n",
    "       'ZV', 'QS', 'KV', 'VN', 'ZN', 'QA', 'YX', 'JN', 'BF', 'MK', 'CW',\n",
    "       'JM', 'LQ', 'JH', 'KJ', 'JC', 'GZ', 'JS', 'TX', 'FK', 'JL', 'VM',\n",
    "       'LJ', 'TJ', 'JJ', 'CJ', 'VG', 'MJ', 'JT', 'PJ', 'WG', 'VH', 'BK',\n",
    "       'VV', 'JD', 'TQ', 'VB', 'JF', 'DZ', 'XB', 'JB', 'ZC', 'FJ', 'YY',\n",
    "       'QN', 'XS', 'QR', 'JK', 'JV', 'QQ', 'XN', 'VF', 'PX', 'ZD', 'QT',\n",
    "       'ZP', 'QO', 'DX', 'HJ', 'GV', 'JW', 'QC', 'JY', 'GJ', 'QB', 'PQ',\n",
    "       'JG', 'BZ', 'MX', 'QM', 'MZ', 'QF', 'WJ', 'ZQ', 'XR', 'ZK', 'CX',\n",
    "       'FX', 'FV', 'BX', 'VW', 'VJ', 'MQ', 'QV', 'ZF', 'QE', 'YJ', 'GX',\n",
    "       'KX', 'XG', 'QD', 'XJ', 'SX', 'VZ', 'VX', 'WV', 'YQ', 'BQ', 'GQ',\n",
    "       'VK', 'ZJ', 'XK', 'QP', 'HX', 'FZ', 'QH', 'QJ', 'JZ', 'VQ', 'KQ',\n",
    "       'XD', 'QW', 'JX', 'QX', 'KZ', 'WX', 'FQ', 'XZ', 'ZX'], dtype='<U32')\n",
    "    bigram_frequencies = np.array([3.55620339e-02, 3.07474124e-02, 2.43274529e-02, 2.04826481e-02,\n",
    "       1.98515108e-02, 1.85432319e-02, 1.75804642e-02, 1.48673230e-02,\n",
    "       1.45424846e-02, 1.35228145e-02, 1.34257882e-02, 1.33939375e-02,\n",
    "       1.27653906e-02, 1.20486963e-02, 1.17497528e-02, 1.16812337e-02,\n",
    "       1.12842988e-02, 1.12327374e-02, 1.08744953e-02, 1.07489847e-02,\n",
    "       1.05347566e-02, 1.04126653e-02, 1.04125115e-02, 9.53014842e-03,\n",
    "       9.32114579e-03, 9.25763559e-03, 8.71095073e-03, 8.70002319e-03,\n",
    "       8.34931851e-03, 8.29254235e-03, 8.25280566e-03, 7.93859725e-03,\n",
    "       7.93006486e-03, 7.64818391e-03, 7.63241814e-03, 7.27618866e-03,\n",
    "       7.26724441e-03, 6.98707488e-03, 6.91722265e-03, 6.88165290e-03,\n",
    "       6.85633031e-03, 6.51417363e-03, 6.24352184e-03, 5.97765978e-03,\n",
    "       5.76571076e-03, 5.76283716e-03, 5.65269345e-03, 5.50057242e-03,\n",
    "       5.46256885e-03, 5.42747781e-03, 5.38164098e-03, 5.30301559e-03,\n",
    "       5.29886071e-03, 5.27529444e-03, 5.08937452e-03, 4.92966405e-03,\n",
    "       4.87753568e-03, 4.84902069e-03, 4.77989185e-03, 4.77282719e-03,\n",
    "       4.74470916e-03, 4.64574958e-03, 4.60971757e-03, 4.54257059e-03,\n",
    "       4.47772200e-03, 4.42103298e-03, 4.31534618e-03, 4.25820178e-03,\n",
    "       4.25013516e-03, 4.15745843e-03, 4.12608242e-03, 4.05151268e-03,\n",
    "       4.05075209e-03, 3.97732158e-03, 3.96527277e-03, 3.94413046e-03,\n",
    "       3.86884200e-03, 3.85337077e-03, 3.85189513e-03, 3.84646388e-03,\n",
    "       3.78793431e-03, 3.77605408e-03, 3.74420703e-03, 3.73663638e-03,\n",
    "       3.67956418e-03, 3.65492648e-03, 3.61676413e-03, 3.61373182e-03,\n",
    "       3.60899233e-03, 3.47234973e-03, 3.45829494e-03, 3.39212478e-03,\n",
    "       3.37488213e-03, 3.36877623e-03, 3.30478042e-03, 3.23572471e-03,\n",
    "       3.17759946e-03, 3.17691369e-03, 3.16447752e-03, 3.15240004e-03,\n",
    "       3.15172398e-03, 3.11176534e-03, 2.95503911e-03, 2.89966768e-03,\n",
    "       2.87848219e-03, 2.86282435e-03, 2.84865969e-03, 2.84585627e-03,\n",
    "       2.81484803e-03, 2.69544349e-03, 2.62987083e-03, 2.54961380e-03,\n",
    "       2.54906719e-03, 2.54783715e-03, 2.52606379e-03, 2.47740122e-03,\n",
    "       2.39175226e-03, 2.36573195e-03, 2.33400171e-03, 2.29786417e-03,\n",
    "       2.27503360e-03, 2.27277101e-03, 2.23911052e-03, 2.21754315e-03,\n",
    "       2.18017446e-03, 2.17360835e-03, 2.14044590e-03, 2.13767970e-03,\n",
    "       2.13188615e-03, 2.10259217e-03, 2.04932647e-03, 2.04724906e-03,\n",
    "       2.03256516e-03, 2.02845908e-03, 1.96777866e-03, 1.95449429e-03,\n",
    "       1.95410531e-03, 1.91254221e-03, 1.89316385e-03, 1.88234971e-03,\n",
    "       1.87652262e-03, 1.84944194e-03, 1.83351654e-03, 1.78086545e-03,\n",
    "       1.76468430e-03, 1.75132925e-03, 1.71573739e-03, 1.70683303e-03,\n",
    "       1.66405086e-03, 1.63999785e-03, 1.62732115e-03, 1.62613977e-03,\n",
    "       1.60361051e-03, 1.54749379e-03, 1.51636562e-03, 1.51067364e-03,\n",
    "       1.49901610e-03, 1.49455831e-03, 1.49011351e-03, 1.48460771e-03,\n",
    "       1.48077067e-03, 1.47541326e-03, 1.47480347e-03, 1.46316579e-03,\n",
    "       1.46204465e-03, 1.43745726e-03, 1.41513491e-03, 1.39980075e-03,\n",
    "       1.38382616e-03, 1.36545598e-03, 1.36333253e-03, 1.36012483e-03,\n",
    "       1.35189358e-03, 1.32127808e-03, 1.30185876e-03, 1.28328757e-03,\n",
    "       1.27907576e-03, 1.26260675e-03, 1.23637099e-03, 1.23094105e-03,\n",
    "       1.21386641e-03, 1.20743055e-03, 1.19536134e-03, 1.19032774e-03,\n",
    "       1.17626124e-03, 1.16805780e-03, 1.14618533e-03, 1.11559852e-03,\n",
    "       1.06597119e-03, 1.05782134e-03, 1.04699320e-03, 1.04540205e-03,\n",
    "       1.01153313e-03, 9.97734501e-04, 9.86028683e-04, 9.84491816e-04,\n",
    "       9.79174450e-04, 9.78784303e-04, 9.70343472e-04, 9.68322624e-04,\n",
    "       9.66708177e-04, 9.60690121e-04, 9.59749105e-04, 9.43900197e-04,\n",
    "       9.40242103e-04, 9.28331656e-04, 9.26685761e-04, 9.14014864e-04,\n",
    "       9.02555222e-04, 8.92112065e-04, 8.85803335e-04, 8.77507468e-04,\n",
    "       8.62646840e-04, 8.57695087e-04, 8.54499050e-04, 8.43925356e-04,\n",
    "       8.31382851e-04, 8.23722323e-04, 8.16643644e-04, 7.89875969e-04,\n",
    "       7.86444549e-04, 7.42072946e-04, 7.36927617e-04, 7.27646949e-04,\n",
    "       7.25004577e-04, 7.11071849e-04, 6.92833068e-04, 6.71807283e-04,\n",
    "       6.68638321e-04, 6.56391013e-04, 6.51990243e-04, 6.49048818e-04,\n",
    "       6.43397537e-04, 6.43118050e-04, 6.37839069e-04, 6.21864133e-04,\n",
    "       6.06367626e-04, 5.99162639e-04, 5.87024289e-04, 5.74860663e-04,\n",
    "       5.72519573e-04, 5.68447140e-04, 5.58806800e-04, 5.45711864e-04,\n",
    "       5.37896691e-04, 5.34768852e-04, 5.20071483e-04, 5.18874875e-04,\n",
    "       5.16054649e-04, 5.14388309e-04, 5.11931727e-04, 5.04227393e-04,\n",
    "       5.00890900e-04, 4.97325634e-04, 4.75088970e-04, 4.66605249e-04,\n",
    "       4.58324041e-04, 4.29127437e-04, 4.27514542e-04, 4.17186146e-04,\n",
    "       4.16199437e-04, 3.94646924e-04, 3.94183167e-04, 3.86306652e-04,\n",
    "       3.61812839e-04, 3.50841120e-04, 3.49059129e-04, 3.23402665e-04,\n",
    "       3.22604151e-04, 3.11527347e-04, 3.10032877e-04, 3.07611603e-04,\n",
    "       2.96010489e-04, 2.88197255e-04, 2.77494857e-04, 2.70735751e-04,\n",
    "       2.67122244e-04, 2.64790886e-04, 2.64597695e-04, 2.63237166e-04,\n",
    "       2.61362824e-04, 2.59399816e-04, 2.58614910e-04, 2.57579773e-04,\n",
    "       2.49143242e-04, 2.49036616e-04, 2.47547306e-04, 2.36748821e-04,\n",
    "       2.35282013e-04, 2.32245156e-04, 2.30209194e-04, 2.28229670e-04,\n",
    "       2.27822992e-04, 2.20319919e-04, 2.17945603e-04, 2.13543715e-04,\n",
    "       1.97145202e-04, 1.90526970e-04, 1.90304866e-04, 1.88393786e-04,\n",
    "       1.85754127e-04, 1.85322815e-04, 1.81767370e-04, 1.74089940e-04,\n",
    "       1.71644610e-04, 1.71039222e-04, 1.69557657e-04, 1.66839046e-04,\n",
    "       1.64718022e-04, 1.59561636e-04, 1.57658164e-04, 1.54026397e-04,\n",
    "       1.52211752e-04, 1.51115808e-04, 1.47564559e-04, 1.46841709e-04,\n",
    "       1.36432949e-04, 1.35005671e-04, 1.32141796e-04, 1.27573620e-04,\n",
    "       1.27432415e-04, 1.26388914e-04, 1.25919175e-04, 1.23965197e-04,\n",
    "       1.21174483e-04, 1.18691292e-04, 1.18219114e-04, 1.17637524e-04,\n",
    "       1.17526303e-04, 1.13037594e-04, 1.10863960e-04, 1.09331046e-04,\n",
    "       1.08837112e-04, 1.06567401e-04, 1.05698197e-04, 1.00512685e-04,\n",
    "       1.00106518e-04, 9.85814937e-05, 9.17495595e-05, 9.15174736e-05,\n",
    "       9.09807382e-05, 8.79007001e-05, 8.16240791e-05, 7.91627682e-05,\n",
    "       7.79158645e-05, 7.56940333e-05, 7.44394656e-05, 7.18101849e-05,\n",
    "       6.97589276e-05, 6.81802488e-05, 6.69029567e-05, 6.54143249e-05,\n",
    "       6.08786925e-05, 6.07607969e-05, 6.03570614e-05, 5.98994801e-05,\n",
    "       5.95001291e-05, 5.94970869e-05, 5.86983574e-05, 5.79700512e-05,\n",
    "       5.66119466e-05, 5.50952209e-05, 5.47453912e-05, 5.43839597e-05,\n",
    "       5.25861529e-05, 4.89722417e-05, 4.78187439e-05, 4.77415865e-05,\n",
    "       4.77107257e-05, 4.62616737e-05, 4.60653783e-05, 4.60409299e-05,\n",
    "       4.56730211e-05, 4.54645078e-05, 4.52324283e-05, 4.38982745e-05,\n",
    "       4.36906610e-05, 4.33593810e-05, 4.31226640e-05, 4.29912118e-05,\n",
    "       4.29446346e-05, 4.17137339e-05, 3.93478837e-05, 3.84895449e-05,\n",
    "       3.84390172e-05, 3.81834469e-05, 3.53827628e-05, 3.47222349e-05,\n",
    "       3.37168917e-05, 3.18518637e-05, 3.15951703e-05, 3.12905207e-05,\n",
    "       3.10605585e-05, 3.02567524e-05, 2.91709879e-05, 2.89567711e-05,\n",
    "       2.85652293e-05, 2.82994071e-05, 2.80417376e-05, 2.77861205e-05,\n",
    "       2.77303518e-05, 2.76273746e-05, 2.72172235e-05, 2.69880432e-05,\n",
    "       2.66503046e-05, 2.66033916e-05, 2.62086568e-05, 2.59259584e-05,\n",
    "       2.57640153e-05, 2.56299050e-05, 2.54449453e-05, 2.51909823e-05,\n",
    "       2.47409597e-05, 2.46797892e-05, 2.42472084e-05, 2.35748710e-05,\n",
    "       2.24438116e-05, 2.24317329e-05, 2.23097275e-05, 2.21249597e-05,\n",
    "       2.17815183e-05, 2.15248592e-05, 2.09465192e-05, 2.09125513e-05,\n",
    "       1.96913177e-05, 1.95330853e-05, 1.91064697e-05, 1.88952009e-05,\n",
    "       1.85746459e-05, 1.81220081e-05, 1.78919334e-05, 1.73267658e-05,\n",
    "       1.61874055e-05, 1.60765855e-05, 1.58740992e-05, 1.45486411e-05,\n",
    "       1.40812264e-05, 1.36678429e-05, 1.32768479e-05, 1.31460479e-05,\n",
    "       1.30872012e-05, 1.29588223e-05, 1.25748548e-05, 1.24146066e-05,\n",
    "       1.22821602e-05, 1.22486357e-05, 1.20714645e-05, 1.20448925e-05,\n",
    "       1.19866728e-05, 1.18936663e-05, 1.17590888e-05, 1.17001978e-05,\n",
    "       1.16346360e-05, 1.11092945e-05, 1.08992577e-05, 1.06740258e-05,\n",
    "       1.06735218e-05, 1.06144296e-05, 1.05679067e-05, 1.03656570e-05,\n",
    "       1.03317955e-05, 9.98437559e-06, 9.01036943e-06, 8.85768061e-06,\n",
    "       8.76035160e-06, 8.60019167e-06, 8.19227801e-06, 7.80479658e-06,\n",
    "       7.53516931e-06, 7.44150882e-06, 7.30644125e-06, 7.26777599e-06,\n",
    "       7.06747616e-06, 6.95177332e-06, 6.85925126e-06, 6.74132156e-06,\n",
    "       6.71322068e-06, 6.70106994e-06, 6.66133186e-06, 6.47626505e-06,\n",
    "       6.38130476e-06, 6.29576510e-06, 6.24612583e-06, 5.93271496e-06,\n",
    "       5.92132104e-06, 5.83947722e-06, 5.76779879e-06, 5.76465728e-06,\n",
    "       5.53187023e-06, 5.47131015e-06, 5.33180695e-06, 5.22417954e-06,\n",
    "       5.20732008e-06, 5.15949060e-06, 5.11569104e-06, 4.95336950e-06,\n",
    "       4.94557425e-06, 4.73636484e-06, 4.63955858e-06, 4.53340156e-06,\n",
    "       4.22935422e-06, 4.19307790e-06, 4.17347414e-06, 4.12142146e-06,\n",
    "       4.11855764e-06, 3.80541311e-06, 3.36707879e-06, 3.29563656e-06,\n",
    "       3.17577578e-06, 3.05442971e-06, 2.98983688e-06, 2.97762691e-06,\n",
    "       2.95066092e-06, 2.91720550e-06, 2.89840858e-06, 2.77497857e-06,\n",
    "       2.76265227e-06, 2.74176112e-06, 2.70310579e-06, 2.61648976e-06,\n",
    "       2.60275585e-06, 2.56616744e-06, 2.55465117e-06, 2.49712549e-06,\n",
    "       2.42815484e-06, 2.37933375e-06, 2.35040476e-06, 2.33914845e-06,\n",
    "       2.33036549e-06, 2.32978989e-06, 2.28930419e-06, 2.28804340e-06,\n",
    "       2.26346210e-06, 2.24353844e-06, 2.23182640e-06, 2.23165865e-06,\n",
    "       2.22696341e-06, 2.22115030e-06, 2.21572164e-06, 2.20668084e-06,\n",
    "       2.19243658e-06, 2.17382266e-06, 2.08159887e-06, 2.07762818e-06,\n",
    "       1.95415065e-06, 1.88693410e-06, 1.83219245e-06, 1.81431726e-06,\n",
    "       1.67631850e-06, 1.67169206e-06, 1.63803449e-06, 1.57770706e-06,\n",
    "       1.56577585e-06, 1.53130790e-06, 1.52519015e-06, 1.52439998e-06,\n",
    "       1.49350905e-06, 1.47212210e-06, 1.45715861e-06, 1.40331777e-06,\n",
    "       1.38641504e-06, 1.29786439e-06, 1.27069447e-06, 1.25613209e-06,\n",
    "       1.23105569e-06, 1.22268909e-06, 1.21688094e-06, 1.18065108e-06,\n",
    "       1.18060143e-06, 1.16794389e-06, 1.13216621e-06, 1.12716419e-06,\n",
    "       1.12418866e-06, 1.12412659e-06, 1.05684621e-06, 1.05049722e-06,\n",
    "       1.04986594e-06, 1.03676402e-06, 1.03482230e-06, 9.96847192e-07,\n",
    "       9.75926251e-07, 9.54397081e-07, 9.36101632e-07, 9.30100914e-07,\n",
    "       9.27467975e-07, 8.92801774e-07, 8.85217179e-07, 8.58891337e-07,\n",
    "       7.80484800e-07, 7.67724409e-07, 7.54031637e-07, 7.45052550e-07,\n",
    "       7.32511689e-07, 7.06828122e-07, 6.59585949e-07, 6.40055245e-07,\n",
    "       6.18628925e-07, 6.17142222e-07, 6.09904832e-07, 6.07242457e-07,\n",
    "       5.72270900e-07, 5.49823535e-07, 5.22568859e-07, 5.01838721e-07,\n",
    "       4.91372576e-07, 4.82981856e-07, 4.69688423e-07, 4.59727658e-07,\n",
    "       4.54795508e-07, 4.22875379e-07, 4.13494116e-07, 3.99834682e-07,\n",
    "       3.97288987e-07, 3.87644926e-07, 3.84245584e-07, 3.81268632e-07,\n",
    "       3.67029696e-07, 3.57267536e-07, 3.52642869e-07, 3.51058992e-07,\n",
    "       3.44112772e-07, 3.36167495e-07, 3.24215712e-07, 3.23810344e-07,\n",
    "       3.21814716e-07, 3.21505459e-07, 3.10936465e-07, 2.88018831e-07,\n",
    "       2.86309762e-07, 2.76140106e-07, 2.63218703e-07, 2.56899508e-07,\n",
    "       2.51244222e-07, 2.25386521e-07, 2.15766576e-07, 2.03018243e-07,\n",
    "       1.99078411e-07, 1.97551987e-07, 1.96981706e-07, 1.92415912e-07,\n",
    "       1.84391194e-07, 1.81253585e-07, 1.78663913e-07, 1.77747846e-07,\n",
    "       1.59541769e-07, 1.38003378e-07, 1.36499298e-07, 1.22889160e-07,\n",
    "       1.22576357e-07, 1.19711121e-07, 1.09597855e-07, 9.97477409e-08,\n",
    "       9.65292710e-08, 9.36271510e-08, 9.35785637e-08, 9.34540807e-08,\n",
    "       8.40270671e-08, 7.82629028e-08, 7.54898762e-08, 6.64058115e-08,\n",
    "       5.96748649e-08, 5.79118882e-08, 5.73650143e-08, 5.65688198e-08,\n",
    "       5.34673852e-08, 5.34237630e-08, 5.29956976e-08, 4.84174907e-08,\n",
    "       3.83818937e-08])"
   ]
  },
  {
   "cell_type": "markdown",
   "metadata": {
    "colab_type": "text",
    "id": "46wIL5xzDzRS"
   },
   "source": [
    "## Speed matrix  <a name=\"speed\">\n",
    "### 24x24 relative Speed matrix between key pair (averaged for left/right symmetry)\n",
    "\n",
    "  - does not take into account order of key pairs (see Flow24x24 matrix)\n",
    "  - the original version was constructed with data from right-handed people\n",
    "  - 24 keys that don't require extending index or little fingers (\"vertical range keys\")\n",
    "\n",
    "### Vertical range keys\n",
    "\n",
    "        Left:            Right:\n",
    "     1  2  3  4       13 14 15 16 \n",
    "     5  6  7  8       17 18 19 20\n",
    "     9 10 11 12       21 22 23 24\n",
    "\n",
    "Interkey stroke times in milliseconds from Table 3 of <br>\n",
    "\"Estimation of digraph costs for keyboard layout optimization\", <br>\n",
    "A Iseri, Ma Eksioglu, International Journal of Industrial Ergonomics, 48, 127-138, 2015. <br>\n",
    "Key numbering in article and in spreadsheet:\n",
    "\n",
    "         Left:           Right:\n",
    "     1 4 7 10 13   16 19 22 25 28 31\n",
    "     2 5 8 11 14   17 20 23 26 29 32\n",
    "     3 6 9 12 15   18 21 24 27 30\n",
    "     \n",
    "### Load table of interkey speeds"
   ]
  },
  {
   "cell_type": "code",
   "execution_count": 3,
   "metadata": {
    "colab": {},
    "colab_type": "code",
    "id": "095yG4iPDzRT"
   },
   "outputs": [],
   "source": [
    "if use_speed_data:\n",
    "\n",
    "    load_original_interkey_timings_table = False\n",
    "    if load_original_interkey_timings_table:\n",
    "\n",
    "        interkey_table = \"data/interkey-timings.xlsx\"\n",
    "        wb = xlrd.open_workbook(interkey_table) \n",
    "        interkey_sheet = wb.sheet_by_index(0)\n",
    "        \n",
    "        # Convert interkey stroke times table to array:\n",
    "        Time32x32 = np.zeros((32,32))\n",
    "        for i in range(1,33):\n",
    "            for j in range(1,33):\n",
    "                if interkey_sheet.cell_value(i,j):\n",
    "                    Time32x32[i-1,j-1] = interkey_sheet.cell_value(i,j)\n",
    "\n",
    "        # Fill empty (symmetric) portion of the array:\n",
    "        for i in range(1,33):\n",
    "            for j in range(1,33):\n",
    "                if interkey_sheet.cell_value(i,j):\n",
    "                    Time32x32[j-1,i-1] = interkey_sheet.cell_value(i,j)\n",
    "\n",
    "        # Extract pairwise entries for the 24 vertical range keys:\n",
    "        table_24_positions = [1,4,7,10, 2,5,8,11, 3,6,9,12,  19,22,25,28, 20,23,26,29, 21,24,27,30]\n",
    "        Time24x24 = np.zeros((24, 24))\n",
    "        u = 0\n",
    "        for i in table_24_positions:\n",
    "            u += 1\n",
    "            v = 0\n",
    "            for j in table_24_positions:\n",
    "                v += 1\n",
    "                Time24x24[u-1,v-1] = Time32x32[i-1,j-1]\n",
    "\n",
    "        # Left/right symmetric version of the Time24x24 matrix\n",
    "        # (The original version was constructed with data from right-handed people.)\n",
    "        TimeSymmetric24x24 = np.ones((24,24))\n",
    "        for i in range(24):\n",
    "            for j in range(24):\n",
    "                avgvalue = (Time24x24[i,j] + Time24x24[j,i]) / 2 \n",
    "                TimeSymmetric24x24[i,j] = avgvalue\n",
    "                TimeSymmetric24x24[j,i] = avgvalue\n",
    "\n",
    "        # Normalize matrix with min-max scaling to a range with maximum = 1:\n",
    "        newMin = np.min(TimeSymmetric24x24) / np.max(TimeSymmetric24x24)\n",
    "        newMax = 1.0\n",
    "        TimeSymmetric24x24 = newMin + (TimeSymmetric24x24 - np.min(TimeSymmetric24x24)) * (newMax - newMin) / (np.max(TimeSymmetric24x24) - np.min(TimeSymmetric24x24))\n",
    "\n",
    "        # Convert relative interkey stroke times to relative speeds by subtracting from 1:\n",
    "        Speed24x24 = 1 - TimeSymmetric24x24 + np.min(TimeSymmetric24x24)\n",
    "\n",
    "        # Print:\n",
    "        print(repr(Speed24x24))\n",
    "\n",
    "    else:\n",
    "        Speed24x24 = np.array([[0.78729282, 0.70718232, 0.76519337, 0.87569061, 0.59392265,\n",
    "        0.6160221 , 0.69060773, 0.87016575, 0.34254144, 0.43093923,\n",
    "        0.60220994, 0.81491713, 0.86187845, 0.84254144, 0.83701657,\n",
    "        0.81491713, 0.89779006, 0.89779006, 0.89226519, 0.87845304,\n",
    "        0.85635359, 0.84530387, 0.83977901, 0.81767956],\n",
    "       [0.70718232, 0.82872928, 0.82596685, 0.92265193, 0.66850829,\n",
    "        0.6519337 , 0.78729282, 0.91436464, 0.53038674, 0.51104972,\n",
    "        0.6961326 , 0.86740331, 0.88121547, 0.86187845, 0.85911602,\n",
    "        0.83701657, 0.9198895 , 0.9198895 , 0.91436464, 0.90055249,\n",
    "        0.87845304, 0.86740331, 0.86187845, 0.83977901],\n",
    "       [0.76519337, 0.82596685, 0.85911602, 0.91712707, 0.78729282,\n",
    "        0.79281768, 0.6878453 , 0.90055249, 0.67403315, 0.73756906,\n",
    "        0.60220994, 0.87016575, 0.89502762, 0.87569061, 0.87292818,\n",
    "        0.85082873, 0.93370166, 0.93370166, 0.9281768 , 0.91436464,\n",
    "        0.89226519, 0.87845304, 0.87569061, 0.85359116],\n",
    "       [0.87569061, 0.92265193, 0.91712707, 0.86187845, 0.88674033,\n",
    "        0.8839779 , 0.89502762, 0.70441989, 0.87292818, 0.81767956,\n",
    "        0.68232044, 0.61878453, 0.90331492, 0.88121547, 0.87845304,\n",
    "        0.85635359, 0.93922652, 0.93922652, 0.93370166, 0.9198895 ,\n",
    "        0.89779006, 0.88674033, 0.88121547, 0.85911602],\n",
    "       [0.59392265, 0.66850829, 0.78729282, 0.88674033, 0.78729282,\n",
    "        0.66574586, 0.75414365, 0.87016575, 0.5801105 , 0.59116022,\n",
    "        0.75414365, 0.86187845, 0.93370166, 0.91436464, 0.91160221,\n",
    "        0.88674033, 0.97237569, 0.97237569, 0.9640884 , 0.95027624,\n",
    "        0.9281768 , 0.91712707, 0.91160221, 0.88950276],\n",
    "       [0.6160221 , 0.6519337 , 0.79281768, 0.8839779 , 0.66574586,\n",
    "        0.82872928, 0.82320442, 0.91712707, 0.6519337 , 0.62154696,\n",
    "        0.82044199, 0.91436464, 0.94751381, 0.9281768 , 0.92541436,\n",
    "        0.90331492, 0.98618785, 0.98618785, 0.98066298, 0.96685083,\n",
    "        0.94475138, 0.93093923, 0.9281768 , 0.90607735],\n",
    "       [0.69060773, 0.78729282, 0.6878453 , 0.89502762, 0.75414365,\n",
    "        0.82320442, 0.85911602, 0.91712707, 0.77348066, 0.73480663,\n",
    "        0.66850829, 0.91160221, 0.95856354, 0.93922652, 0.93646409,\n",
    "        0.91436464, 0.99723757, 0.99723757, 0.99171271, 0.97790055,\n",
    "        0.9558011 , 0.94198895, 0.93922652, 0.91712707],\n",
    "       [0.87016575, 0.91436464, 0.90055249, 0.70441989, 0.87016575,\n",
    "        0.91712707, 0.91712707, 0.86187845, 0.88674033, 0.92265193,\n",
    "        0.85911602, 0.71823204, 0.96132597, 0.94198895, 0.93922652,\n",
    "        0.91436464, 1.        , 1.        , 0.99171271, 0.98066298,\n",
    "        0.9558011 , 0.94475138, 0.93922652, 0.91712707],\n",
    "       [0.34254144, 0.53038674, 0.67403315, 0.87292818, 0.5801105 ,\n",
    "        0.6519337 , 0.77348066, 0.88674033, 0.78729282, 0.67679558,\n",
    "        0.79281768, 0.8839779 , 0.85635359, 0.83701657, 0.83425414,\n",
    "        0.80939227, 0.89502762, 0.89502762, 0.88674033, 0.87569061,\n",
    "        0.85082873, 0.83977901, 0.83425414, 0.8121547 ],\n",
    "       [0.43093923, 0.51104972, 0.73756906, 0.81767956, 0.59116022,\n",
    "        0.62154696, 0.73480663, 0.92265193, 0.67679558, 0.82872928,\n",
    "        0.82044199, 0.89502762, 0.87016575, 0.85082873, 0.8480663 ,\n",
    "        0.82596685, 0.90883978, 0.90883978, 0.90331492, 0.88950276,\n",
    "        0.86740331, 0.85359116, 0.85082873, 0.82872928],\n",
    "       [0.60220994, 0.6961326 , 0.60220994, 0.68232044, 0.75414365,\n",
    "        0.82044199, 0.66850829, 0.85911602, 0.79281768, 0.82044199,\n",
    "        0.85911602, 0.91436464, 0.88950276, 0.87016575, 0.86740331,\n",
    "        0.84254144, 0.9281768 , 0.9281768 , 0.9198895 , 0.90607735,\n",
    "        0.8839779 , 0.87292818, 0.86740331, 0.84530387],\n",
    "       [0.81491713, 0.86740331, 0.87016575, 0.61878453, 0.86187845,\n",
    "        0.91436464, 0.91160221, 0.71823204, 0.8839779 , 0.89502762,\n",
    "        0.91436464, 0.86187845, 0.90607735, 0.88674033, 0.8839779 ,\n",
    "        0.86187845, 0.94475138, 0.94475138, 0.93922652, 0.92541436,\n",
    "        0.90331492, 0.88950276, 0.88674033, 0.86464088],\n",
    "       [0.86187845, 0.88121547, 0.89502762, 0.90331492, 0.93370166,\n",
    "        0.94751381, 0.95856354, 0.96132597, 0.85635359, 0.87016575,\n",
    "        0.88950276, 0.90607735, 0.91160221, 0.92265193, 0.93922652,\n",
    "        0.9281768 , 0.80939227, 0.91160221, 0.93646409, 0.87569061,\n",
    "        0.74033149, 0.76519337, 0.88121547, 0.9281768 ],\n",
    "       [0.84254144, 0.86187845, 0.87569061, 0.88121547, 0.91436464,\n",
    "        0.9281768 , 0.93922652, 0.94198895, 0.83701657, 0.85082873,\n",
    "        0.87016575, 0.88674033, 0.92265193, 0.91160221, 0.80662983,\n",
    "        0.75138122, 0.95027624, 0.75690608, 0.80110497, 0.75966851,\n",
    "        0.91712707, 0.70165746, 0.75414365, 0.70441989],\n",
    "       [0.83701657, 0.85911602, 0.87292818, 0.87845304, 0.91160221,\n",
    "        0.92541436, 0.93646409, 0.93922652, 0.83425414, 0.8480663 ,\n",
    "        0.86740331, 0.8839779 , 0.93922652, 0.80662983, 0.89502762,\n",
    "        0.62983425, 0.95303867, 0.80939227, 0.74861878, 0.69060773,\n",
    "        0.90055249, 0.70441989, 0.66850829, 0.70718232],\n",
    "       [0.81491713, 0.83701657, 0.85082873, 0.85635359, 0.88674033,\n",
    "        0.90331492, 0.91436464, 0.91436464, 0.80939227, 0.82596685,\n",
    "        0.84254144, 0.86187845, 0.9281768 , 0.75138122, 0.62983425,\n",
    "        0.85911602, 0.92265193, 0.75966851, 0.63535912, 0.68508287,\n",
    "        0.87569061, 0.58839779, 0.32872928, 0.67679558],\n",
    "       [0.89779006, 0.9198895 , 0.93370166, 0.93922652, 0.97237569,\n",
    "        0.98618785, 0.99723757, 1.        , 0.89502762, 0.90883978,\n",
    "        0.9281768 , 0.94475138, 0.80939227, 0.95027624, 0.95303867,\n",
    "        0.92265193, 0.91160221, 0.96132597, 0.94751381, 0.90883978,\n",
    "        0.79834254, 0.91712707, 0.94475138, 0.93370166],\n",
    "       [0.89779006, 0.9198895 , 0.93370166, 0.93922652, 0.97237569,\n",
    "        0.98618785, 0.99723757, 1.        , 0.89502762, 0.90883978,\n",
    "        0.9281768 , 0.94475138, 0.91160221, 0.75690608, 0.80939227,\n",
    "        0.75966851, 0.96132597, 0.91160221, 0.83425414, 0.82320442,\n",
    "        0.9281768 , 0.76519337, 0.82320442, 0.79281768],\n",
    "       [0.89226519, 0.91436464, 0.9281768 , 0.93370166, 0.9640884 ,\n",
    "        0.98066298, 0.99171271, 0.99171271, 0.88674033, 0.90331492,\n",
    "        0.9198895 , 0.93922652, 0.93646409, 0.80110497, 0.74861878,\n",
    "        0.63535912, 0.94751381, 0.83425414, 0.89502762, 0.66574586,\n",
    "        0.9281768 , 0.81767956, 0.75414365, 0.67955801],\n",
    "       [0.87845304, 0.90055249, 0.91436464, 0.9198895 , 0.95027624,\n",
    "        0.96685083, 0.97790055, 0.98066298, 0.87569061, 0.88950276,\n",
    "        0.90607735, 0.92541436, 0.87569061, 0.75966851, 0.69060773,\n",
    "        0.68508287, 0.90883978, 0.82320442, 0.66574586, 0.85911602,\n",
    "        0.88674033, 0.72099448, 0.51933702, 0.69337017],\n",
    "       [0.85635359, 0.87845304, 0.89226519, 0.89779006, 0.9281768 ,\n",
    "        0.94475138, 0.9558011 , 0.9558011 , 0.85082873, 0.86740331,\n",
    "        0.8839779 , 0.90331492, 0.74033149, 0.91712707, 0.90055249,\n",
    "        0.87569061, 0.79834254, 0.9281768 , 0.9281768 , 0.88674033,\n",
    "        0.91160221, 0.94198895, 0.93646409, 0.84530387],\n",
    "       [0.84530387, 0.86740331, 0.87845304, 0.88674033, 0.91712707,\n",
    "        0.93093923, 0.94198895, 0.94475138, 0.83977901, 0.85359116,\n",
    "        0.87292818, 0.88950276, 0.76519337, 0.70165746, 0.70441989,\n",
    "        0.58839779, 0.91712707, 0.76519337, 0.81767956, 0.72099448,\n",
    "        0.94198895, 0.91160221, 0.84530387, 0.59668508],\n",
    "       [0.83977901, 0.86187845, 0.87569061, 0.88121547, 0.91160221,\n",
    "        0.9281768 , 0.93922652, 0.93922652, 0.83425414, 0.85082873,\n",
    "        0.86740331, 0.88674033, 0.88121547, 0.75414365, 0.66850829,\n",
    "        0.32872928, 0.94475138, 0.82320442, 0.75414365, 0.51933702,\n",
    "        0.93646409, 0.84530387, 0.89502762, 0.59668508],\n",
    "       [0.81767956, 0.83977901, 0.85359116, 0.85911602, 0.88950276,\n",
    "        0.90607735, 0.91712707, 0.91712707, 0.8121547 , 0.82872928,\n",
    "        0.84530387, 0.86464088, 0.9281768 , 0.70441989, 0.70718232,\n",
    "        0.67679558, 0.93370166, 0.79281768, 0.67955801, 0.69337017,\n",
    "        0.84530387, 0.59668508, 0.59668508, 0.85911602]])\n",
    "    \n",
    "        # Print:\n",
    "        print_matrix_info(matrix_data=Speed24x24, matrix_label=\"Speed24x24\", nlines=10)\n",
    "        heatmap(data=Speed24x24, title=\"Speed24x24\", xlabel=\"Key 1\", ylabel=\"Key 2\")\n",
    "\n",
    "        # Save:\n",
    "        file = open(\"Speed24x24.txt\", \"w+\")\n",
    "        file.write(str(Speed24x24))\n",
    "        file.close()"
   ]
  },
  {
   "cell_type": "code",
   "execution_count": 4,
   "metadata": {
    "colab": {},
    "colab_type": "code",
    "id": "TK3mj_z1DzRZ"
   },
   "outputs": [],
   "source": [
    "# Histogram\n",
    "if use_speed_data:\n",
    "    sns_plot = sns.distplot(Speed24x24)\n",
    "    sns_plot.figure.savefig(\"{0}_histogram.png\".format(\"Speed24x24\"))"
   ]
  },
  {
   "cell_type": "markdown",
   "metadata": {
    "colab_type": "raw",
    "id": "NtZcIyqSDzRf"
   },
   "source": [
    "Output:\n",
    "\n",
    "    Left:            Right:\n",
    " 1  2  3  4       13 14 15 16 \n",
    " 5  6  7  8       17 18 19 20\n",
    " 9 10 11 12       21 22 23 24\n",
    "\n",
    "    Speed24x24 min = 0.1, max = 1.0\n",
    "    Speed24x24 key number pairs with minimum values:\n",
    "        16 -> 23        (0.1)\n",
    "        23 -> 16        (0.1)\n",
    "        1 -> 9        (0.1185185185185185)\n",
    "        9 -> 1        (0.1185185185185185)\n",
    "        10 -> 1        (0.23703703703703707)\n",
    "        1 -> 10        (0.23703703703703707)\n",
    "        2 -> 10        (0.34444444444444444)\n",
    "        10 -> 2        (0.34444444444444444)\n",
    "        20 -> 23        (0.3555555555555556)\n",
    "        23 -> 20        (0.3555555555555556)\n",
    "    Speed24x24 key number pairs with maximum values:\n",
    "        8 -> 17        (1.0)\n",
    "        18 -> 8        (1.0)\n",
    "        17 -> 8        (1.0)\n",
    "        8 -> 18        (1.0)\n",
    "        18 -> 7        (0.9962962962962962)\n",
    "        7 -> 18        (0.9962962962962962)\n",
    "        17 -> 7        (0.9962962962962962)\n",
    "        7 -> 17        (0.9962962962962962)\n",
    "        8 -> 19        (0.9888888888888888)\n",
    "        7 -> 19        (0.9888888888888888)"
   ]
  },
  {
   "cell_type": "markdown",
   "metadata": {
    "colab_type": "text",
    "id": "tFfuA8zMDzRg"
   },
   "source": [
    "## Strength matrix  <a name=\"strength\">\n",
    "\n",
    "### 24x24 relative finger position STRENGTH matrix\n",
    "\n",
    "Finger strengths are based on peak keyboard reaction forces (in newtons) from Table 4 of <br>\n",
    "\"Keyboard Reaction Force and Finger Flexor Electromyograms during Computer Keyboard Work\" <br>\n",
    "BJ Martin, TJ Armstrong, JA Foulke, S Natarajan, Human Factors,1996,38(4),654-664.\n",
    "\n",
    "This does not take into account order of key pairs (see Flow matrix).\n"
   ]
  },
  {
   "cell_type": "code",
   "execution_count": 5,
   "metadata": {
    "colab": {
     "base_uri": "https://localhost:8080/",
     "height": 695
    },
    "colab_type": "code",
    "id": "3cC-oxnQDzRh",
    "outputId": "bd27fc7e-09a0-4198-cf92-57abca3aba2c"
   },
   "outputs": [
    {
     "name": "stdout",
     "output_type": "stream",
     "text": [
      "Strength24x24 min = 0.7796610169491526, max = 1.0\n",
      "Strength24x24 key number pairs with minimum values:\n",
      "        1 -> 1        (0.7796610169491526)\n",
      "        5 -> 9        (0.7796610169491526)\n",
      "        5 -> 16        (0.7796610169491526)\n",
      "        5 -> 20        (0.7796610169491526)\n",
      "        5 -> 24        (0.7796610169491526)\n",
      "        9 -> 1        (0.7796610169491526)\n",
      "        9 -> 5        (0.7796610169491526)\n",
      "        9 -> 9        (0.7796610169491526)\n",
      "        9 -> 16        (0.7796610169491526)\n",
      "        9 -> 20        (0.7796610169491526)\n",
      "Strength24x24 key number pairs with maximum values:\n",
      "        18 -> 11        (1.0)\n",
      "        22 -> 14        (1.0)\n",
      "        3 -> 14        (1.0)\n",
      "        7 -> 18        (1.0)\n",
      "        18 -> 7        (1.0)\n",
      "        18 -> 14        (1.0)\n",
      "        3 -> 18        (1.0)\n",
      "        18 -> 18        (1.0)\n",
      "        22 -> 22        (1.0)\n",
      "        18 -> 22        (1.0)\n"
     ]
    },
    {
     "data": {
      "image/png": "[encoded data removed]",
      "text/plain": [
       "<Figure size 432x288 with 2 Axes>"
      ]
     },
     "metadata": {
      "needs_background": "light"
     },
     "output_type": "display_data"
    }
   ],
   "source": [
    "# Normalize by the highest peak force (middle finger):\n",
    "middle_force = 2.36\n",
    "index_force = 2.26\n",
    "ring_force = 2.02\n",
    "little_force = 1.84\n",
    "middle_norm = 1.0\n",
    "index_norm = index_force / middle_force\n",
    "ring_norm = ring_force / middle_force\n",
    "little_norm = little_force / middle_force\n",
    "\n",
    "# Relative left/right hand strength (assume equal):\n",
    "lf = 1.0\n",
    "rf = 1.0\n",
    "\n",
    "strengths24 = np.array((lf * little_norm, lf * ring_norm, lf * middle_norm, lf * index_norm,\n",
    "                        lf * little_norm, lf * ring_norm, lf * middle_norm, lf * index_norm,\n",
    "                        lf * little_norm, lf * ring_norm, lf * middle_norm, lf * index_norm,\n",
    "                        rf * index_norm, rf * middle_norm, rf * ring_norm, rf * little_norm,\n",
    "                        rf * index_norm, rf * middle_norm, rf * ring_norm, rf * little_norm,\n",
    "                        rf * index_norm, rf * middle_norm, rf * ring_norm, rf * little_norm))\n",
    "\n",
    "# Create a finger-pair position strength matrix by adding pairs of strength values:\n",
    "Strength24x24 = np.zeros((24, 24))\n",
    "for i in range(24):\n",
    "    Strength24x24[i,:] = strengths24\n",
    "Strength24x24 = (Strength24x24 + Strength24x24.transpose())\n",
    "\n",
    "# Normalize matrix with min-max scaling to a range with maximum = 1:\n",
    "newMin = np.min(Strength24x24) / np.max(Strength24x24)\n",
    "newMax = 1.0\n",
    "Strength24x24 = newMin + (Strength24x24 - np.min(Strength24x24)) * (newMax - newMin) / (np.max(Strength24x24) - np.min(Strength24x24))\n",
    "\n",
    "# Print:\n",
    "print_matrix_info(matrix_data=Strength24x24, matrix_label=\"Strength24x24\", nlines=10)\n",
    "heatmap(data=Strength24x24, title=\"Strength24x24\", xlabel=\"Key 1\", ylabel=\"Key 2\")\n",
    "\n",
    "# Save:\n",
    "file = open(\"Strength24x24.txt\", \"w+\")\n",
    "file.write(str(Strength24x24))\n",
    "file.close()"
   ]
  },
  {
   "cell_type": "code",
   "execution_count": 6,
   "metadata": {
    "colab": {
     "base_uri": "https://localhost:8080/",
     "height": 265
    },
    "colab_type": "code",
    "id": "qz7jPlfBDzRo",
    "outputId": "d9e44ba2-d677-4b88-fe9c-306a2cb85a27"
   },
   "outputs": [
    {
     "data": {
      "image/png": "[encoded data removed]",
      "text/plain": [
       "<Figure size 432x288 with 1 Axes>"
      ]
     },
     "metadata": {
      "needs_background": "light"
     },
     "output_type": "display_data"
    }
   ],
   "source": [
    "# Histogram\n",
    "sns_plot = sns.distplot(Strength24x24)\n",
    "sns_plot.figure.savefig(\"{0}_histogram.png\".format(\"Strength24x24\"))"
   ]
  },
  {
   "cell_type": "markdown",
   "metadata": {
    "colab_type": "raw",
    "id": "0kL0XyVFDzRx"
   },
   "source": [
    "Output:\n",
    "\n",
    "        Left:            Right:\n",
    "     1  2  3  4       13 14 15 16 \n",
    "     5  6  7  8       17 18 19 20\n",
    "     9 10 11 12       21 22 23 24\n",
    "\n",
    "    Strength24x24 min = 0.7796610169491526, max = 1.0\n",
    "    Strength24x24 key number pairs with minimum values:\n",
    "        1 -> 1        (0.7796610169491526)\n",
    "        5 -> 9        (0.7796610169491526)\n",
    "        5 -> 16        (0.7796610169491526)\n",
    "        5 -> 20        (0.7796610169491526)\n",
    "        5 -> 24        (0.7796610169491526)\n",
    "        9 -> 1        (0.7796610169491526)\n",
    "        9 -> 5        (0.7796610169491526)\n",
    "        9 -> 9        (0.7796610169491526)\n",
    "        9 -> 16        (0.7796610169491526)\n",
    "        9 -> 20        (0.7796610169491526)\n",
    "    Strength24x24 key number pairs with maximum values:\n",
    "        18 -> 11        (1.0)\n",
    "        22 -> 14        (1.0)\n",
    "        3 -> 14        (1.0)\n",
    "        7 -> 18        (1.0)\n",
    "        18 -> 7        (1.0)\n",
    "        18 -> 14        (1.0)\n",
    "        3 -> 18        (1.0)\n",
    "        18 -> 18        (1.0)\n",
    "        22 -> 22        (1.0)\n",
    "        18 -> 22        (1.0)"
   ]
  },
  {
   "cell_type": "markdown",
   "metadata": {
    "colab_type": "text",
    "id": "Dnn5-8S5DzRy"
   },
   "source": [
    "## Flow matrix  <a name=\"flow\">\n",
    "\n",
    "The Flow24x24 matrix takes into account ease of transition between ordered pairs of keys\n",
    "\n",
    "#### Dvorak et al. (1936) defined eleven criteria for the design and evaluation of keyboard layouts:\n",
    "1.  Deviation from the balance of hand and finger loads should be as low as possible.\n",
    "2.  Percentage of tapping with the same fingers should be as low as possible.\n",
    "3.  Percentage of tapping that includes top row should be as low as possible.\n",
    "4.  Percentage of tapping that includes bottom row should be as low as possible.\n",
    "5.  Percentage of tapping in the home row should be as high as possible.\n",
    "6.  Percentage of tapping by alternating hands should be as high as possible.\n",
    "7.  Percentage of hurdles with the same finger should be as low as possible.\n",
    "8.  Percentage of hurdles with adjacent fingers should be as low as possible.\n",
    "9.  Percentage of hurdles with remote fingers should be as low as possible.\n",
    "10. Percentage of reach with the same finger should be as low as possible.\n",
    "11. Percentage of reach with adjacent fingers should be as low as possible.\n",
    "\n",
    "#### Synopsis of above criteria for pairwise key presses when touch typing:\n",
    "(A) 1,6.    Alternate between hands and balance finger loads. <br>\n",
    "(B) 2,7,10. Avoid using the same finger. <br>\n",
    "(C) 3,4,5.  Avoid the upper and lower rows. <br>\n",
    "(D) 7,8,9.  Avoid skipping over the home row (\"hurdling\"). <br>\n",
    "(E) 10,11.  Avoid tapping adjacent rows (\"reaching\") with (same or) adjacent fingers.\n",
    "\n",
    "#### The approach here advocates the following related criteria (see above for complete list):\n",
    "  7.  Promote alternating between hands over typing with the same hand. <br>\n",
    "  8.  Promote little-to-index-finger roll-ins over index-to-little-finger roll_outs. <br>\n",
    "  9.  Avoid extending nearer, shorter fingers to upper rows and longer fingers to bottom row. <br>\n",
    "  10. Avoid using the same finger. <br>\n",
    "  11. Avoid the upper and lower rows. <br>\n",
    "  12. Avoid skipping over the home row.\n",
    "\n",
    "We will attempt to account for (A-E) by the rules to generate the Flow24x24 matrix. <br>\n",
    "Additionally, left/right balance for (A) will be accounted for in part by <br>\n",
    "splitting up the most common keeps to left and right sides of the keyboard, <br> \n",
    "and rather than try to balance finger loads equally, <br>\n",
    "we will weight finger use according to their relative strength.\n"
   ]
  },
  {
   "cell_type": "markdown",
   "metadata": {
    "colab_type": "text",
    "id": "dpKA0PZwDzR-"
   },
   "source": [
    "### Factors to penalize difficult key transitions"
   ]
  },
  {
   "cell_type": "code",
   "execution_count": 7,
   "metadata": {
    "colab": {
     "base_uri": "https://localhost:8080/",
     "height": 695
    },
    "colab_type": "code",
    "id": "qx1eL9whDzSE",
    "outputId": "8b9eff1d-450c-4ca3-bd6c-5d67591dcac0"
   },
   "outputs": [
    {
     "name": "stdout",
     "output_type": "stream",
     "text": [
      "Flow24x24 min = 0.5314410000000002, max = 1.0\n",
      "Flow24x24 key number pairs with minimum values:\n",
      "        4 -> 11        (0.5314410000000002)\n",
      "        10 -> 1        (0.5314410000000002)\n",
      "        13 -> 22        (0.5314410000000002)\n",
      "        23 -> 16        (0.5314410000000002)\n",
      "        13 -> 23        (0.5609655000000001)\n",
      "        11 -> 1        (0.5609655000000001)\n",
      "        22 -> 16        (0.5609655000000001)\n",
      "        4 -> 10        (0.5609655000000001)\n",
      "        22 -> 13        (0.5904900000000002)\n",
      "        22 -> 15        (0.5904900000000002)\n",
      "Flow24x24 key number pairs with maximum values:\n",
      "        5 -> 18        (1.0)\n",
      "        20 -> 18        (1.0)\n",
      "        5 -> 17        (1.0)\n",
      "        5 -> 19        (1.0)\n",
      "        5 -> 20        (1.0)\n",
      "        19 -> 17        (1.0)\n",
      "        19 -> 18        (1.0)\n",
      "        19 -> 19        (1.0)\n",
      "        6 -> 6        (1.0)\n",
      "        6 -> 7        (1.0)\n"
     ]
    },
    {
     "data": {
      "image/png": "[encoded data removed]",
      "text/plain": [
       "<Figure size 432x288 with 2 Axes>"
      ]
     },
     "metadata": {
      "needs_background": "light"
     },
     "output_type": "display_data"
    }
   ],
   "source": [
    "# Penalizing factors (set to less than 1.0):\n",
    "same_hand = 1.0  # Taken care of by splitting up the most frequent letters across left/right sides above\n",
    "roll_out = 0.9  # roll out from index to little finger\n",
    "side_top = 0.9  # either index or little finger on top row\n",
    "center_bottom = 0.9  # either middle or ring finger on bottom row\n",
    "side_up_1away_down = 0.9  # index above middle, or little above ring \n",
    "side_up_2away_down = 0.95  # index above ring, or little above middle\n",
    "side_up_3away_down = 1.0  # index above little, or little above index\n",
    "ring_up_middle_down = 0.9  # ring above middle\n",
    "same_finger = 0.9  # use same finger twice for a non-repeating letter\n",
    "not_home_row = 0.9  # at least one key not on home row\n",
    "skip_home_row = 0.9  # one key on top row, the other on bottom row\n",
    "\n",
    "all_24_keys = [1,2,3,4, 5,6,7,8, 9,10,11,12, 13,14,15,16, 17,18,19,20, 21,22,23,24]\n",
    "#        Left:            Right:\n",
    "#     1  2  3  4       13 14 15 16 \n",
    "#     5  6  7  8       17 18 19 20\n",
    "#     9 10 11 12       21 22 23 24\n",
    "\n",
    "# Create a matrix and multiply by flow factors that promote easy interkey transitions:\n",
    "T = np.ones((24, 24))\n",
    "\n",
    "#  6.  Promote alternating between hands over typing with the same hand.\n",
    "if same_hand < 1.0:\n",
    "    for i in range(0,12):\n",
    "        for j in range(0,12):\n",
    "            T[i,j] *= same_hand\n",
    "    for i in range(12,24):\n",
    "        for j in range(12,24):\n",
    "            T[i,j] *= same_hand\n",
    "\n",
    "#  7.  Promote little-to-index-finger roll-ins over index-to-little-finger roll_outs.\n",
    "if roll_out < 1.0:\n",
    "\n",
    "    # same-row roll-outs:\n",
    "    roll_ins = [[1,2],[2,3],[3,4], [5,6],[6,7],[7,8], [9,10],[10,11],[11,12],\n",
    "                [16,15],[15,14],[14,13], [20,19],[19,18],[18,17], [24,23],[23,22],[22,21]]\n",
    "    for x in roll_ins:\n",
    "        T[x[1]-1, x[0]-1] *= roll_out\n",
    "\n",
    "    # same-row roll-outs, skipping keys:\n",
    "    roll_ins_skip_keys = [[1,3],[2,4],[1,4], [5,7],[6,8],[5,8], [9,11],[10,12],[9,12],\n",
    "                          [16,14],[15,13],[16,13], [20,18],[19,17],[20,17], [24,22],[23,21],[24,21]]\n",
    "    for x in roll_ins_skip_keys:\n",
    "        T[x[1]-1, x[0]-1] *= roll_out\n",
    "\n",
    "    # adjacent-row roll-outs:\n",
    "    roll_ins_adj_rows = [[1,6],[1,7],[1,8],[2,7],[2,8],[3,8], [5,2],[5,3],[5,4],[6,3],[6,4],[7,4],\n",
    "                         [5,10],[5,11],[5,12],[6,11],[6,12],[7,12], [9,6],[9,7],[9,8],[10,7],[10,8],[11,8],\n",
    "                         [16,19],[16,18],[16,17],[15,18],[15,17],[14,17], [20,15],[20,14],[20,13],[19,14],[19,13],[18,13],\n",
    "                         [20,23],[20,22],[20,21],[19,22],[19,21],[18,21], [24,19],[24,18],[24,17],[23,18],[23,17],[22,17]]\n",
    "    for x in roll_ins_adj_rows:\n",
    "        T[x[1]-1, x[0]-1] *= roll_out\n",
    "\n",
    "    # upper<->lower row roll-outs:\n",
    "    roll_ins_skip_home = [[1,10],[1,11],[1,12],[2,11],[2,12],[3,12], [9,2],[9,3],[9,4],[10,3],[10,4],[11,4],\n",
    "                          [16,23],[16,22],[16,21],[15,22],[15,21],[14,21], [24,15],[24,14],[24,13],[23,14],[23,13],[22,13]]\n",
    "    for x in roll_ins_skip_home:\n",
    "        T[x[1]-1, x[0]-1] *= roll_out\n",
    "\n",
    "#  8.  Avoid extending nearer, shorter fingers to upper rows and longer fingers to bottom row.\n",
    "if side_top:\n",
    "    for x in all_24_keys:\n",
    "        for y in [1,4,13,16]:\n",
    "            T[x-1, y-1] *= side_top\n",
    "            T[y-1, x-1] *= side_top\n",
    "if center_bottom:\n",
    "    for x in all_24_keys:\n",
    "        for y in [10,11,22,23]:\n",
    "            T[x-1, y-1] *= center_bottom\n",
    "            T[y-1, x-1] *= center_bottom\n",
    "        \n",
    "if side_up_1away_down < 1.0 or side_up_2away_down < 1.0 or side_up_3away_down < 1.0 or ring_up_middle_down < 1.0:\n",
    "    side_up_1away_downs = [[1,6],  [1,10], [5,10],   [7,4],  [11,4], [11,8], \n",
    "                           [16,19],[16,23],[20,23],  [18,13],[22,13],[22,17]]\n",
    "    side_up_2away_downs = [[1,7],  [1,11], [5,11],   [6,4],  [10,4], [10,8], \n",
    "                           [16,18],[16,22],[20,22],  [19,13],[23,13],[23,17]]\n",
    "    side_up_3away_downs = [[1,8],  [1,12], [5,12],   [5,4],  [9,4],  [9,8], \n",
    "                           [16,17],[16,21],[20,21],  [20,13],[24,13],[24,17]]\n",
    "    ring_up_middle_downs = [[2,7],[6,11],[2,11], [15,18],[19,22],[15,22]]\n",
    "    if side_up_1away_down < 1.0:\n",
    "        for x in side_up_1away_downs:\n",
    "            T[x[0]-1, x[1]-1] *= side_up_1away_down\n",
    "            T[x[1]-1, x[0]-1] *= side_up_1away_down\n",
    "    if side_up_2away_down < 1.0:\n",
    "        for x in side_up_2away_downs:\n",
    "            T[x[0]-1, x[1]-1] *= side_up_2away_down\n",
    "            T[x[1]-1, x[0]-1] *= side_up_2away_down\n",
    "    if side_up_3away_down < 1.0:\n",
    "        for x in side_up_3away_downs:\n",
    "            T[x[0]-1, x[1]-1] *= side_up_3away_down\n",
    "            T[x[1]-1, x[0]-1] *= side_up_3away_down\n",
    "    if ring_up_middle_down < 1.0:\n",
    "        for x in ring_up_middle_downs:\n",
    "            T[x[0]-1, x[1]-1] *= ring_up_middle_down\n",
    "            T[x[1]-1, x[0]-1] *= ring_up_middle_down\n",
    "\n",
    "#  9.  Avoid using the same finger.\n",
    "if same_finger < 1.0:\n",
    "    same_fingers = [[1,5],[5,9],[1,9], [2,6],[6,10],[2,10], [3,7],[7,11],[3,11], [4,8],[8,12],[4,12],\n",
    "                    [13,17],[17,21],[13,21], [14,18],[18,22],[14,22], [15,19],[19,23],[15,23], [16,20],[20,24],[16,24]] \n",
    "    for x in same_fingers:\n",
    "        T[x[0]-1, x[1]-1] *= same_finger\n",
    "        T[x[1]-1, x[0]-1] *= same_finger\n",
    "\n",
    "# 10.  Avoid the upper and lower rows.\n",
    "if not_home_row < 1.0:\n",
    "    not_home_row_keys = [1,2,3,4, 9,10,11,12, 13,14,15,16, 21,22,23,24]\n",
    "    home_row_keys = [5,6,7,8, 17,18,19,20]\n",
    "    for x in not_home_row_keys:\n",
    "        for y in not_home_row_keys:\n",
    "            T[x-1, y-1] *= not_home_row\n",
    "    for x in not_home_row_keys:\n",
    "        for y in home_row_keys:\n",
    "            T[x-1, y-1] *= not_home_row\n",
    "            T[y-1, x-1] *= not_home_row\n",
    "\n",
    "# 11. Avoid skipping over the home row.\n",
    "if skip_home_row < 1.0:\n",
    "    skip_home_rows_left = [[1,2,3,4], [9,10,11,12]] \n",
    "    skip_home_rows_right = [[13,14,15,16], [21,22,23,24]] \n",
    "    for x in skip_home_rows_left[0]:\n",
    "        for y in skip_home_rows_left[1]:\n",
    "            T[x-1, y-1] *= skip_home_row\n",
    "            T[y-1, x-1] *= skip_home_row\n",
    "    for x in skip_home_rows_right[0]:\n",
    "        for y in skip_home_rows_right[1]:\n",
    "            T[x-1, y-1] *= skip_home_row\n",
    "            T[y-1, x-1] *= skip_home_row\n",
    "\n",
    "Flow24x24 = T\n",
    "\n",
    "# Normalize matrix with min-max scaling to a range with maximum = 1:\n",
    "newMin = np.min(Flow24x24) / np.max(Flow24x24)\n",
    "newMax = 1.0\n",
    "Flow24x24 = newMin + (Flow24x24 - np.min(Flow24x24)) * (newMax - newMin) / (np.max(Flow24x24) - np.min(Flow24x24))\n",
    "\n",
    "# Print:\n",
    "print_matrix_info(matrix_data=Flow24x24, matrix_label=\"Flow24x24\", nlines=10)\n",
    "heatmap(data=Flow24x24, title=\"Flow24x24\", xlabel=\"Key 1\", ylabel=\"Key 2\")\n",
    "\n",
    "# Save:\n",
    "file = open(\"Flow24x24.txt\", \"w+\")\n",
    "file.write(str(Flow24x24))\n",
    "file.close()"
   ]
  },
  {
   "cell_type": "code",
   "execution_count": 8,
   "metadata": {
    "colab": {
     "base_uri": "https://localhost:8080/",
     "height": 265
    },
    "colab_type": "code",
    "id": "F6wZ4iRLDzSM",
    "outputId": "147c2189-b464-4202-fd34-0e8a5665291f"
   },
   "outputs": [
    {
     "data": {
      "image/png": "[encoded data removed]",
      "text/plain": [
       "<Figure size 432x288 with 1 Axes>"
      ]
     },
     "metadata": {
      "needs_background": "light"
     },
     "output_type": "display_data"
    }
   ],
   "source": [
    "# Histogram\n",
    "sns_plot = sns.distplot(Flow24x24)\n",
    "sns_plot.figure.savefig(\"{0}_histogram.png\".format(\"Flow24x24\"))"
   ]
  },
  {
   "cell_type": "markdown",
   "metadata": {
    "colab_type": "raw",
    "id": "GQWWDBJXDzSS"
   },
   "source": [
    "Output:\n",
    "\n",
    "        Left:            Right:\n",
    "     1  2  3  4       13 14 15 16 \n",
    "     5  6  7  8       17 18 19 20\n",
    "     9 10 11 12       21 22 23 24\n",
    "\n",
    "    Flow24x24 min = 0.5314410000000002, max = 1.0\n",
    "    Flow24x24 key number pairs with minimum values:\n",
    "    4 -> 11        (0.5314410000000002)\n",
    "    10 -> 1        (0.5314410000000002)\n",
    "    13 -> 22        (0.5314410000000002)\n",
    "    23 -> 16        (0.5314410000000002)\n",
    "    13 -> 23        (0.5609655000000001)\n",
    "    11 -> 1        (0.5609655000000001)\n",
    "    22 -> 16        (0.5609655000000001)\n",
    "    4 -> 10        (0.5609655000000001)\n",
    "    22 -> 13        (0.5904900000000002)\n",
    "    22 -> 15        (0.5904900000000002)\n",
    "\n",
    "    Flow24x24 key number pairs with maximum values:\n",
    "    5 -> 18        (1.0)\n",
    "    20 -> 18        (1.0)\n",
    "    5 -> 17        (1.0)\n",
    "    5 -> 19        (1.0)\n",
    "    5 -> 20        (1.0)\n",
    "    19 -> 17        (1.0)\n",
    "    19 -> 18        (1.0)\n",
    "    19 -> 19        (1.0)\n",
    "    6 -> 6        (1.0)\n",
    "    6 -> 7        (1.0)"
   ]
  },
  {
   "cell_type": "markdown",
   "metadata": {
    "colab_type": "text",
    "id": "WMvP493uDzSU"
   },
   "source": [
    "## Combine Speed, Strength, and Flow matrices  <a name=\"speedstrengthflow\">"
   ]
  },
  {
   "cell_type": "code",
   "execution_count": 9,
   "metadata": {
    "colab": {
     "base_uri": "https://localhost:8080/",
     "height": 695
    },
    "colab_type": "code",
    "id": "UP7FUBR2DzSX",
    "outputId": "5dc11788-2c69-4f69-ab60-a07ac17e092f"
   },
   "outputs": [
    {
     "name": "stdout",
     "output_type": "stream",
     "text": [
      "SpeedStrengthFlow24x24 min = 0.4346106483050849, max = 1.0\n",
      "SpeedStrengthFlow24x24 key number pairs with minimum values:\n",
      "        10 -> 1        (0.4346106483050849)\n",
      "        23 -> 16        (0.4346106483050849)\n",
      "        1 -> 10        (0.48290072033898324)\n",
      "        16 -> 23        (0.48290072033898324)\n",
      "        11 -> 1        (0.49916421610169504)\n",
      "        22 -> 16        (0.49916421610169504)\n",
      "        13 -> 23        (0.5086721059322035)\n",
      "        4 -> 10        (0.5086721059322035)\n",
      "        16 -> 24        (0.5115355932203391)\n",
      "        24 -> 16        (0.5115355932203391)\n",
      "SpeedStrengthFlow24x24 key number pairs with maximum values:\n",
      "        18 -> 7        (1.0)\n",
      "        18 -> 18        (1.0)\n",
      "        7 -> 18        (1.0)\n",
      "        7 -> 7        (1.0)\n",
      "        18 -> 8        (0.978813559322034)\n",
      "        17 -> 7        (0.978813559322034)\n",
      "        18 -> 17        (0.978813559322034)\n",
      "        7 -> 17        (0.978813559322034)\n",
      "        7 -> 8        (0.978813559322034)\n",
      "        8 -> 18        (0.978813559322034)\n"
     ]
    },
    {
     "data": {
      "image/png": "[encoded data removed]",
      "text/plain": [
       "<Figure size 432x288 with 2 Axes>"
      ]
     },
     "metadata": {
      "needs_background": "light"
     },
     "output_type": "display_data"
    }
   ],
   "source": [
    "if use_speed_data:\n",
    "    SpeedStrengthFlow24x24 = Speed24x24 * Strength24x24 * Flow24x24\n",
    "else:\n",
    "    SpeedStrengthFlow24x24 = Strength24x24 * Flow24x24\n",
    "\n",
    "# Print:\n",
    "print_matrix_info(matrix_data=SpeedStrengthFlow24x24, matrix_label=\"SpeedStrengthFlow24x24\", nlines=10)\n",
    "heatmap(data=SpeedStrengthFlow24x24, title=\"SpeedStrengthFlow24x24\", xlabel=\"Key 1\", ylabel=\"Key 2\")\n",
    "\n",
    "# Save:\n",
    "file = open(\"SpeedStrengthFlow24x24.txt\", \"w+\")\n",
    "file.write(str(SpeedStrengthFlow24x24))\n",
    "file.close()"
   ]
  },
  {
   "cell_type": "code",
   "execution_count": 10,
   "metadata": {
    "colab": {
     "base_uri": "https://localhost:8080/",
     "height": 265
    },
    "colab_type": "code",
    "id": "mXoSOaalDzSc",
    "outputId": "d1f78386-db18-4028-e9de-8338b7590a2f"
   },
   "outputs": [
    {
     "data": {
      "image/png": "[encoded data removed]",
      "text/plain": [
       "<Figure size 432x288 with 1 Axes>"
      ]
     },
     "metadata": {
      "needs_background": "light"
     },
     "output_type": "display_data"
    }
   ],
   "source": [
    "# Histogram\n",
    "sns_plot = sns.distplot(SpeedStrengthFlow24x24)\n",
    "sns_plot.figure.savefig(\"{0}_histogram.png\".format(\"SpeedStrengthFlow24x24\"))"
   ]
  },
  {
   "cell_type": "markdown",
   "metadata": {
    "colab_type": "raw",
    "id": "TtqGHKbjDzSj"
   },
   "source": [
    "Output:\n",
    "\n",
    "                      Left:            Right:\n",
    "                   1  2  3  4       13 14 15 16 \n",
    "                   5  6  7  8       17 18 19 20\n",
    "                   9 10 11 12       21 22 23 24\n",
    "\n",
    "    SpeedStrengthFlow24x24 min = 0.4346106483050849, max = 1.0\n",
    "    SpeedStrengthFlow24x24 key number pairs with minimum values:\n",
    "        10 -> 1        (0.4346106483050849)\n",
    "        23 -> 16        (0.4346106483050849)\n",
    "        1 -> 10        (0.48290072033898324)\n",
    "        16 -> 23        (0.48290072033898324)\n",
    "        11 -> 1        (0.49916421610169504)\n",
    "        22 -> 16        (0.49916421610169504)\n",
    "        13 -> 23        (0.5086721059322035)\n",
    "        4 -> 10        (0.5086721059322035)\n",
    "        16 -> 24        (0.5115355932203391)\n",
    "        24 -> 16        (0.5115355932203391)\n",
    "    SpeedStrengthFlow24x24 key number pairs with maximum values:\n",
    "        18 -> 7        (1.0)\n",
    "        18 -> 18        (1.0)\n",
    "        7 -> 18        (1.0)\n",
    "        7 -> 7        (1.0)\n",
    "        18 -> 8        (0.978813559322034)\n",
    "        17 -> 7        (0.978813559322034)\n",
    "        18 -> 17        (0.978813559322034)\n",
    "        7 -> 17        (0.978813559322034)\n",
    "        7 -> 8        (0.978813559322034)\n",
    "        8 -> 18        (0.978813559322034)"
   ]
  },
  {
   "cell_type": "markdown",
   "metadata": {
    "colab_type": "text",
    "id": "REInHU9tdYLP"
   },
   "source": [
    "## Step 1: Initialize arrangement of the 10 most frequent letters  <a name=\"step1\">\n",
    "\n",
    "### Select first set of keys to which we will assign letters\n",
    "\n",
    "From 24 finger-column keys (requiring no lateral movements):\n",
    "\n",
    "                      Left:            Right:\n",
    "                   1  2  3  4       13 14 15 16  \n",
    "                   5  6  7  8       17 18 19 20  \n",
    "                   9 10 11 12       21 22 23 24\n",
    "\n",
    "Select 10 keys for some of the strongest finger positions:\n",
    "\n",
    "                   -  2  3  -        - 14 15  -\n",
    "                   -  6  7  8       17 18 19  -\n",
    "                   -  -  -  -        -  -  -  -\n",
    "\n",
    "### Find all permutations of the 10 most frequent letters, assign to 10 keys\n",
    "### **E, T, A, O, I, N, S, R, H, L**,  D, C, U, M, F, P, G, W, Y, B, V, K, X, J, Q, Z\n",
    "\n",
    "#### Score each arrangement based on bigram frequencies\n",
    "For each permutation of letters, construct a frequency matrix of each ordered pair of letters (bigram).\n",
    "Multiply this frequency matrix by our speed-strength-flow matrix to compute a score."
   ]
  },
  {
   "cell_type": "code",
   "execution_count": null,
   "metadata": {
    "colab": {
     "base_uri": "https://localhost:8080/",
     "height": 258
    },
    "colab_type": "code",
    "id": "KPZ-_k_NDzSv",
    "outputId": "cc3e4b3d-96e1-44d2-df27-d57f03a73e53"
   },
   "outputs": [],
   "source": [
    "keys1 = [2,3, 6,7,8, 14,15, 17,18,19]\n",
    "all_letters1 = ['E','T','A','O','I','N','S','R','H','L']\n",
    "move_positions1 = [0,1,2,3,4, 5,6,7,8,9] # indices to selected keys that don't have assigned letters\n",
    "fixed_positions1 = []  # indices to keys with assigned letters\n",
    "top_permutation1, letter_permutations1, scores1 = permute_and_optimize(keys1, SpeedStrengthFlow24x24, bigrams, all_letters1, move_positions1, fixed_positions1, ntop=10, verbose=False)"
   ]
  },
  {
   "cell_type": "markdown",
   "metadata": {
    "colab_type": "raw",
    "id": "c4xacvCLDzS1"
   },
   "source": [
    "#### Top-scoring permutations and layout\n",
    "    \n",
    "    Topmost of 3,628,800 permutations: ['L' 'N' 'S' 'R' 'T' 'I' 'O' 'A' 'E' 'H']\n",
    "    ['L', 'N', 'S', 'R', 'T', 'I', 'O', 'A', 'E', 'H'] 0.13848275488578188\n",
    "    ['O', 'I', 'H', 'E', 'A', 'N', 'L', 'T', 'R', 'S'] 0.13848275488578188\n",
    "    ['O', 'I', 'H', 'E', 'A', 'N', 'L', 'R', 'T', 'S'] 0.13847114641453195\n",
    "    ['L', 'N', 'S', 'T', 'R', 'I', 'O', 'A', 'E', 'H'] 0.13847114641453195\n",
    "    ['L', 'S', 'R', 'N', 'T', 'I', 'O', 'A', 'E', 'H'] 0.13841766519539778\n",
    "    ['O', 'I', 'H', 'E', 'A', 'S', 'L', 'T', 'N', 'R'] 0.13841766519539775\n",
    "    ['L', 'N', 'R', 'S', 'T', 'I', 'O', 'A', 'E', 'H'] 0.13839592600800704\n",
    "    ['O', 'I', 'H', 'E', 'A', 'N', 'L', 'T', 'S', 'R'] 0.13839592600800701\n",
    "    ['O', 'A', 'H', 'E', 'I', 'R', 'L', 'T', 'N', 'S'] 0.1383835611153209\n",
    "    ['L', 'R', 'S', 'N', 'T', 'A', 'O', 'I', 'E', 'H'] 0.13838356111532088\n",
    "\n",
    "The top two results scored equally, and are mirror images of each other, an assemblage of vowels + H on one side, and the remaining consonants on the other side:\n",
    "\n",
    "                      Left:            Right:\n",
    "\n",
    "                   -  L  N  -        -  I  O  - \n",
    "                   -  S  R  T        A  E  H  -\n",
    "                   -  -  -  -        -  -  -  -\n",
    "\n",
    "                   -  O  I  -        -  N  L  - \n",
    "                   -  H  E  A        T  R  S  -\n",
    "                   -  -  -  -        -  -  -  -\n"
   ]
  },
  {
   "cell_type": "markdown",
   "metadata": {},
   "source": [
    "## Step 2A: Initialize arrangement of command shortcut characters on the left side <a name=\"step2\">\n",
    "\n",
    "Arrange common command characters (Z,Y,X,V,C) on the left and Q on the right:\n",
    "\n",
    "with vowels on the right:\n",
    "\n",
    "                   -  L  N  -        -  I  O  -  Q\n",
    "                   C  S  R  T        A  E  H  -  J \n",
    "                   Z  Y  X  V        -  -  -  -\n",
    "\n",
    "with vowels on the left:\n",
    "\n",
    "                   -  O  I  -        -  N  L  -  Q\n",
    "                   C  H  E  A        T  R  S  -  J \n",
    "                   Z  Y  X  V        -  -  -  -"
   ]
  },
  {
   "cell_type": "markdown",
   "metadata": {
    "colab_type": "text",
    "id": "YcP2vtdBV7vU"
   },
   "source": [
    "## Step 2B: Arrange command shortcut characters on the right side  <a name=\"step2\">\n",
    "\n",
    "Arrange common command characters (Z,Y,X,V,C) on the right and Q on the left:\n",
    "\n",
    "with vowels on the right:\n",
    "\n",
    "                   Q  L  N  -        -  I  O  Y  Z\n",
    "                   -  S  R  T        A  E  H  C  X \n",
    "                   -  -  -  -        -  -  -  V\n",
    "\n",
    "with vowels on the left:\n",
    "\n",
    "                   Q  O  I  -        -  N  L  Y  Z\n",
    "                   -  H  E  A        T  R  S  C  X \n",
    "                   -  -  -  -        -  -  -  V\n",
    "\n",
    "  - Z is the least frequent letter and is placed in the hardest-to-reach position.\n",
    "  - Z & Y (Undo & Redo), and X & C (Cut & Copy) pair well together. \n",
    "  - Common bigrams with Y and C (LY, CT, NC, SC, CR) are easy to type.\n",
    "  - Moving common command shortcuts to the right puts C & V (Copy & Paste) in closer proximity to a Ctrl key, or it enforces two-handed Ctrl operations when using the harder-to-reach left Ctrl key.\n",
    "  - Q is the least frequent remaining letter, and is placed in the hardest-to-reach remaining key location.\n",
    "  - Q is in the upper left key in the QWERTY layout, so will be easy to remember."
   ]
  },
  {
   "cell_type": "markdown",
   "metadata": {
    "colab_type": "text",
    "id": "UONFg0NBV7vb"
   },
   "source": [
    "## Step 3: Initialize arrangement of all 10 remaining letters   <a name=\"step3\">\n",
    "\n",
    "### *E, T, A, O, I, N, S, R, H, L,* **D**, [C], **U, M, F, P, G, W**, [Y], **B**, [V], **K**, [X], **J**, *Q*, [Z]"
   ]
  },
  {
   "cell_type": "markdown",
   "metadata": {},
   "source": [
    "#### Command characters on the left, vowels on the right:"
   ]
  },
  {
   "cell_type": "code",
   "execution_count": 13,
   "metadata": {},
   "outputs": [
    {
     "data": {
      "image/png": "[encoded data removed]",
      "text/plain": [
       "<Figure size 432x288 with 2 Axes>"
      ]
     },
     "metadata": {
      "needs_background": "light"
     },
     "output_type": "display_data"
    },
    {
     "name": "stdout",
     "output_type": "stream",
     "text": [
      "Top permutation: ['W' 'L' 'N' 'M' 'C' 'S' 'R' 'T' 'Z' 'Y' 'X' 'V' 'F' 'I' 'O' 'K' 'A' 'E'\n",
      " 'H' 'D' 'U' 'G' 'B' 'P']\n",
      "['W', 'M', 'F', 'K', 'D', 'U', 'G', 'B', 'P'] 0.0403752385703891\n",
      "['W', 'M', 'F', 'K', 'P', 'D', 'U', 'B', 'G'] 0.04036610158819854\n",
      "['W', 'M', 'F', 'K', 'D', 'U', 'P', 'B', 'G'] 0.04036540406590267\n",
      "['W', 'M', 'F', 'B', 'D', 'U', 'G', 'K', 'P'] 0.04035781191644218\n",
      "['W', 'D', 'F', 'K', 'M', 'U', 'G', 'B', 'P'] 0.040351971387760845\n",
      "['W', 'M', 'F', 'B', 'D', 'U', 'P', 'K', 'G'] 0.04034794387880842\n",
      "['W', 'D', 'F', 'K', 'M', 'U', 'P', 'B', 'G'] 0.04034767927006863\n",
      "['B', 'M', 'F', 'W', 'D', 'U', 'G', 'K', 'P'] 0.04034704999695889\n",
      "['W', 'M', 'F', 'K', 'D', 'U', 'B', 'G', 'P'] 0.04034683936057478\n",
      "['W', 'M', 'F', 'B', 'P', 'D', 'U', 'K', 'G'] 0.040345864087733316\n"
     ]
    }
   ],
   "source": [
    "keys2A = [1,2,3,4, 5,6,7,8, 9,10,11,12, 13,14,15,16, 17,18,19,20, 21,22,23,24]\n",
    "all_letters2A = ['D','L','N','U', 'C','S','R','T', 'Z','Y','X','V', 'M','I','O','F', 'A','E','H','P', 'G','W','B','K']  # all letters under consideration (move or fix in place)\n",
    "move_positions2A = [0,3, 12,15, 19, 20,21,22,23]  # 0-indices to selected keys to assign letters to\n",
    "fixed_positions2A = [1,2, 4,5,6,7, 8,9,10,11, 13,14, 16,17,18]  # 0-indices to keys with fixed letter assignments\n",
    "top_permutation2A, letter_permutations2A, scores2A = permute_and_optimize(keys2A, SpeedStrengthFlow24x24, bigrams, all_letters2A, move_positions2A, fixed_positions2A, ntop=10, verbose=True)"
   ]
  },
  {
   "cell_type": "code",
   "execution_count": 174,
   "metadata": {},
   "outputs": [
    {
     "name": "stdout",
     "output_type": "stream",
     "text": [
      "['W', 'M', 'F', 'K', 'D', 'U', 'G', 'B', 'P'] 0.0403752385703891\n",
      "['W', 'M', 'F', 'K', 'P', 'D', 'U', 'B', 'G'] 0.04036610158819854\n",
      "['W', 'M', 'F', 'K', 'D', 'U', 'P', 'B', 'G'] 0.04036540406590267\n",
      "['W', 'M', 'F', 'B', 'D', 'U', 'G', 'K', 'P'] 0.04035781191644218\n",
      "['W', 'D', 'F', 'K', 'M', 'U', 'G', 'B', 'P'] 0.040351971387760845\n",
      "['W', 'M', 'F', 'B', 'D', 'U', 'P', 'K', 'G'] 0.04034794387880842\n",
      "['W', 'D', 'F', 'K', 'M', 'U', 'P', 'B', 'G'] 0.04034767927006863\n",
      "['B', 'M', 'F', 'W', 'D', 'U', 'G', 'K', 'P'] 0.04034704999695889\n",
      "['W', 'M', 'F', 'K', 'D', 'U', 'B', 'G', 'P'] 0.04034683936057478\n",
      "['W', 'M', 'F', 'B', 'P', 'D', 'U', 'K', 'G'] 0.040345864087733316\n",
      "['K', 'M', 'F', 'W', 'D', 'U', 'G', 'B', 'P'] 0.040341847125872285\n",
      "['B', 'M', 'F', 'W', 'P', 'D', 'U', 'K', 'G'] 0.04033773419020412\n",
      "['W', 'M', 'F', 'K', 'P', 'U', 'G', 'B', 'D'] 0.040337388538377\n",
      "['B', 'M', 'F', 'W', 'D', 'U', 'P', 'K', 'G'] 0.0403371901232059\n",
      "['W', 'M', 'F', 'K', 'P', 'D', 'U', 'G', 'B'] 0.04033681964890864\n",
      "['B', 'M', 'F', 'K', 'D', 'U', 'G', 'W', 'P'] 0.04033653543984465\n",
      "['W', 'M', 'F', 'K', 'D', 'U', 'P', 'G', 'B'] 0.04033629779772052\n",
      "['W', 'D', 'F', 'B', 'M', 'U', 'G', 'K', 'P'] 0.040334531225422694\n",
      "['W', 'M', 'F', 'K', 'U', 'D', 'G', 'B', 'P'] 0.04033315959678575\n",
      "['K', 'M', 'F', 'W', 'P', 'D', 'U', 'B', 'G'] 0.04033253904490472\n"
     ]
    }
   ],
   "source": [
    "print_top_scores(letter_permutations2A, scores2A, ntop=20)"
   ]
  },
  {
   "cell_type": "markdown",
   "metadata": {},
   "source": [
    "#### Command characters on the left, vowels on the left:"
   ]
  },
  {
   "cell_type": "code",
   "execution_count": 14,
   "metadata": {},
   "outputs": [
    {
     "data": {
      "image/png": "[encoded data removed]",
      "text/plain": [
       "<Figure size 432x288 with 2 Axes>"
      ]
     },
     "metadata": {
      "needs_background": "light"
     },
     "output_type": "display_data"
    },
    {
     "name": "stdout",
     "output_type": "stream",
     "text": [
      "Top permutation: ['K' 'O' 'I' 'U' 'C' 'H' 'E' 'A' 'Z' 'Y' 'X' 'V' 'G' 'N' 'L' 'B' 'T' 'R'\n",
      " 'S' 'P' 'D' 'M' 'W' 'F']\n",
      "['K', 'U', 'G', 'B', 'P', 'D', 'M', 'W', 'F'] 0.04045927528723487\n",
      "['K', 'U', 'G', 'B', 'M', 'D', 'F', 'W', 'P'] 0.040456128383905485\n",
      "['K', 'U', 'G', 'W', 'P', 'D', 'M', 'B', 'F'] 0.04045270492302281\n",
      "['K', 'U', 'G', 'B', 'P', 'D', 'F', 'W', 'M'] 0.040451683693652124\n",
      "['K', 'U', 'G', 'W', 'P', 'D', 'F', 'B', 'M'] 0.04044685264071276\n",
      "['K', 'U', 'G', 'W', 'M', 'D', 'F', 'B', 'P'] 0.040445788286357094\n",
      "['K', 'U', 'G', 'B', 'D', 'M', 'F', 'W', 'P'] 0.04043896022852267\n",
      "['B', 'U', 'G', 'K', 'P', 'D', 'M', 'W', 'F'] 0.040436954075206324\n",
      "['K', 'U', 'G', 'B', 'P', 'D', 'M', 'F', 'W'] 0.04043426201901906\n",
      "['K', 'U', 'G', 'B', 'M', 'D', 'P', 'W', 'F'] 0.04043363963577077\n"
     ]
    }
   ],
   "source": [
    "keys2A_vowelsL = [1,2,3,4, 5,6,7,8, 9,10,11,12, 13,14,15,16, 17,18,19,20, 21,22,23,24]\n",
    "all_letters2A_vowelsL = ['D','O','I','U', 'C','H','E','A', 'Z','Y','X','V', 'M','N','L','F', 'T','R','S','P', 'G','W','B','K']  # all letters under consideration (move or fix in place)\n",
    "move_positions2A_vowelsL = [0,3, 12,15, 19, 20,21,22,23]  # 0-indices to selected keys to assign letters to\n",
    "fixed_positions2A_vowelsL = [1,2, 4,5,6,7, 8,9,10,11, 13,14, 16,17,18]  # 0-indices to keys with fixed letter assignments\n",
    "top_permutation2A_vowelsL, letter_permutations2A_vowelsL, scores2A_vowelsL = permute_and_optimize(keys2A_vowelsL, SpeedStrengthFlow24x24, bigrams, all_letters2A_vowelsL, move_positions2A_vowelsL, fixed_positions2A_vowelsL, ntop=10, verbose=True)"
   ]
  },
  {
   "cell_type": "code",
   "execution_count": 173,
   "metadata": {},
   "outputs": [
    {
     "name": "stdout",
     "output_type": "stream",
     "text": [
      "['X', 'L', 'N', 'D', 'W', 'Z', 'V', 'Y'] 0.05012027900529908\n",
      "['Z', 'L', 'N', 'D', 'W', 'X', 'V', 'Y'] 0.050115910451566686\n",
      "['Z', 'L', 'N', 'D', 'W', 'V', 'X', 'Y'] 0.05009022305881432\n",
      "['X', 'L', 'N', 'D', 'W', 'V', 'Z', 'Y'] 0.05008116617657322\n",
      "['V', 'L', 'N', 'D', 'W', 'Z', 'X', 'Y'] 0.0500795354545193\n",
      "['V', 'L', 'N', 'D', 'W', 'X', 'Z', 'Y'] 0.050065554004904755\n",
      "['W', 'L', 'N', 'D', 'X', 'Z', 'V', 'Y'] 0.05005304814838626\n",
      "['Z', 'L', 'N', 'D', 'X', 'W', 'V', 'Y'] 0.05004835619495673\n",
      "['X', 'L', 'N', 'Y', 'W', 'Z', 'V', 'D'] 0.050040676703644066\n",
      "['Z', 'L', 'N', 'Y', 'W', 'X', 'V', 'D'] 0.05003735542005186\n",
      "['W', 'L', 'N', 'D', 'V', 'Z', 'X', 'Y'] 0.05003095299476404\n",
      "['Z', 'L', 'N', 'D', 'V', 'W', 'X', 'Y'] 0.05002624561222749\n",
      "['W', 'L', 'N', 'D', 'Z', 'X', 'V', 'Y'] 0.0500224368004705\n",
      "['X', 'L', 'N', 'D', 'Z', 'W', 'V', 'Y'] 0.05002211394250259\n",
      "['X', 'L', 'N', 'D', 'V', 'Z', 'W', 'Y'] 0.0500204810944872\n",
      "['X', 'L', 'N', 'D', 'V', 'W', 'Z', 'Y'] 0.05001708451136479\n",
      "['W', 'L', 'N', 'D', 'V', 'X', 'Z', 'Y'] 0.0500170816763558\n",
      "['Z', 'L', 'N', 'D', 'V', 'X', 'W', 'Y'] 0.05001576905192641\n",
      "['W', 'L', 'N', 'D', 'X', 'V', 'Z', 'Y'] 0.05001408113178886\n",
      "['Z', 'L', 'N', 'D', 'X', 'V', 'W', 'Y'] 0.05001274205891348\n"
     ]
    }
   ],
   "source": [
    "print_top_scores(letter_permutations2A_vowelsL, scores2A_vowelsL, ntop=20)"
   ]
  },
  {
   "cell_type": "markdown",
   "metadata": {},
   "source": [
    "#### Command characters on the right, vowels on the right:"
   ]
  },
  {
   "cell_type": "code",
   "execution_count": null,
   "metadata": {
    "colab": {
     "base_uri": "https://localhost:8080/",
     "height": 362
    },
    "colab_type": "code",
    "id": "A5TQRHdCCQKO",
    "outputId": "8ad62e83-c7e8-4021-f0a6-1ea1997dc82e"
   },
   "outputs": [],
   "source": [
    "keys2B = [2,3,4, 5,6,7,8, 9,10,11,12, 13,14,15, 17,18,19, 21,22,23]\n",
    "all_letters2B = ['L','N','D', 'U','S','R','T', 'M','F','P','G', 'W','I','O', 'A','E','H', 'B','K','J']  # all letters under consideration (move or fix in place)\n",
    "move_positions2B = [2, 3, 7,8,9,10, 11, 17,18,19]  # 0-indices to selected keys to assign letters to\n",
    "fixed_positions2B = [0,1, 4,5,6, 12,13, 14,15,16]  # 0-indices to keys with fixed letter assignments\n",
    "top_permutation2B, letter_permutations2B, scores2B = permute_and_optimize(keys2B, SpeedStrengthFlow24x24, bigrams, all_letters2B, move_positions2B, fixed_positions2B, ntop=10, verbose=True)"
   ]
  },
  {
   "cell_type": "markdown",
   "metadata": {},
   "source": [
    "#### Command characters on the right, vowels on the left:"
   ]
  },
  {
   "cell_type": "code",
   "execution_count": null,
   "metadata": {},
   "outputs": [],
   "source": [
    "keys2B_vowelsL = [2,3,4, 5,6,7,8, 9,10,11,12, 13,14,15, 17,18,19, 21,22,23]\n",
    "all_letters2B_vowelsL = ['O','I','D', 'U','H','E','A', 'M','F','P','G', 'W','N','L', 'T','R','S', 'B','K','J']  # all letters under consideration (move or fix in place)\n",
    "move_positions2B_vowelsL = [2, 3, 7,8,9,10, 11, 17,18,19]  # 0-indices to selected keys to assign letters to\n",
    "fixed_positions2B_vowelsL = [0,1, 4,5,6, 12,13, 14,15,16]  # 0-indices to keys with fixed letter assignments\n",
    "top_permutation2B_vowelsL, letter_permutations2B_vowelsL, scores2B_vowelsL = permute_and_optimize(keys2B_vowelsL, SpeedStrengthFlow24x24, bigrams, all_letters2B_vowelsL, move_positions2B_vowelsL, fixed_positions2B_vowelsL, ntop=10, verbose=True)"
   ]
  },
  {
   "cell_type": "markdown",
   "metadata": {},
   "source": [
    "#### Top-scoring permutations and layouts\n",
    "\n",
    "**Command characters on the left, vowels on the right**\n",
    "\n",
    "    Topmost of 362,880 permutations: \n",
    "    ['W' 'L' 'N' 'M' 'C' 'S' 'R' 'T' 'Z' 'Y' 'X' 'V' 'F' 'I' 'O' 'K' 'A' 'E' 'H' 'D' 'U' 'G' 'B' 'P']\n",
    "    ['W', 'M', 'F', 'K', 'D', 'U', 'G', 'B', 'P'] 0.0403752385703891\n",
    "    ['W', 'M', 'F', 'K', 'P', 'D', 'U', 'B', 'G'] 0.04036610158819854\n",
    "    ['W', 'M', 'F', 'K', 'D', 'U', 'P', 'B', 'G'] 0.04036540406590267\n",
    "    ['W', 'M', 'F', 'B', 'D', 'U', 'G', 'K', 'P'] 0.04035781191644218\n",
    "    ['W', 'D', 'F', 'K', 'M', 'U', 'G', 'B', 'P'] 0.040351971387760845\n",
    "    ['W', 'M', 'F', 'B', 'D', 'U', 'P', 'K', 'G'] 0.04034794387880842\n",
    "    ['W', 'D', 'F', 'K', 'M', 'U', 'P', 'B', 'G'] 0.04034767927006863\n",
    "    ['B', 'M', 'F', 'W', 'D', 'U', 'G', 'K', 'P'] 0.04034704999695889\n",
    "    ['W', 'M', 'F', 'K', 'D', 'U', 'B', 'G', 'P'] 0.04034683936057478\n",
    "    ['W', 'M', 'F', 'B', 'P', 'D', 'U', 'K', 'G'] 0.040345864087733316\n",
    "    \n",
    "    Of the top-scoring permutations, the two letter assignments* on the left side have two swaps with the right side, so in addition to the top-scoring layout, we will swap W & B and D & M to try two more layouts:\n",
    "\n",
    "               o  +  +  o        o  +  +  o\n",
    "               +  +  +  +        +  +  +  o \n",
    "               +  +  +  +        o  o  o  o\n",
    "\n",
    "               W  L  N  M        F  I  O  K  Q\n",
    "               C  S  R  T        A  E  H  D  J \n",
    "               Z  Y  X  V        U  G  B  P \n",
    "             \n",
    "               B* L  N  M        F  I  O  K  Q\n",
    "               C  S  R  T        A  E  H  D  J \n",
    "               Z  Y  X  V        U  G  W* P\n",
    "\n",
    "               W  L  N  D*       F  I  O  K  Q\n",
    "               C  S  R  T        A  E  H  M* J \n",
    "               Z  Y  X  V        U  G  B  P\n",
    "\n",
    "**Command characters on the left, vowels on the left**\n",
    "\n",
    "    Topmost of 362,880 permutations: \n",
    "    ['K' 'O' 'I' 'U' 'C' 'H' 'E' 'A' 'Z' 'Y' 'X' 'V' 'G' 'N' 'L' 'B' 'T' 'R' 'S' 'P' 'D' 'M' 'W' 'F']\n",
    "    ['K', 'U', 'G', 'B', 'P', 'D', 'M', 'W', 'F'] 0.04045927528723487\n",
    "    ['K', 'U', 'G', 'B', 'M', 'D', 'F', 'W', 'P'] 0.040456128383905485\n",
    "    ['K', 'U', 'G', 'W', 'P', 'D', 'M', 'B', 'F'] 0.04045270492302281\n",
    "    ['K', 'U', 'G', 'B', 'P', 'D', 'F', 'W', 'M'] 0.040451683693652124\n",
    "    ['K', 'U', 'G', 'W', 'P', 'D', 'F', 'B', 'M'] 0.04044685264071276\n",
    "    ['K', 'U', 'G', 'W', 'M', 'D', 'F', 'B', 'P'] 0.040445788286357094\n",
    "    ['K', 'U', 'G', 'B', 'D', 'M', 'F', 'W', 'P'] 0.04043896022852267\n",
    "    ['B', 'U', 'G', 'K', 'P', 'D', 'M', 'W', 'F'] 0.040436954075206324\n",
    "    ['K', 'U', 'G', 'B', 'P', 'D', 'M', 'F', 'W'] 0.04043426201901906\n",
    "    ['K', 'U', 'G', 'B', 'M', 'D', 'P', 'W', 'F'] 0.04043363963577077\n",
    "    \n",
    "    Of the top-scoring permutations, the two letter assignments on the left side have one swap with the right side, so in addition to the top-scoring layout, we will swap K & B to try another layout.\n",
    "\n",
    "               K  O  I  U        G  N  L  B  Q\n",
    "               C  H  E  A        T  R  S  P  J \n",
    "               Z  Y  X  V        D  M  W  F\n",
    "               \n",
    "               B* O  I  U        G  N  L  K* Q\n",
    "               C  H  E  A        T  R  S  P  J \n",
    "               Z  Y  X  V        D  M  W  F\n",
    "\n",
    "**Command characters on the right, vowels on the right**\n",
    "\n",
    "    Topmost of 3,628,800 permutations: \n",
    "    ['L' 'N' 'G' 'P' 'S' 'R' 'T' 'B' 'W' 'M' 'D' 'F' 'I' 'O' 'A' 'E' 'H' 'U' 'K' 'J']\n",
    "    ['G', 'P', 'B', 'W', 'M', 'D', 'F', 'U', 'K', 'J'] 0.05212880661778938\n",
    "    ['W', 'P', 'F', 'B', 'M', 'D', 'K', 'U', 'G', 'J'] 0.05212865811355612\n",
    "    ['G', 'P', 'F', 'W', 'M', 'D', 'K', 'U', 'B', 'J'] 0.0521268874934143\n",
    "    ['G', 'P', 'W', 'B', 'M', 'D', 'F', 'U', 'K', 'J'] 0.05212638864160726\n",
    "    ['W', 'P', 'F', 'B', 'M', 'D', 'G', 'U', 'K', 'J'] 0.05212630945273444\n",
    "    ['D', 'P', 'B', 'W', 'F', 'M', 'K', 'U', 'G', 'J'] 0.052120580073403824\n",
    "    ['W', 'P', 'M', 'B', 'F', 'D', 'K', 'U', 'G', 'J'] 0.052120530217764305\n",
    "    ['F', 'P', 'B', 'W', 'M', 'D', 'K', 'U', 'G', 'J'] 0.05211884393590193\n",
    "    ['W', 'M', 'P', 'B', 'F', 'D', 'K', 'U', 'G', 'J'] 0.05211828960398186\n",
    "    ['D', 'P', 'B', 'W', 'F', 'M', 'G', 'U', 'K', 'J'] 0.052118260678960665\n",
    "\n",
    "    Of the top-scoring permutations, the four letter assignments on the right side have two positions that swap letters with the left side (F-G; K-G,B), so in addition to the top-scoring layout, we will swap F & G, K & G, and K & B to try three more layouts.\n",
    "\n",
    "               +  +  +  o        o  +  +  +\n",
    "               o  +  +  +        +  +  +  + \n",
    "               o  o  o  o        o  o  o  +\n",
    "\n",
    "               Q  L  N  G        F  I  O  Y  Z\n",
    "               P  S  R  T        A  E  H  C  X \n",
    "               B  W  M  D        U  K  J  V\n",
    "\n",
    "               Q  L  N  F*       G* I  O  Y  Z\n",
    "               P  S  R  T        A  E  H  C  X \n",
    "               B  W  M  D        U  K  J  V\n",
    "\n",
    "               Q  L  N  K*       F  I  O  Y  Z\n",
    "               P  S  R  T        A  E  H  C  X \n",
    "               B  W  M  D        U  G* J  V\n",
    "\n",
    "               Q  L  N  G        F  I  O  Y  Z\n",
    "               P  S  R  T        A  E  H  C  X \n",
    "               K* W  M  D        U  B* J  V\n",
    "\n",
    "**Command characters on the right, vowels on the left**\n",
    "    \n",
    "    Topmost of 3,628,800 permutations: \n",
    "    ['F', 'P', 'G', 'J', 'K', 'U', 'W', 'D', 'M', 'B'] 0.05208070020021263\n",
    "    ['F', 'P', 'B', 'J', 'K', 'U', 'G', 'D', 'M', 'W'] 0.052079570197713\n",
    "    ['F', 'P', 'G', 'K', 'J', 'U', 'W', 'D', 'M', 'B'] 0.05206970713234349\n",
    "    ['K', 'P', 'B', 'J', 'G', 'U', 'F', 'D', 'M', 'W'] 0.05206954318283913\n",
    "    ['K', 'P', 'G', 'J', 'B', 'U', 'F', 'D', 'M', 'W'] 0.052068921955843776\n",
    "    ['F', 'P', 'G', 'K', 'B', 'U', 'W', 'D', 'M', 'J'] 0.052068684663649535\n",
    "    ['F', 'P', 'B', 'K', 'J', 'U', 'G', 'D', 'M', 'W'] 0.05206867291697865\n",
    "    ['F', 'P', 'B', 'K', 'G', 'U', 'W', 'D', 'M', 'J'] 0.052068300459810174\n",
    "    ['F', 'P', 'G', 'J', 'K', 'U', 'B', 'D', 'M', 'W'] 0.05206772860408245\n",
    "    ['F', 'P', 'B', 'J', 'G', 'U', 'W', 'D', 'M', 'K'] 0.05206741877100969\n",
    "\n",
    "    Of the top-scoring permutations, the four letter assignments on the right side have two positions that swap letters with the left side (W-G,F; B-J,K), so in addition to the top-scoring layout, we will swap W & G, W & F, B & J, and B & K to try four more layouts:\n",
    "\n",
    "               Q  O  I  F        W  N  L  Y  Z\n",
    "               P  H  E  A        T  R  S  C  X \n",
    "               G  J  K  U        D  M  B  V\n",
    "\n",
    "               Q  O  I  F        G* N  L  Y  Z\n",
    "               P  H  E  A        T  R  S  C  X \n",
    "               W* J  K  U        D  M  B  V\n",
    "\n",
    "               Q  O  I  W*       F* N  L  Y  Z\n",
    "               P  H  E  A        T  R  S  C  X \n",
    "               G  J  K  U        D  M  B  V\n",
    "\n",
    "               Q  O  I  F        W  N  L  Y  Z\n",
    "               P  H  E  A        T  R  S  C  X \n",
    "               G  B* K  U        D  M  J* V\n",
    "          \n",
    "               Q  O  I  F        W  N  L  Y  Z\n",
    "               P  H  E  A        T  R  S  C  X \n",
    "               G  J  B* U        D  M  K* V\n",
    "               \n",
    "- The outputs for vowels on the left or right with command characters on the right are essentially mirror images of each other, with G and W swapped."
   ]
  },
  {
   "cell_type": "markdown",
   "metadata": {},
   "source": [
    "## Step 4: Optimize arrangement of letters on left and right sides  <a name=\"step3\">\n",
    "    \n",
    "### Left commands, right vowels:\n",
    "\n",
    "               W  L  N  M        F  I  O  K  Q\n",
    "               C  S  R  T        A  E  H  D  J \n",
    "               Z  Y  X  V        U  G  B  P \n",
    "             \n",
    "               B* L  N  M        F  I  O  K  Q\n",
    "               C  S  R  T        A  E  H  D  J \n",
    "               Z  Y  X  V        U  G  W* P\n",
    "\n",
    "               W  L  N  D*       F  I  O  K  Q\n",
    "               C  S  R  T        A  E  H  M* J \n",
    "               Z  Y  X  V        U  G  B  P\n",
    "    \n",
    "#### Left side:"
   ]
  },
  {
   "cell_type": "code",
   "execution_count": 15,
   "metadata": {},
   "outputs": [
    {
     "name": "stdout",
     "output_type": "stream",
     "text": [
      "Top permutation: ['W' 'R' 'L' 'M' 'C' 'N' 'S' 'T']\n",
      "['W', 'R', 'L', 'M', 'N', 'S', 'T'] 0.10884650294961909\n",
      "['W', 'L', 'R', 'M', 'N', 'S', 'T'] 0.10876757584460121\n",
      "['W', 'L', 'N', 'M', 'R', 'S', 'T'] 0.10842802781932563\n",
      "['M', 'R', 'L', 'W', 'N', 'S', 'T'] 0.10830636944027111\n",
      "['M', 'L', 'R', 'W', 'N', 'S', 'T'] 0.10821281411363112\n",
      "['W', 'L', 'R', 'M', 'N', 'T', 'S'] 0.10803377342682088\n",
      "['W', 'N', 'L', 'M', 'R', 'S', 'T'] 0.10801792571091576\n",
      "['M', 'L', 'N', 'W', 'R', 'S', 'T'] 0.10781311510704783\n",
      "['W', 'M', 'R', 'L', 'N', 'S', 'T'] 0.10774977722663273\n",
      "['W', 'L', 'S', 'M', 'R', 'N', 'T'] 0.10772668073952868\n"
     ]
    }
   ],
   "source": [
    "keys2A_L = [1,2,3,4, 5,6,7,8]\n",
    "all_letters2A_L = ['W','L','N','M', 'C','S','R','T']  # all letters under consideration (move or fix in place)\n",
    "move_positions2A_L = [0,1,2,3, 5,6,7]  # 0-indices to selected keys to assign letters to\n",
    "fixed_positions2A_L = [4]  # 0-indices to keys with fixed letter assignments\n",
    "top_permutation2A_L, letter_permutations2A_L, scores2A_L = permute_and_optimize(keys2A_L, SpeedStrengthFlow24x24, bigrams, all_letters2A_L, move_positions2A_L, fixed_positions2A_L, ntop=10, verbose=False)"
   ]
  },
  {
   "cell_type": "code",
   "execution_count": 264,
   "metadata": {},
   "outputs": [
    {
     "name": "stdout",
     "output_type": "stream",
     "text": [
      "Top permutation: ['B' 'R' 'L' 'M' 'C' 'N' 'S' 'T']\n",
      "['B', 'R', 'L', 'M', 'N', 'S', 'T'] 0.11155576327399384\n",
      "['B', 'L', 'R', 'M', 'N', 'S', 'T'] 0.11137344912634145\n",
      "['M', 'R', 'L', 'B', 'N', 'S', 'T'] 0.1109648113937411\n",
      "['M', 'L', 'R', 'B', 'N', 'S', 'T'] 0.11078148037900565\n",
      "['B', 'L', 'N', 'M', 'R', 'S', 'T'] 0.11071686675149728\n",
      "['B', 'L', 'R', 'M', 'N', 'T', 'S'] 0.11065588011617834\n",
      "['B', 'N', 'L', 'M', 'R', 'S', 'T'] 0.1105586250725722\n",
      "['B', 'R', 'L', 'M', 'N', 'T', 'S'] 0.1104159755018318\n",
      "['B', 'M', 'R', 'L', 'N', 'S', 'T'] 0.11029936407630034\n",
      "['M', 'B', 'R', 'L', 'N', 'S', 'T'] 0.11022878069942937\n"
     ]
    }
   ],
   "source": [
    "keys2A_L_WB = [1,2,3,4, 5,6,7,8]\n",
    "all_letters2A_L_WB = ['B','L','N','M', 'C','S','R','T']  # all letters under consideration (move or fix in place)\n",
    "move_positions2A_L_WB = [0,1,2,3, 5,6,7]  # 0-indices to selected keys to assign letters to\n",
    "fixed_positions2A_L_WB = [4]  # 0-indices to keys with fixed letter assignments\n",
    "top_permutation2A_L_WB, letter_permutations2A_L_WB, scores2A_L_WB = permute_and_optimize(keys2A_L_WB, SpeedStrengthFlow24x24, bigrams, all_letters2A_L_WB, move_positions2A_L_WB, fixed_positions2A_L_WB, ntop=10, verbose=False)"
   ]
  },
  {
   "cell_type": "code",
   "execution_count": 265,
   "metadata": {},
   "outputs": [
    {
     "name": "stdout",
     "output_type": "stream",
     "text": [
      "Top permutation: ['W' 'L' 'N' 'D' 'C' 'R' 'S' 'T']\n",
      "['W', 'L', 'N', 'D', 'R', 'S', 'T'] 0.09864939402160944\n",
      "['W', 'R', 'N', 'D', 'L', 'S', 'T'] 0.09802585855752863\n",
      "['W', 'R', 'D', 'L', 'N', 'S', 'T'] 0.09789290861199942\n",
      "['W', 'R', 'L', 'D', 'N', 'S', 'T'] 0.09773066579381998\n",
      "['W', 'N', 'L', 'D', 'R', 'S', 'T'] 0.09760928883627282\n",
      "['W', 'L', 'R', 'D', 'N', 'S', 'T'] 0.09755709463535699\n",
      "['W', 'L', 'N', 'D', 'R', 'T', 'S'] 0.0975100930246929\n",
      "['W', 'L', 'D', 'R', 'N', 'S', 'T'] 0.0973550523230899\n",
      "['W', 'N', 'D', 'L', 'R', 'S', 'T'] 0.09729665032203354\n",
      "['W', 'D', 'N', 'L', 'R', 'S', 'T'] 0.09719127545337844\n"
     ]
    }
   ],
   "source": [
    "keys2A_L_DM = [1,2,3,4, 5,6,7,8]\n",
    "all_letters2A_L_DM = ['W','L','N','D', 'C','S','R','T']  # all letters under consideration (move or fix in place)\n",
    "move_positions2A_L_DM = [0,1,2,3, 5,6,7]  # 0-indices to selected keys to assign letters to\n",
    "fixed_positions2A_L_DM = [4]  # 0-indices to keys with fixed letter assignments\n",
    "top_permutation2A_L_DM, letter_permutations2A_L_DM, scores2A_L_DM = permute_and_optimize(keys2A_L_DM, SpeedStrengthFlow24x24, bigrams, all_letters2A_L_DM, move_positions2A_L_DM, fixed_positions2A_L_DM, ntop=10, verbose=False)"
   ]
  },
  {
   "cell_type": "code",
   "execution_count": 127,
   "metadata": {},
   "outputs": [
    {
     "name": "stdout",
     "output_type": "stream",
     "text": [
      "Top permutation: ['X' 'L' 'N' 'V' 'C' 'S' 'R' 'T' 'W' 'Z' 'M' 'Y']\n",
      "['X', 'L', 'N', 'V', 'W', 'Z', 'M', 'Y'] 0.05544845548600916\n",
      "['Z', 'L', 'N', 'V', 'W', 'X', 'M', 'Y'] 0.0554405134187894\n",
      "['X', 'W', 'N', 'V', 'Y', 'Z', 'M', 'L'] 0.05542072460844852\n",
      "['Z', 'W', 'N', 'V', 'Y', 'X', 'M', 'L'] 0.05541111889371611\n",
      "['X', 'N', 'L', 'V', 'W', 'Z', 'M', 'Y'] 0.055390514959548894\n",
      "['X', 'L', 'N', 'W', 'M', 'Z', 'V', 'Y'] 0.055388260368472594\n",
      "['Z', 'L', 'N', 'V', 'M', 'W', 'X', 'Y'] 0.05538792225898193\n",
      "['W', 'L', 'N', 'V', 'M', 'Z', 'X', 'Y'] 0.05538702309688377\n",
      "['X', 'L', 'N', 'V', 'M', 'Z', 'W', 'Y'] 0.05538274487104241\n",
      "['Z', 'L', 'N', 'W', 'M', 'X', 'V', 'Y'] 0.0553825326352539\n"
     ]
    }
   ],
   "source": [
    "keys2A_L_ZYXV = [1,2,3,4, 5,6,7,8, 9,10,11,12]\n",
    "all_letters2A_L_ZYXV = ['W','L','N','M', 'C','S','R','T', 'V','Z','X','Y']  # all letters under consideration (move or fix in place)\n",
    "move_positions2A_L_ZYXV = [0,1,2,3, 8,9,10,11]  # 0-indices to selected keys to assign letters to\n",
    "fixed_positions2A_L_ZYXV = [4,5,6,7]  # 0-indices to keys with fixed letter assignments\n",
    "top_permutation2A_L_ZYXV, letter_permutations2A_L_ZYXV, scores2A_L_ZYXV = permute_and_optimize(keys2A_L_ZYXV, SpeedStrengthFlow24x24, bigrams, all_letters2A_L_ZYXV, move_positions2A_L_ZYXV, fixed_positions2A_L_ZYXV, ntop=10, verbose=False)"
   ]
  },
  {
   "cell_type": "code",
   "execution_count": 157,
   "metadata": {},
   "outputs": [
    {
     "name": "stdout",
     "output_type": "stream",
     "text": [
      "Top permutation: ['X' 'N' 'L' 'V' 'C' 'S' 'R' 'T' 'B' 'Z' 'M' 'Y']\n",
      "['X', 'N', 'L', 'V', 'B', 'Z', 'M', 'Y'] 0.0575879274030587\n",
      "['Z', 'N', 'L', 'V', 'B', 'X', 'M', 'Y'] 0.05757962983908745\n",
      "['X', 'L', 'N', 'V', 'B', 'Z', 'M', 'Y'] 0.05753392996085904\n",
      "['Z', 'L', 'N', 'V', 'B', 'X', 'M', 'Y'] 0.05752590116600685\n",
      "['X', 'N', 'L', 'V', 'M', 'Z', 'B', 'Y'] 0.05750133053461694\n",
      "['Z', 'N', 'L', 'V', 'M', 'X', 'B', 'Y'] 0.05749298711774827\n",
      "['Z', 'N', 'L', 'X', 'B', 'V', 'M', 'Y'] 0.05748364814302907\n",
      "['X', 'N', 'L', 'Z', 'B', 'V', 'M', 'Y'] 0.057478136826459386\n",
      "['V', 'N', 'L', 'X', 'B', 'Z', 'M', 'Y'] 0.057472287332363425\n",
      "['V', 'N', 'L', 'Z', 'B', 'X', 'M', 'Y'] 0.05745798885823637\n"
     ]
    }
   ],
   "source": [
    "keys2A_L_WB_ZYXV = [1,2,3,4, 5,6,7,8, 9,10,11,12]\n",
    "all_letters2A_L_WB_ZYXV = ['B','L','N','M', 'C','S','R','T', 'V','Z','X','Y']  # all letters under consideration (move or fix in place)\n",
    "move_positions2A_L_WB_ZYXV = [0,1,2,3, 8,9,10,11]  # 0-indices to selected keys to assign letters to\n",
    "fixed_positions2A_L_WB_ZYXV = [4,5,6,7]  # 0-indices to keys with fixed letter assignments\n",
    "top_permutation2A_L_WB_ZYXV, letter_permutations2A_L_WB_ZYXV, scores2A_L_WB_ZYXV = permute_and_optimize(keys2A_L_WB_ZYXV, SpeedStrengthFlow24x24, bigrams, all_letters2A_L_WB_ZYXV, move_positions2A_L_WB_ZYXV, fixed_positions2A_L_WB_ZYXV, ntop=10, verbose=False)"
   ]
  },
  {
   "cell_type": "code",
   "execution_count": 163,
   "metadata": {},
   "outputs": [
    {
     "name": "stdout",
     "output_type": "stream",
     "text": [
      "Top permutation: ['X' 'L' 'N' 'D' 'C' 'R' 'S' 'T' 'W' 'Z' 'V' 'Y']\n",
      "['X', 'L', 'N', 'D', 'W', 'Z', 'V', 'Y'] 0.05012027900529908\n",
      "['Z', 'L', 'N', 'D', 'W', 'X', 'V', 'Y'] 0.050115910451566686\n",
      "['Z', 'L', 'N', 'D', 'W', 'V', 'X', 'Y'] 0.05009022305881432\n",
      "['X', 'L', 'N', 'D', 'W', 'V', 'Z', 'Y'] 0.05008116617657322\n",
      "['V', 'L', 'N', 'D', 'W', 'Z', 'X', 'Y'] 0.0500795354545193\n",
      "['V', 'L', 'N', 'D', 'W', 'X', 'Z', 'Y'] 0.050065554004904755\n",
      "['W', 'L', 'N', 'D', 'X', 'Z', 'V', 'Y'] 0.05005304814838626\n",
      "['Z', 'L', 'N', 'D', 'X', 'W', 'V', 'Y'] 0.05004835619495673\n",
      "['X', 'L', 'N', 'Y', 'W', 'Z', 'V', 'D'] 0.050040676703644066\n",
      "['Z', 'L', 'N', 'Y', 'W', 'X', 'V', 'D'] 0.05003735542005186\n"
     ]
    }
   ],
   "source": [
    "keys2A_L_DM_ZYXV = [1,2,3,4, 5,6,7,8, 9,10,11,12]\n",
    "all_letters2A_L_DM_ZYXV = ['W','L','N','D', 'C','R','S','T', 'V','Z','X','Y']  # all letters under consideration (move or fix in place)\n",
    "move_positions2A_L_DM_ZYXV = [0,1,2,3, 8,9,10,11]  # 0-indices to selected keys to assign letters to\n",
    "fixed_positions2A_L_DM_ZYXV = [4,5,6,7]  # 0-indices to keys with fixed letter assignments\n",
    "top_permutations2A_L_DM_ZYXV, letter_permutations2A_L_DM_ZYXV, scores2A_L_DM_ZYXV = permute_and_optimize(keys2A_L_DM_ZYXV, SpeedStrengthFlow24x24, bigrams, all_letters2A_L_DM_ZYXV, move_positions2A_L_DM_ZYXV, fixed_positions2A_L_DM_ZYXV, ntop=10, verbose=False)"
   ]
  },
  {
   "cell_type": "markdown",
   "metadata": {},
   "source": [
    "#### Right side:"
   ]
  },
  {
   "cell_type": "code",
   "execution_count": 17,
   "metadata": {},
   "outputs": [
    {
     "name": "stdout",
     "output_type": "stream",
     "text": [
      "Top permutation: ['U' 'O' 'F' 'K' 'I' 'E' 'H' 'D' 'A' 'G' 'B' 'P']\n",
      "['U', 'O', 'F', 'I', 'E', 'H', 'A', 'G', 'B'] 0.04319299719817841\n",
      "['U', 'O', 'F', 'I', 'E', 'H', 'A', 'B', 'G'] 0.04316662411219693\n",
      "['F', 'O', 'U', 'I', 'E', 'H', 'A', 'G', 'B'] 0.04303533941199368\n",
      "['F', 'O', 'G', 'I', 'E', 'H', 'A', 'U', 'B'] 0.043031796887500445\n",
      "['U', 'O', 'F', 'A', 'E', 'H', 'I', 'G', 'B'] 0.0430222145050608\n",
      "['G', 'O', 'F', 'I', 'E', 'H', 'A', 'U', 'B'] 0.04300725459987482\n",
      "['F', 'O', 'U', 'I', 'E', 'H', 'A', 'B', 'G'] 0.04299983099916275\n",
      "['U', 'O', 'F', 'E', 'H', 'I', 'A', 'G', 'B'] 0.04299266254042683\n",
      "['U', 'O', 'F', 'E', 'H', 'I', 'A', 'B', 'G'] 0.04298434259314727\n",
      "['U', 'O', 'F', 'A', 'E', 'H', 'I', 'B', 'G'] 0.042975997487838834\n"
     ]
    }
   ],
   "source": [
    "keys2A_R = [13,14,15,16, 17,18,19,20, 21,22,23,24]\n",
    "all_letters2A_R = ['F','I','O','K', 'A','E','H','D', 'U','G','B','P']  # all letters under consideration (move or fix in place)\n",
    "move_positions2A_R = [0,1,2, 4,5,6, 8,9,10]  # 0-indices to selected keys to assign letters to\n",
    "fixed_positions2A_R = [3, 7, 11]  # 0-indices to keys with fixed letter assignments\n",
    "top_permutation2A_R, letter_permutations2A_R, scores2A_R = permute_and_optimize(keys2A_R, SpeedStrengthFlow24x24, bigrams, all_letters2A_R, move_positions2A_R, fixed_positions2A_R, ntop=10, verbose=False)"
   ]
  },
  {
   "cell_type": "code",
   "execution_count": 85,
   "metadata": {},
   "outputs": [
    {
     "name": "stdout",
     "output_type": "stream",
     "text": [
      "Top permutation: ['U' 'O' 'F' 'K' 'I' 'E' 'H' 'D' 'A' 'W' 'G' 'P']\n",
      "['U', 'O', 'F', 'I', 'E', 'H', 'A', 'W', 'G'] 0.043961774895519015\n",
      "['U', 'O', 'F', 'I', 'E', 'H', 'A', 'G', 'W'] 0.043946360252661375\n",
      "['F', 'O', 'W', 'I', 'E', 'H', 'A', 'U', 'G'] 0.04386560057468752\n",
      "['U', 'O', 'F', 'E', 'H', 'I', 'A', 'G', 'W'] 0.0438276343466993\n",
      "['U', 'O', 'F', 'E', 'H', 'I', 'A', 'W', 'G'] 0.0438010452295884\n",
      "['F', 'O', 'U', 'I', 'E', 'H', 'A', 'W', 'G'] 0.04378990304084572\n",
      "['U', 'O', 'F', 'A', 'E', 'H', 'I', 'W', 'G'] 0.043787871934546335\n",
      "['U', 'O', 'F', 'A', 'E', 'H', 'I', 'G', 'W'] 0.04378332401834135\n",
      "['F', 'O', 'U', 'I', 'E', 'H', 'A', 'G', 'W'] 0.04377967261361635\n",
      "['G', 'I', 'W', 'A', 'E', 'H', 'O', 'F', 'U'] 0.043769065142616026\n"
     ]
    }
   ],
   "source": [
    "keys2A_R_WB = [13,14,15,16, 17,18,19,20, 21,22,23,24]\n",
    "all_letters2A_R_WB = ['F','I','O','K', 'A','E','H','D', 'U','G','W','P']  # all letters under consideration (move or fix in place)\n",
    "move_positions2A_R_WB = [0,1,2, 4,5,6, 8,9,10]  # 0-indices to selected keys to assign letters to\n",
    "fixed_positions2A_R_WB = [3, 7, 11]  # 0-indices to keys with fixed letter assignments\n",
    "top_permutation2A_R_WB, letter_permutations2A_R_WB, scores2A_R_WB = permute_and_optimize(keys2A_R_WB, SpeedStrengthFlow24x24, bigrams, all_letters2A_R_WB, move_positions2A_R_WB, fixed_positions2A_R_WB, ntop=10, verbose=False)"
   ]
  },
  {
   "cell_type": "code",
   "execution_count": 103,
   "metadata": {},
   "outputs": [
    {
     "name": "stdout",
     "output_type": "stream",
     "text": [
      "Top permutation: ['U' 'O' 'F' 'K' 'I' 'E' 'H' 'M' 'A' 'G' 'B' 'P']\n",
      "['U', 'O', 'F', 'I', 'E', 'H', 'A', 'G', 'B'] 0.0435067887040471\n",
      "['U', 'O', 'F', 'I', 'E', 'H', 'A', 'B', 'G'] 0.043502779509166\n",
      "['U', 'O', 'F', 'A', 'E', 'H', 'I', 'G', 'B'] 0.04343305301555462\n",
      "['U', 'O', 'F', 'A', 'E', 'H', 'I', 'B', 'G'] 0.04340919988943301\n",
      "['U', 'I', 'F', 'O', 'E', 'H', 'A', 'G', 'B'] 0.04337287772493544\n",
      "['U', 'O', 'F', 'E', 'H', 'I', 'A', 'B', 'G'] 0.04337184107268702\n",
      "['U', 'I', 'F', 'O', 'E', 'H', 'A', 'B', 'G'] 0.04336584917975493\n",
      "['G', 'I', 'F', 'O', 'E', 'H', 'A', 'U', 'B'] 0.043359099378964955\n",
      "['U', 'O', 'F', 'E', 'H', 'I', 'A', 'G', 'B'] 0.04335779712886621\n",
      "['U', 'I', 'G', 'A', 'E', 'H', 'O', 'F', 'B'] 0.04335120231870775\n"
     ]
    }
   ],
   "source": [
    "keys2A_R_DM = [13,14,15,16, 17,18,19,20, 21,22,23,24]\n",
    "all_letters2A_R_DM = ['F','I','O','K', 'A','E','H','M', 'U','G','B','P']  # all letters under consideration (move or fix in place)\n",
    "move_positions2A_R_DM = [0,1,2, 4,5,6, 8,9,10]  # 0-indices to selected keys to assign letters to\n",
    "fixed_positions2A_R_DM = [3, 7, 11]  # 0-indices to keys with fixed letter assignments\n",
    "top_permutation2A_R_DM, letter_permutations2A_R_DM, scores2A_R_DM = permute_and_optimize(keys2A_R_DM, SpeedStrengthFlow24x24, bigrams, all_letters2A_R_DM, move_positions2A_R_DM, fixed_positions2A_R_DM, ntop=10, verbose=False)"
   ]
  },
  {
   "cell_type": "markdown",
   "metadata": {},
   "source": [
    "### Combine left and right sides for left commands / right vowels:"
   ]
  },
  {
   "cell_type": "code",
   "execution_count": 271,
   "metadata": {},
   "outputs": [
    {
     "name": "stdout",
     "output_type": "stream",
     "text": [
      "Top permutation: 0.04072215980698993\n",
      "['W', 'L', 'R', 'M', 'C', 'S', 'N', 'T', 'V', 'Z', 'X', 'Y', 'F', 'O', 'U', 'K', 'I', 'E', 'H', 'D', 'A', 'G', 'B', 'P'])\n",
      "Top permutation: 0.04070843681615529\n",
      "['B', 'L', 'R', 'M', 'C', 'S', 'N', 'T', 'V', 'Z', 'X', 'Y', 'F', 'O', 'U', 'K', 'I', 'E', 'H', 'D', 'A', 'G', 'W', 'P'])\n",
      "Top permutation: 0.04061703531246708\n",
      "['W', 'L', 'N', 'D', 'C', 'S', 'R', 'T', 'V', 'Z', 'X', 'Y', 'F', 'O', 'U', 'K', 'I', 'E', 'H', 'M', 'A', 'G', 'B', 'P'])\n",
      "Top permutation: 0.04092147452542837\n",
      "['Z', 'M', 'N', 'W', 'C', 'S', 'R', 'T', 'Y', 'X', 'V', 'L', 'F', 'O', 'U', 'K', 'I', 'E', 'H', 'D', 'A', 'G', 'B', 'P'])\n",
      "Top permutation: 0.040904145001812636\n",
      "['Z', 'M', 'N', 'V', 'C', 'S', 'R', 'T', 'Y', 'X', 'B', 'L', 'F', 'O', 'U', 'K', 'I', 'E', 'H', 'D', 'A', 'G', 'W', 'P'])\n",
      "Top permutation: 0.04082549708891248\n",
      "['Z', 'W', 'N', 'D', 'C', 'S', 'R', 'T', 'Y', 'X', 'V', 'L', 'F', 'O', 'U', 'K', 'I', 'E', 'H', 'M', 'A', 'G', 'B', 'P'])\n"
     ]
    }
   ],
   "source": [
    "ntop=100\n",
    "verbose=False\n",
    "\n",
    "letter_permutations_left = letter_permutations2A_L\n",
    "scores_permutations_left = scores2A_L\n",
    "letter_permutations_right = letter_permutations2A_R\n",
    "scores_permutations_right = scores2A_R\n",
    "move_positions_left = [0,1,2,3, 5,6,7]\n",
    "fixed_positions_left = [4, 8,9,10,11]\n",
    "fixed_letters_left = ['C', 'V','Z','X','Y']\n",
    "move_positions_right = [0,1,2, 4,5,6, 8,9,10]\n",
    "fixed_positions_right = [3, 7, 11]\n",
    "fixed_letters_right = ['K', 'D', 'P']\n",
    "top_permutation_LR_fixL, top_score_LR_fixL, scores_LR_fixL = optimize_full_layout_with_left_right_top_scores(SpeedStrengthFlow24x24, bigrams, letter_permutations_left, scores_permutations_left, move_positions_left, fixed_letters_left, fixed_positions_left, letter_permutations_right, scores_permutations_right, move_positions_right, fixed_letters_right, fixed_positions_right, ntop, verbose)\n",
    "\n",
    "letter_permutations_left = letter_permutations2A_L_WB\n",
    "scores_permutations_left = scores2A_L_WB\n",
    "letter_permutations_right = letter_permutations2A_R_WB\n",
    "scores_permutations_right = scores2A_R_WB\n",
    "move_positions_left = [0,1,2,3, 5,6,7]\n",
    "fixed_positions_left = [4, 8,9,10,11]\n",
    "fixed_letters_left = ['C', 'V','Z','X','Y']\n",
    "move_positions_right = [0,1,2, 4,5,6, 8,9,10]\n",
    "fixed_positions_right = [3, 7, 11]\n",
    "fixed_letters_right = ['K', 'D', 'P']\n",
    "top_permutation_LR_WB_fixL, top_score_LR_WB_fixL, scores_LR_WB_fixL = optimize_full_layout_with_left_right_top_scores(SpeedStrengthFlow24x24, bigrams, letter_permutations_left, scores_permutations_left, move_positions_left, fixed_letters_left, fixed_positions_left, letter_permutations_right, scores_permutations_right, move_positions_right, fixed_letters_right, fixed_positions_right, ntop, verbose)\n",
    "\n",
    "letter_permutations_left = letter_permutations2A_L_DM\n",
    "scores_permutations_left = scores2A_L_DM\n",
    "letter_permutations_right = letter_permutations2A_R_DM\n",
    "scores_permutations_right = scores2A_R_DM\n",
    "move_positions_left = [0,1,2,3, 5,6,7]\n",
    "fixed_positions_left = [4, 8,9,10,11]\n",
    "fixed_letters_left = ['C', 'V','Z','X','Y']\n",
    "move_positions_right = [0,1,2, 4,5,6, 8,9,10]\n",
    "fixed_positions_right = [3, 7, 11]\n",
    "fixed_letters_right = ['K', 'M', 'P']\n",
    "top_permutation_LR_DM_fixL, top_score_LR_DM_fixL, scores_LR_DM_fixL = optimize_full_layout_with_left_right_top_scores(SpeedStrengthFlow24x24, bigrams, letter_permutations_left, scores_permutations_left, move_positions_left, fixed_letters_left, fixed_positions_left, letter_permutations_right, scores_permutations_right, move_positions_right, fixed_letters_right, fixed_positions_right, ntop, verbose)\n",
    "\n",
    "letter_permutations_left = letter_permutations2A_L_ZYXV\n",
    "scores_permutations_left = scores2A_L_ZYXV\n",
    "letter_permutations_right = letter_permutations2A_R\n",
    "scores_permutations_right = scores2A_R\n",
    "move_positions_left = [0,1,2,3, 8,9,10,11]\n",
    "fixed_positions_left = [4,5,6,7]\n",
    "fixed_letters_left = ['C','S','R','T']\n",
    "move_positions_right = [0,1,2, 4,5,6, 8,9,10]\n",
    "fixed_positions_right = [3, 7, 11]\n",
    "fixed_letters_right = ['K', 'D', 'P']\n",
    "top_permutation_LR, top_score_LR, scores_LR = optimize_full_layout_with_left_right_top_scores(SpeedStrengthFlow24x24, bigrams, letter_permutations_left, scores_permutations_left, move_positions_left, fixed_letters_left, fixed_positions_left, letter_permutations_right, scores_permutations_right, move_positions_right, fixed_letters_right, fixed_positions_right, ntop, verbose)\n",
    "\n",
    "# Swap W & B:\n",
    "letter_permutations_left = letter_permutations2A_L_WB_ZYXV\n",
    "scores_permutations_left = scores2A_L_WB_ZYXV\n",
    "letter_permutations_right = letter_permutations2A_R_WB\n",
    "scores_permutations_right = scores2A_R_WB\n",
    "move_positions_left = [0,1,2,3, 8,9,10,11]\n",
    "fixed_positions_left = [4,5,6,7]\n",
    "fixed_letters_left = ['C','S','R','T']\n",
    "move_positions_right = [0,1,2, 4,5,6, 8,9,10]\n",
    "fixed_positions_right = [3, 7, 11]\n",
    "fixed_letters_right = ['K', 'D', 'P']\n",
    "top_permutation_LR_WB, top_score_LR_WB, scores_LR_WB = optimize_full_layout_with_left_right_top_scores(SpeedStrengthFlow24x24, bigrams, letter_permutations_left, scores_permutations_left, move_positions_left, fixed_letters_left, fixed_positions_left, letter_permutations_right, scores_permutations_right, move_positions_right, fixed_letters_right, fixed_positions_right, ntop, verbose)\n",
    "\n",
    "# Swap D & M:\n",
    "letter_permutations_left = letter_permutations2A_L_DM_ZYXV\n",
    "scores_permutations_left = scores2A_L_DM_ZYXV\n",
    "letter_permutations_right = letter_permutations2A_R_DM\n",
    "scores_permutations_right = scores2A_R_DM\n",
    "move_positions_left = [0,1,2,3, 8,9,10,11]\n",
    "fixed_positions_left = [4,5,6,7]\n",
    "fixed_letters_left = ['C','S','R','T']\n",
    "move_positions_right = [0,1,2, 4,5,6, 8,9,10]\n",
    "fixed_positions_right = [3, 7, 11]\n",
    "fixed_letters_right = ['K', 'M', 'P']\n",
    "top_permutation_LR_DM, top_score_LR_DM, scores_LR_DM = optimize_full_layout_with_left_right_top_scores(SpeedStrengthFlow24x24, bigrams, letter_permutations_left, scores_permutations_left, move_positions_left, fixed_letters_left, fixed_positions_left, letter_permutations_right, scores_permutations_right, move_positions_right, fixed_letters_right, fixed_positions_right, ntop, verbose)"
   ]
  },
  {
   "cell_type": "markdown",
   "metadata": {},
   "source": [
    "### Left commands, left vowels:\n",
    "\n",
    "               K  O  I  U        G  N  L  B  Q\n",
    "               C  H  E  A        T  R  S  P  J \n",
    "               Z  Y  X  V        D  M  W  F\n",
    "               \n",
    "               B* O  I  U        G  N  L  K* Q\n",
    "               C  H  E  A        T  R  S  P  J \n",
    "               Z  Y  X  V        D  M  W  F\n",
    "               \n",
    "#### Left side:"
   ]
  },
  {
   "cell_type": "code",
   "execution_count": 165,
   "metadata": {},
   "outputs": [
    {
     "name": "stdout",
     "output_type": "stream",
     "text": [
      "Top permutation: ['K' 'I' 'O' 'U' 'C' 'H' 'E' 'A']\n",
      "['K', 'I', 'O', 'U', 'H', 'E', 'A'] 0.06758311414066166\n",
      "['K', 'O', 'I', 'U', 'H', 'E', 'A'] 0.06746494983594624\n",
      "['K', 'U', 'I', 'O', 'H', 'E', 'A'] 0.06727680007543863\n",
      "['K', 'O', 'A', 'U', 'H', 'E', 'I'] 0.06708599781564346\n",
      "['K', 'I', 'O', 'U', 'A', 'H', 'E'] 0.06700956432967635\n",
      "['K', 'O', 'I', 'U', 'A', 'H', 'E'] 0.0669734473737024\n",
      "['K', 'I', 'O', 'U', 'H', 'A', 'E'] 0.06692022987014852\n",
      "['K', 'O', 'I', 'U', 'H', 'A', 'E'] 0.06688269190989342\n",
      "['K', 'A', 'O', 'U', 'I', 'H', 'E'] 0.06684255191444655\n",
      "['U', 'I', 'O', 'K', 'H', 'E', 'A'] 0.06683580475755926\n"
     ]
    }
   ],
   "source": [
    "keys2A_vowelsL_L = [1,2,3,4, 5,6,7,8]\n",
    "all_letters2A_vowelsL_L = ['K','O','I','U', 'C','H','E','A']  # all letters under consideration (move or fix in place)\n",
    "move_positions2A_vowelsL_L = [0,1,2,3, 5,6,7]  # 0-indices to selected keys to assign letters to\n",
    "fixed_positions2A_vowelsL_L = [4]  # 0-indices to keys with fixed letter assignments\n",
    "top_permutation2A_vowelsL_L, letter_permutations2A_vowelsL_L, scores2A_vowelsL_L = permute_and_optimize(keys2A_vowelsL_L, SpeedStrengthFlow24x24, bigrams, all_letters2A_vowelsL_L, move_positions2A_vowelsL_L, fixed_positions2A_vowelsL_L, ntop=10, verbose=False)"
   ]
  },
  {
   "cell_type": "code",
   "execution_count": 270,
   "metadata": {},
   "outputs": [
    {
     "name": "stdout",
     "output_type": "stream",
     "text": [
      "Top permutation: ['B' 'I' 'O' 'U' 'C' 'H' 'E' 'A']\n",
      "['B', 'I', 'O', 'U', 'H', 'E', 'A'] 0.07127124589502307\n",
      "['B', 'O', 'I', 'U', 'H', 'E', 'A'] 0.07110575397661573\n",
      "['B', 'U', 'I', 'O', 'H', 'E', 'A'] 0.07092339194857282\n",
      "['B', 'O', 'A', 'U', 'H', 'E', 'I'] 0.07074275984343303\n",
      "['B', 'I', 'O', 'U', 'H', 'A', 'E'] 0.07062085440328679\n",
      "['U', 'B', 'I', 'O', 'H', 'E', 'A'] 0.07060921300034594\n",
      "['B', 'I', 'O', 'U', 'A', 'H', 'E'] 0.0706020941158991\n",
      "['B', 'O', 'I', 'U', 'H', 'A', 'E'] 0.07053598882933977\n",
      "['B', 'O', 'I', 'U', 'A', 'H', 'E'] 0.07051864954623324\n",
      "['B', 'A', 'O', 'U', 'I', 'H', 'E'] 0.07049667914495279\n"
     ]
    }
   ],
   "source": [
    "keys2A_vowelsL_L_KB = [1,2,3,4, 5,6,7,8]\n",
    "all_letters2A_vowelsL_L_KB = ['B','O','I','U', 'C','H','E','A']  # all letters under consideration (move or fix in place)\n",
    "move_positions2A_vowelsL_L_KB = [0,1,2,3, 5,6,7]  # 0-indices to selected keys to assign letters to\n",
    "fixed_positions2A_vowelsL_L_KB = [4]  # 0-indices to keys with fixed letter assignments\n",
    "top_permutation2A_vowelsL_L_KB, letter_permutations2A_vowelsL_L_KB, scores2A_vowelsL_L_KB = permute_and_optimize(keys2A_vowelsL_L_KB, SpeedStrengthFlow24x24, bigrams, all_letters2A_vowelsL_L_KB, move_positions2A_vowelsL_L_KB, fixed_positions2A_vowelsL_L_KB, ntop=10, verbose=False)"
   ]
  },
  {
   "cell_type": "code",
   "execution_count": 178,
   "metadata": {},
   "outputs": [
    {
     "name": "stdout",
     "output_type": "stream",
     "text": [
      "Top permutation: ['Z' 'K' 'O' 'U' 'C' 'H' 'E' 'I' 'V' 'X' 'Y' 'A']\n",
      "['Z', 'K', 'O', 'U', 'C', 'I', 'V', 'X', 'Y', 'A'] 0.03642650030052661\n",
      "['Z', 'Y', 'O', 'U', 'C', 'I', 'V', 'X', 'K', 'A'] 0.03641139965624914\n",
      "['Z', 'Y', 'O', 'U', 'C', 'I', 'V', 'K', 'X', 'A'] 0.03641068500699751\n",
      "['Z', 'K', 'O', 'U', 'C', 'I', 'V', 'Y', 'X', 'A'] 0.03640930911900213\n",
      "['X', 'K', 'O', 'U', 'C', 'I', 'V', 'Z', 'Y', 'A'] 0.03640294350266315\n",
      "['Z', 'U', 'O', 'X', 'C', 'I', 'V', 'K', 'Y', 'A'] 0.03640266955598321\n",
      "['X', 'Y', 'O', 'U', 'C', 'I', 'V', 'Z', 'K', 'A'] 0.036387417617078914\n",
      "['Z', 'Y', 'O', 'U', 'C', 'A', 'V', 'X', 'K', 'I'] 0.036386679708121566\n",
      "['Z', 'U', 'O', 'X', 'C', 'I', 'V', 'Y', 'K', 'A'] 0.03638624556950962\n",
      "['Z', 'Y', 'O', 'U', 'C', 'A', 'V', 'K', 'X', 'I'] 0.03638475160027496\n"
     ]
    }
   ],
   "source": [
    "keys2A_vowelsL_L_ZYXV = [1,2,3,4, 5,6,7,8, 9,10,11,12]\n",
    "all_letters2A_vowelsL_L_ZYXV = ['K','O','I','U', 'C','H','E','A', 'V','Z','X','Y']  # all letters under consideration (move or fix in place)\n",
    "move_positions2A_vowelsL_L_ZYXV = [0,1,2,3, 4,7, 8,9,10,11]  # 0-indices to selected keys to assign letters to\n",
    "fixed_positions2A_vowelsL_L_ZYXV = [5,6]  # 0-indices to keys with fixed letter assignments\n",
    "top_permutation2A_vowelsL_L_ZYXV, letter_permutations2A_vowelsL_L_ZYXV, scores2A_vowelsL_L_ZYXV = permute_and_optimize(keys2A_vowelsL_L_ZYXV, SpeedStrengthFlow24x24, bigrams, all_letters2A_vowelsL_L_ZYXV, move_positions2A_vowelsL_L_ZYXV, fixed_positions2A_vowelsL_L_ZYXV, ntop=10, verbose=False)"
   ]
  },
  {
   "cell_type": "code",
   "execution_count": 179,
   "metadata": {},
   "outputs": [
    {
     "name": "stdout",
     "output_type": "stream",
     "text": [
      "Top permutation: ['Z' 'V' 'I' 'X' 'C' 'H' 'E' 'A' 'B' 'Y' 'U' 'O']\n",
      "['Z', 'V', 'I', 'X', 'C', 'B', 'Y', 'U', 'O'] 0.03846906802416848\n",
      "['Z', 'V', 'I', 'Y', 'C', 'B', 'X', 'U', 'O'] 0.03843813835486853\n",
      "['X', 'V', 'I', 'Z', 'C', 'B', 'Y', 'U', 'O'] 0.038428089906390434\n",
      "['Z', 'B', 'O', 'U', 'C', 'V', 'X', 'Y', 'I'] 0.03841478377762178\n",
      "['X', 'V', 'I', 'Y', 'C', 'B', 'Z', 'U', 'O'] 0.03841163287360908\n",
      "['Y', 'B', 'O', 'U', 'C', 'V', 'Z', 'X', 'I'] 0.038403207353062005\n",
      "['Z', 'B', 'O', 'U', 'C', 'V', 'Y', 'X', 'I'] 0.0383982617743191\n",
      "['X', 'B', 'O', 'U', 'C', 'V', 'Z', 'Y', 'I'] 0.03839646001518786\n",
      "['Z', 'B', 'I', 'Y', 'C', 'V', 'X', 'U', 'O'] 0.03837532211636721\n",
      "['Y', 'B', 'O', 'U', 'C', 'V', 'X', 'Z', 'I'] 0.03837155320274299\n"
     ]
    }
   ],
   "source": [
    "keys2A_vowelsL_L_KB_ZYXV = [1,2,3,4, 5,6,7,8, 9,10,11,12]\n",
    "all_letters2A_vowelsL_L_KB_ZYXV = ['B','O','I','U', 'C','H','E','A', 'V','Z','X','Y']  # all letters under consideration (move or fix in place)\n",
    "move_positions2A_vowelsL_L_KB_ZYXV = [0,1,2,3, 4, 8,9,10,11]  # 0-indices to selected keys to assign letters to\n",
    "fixed_positions2A_vowelsL_L_KB_ZYXV = [5,6,7]  # 0-indices to keys with fixed letter assignments\n",
    "top_permutation2A_vowelsL_L_KB_ZYXV, letter_permutations2A_vowelsL_L_KB_ZYXV, scores2A_vowelsL_L_KB_ZYXV = permute_and_optimize(keys2A_vowelsL_L_KB_ZYXV, SpeedStrengthFlow24x24, bigrams, all_letters2A_vowelsL_L_KB_ZYXV, move_positions2A_vowelsL_L_KB_ZYXV, fixed_positions2A_vowelsL_L_KB_ZYXV, ntop=10, verbose=False)"
   ]
  },
  {
   "cell_type": "markdown",
   "metadata": {},
   "source": [
    "#### Right side:"
   ]
  },
  {
   "cell_type": "code",
   "execution_count": 19,
   "metadata": {},
   "outputs": [
    {
     "name": "stdout",
     "output_type": "stream",
     "text": [
      "Top permutation: ['D' 'N' 'G' 'B' 'T' 'S' 'R' 'P' 'L' 'M' 'W' 'F']\n",
      "['D', 'N', 'G', 'T', 'S', 'R', 'L', 'M', 'W'] 0.05596550438597089\n",
      "['G', 'N', 'L', 'T', 'S', 'R', 'D', 'M', 'W'] 0.055900645985262086\n",
      "['G', 'N', 'D', 'T', 'S', 'R', 'L', 'M', 'W'] 0.05588957277866408\n",
      "['D', 'N', 'L', 'T', 'S', 'R', 'G', 'M', 'W'] 0.05581840738935592\n",
      "['M', 'S', 'L', 'T', 'N', 'R', 'D', 'G', 'W'] 0.05576242395261904\n",
      "['G', 'R', 'L', 'T', 'S', 'N', 'D', 'M', 'W'] 0.05573145510568681\n",
      "['G', 'D', 'N', 'T', 'S', 'R', 'L', 'M', 'W'] 0.055718900624583415\n",
      "['D', 'N', 'G', 'T', 'S', 'R', 'L', 'W', 'M'] 0.055717205687930954\n",
      "['G', 'N', 'M', 'T', 'S', 'R', 'D', 'L', 'W'] 0.05565972682812443\n",
      "['G', 'L', 'R', 'T', 'S', 'N', 'D', 'M', 'W'] 0.05565141615943482\n"
     ]
    }
   ],
   "source": [
    "keys2A_vowelsL_R = [13,14,15,16, 17,18,19,20, 21,22,23,24]\n",
    "all_letters2A_vowelsL_R = ['G','N','L','B', 'T','R','S','P', 'D','M','W','F']  # all letters under consideration (move or fix in place)\n",
    "move_positions2A_vowelsL_R = [0,1,2, 4,5,6, 8,9,10]  # 0-indices to selected keys to assign letters to\n",
    "fixed_positions2A_vowelsL_R = [3, 7, 11]  # 0-indices to keys with fixed letter assignments\n",
    "top_permutation2A_vowelsL_R, letter_permutations2A_vowelsL_R, scores2A_vowelsL_R = permute_and_optimize(keys2A_vowelsL_R, SpeedStrengthFlow24x24, bigrams, all_letters2A_vowelsL_R, move_positions2A_vowelsL_R, fixed_positions2A_vowelsL_R, ntop=10, verbose=False)"
   ]
  },
  {
   "cell_type": "code",
   "execution_count": 88,
   "metadata": {},
   "outputs": [
    {
     "name": "stdout",
     "output_type": "stream",
     "text": [
      "Top permutation: ['D' 'N' 'G' 'K' 'T' 'S' 'R' 'P' 'L' 'M' 'W' 'F']\n",
      "['D', 'N', 'G', 'T', 'S', 'R', 'L', 'M', 'W'] 0.05525644025590366\n",
      "['G', 'N', 'D', 'T', 'S', 'R', 'L', 'M', 'W'] 0.0551795957577358\n",
      "['G', 'N', 'L', 'T', 'S', 'R', 'D', 'M', 'W'] 0.05515963999574589\n",
      "['D', 'N', 'L', 'T', 'S', 'R', 'G', 'M', 'W'] 0.05507740139983974\n",
      "['D', 'N', 'G', 'T', 'S', 'R', 'L', 'W', 'M'] 0.0550392043305801\n",
      "['G', 'N', 'M', 'T', 'S', 'R', 'D', 'L', 'W'] 0.05498994096167487\n",
      "['G', 'D', 'N', 'T', 'S', 'R', 'L', 'M', 'W'] 0.054980193582474496\n",
      "['M', 'S', 'L', 'T', 'N', 'R', 'D', 'G', 'W'] 0.054975847579037125\n",
      "['G', 'N', 'D', 'T', 'S', 'R', 'L', 'W', 'M'] 0.05496167052255861\n",
      "['G', 'N', 'L', 'T', 'S', 'R', 'D', 'W', 'M'] 0.054938861203934035\n"
     ]
    }
   ],
   "source": [
    "keys2A_vowelsL_R_KB = [13,14,15,16, 17,18,19,20, 21,22,23,24]\n",
    "all_letters2A_vowelsL_R_KB = ['G','N','L','K', 'T','R','S','P', 'D','M','W','F']  # all letters under consideration (move or fix in place)\n",
    "move_positions2A_vowelsL_R_KB = [0,1,2, 4,5,6, 8,9,10]  # 0-indices to selected keys to assign letters to\n",
    "fixed_positions2A_vowelsL_R_KB = [3, 7, 11]  # 0-indices to keys with fixed letter assignments\n",
    "top_permutation2A_vowelsL_R_KB, letter_permutations2A_vowelsL_R_KB, scores2A_vowelsL_R_KB = permute_and_optimize(keys2A_vowelsL_R_KB, SpeedStrengthFlow24x24, bigrams, all_letters2A_vowelsL_R_KB, move_positions2A_vowelsL_R_KB, fixed_positions2A_vowelsL_R_KB, ntop=10, verbose=False)"
   ]
  },
  {
   "cell_type": "markdown",
   "metadata": {},
   "source": [
    "### Combine left and right sides for left commands / left vowels:"
   ]
  },
  {
   "cell_type": "code",
   "execution_count": 272,
   "metadata": {},
   "outputs": [
    {
     "name": "stdout",
     "output_type": "stream",
     "text": [
      "Top permutation: 0.04057926281631105\n",
      "['K', 'O', 'I', 'U', 'C', 'H', 'E', 'A', 'V', 'Z', 'X', 'Y', 'G', 'N', 'D', 'B', 'T', 'R', 'S', 'P', 'L', 'M', 'W', 'F'])\n",
      "Top permutation: 0.04056755871726321\n",
      "['B', 'O', 'I', 'U', 'C', 'H', 'E', 'A', 'V', 'Z', 'X', 'Y', 'G', 'N', 'D', 'K', 'T', 'R', 'S', 'P', 'L', 'M', 'W', 'F'])\n",
      "Top permutation: 0.04094844882867137\n",
      "['Z', 'U', 'O', 'X', 'C', 'H', 'E', 'I', 'V', 'K', 'Y', 'A', 'G', 'N', 'D', 'B', 'T', 'R', 'S', 'P', 'L', 'M', 'W', 'F'])\n",
      "Top permutation: 0.040952298084477055\n",
      "['Z', 'U', 'I', 'X', 'C', 'H', 'E', 'A', 'B', 'V', 'Y', 'O', 'G', 'N', 'D', 'K', 'T', 'R', 'S', 'P', 'L', 'M', 'W', 'F'])\n"
     ]
    }
   ],
   "source": [
    "ntop=100\n",
    "verbose=False\n",
    "\n",
    "letter_permutations_left = letter_permutations2A_vowelsL_L\n",
    "scores_permutations_left = scores2A_vowelsL_L\n",
    "letter_permutations_right = letter_permutations2A_vowelsL_R\n",
    "scores_permutations_right = scores2A_vowelsL_R\n",
    "move_positions_left = [0,1,2,3, 5,6,7]\n",
    "fixed_positions_left = [4, 8,9,10,11]\n",
    "fixed_letters_left = ['C', 'V','Z','X','Y']\n",
    "move_positions_right = [0,1,2, 4,5,6, 8,9,10]\n",
    "fixed_positions_right = [3, 7, 11]\n",
    "fixed_letters_right = ['B','P','F']\n",
    "top_permutation_LL_fixL, top_score_LL_fixL, scores_LL_fixL = optimize_full_layout_with_left_right_top_scores(SpeedStrengthFlow24x24, bigrams, letter_permutations_left, scores_permutations_left, move_positions_left, fixed_letters_left, fixed_positions_left, letter_permutations_right, scores_permutations_right, move_positions_right, fixed_letters_right, fixed_positions_right, ntop, verbose)\n",
    "\n",
    "letter_permutations_left = letter_permutations2A_vowelsL_L_KB\n",
    "scores_permutations_left = scores2A_vowelsL_L_KB\n",
    "letter_permutations_right = letter_permutations2A_vowelsL_R_KB\n",
    "scores_permutations_right = scores2A_vowelsL_R_KB\n",
    "move_positions_left = [0,1,2,3, 5,6,7]\n",
    "fixed_positions_left = [4, 8,9,10,11]\n",
    "fixed_letters_left = ['C', 'V','Z','X','Y']\n",
    "move_positions_right = [0,1,2, 4,5,6, 8,9,10]\n",
    "fixed_positions_right = [3, 7, 11]\n",
    "fixed_letters_right = ['K','P','F']\n",
    "top_permutation_LR_KB_fixL, top_score_LR_KB_fixL, scores_LR_KB_fixL = optimize_full_layout_with_left_right_top_scores(SpeedStrengthFlow24x24, bigrams, letter_permutations_left, scores_permutations_left, move_positions_left, fixed_letters_left, fixed_positions_left, letter_permutations_right, scores_permutations_right, move_positions_right, fixed_letters_right, fixed_positions_right, ntop, verbose)\n",
    "\n",
    "letter_permutations_left = letter_permutations2A_vowelsL_L_ZYXV\n",
    "scores_permutations_left = scores2A_vowelsL_L_ZYXV\n",
    "letter_permutations_right = letter_permutations2A_vowelsL_R\n",
    "scores_permutations_right = scores2A_vowelsL_R\n",
    "move_positions_left = [0,1,2,3, 4,7, 8,9,10,11]\n",
    "fixed_positions_left = [5,6]\n",
    "fixed_letters_left = ['H','E']\n",
    "move_positions_right = [0,1,2, 4,5,6, 8,9,10]\n",
    "fixed_positions_right = [3, 7, 11]\n",
    "fixed_letters_right = ['B','P','F']\n",
    "top_permutation_LL, top_score_LL, scores_LL = optimize_full_layout_with_left_right_top_scores(SpeedStrengthFlow24x24, bigrams, letter_permutations_left, scores_permutations_left, move_positions_left, fixed_letters_left, fixed_positions_left, letter_permutations_right, scores_permutations_right, move_positions_right, fixed_letters_right, fixed_positions_right, ntop, verbose)\n",
    "\n",
    "# Swap K & B:\n",
    "letter_permutations_left = letter_permutations2A_vowelsL_L_KB_ZYXV\n",
    "scores_permutations_left = scores2A_vowelsL_L_KB_ZYXV\n",
    "letter_permutations_right = letter_permutations2A_vowelsL_R_KB\n",
    "scores_permutations_right = scores2A_vowelsL_R_KB\n",
    "move_positions_left = [0,1,2,3, 4, 8,9,10,11]\n",
    "fixed_positions_left = [5,6,7]\n",
    "fixed_letters_left = ['H','E','A']\n",
    "move_positions_right = [0,1,2, 4,5,6, 8,9,10]\n",
    "fixed_positions_right = [3, 7, 11]\n",
    "fixed_letters_right = ['K', 'P', 'F']\n",
    "top_permutation_LL_KB, top_score_LL_KB, scores_LL_KB = optimize_full_layout_with_left_right_top_scores(SpeedStrengthFlow24x24, bigrams, letter_permutations_left, scores_permutations_left, move_positions_left, fixed_letters_left, fixed_positions_left, letter_permutations_right, scores_permutations_right, move_positions_right, fixed_letters_right, fixed_positions_right, ntop, verbose)"
   ]
  },
  {
   "cell_type": "markdown",
   "metadata": {},
   "source": [
    "### Right commands, right vowels:\n",
    "\n",
    "               Q  L  N  G        F  I  O  Y  Z\n",
    "               P  S  R  T        A  E  H  C  X \n",
    "               B  W  M  D        U  K  J  V\n",
    "\n",
    "               Q  L  N  F*       G* I  O  Y  Z\n",
    "               P  S  R  T        A  E  H  C  X \n",
    "               B  W  M  D        U  K  J  V\n",
    "\n",
    "               Q  L  N  K*       F  I  O  Y  Z\n",
    "               P  S  R  T        A  E  H  C  X \n",
    "               B  W  M  D        U  G* J  V\n",
    "\n",
    "               Q  L  N  G        F  I  O  Y  Z\n",
    "               P  S  R  T        A  E  H  C  X \n",
    "               K* W  M  D        U  B* J  V\n",
    "             \n",
    "#### Left side:"
   ]
  },
  {
   "cell_type": "code",
   "execution_count": 20,
   "metadata": {},
   "outputs": [
    {
     "data": {
      "image/png": "[encoded data removed]",
      "text/plain": [
       "<Figure size 432x288 with 2 Axes>"
      ]
     },
     "metadata": {
      "needs_background": "light"
     },
     "output_type": "display_data"
    },
    {
     "name": "stdout",
     "output_type": "stream",
     "text": [
      "Top permutation: ['Q' 'G' 'N' 'D' 'P' 'R' 'S' 'T' 'B' 'W' 'M' 'L']\n",
      "['G', 'N', 'D', 'R', 'S', 'T', 'W', 'M', 'L'] 0.05381851950597602\n",
      "['D', 'N', 'G', 'R', 'S', 'T', 'W', 'M', 'L'] 0.05374247448713053\n",
      "['L', 'N', 'G', 'R', 'S', 'T', 'W', 'M', 'D'] 0.05364211460079411\n",
      "['N', 'D', 'G', 'R', 'S', 'T', 'W', 'M', 'L'] 0.05358771876278312\n",
      "['G', 'N', 'D', 'R', 'S', 'T', 'M', 'W', 'L'] 0.05357664474926719\n",
      "['L', 'N', 'D', 'R', 'S', 'T', 'W', 'M', 'G'] 0.053557687709204625\n",
      "['M', 'N', 'G', 'R', 'S', 'T', 'W', 'L', 'D'] 0.05350069267564499\n",
      "['D', 'N', 'G', 'R', 'S', 'T', 'M', 'W', 'L'] 0.05349991042056807\n",
      "['L', 'N', 'G', 'R', 'S', 'T', 'M', 'W', 'D'] 0.05339669697759699\n",
      "['L', 'R', 'G', 'N', 'S', 'T', 'W', 'M', 'D'] 0.05339120106482712\n"
     ]
    }
   ],
   "source": [
    "keys2B_L = [1,2,3,4, 5,6,7,8, 9,10,11,12]\n",
    "all_letters2B_L = ['Q','L','N','G', 'P','S','R','T', 'B','W','M','D']  # all letters under consideration (move or fix in place)\n",
    "move_positions2B_L = [1,2,3, 5,6,7, 9,10,11]  # 0-indices to selected keys to assign letters to\n",
    "fixed_positions2B_L = [0, 4, 8]  # 0-indices to keys with fixed letter assignments\n",
    "top_permutation2B_L, letter_permutations2B_L, scores2B_L = permute_and_optimize(keys2B_L, SpeedStrengthFlow24x24, bigrams, all_letters2B_L, move_positions2B_L, fixed_positions2B_L, ntop=10, verbose=False)"
   ]
  },
  {
   "cell_type": "code",
   "execution_count": 89,
   "metadata": {},
   "outputs": [
    {
     "name": "stdout",
     "output_type": "stream",
     "text": [
      "Top permutation: ['Q' 'F' 'N' 'D' 'P' 'R' 'S' 'T' 'B' 'W' 'M' 'L']\n",
      "['F', 'N', 'D', 'R', 'S', 'T', 'W', 'M', 'L'] 0.05063975440711907\n",
      "['M', 'N', 'D', 'R', 'S', 'T', 'W', 'F', 'L'] 0.05057751206428583\n",
      "['W', 'N', 'D', 'R', 'S', 'T', 'F', 'M', 'L'] 0.050481247691792054\n",
      "['F', 'R', 'M', 'N', 'S', 'T', 'W', 'L', 'D'] 0.05047151119741534\n",
      "['N', 'D', 'M', 'R', 'S', 'T', 'W', 'F', 'L'] 0.050467152984320085\n",
      "['L', 'R', 'F', 'N', 'S', 'T', 'W', 'M', 'D'] 0.05046378737866637\n",
      "['N', 'D', 'F', 'R', 'S', 'T', 'W', 'M', 'L'] 0.050456347079311396\n",
      "['M', 'N', 'D', 'R', 'S', 'T', 'F', 'W', 'L'] 0.05045598953763551\n",
      "['R', 'L', 'F', 'N', 'S', 'T', 'W', 'M', 'D'] 0.05045342985009718\n",
      "['N', 'D', 'W', 'R', 'S', 'T', 'F', 'M', 'L'] 0.050426677046871156\n"
     ]
    }
   ],
   "source": [
    "keys2B_L_FG = [1,2,3,4, 5,6,7,8, 9,10,11,12]\n",
    "all_letters2B_L_FG = ['Q','L','N','F', 'P','S','R','T', 'B','W','M','D']  # all letters under consideration (move or fix in place)\n",
    "move_positions2B_L_FG = [1,2,3, 5,6,7, 9,10,11]  # 0-indices to selected keys to assign letters to\n",
    "fixed_positions2B_L_FG = [0, 4, 8]  # 0-indices to keys with fixed letter assignments\n",
    "top_permutation2B_L_FG, letter_permutations2B_L_FG, scores2B_L_FG = permute_and_optimize(keys2B_L_FG, SpeedStrengthFlow24x24, bigrams, all_letters2B_L_FG, move_positions2B_L_FG, fixed_positions2B_L_FG, ntop=10, verbose=False)"
   ]
  },
  {
   "cell_type": "code",
   "execution_count": 90,
   "metadata": {},
   "outputs": [
    {
     "name": "stdout",
     "output_type": "stream",
     "text": [
      "Top permutation: ['Q' 'M' 'N' 'D' 'P' 'R' 'S' 'T' 'B' 'W' 'K' 'L']\n",
      "['M', 'N', 'D', 'R', 'S', 'T', 'W', 'K', 'L'] 0.04929200424837545\n",
      "['W', 'N', 'D', 'R', 'S', 'T', 'K', 'M', 'L'] 0.0492815267299459\n",
      "['M', 'N', 'D', 'R', 'S', 'T', 'K', 'W', 'L'] 0.049257529385626345\n",
      "['K', 'N', 'D', 'R', 'S', 'T', 'W', 'M', 'L'] 0.04925568454023359\n",
      "['N', 'D', 'K', 'R', 'S', 'T', 'W', 'M', 'L'] 0.04921666090168056\n",
      "['N', 'D', 'W', 'R', 'S', 'T', 'K', 'M', 'L'] 0.04919965619073284\n",
      "['N', 'D', 'M', 'R', 'S', 'T', 'W', 'K', 'L'] 0.049157301268718354\n",
      "['R', 'D', 'M', 'N', 'S', 'T', 'W', 'K', 'L'] 0.04914856454078177\n",
      "['R', 'L', 'K', 'N', 'S', 'T', 'W', 'M', 'D'] 0.04913418347733493\n",
      "['R', 'D', 'K', 'N', 'S', 'T', 'W', 'M', 'L'] 0.04913251822355483\n"
     ]
    }
   ],
   "source": [
    "keys2B_L_KG = [1,2,3,4, 5,6,7,8, 9,10,11,12]\n",
    "all_letters2B_L_KG = ['Q','L','N','K', 'P','S','R','T', 'B','W','M','D']  # all letters under consideration (move or fix in place)\n",
    "move_positions2B_L_KG = [1,2,3, 5,6,7, 9,10,11]  # 0-indices to selected keys to assign letters to\n",
    "fixed_positions2B_L_KG = [0, 4, 8]  # 0-indices to keys with fixed letter assignments\n",
    "top_permutation2B_L_KG, letter_permutations2B_L_KG, scores2B_L_KG = permute_and_optimize(keys2B_L_KG, SpeedStrengthFlow24x24, bigrams, all_letters2B_L_KG, move_positions2B_L_KG, fixed_positions2B_L_KG, ntop=10, verbose=False)"
   ]
  },
  {
   "cell_type": "code",
   "execution_count": 91,
   "metadata": {},
   "outputs": [
    {
     "name": "stdout",
     "output_type": "stream",
     "text": [
      "Top permutation: ['Q' 'G' 'N' 'D' 'P' 'R' 'S' 'T' 'K' 'W' 'M' 'L']\n",
      "['G', 'N', 'D', 'R', 'S', 'T', 'W', 'M', 'L'] 0.05284707822889545\n",
      "['L', 'N', 'G', 'R', 'S', 'T', 'W', 'M', 'D'] 0.05279671555923178\n",
      "['D', 'N', 'G', 'R', 'S', 'T', 'W', 'M', 'L'] 0.0527701203191889\n",
      "['L', 'N', 'D', 'R', 'S', 'T', 'W', 'M', 'G'] 0.052716936654444574\n",
      "['G', 'N', 'D', 'R', 'S', 'T', 'M', 'W', 'L'] 0.05263047226040454\n",
      "['M', 'N', 'G', 'R', 'S', 'T', 'W', 'L', 'D'] 0.052616741107665434\n",
      "['L', 'S', 'M', 'R', 'N', 'T', 'W', 'G', 'D'] 0.05260753580249934\n",
      "['N', 'D', 'G', 'R', 'S', 'T', 'W', 'M', 'L'] 0.052586634573660876\n",
      "['L', 'N', 'G', 'R', 'S', 'T', 'M', 'W', 'D'] 0.05257656672425259\n",
      "['L', 'R', 'G', 'N', 'S', 'T', 'W', 'M', 'D'] 0.0525565681174319\n"
     ]
    }
   ],
   "source": [
    "keys2B_L_KB = [1,2,3,4, 5,6,7,8, 9,10,11,12]\n",
    "all_letters2B_L_KB = ['Q','L','N','G', 'P','S','R','T', 'K','W','M','D']  # all letters under consideration (move or fix in place)\n",
    "move_positions2B_L_KB = [1,2,3, 5,6,7, 9,10,11]  # 0-indices to selected keys to assign letters to\n",
    "fixed_positions2B_L_KB = [0, 4, 8]  # 0-indices to keys with fixed letter assignments\n",
    "top_permutation2B_L_KB, letter_permutations2B_L_KB, scores2B_L_KB = permute_and_optimize(keys2B_L_KB, SpeedStrengthFlow24x24, bigrams, all_letters2B_L_KB, move_positions2B_L_KB, fixed_positions2B_L_KB, ntop=10, verbose=False)"
   ]
  },
  {
   "cell_type": "markdown",
   "metadata": {},
   "source": [
    "#### Right side:"
   ]
  },
  {
   "cell_type": "code",
   "execution_count": 21,
   "metadata": {
    "colab": {
     "base_uri": "https://localhost:8080/",
     "height": 207
    },
    "colab_type": "code",
    "id": "1PE99eARDzS2",
    "outputId": "8fe3a936-27bd-45b1-eb5f-dc7e57c24324"
   },
   "outputs": [
    {
     "data": {
      "image/png": "[encoded data removed]",
      "text/plain": [
       "<Figure size 432x288 with 2 Axes>"
      ]
     },
     "metadata": {
      "needs_background": "light"
     },
     "output_type": "display_data"
    },
    {
     "name": "stdout",
     "output_type": "stream",
     "text": [
      "Top permutation: ['U' 'O' 'F' 'E' 'H' 'I' 'A' 'K' 'J']\n",
      "['U', 'O', 'F', 'E', 'H', 'I', 'A', 'K', 'J'] 0.04758048762171712\n",
      "['U', 'O', 'F', 'E', 'H', 'I', 'A', 'J', 'K'] 0.047537067049789036\n",
      "['U', 'O', 'F', 'I', 'E', 'H', 'A', 'K', 'J'] 0.047447579916287966\n",
      "['U', 'O', 'F', 'I', 'E', 'H', 'A', 'J', 'K'] 0.047421837418313344\n",
      "['U', 'O', 'F', 'A', 'E', 'H', 'I', 'K', 'J'] 0.04725858571731224\n",
      "['U', 'O', 'F', 'A', 'E', 'H', 'I', 'J', 'K'] 0.047222933486789256\n",
      "['F', 'O', 'U', 'E', 'H', 'I', 'A', 'K', 'J'] 0.0472112196534384\n",
      "['K', 'O', 'F', 'E', 'H', 'I', 'A', 'U', 'J'] 0.04718990587662503\n",
      "['U', 'F', 'O', 'I', 'E', 'H', 'A', 'K', 'J'] 0.047182577916295265\n",
      "['F', 'O', 'U', 'E', 'H', 'I', 'A', 'J', 'K'] 0.04716115503599494\n"
     ]
    }
   ],
   "source": [
    "keys2B_R = [13,14,15, 17,18,19, 21,22,23]\n",
    "all_letters2B_R = ['F','I','O', 'A','E','H', 'U','K','J']  # all letters under consideration (move or fix in place)\n",
    "move_positions2B_R = [0,1,2, 3,4,5, 6,7,8]  # 0-indices to selected keys to assign letters to\n",
    "fixed_positions2B_R = []  # 0-indices to keys with fixed letter assignments\n",
    "top_permutation2B_R, letter_permutations2B_R, scores2B_R = permute_and_optimize(keys2B_R, SpeedStrengthFlow24x24, bigrams, all_letters2B_R, move_positions2B_R, fixed_positions2B_R, ntop=10, verbose=False)"
   ]
  },
  {
   "cell_type": "code",
   "execution_count": 92,
   "metadata": {},
   "outputs": [
    {
     "name": "stdout",
     "output_type": "stream",
     "text": [
      "Top permutation: ['U' 'O' 'G' 'E' 'H' 'I' 'A' 'K' 'J']\n",
      "['U', 'O', 'G', 'E', 'H', 'I', 'A', 'K', 'J'] 0.04412573259771627\n",
      "['U', 'O', 'G', 'E', 'H', 'I', 'A', 'J', 'K'] 0.04408233430521027\n",
      "['U', 'O', 'G', 'I', 'E', 'H', 'A', 'K', 'J'] 0.04385403801579344\n",
      "['U', 'O', 'G', 'I', 'E', 'H', 'A', 'J', 'K'] 0.04382831779724088\n",
      "['U', 'O', 'K', 'E', 'H', 'I', 'A', 'G', 'J'] 0.04378855683172781\n",
      "['K', 'I', 'G', 'A', 'E', 'H', 'O', 'U', 'J'] 0.04376267773804556\n",
      "['U', 'O', 'G', 'A', 'E', 'H', 'I', 'K', 'J'] 0.0437266339419673\n",
      "['J', 'I', 'G', 'A', 'E', 'H', 'O', 'U', 'K'] 0.0437122495165232\n",
      "['K', 'A', 'G', 'E', 'H', 'I', 'O', 'U', 'J'] 0.043708433837645534\n",
      "['K', 'O', 'U', 'E', 'H', 'I', 'A', 'G', 'J'] 0.043704636051575464\n"
     ]
    }
   ],
   "source": [
    "keys2B_R_FG = [13,14,15, 17,18,19, 21,22,23]\n",
    "all_letters2B_R_FG = ['G','I','O', 'A','E','H', 'U','K','J']  # all letters under consideration (move or fix in place)\n",
    "move_positions2B_R_FG = [0,1,2, 3,4,5, 6,7,8]  # 0-indices to selected keys to assign letters to\n",
    "fixed_positions2B_R_FG = []  # 0-indices to keys with fixed letter assignments\n",
    "top_permutation2B_R_FG, letter_permutations2B_R_FG, scores2B_R_FG = permute_and_optimize(keys2B_R_FG, SpeedStrengthFlow24x24, bigrams, all_letters2B_R_FG, move_positions2B_R_FG, fixed_positions2B_R_FG, ntop=10, verbose=False)"
   ]
  },
  {
   "cell_type": "code",
   "execution_count": 93,
   "metadata": {},
   "outputs": [
    {
     "name": "stdout",
     "output_type": "stream",
     "text": [
      "Top permutation: ['U' 'O' 'F' 'E' 'H' 'I' 'A' 'G' 'J']\n",
      "['U', 'O', 'F', 'E', 'H', 'I', 'A', 'G', 'J'] 0.051336358280687305\n",
      "['U', 'O', 'F', 'E', 'H', 'I', 'A', 'J', 'G'] 0.05118770592967529\n",
      "['U', 'O', 'F', 'I', 'E', 'H', 'A', 'G', 'J'] 0.05113517504068404\n",
      "['U', 'O', 'F', 'I', 'E', 'H', 'A', 'J', 'G'] 0.05103397546914042\n",
      "['F', 'O', 'U', 'E', 'H', 'I', 'A', 'G', 'J'] 0.05100082127140032\n",
      "['U', 'O', 'F', 'A', 'E', 'H', 'I', 'G', 'J'] 0.05095364832965037\n",
      "['F', 'O', 'G', 'E', 'H', 'I', 'A', 'U', 'J'] 0.05092544616069676\n",
      "['U', 'O', 'F', 'E', 'I', 'H', 'A', 'G', 'J'] 0.050854185678954826\n",
      "['J', 'O', 'F', 'E', 'H', 'I', 'A', 'U', 'G'] 0.05084898545527328\n",
      "['U', 'O', 'F', 'A', 'E', 'H', 'I', 'J', 'G'] 0.050838530503892525\n"
     ]
    }
   ],
   "source": [
    "keys2B_R_KG = [13,14,15, 17,18,19, 21,22,23]\n",
    "all_letters2B_R_KG = ['F','I','O', 'A','E','H', 'U','G','J']  # all letters under consideration (move or fix in place)\n",
    "move_positions2B_R_KG = [0,1,2, 3,4,5, 6,7,8]  # 0-indices to selected keys to assign letters to\n",
    "fixed_positions2B_R_KG = []  # 0-indices to keys with fixed letter assignments\n",
    "top_permutation2B_R_KG, letter_permutations2B_R_KG, scores2B_R_KG = permute_and_optimize(keys2B_R_KG, SpeedStrengthFlow24x24, bigrams, all_letters2B_R_KG, move_positions2B_R_KG, fixed_positions2B_R_KG, ntop=10, verbose=False)"
   ]
  },
  {
   "cell_type": "code",
   "execution_count": 94,
   "metadata": {},
   "outputs": [
    {
     "name": "stdout",
     "output_type": "stream",
     "text": [
      "Top permutation: ['U' 'O' 'F' 'E' 'H' 'I' 'A' 'B' 'J']\n",
      "['U', 'O', 'F', 'E', 'H', 'I', 'A', 'B', 'J'] 0.05086079737136481\n",
      "['U', 'O', 'F', 'I', 'E', 'H', 'A', 'B', 'J'] 0.05075021526257682\n",
      "['U', 'O', 'F', 'E', 'H', 'I', 'A', 'J', 'B'] 0.0507227340146072\n",
      "['U', 'O', 'F', 'I', 'E', 'H', 'A', 'J', 'B'] 0.05069169915409102\n",
      "['U', 'O', 'F', 'A', 'E', 'H', 'I', 'B', 'J'] 0.05050296886528426\n",
      "['F', 'O', 'U', 'E', 'H', 'I', 'A', 'B', 'J'] 0.05049926164280564\n",
      "['F', 'O', 'B', 'E', 'H', 'I', 'A', 'U', 'J'] 0.05048902442901555\n",
      "['U', 'O', 'F', 'A', 'E', 'H', 'I', 'J', 'B'] 0.05046581260256736\n",
      "['U', 'O', 'I', 'F', 'E', 'H', 'A', 'B', 'J'] 0.050443525753486394\n",
      "['U', 'O', 'F', 'E', 'I', 'H', 'A', 'B', 'J'] 0.05043231318940354\n"
     ]
    }
   ],
   "source": [
    "keys2B_R_KB = [13,14,15, 17,18,19, 21,22,23]\n",
    "all_letters2B_R_KB = ['F','I','O', 'A','E','H', 'U','B','J']  # all letters under consideration (move or fix in place)\n",
    "move_positions2B_R_KB = [0,1,2, 3,4,5, 6,7,8]  # 0-indices to selected keys to assign letters to\n",
    "fixed_positions2B_R_KB = []  # 0-indices to keys with fixed letter assignments\n",
    "top_permutation2B_R_KB, letter_permutations2B_R_KB, scores2B_R_KB = permute_and_optimize(keys2B_R_KB, SpeedStrengthFlow24x24, bigrams, all_letters2B_R_KB, move_positions2B_R_KB, fixed_positions2B_R_KB, ntop=10, verbose=False)"
   ]
  },
  {
   "cell_type": "markdown",
   "metadata": {},
   "source": [
    "### Combine left and right sides for right commands / right vowels:"
   ]
  },
  {
   "cell_type": "code",
   "execution_count": null,
   "metadata": {},
   "outputs": [],
   "source": [
    "ntop=100\n",
    "verbose=False\n",
    "\n",
    "letter_permutations_left = letter_permutations2B_L\n",
    "scores_permutations_left = scores2B_L\n",
    "letter_permutations_right = letter_permutations2B_R\n",
    "scores_permutations_right = scores2B_R\n",
    "move_positions_left = [1,2,3, 5,6,7, 9,10,11]\n",
    "fixed_positions_left = [0, 4, 8]\n",
    "fixed_letters_left = ['Q','P','B']\n",
    "move_positions_right = [0,1,2, 4,5,6, 8,9,10]\n",
    "fixed_positions_right = [3, 7, 11]\n",
    "fixed_letters_right = ['Y','C','V']\n",
    "top_permutation_RR, top_score_RR, scores_RR = optimize_full_layout_with_left_right_top_scores(SpeedStrengthFlow24x24, bigrams, letter_permutations_left, scores_permutations_left, move_positions_left, fixed_letters_left, fixed_positions_left, letter_permutations_right, scores_permutations_right, move_positions_right, fixed_letters_right, fixed_positions_right, ntop, verbose)\n",
    "\n",
    "# Swap F & G:\n",
    "letter_permutations_left = letter_permutations2B_L_FG\n",
    "scores_permutations_left = scores2B_L_FG\n",
    "letter_permutations_right = letter_permutations2B_R_FG\n",
    "scores_permutations_right = scores2B_R_FG\n",
    "move_positions_left = [1,2,3, 5,6,7, 9,10,11]\n",
    "fixed_positions_left = [0, 4, 8]\n",
    "fixed_letters_left = ['Q','P','B']\n",
    "move_positions_right = [0,1,2, 4,5,6, 8,9,10]\n",
    "fixed_positions_right = [3, 7, 11]\n",
    "fixed_letters_right = ['Y','C','V']\n",
    "top_permutation_RR_FG, top_score_RR_FG, scores_RR_FG = optimize_full_layout_with_left_right_top_scores(SpeedStrengthFlow24x24, bigrams, letter_permutations_left, scores_permutations_left, move_positions_left, fixed_letters_left, fixed_positions_left, letter_permutations_right, scores_permutations_right, move_positions_right, fixed_letters_right, fixed_positions_right, ntop, verbose)\n",
    "\n",
    "# Swap K & G:\n",
    "letter_permutations_left = letter_permutations2B_L_KG\n",
    "scores_permutations_left = scores2B_L_KG\n",
    "letter_permutations_right = letter_permutations2B_R_KG\n",
    "scores_permutations_right = scores2B_R_KG\n",
    "move_positions_left = [1,2,3, 5,6,7, 9,10,11]\n",
    "fixed_positions_left = [0, 4, 8]\n",
    "fixed_letters_left = ['Q','P','B']\n",
    "move_positions_right = [0,1,2, 4,5,6, 8,9,10]\n",
    "fixed_positions_right = [3, 7, 11]\n",
    "fixed_letters_right = ['Y','C','V']\n",
    "top_permutation_RR_KG, top_score_RR_KG, scores_RR_KG = optimize_full_layout_with_left_right_top_scores(SpeedStrengthFlow24x24, bigrams, letter_permutations_left, scores_permutations_left, move_positions_left, fixed_letters_left, fixed_positions_left, letter_permutations_right, scores_permutations_right, move_positions_right, fixed_letters_right, fixed_positions_right, ntop, verbose)\n",
    "\n",
    "# Swap K & B:\n",
    "letter_permutations_left = letter_permutations2B_L_KB\n",
    "scores_permutations_left = scores2B_L_KB\n",
    "letter_permutations_right = letter_permutations2B_R_KB\n",
    "scores_permutations_right = scores2B_R_KB\n",
    "move_positions_left = [1,2,3, 5,6,7, 9,10,11]\n",
    "fixed_positions_left = [0, 4, 8]\n",
    "fixed_letters_left = ['Q','P','K']\n",
    "move_positions_right = [0,1,2, 4,5,6, 8,9,10]\n",
    "fixed_positions_right = [3, 7, 11]\n",
    "fixed_letters_right = ['Y','C','V']\n",
    "top_permutation_RR_KB, top_score_RR_KB, scores_RR_KB = optimize_full_layout_with_left_right_top_scores(SpeedStrengthFlow24x24, bigrams, letter_permutations_left, scores_permutations_left, move_positions_left, fixed_letters_left, fixed_positions_left, letter_permutations_right, scores_permutations_right, move_positions_right, fixed_letters_right, fixed_positions_right, ntop, verbose)"
   ]
  },
  {
   "cell_type": "markdown",
   "metadata": {},
   "source": [
    "### Right commands, left vowels:\n",
    "\n",
    "               Q  O  I  F        W  N  L  Y  Z\n",
    "               P  H  E  A        T  R  S  C  X \n",
    "               G  J  K  U        D  M  B  V\n",
    "\n",
    "               Q  O  I  F        G* N  L  Y  Z\n",
    "               P  H  E  A        T  R  S  C  X \n",
    "               W* J  K  U        D  M  B  V\n",
    "\n",
    "               Q  O  I  W*       F* N  L  Y  Z\n",
    "               P  H  E  A        T  R  S  C  X \n",
    "               G  J  K  U        D  M  B  V\n",
    "\n",
    "               Q  O  I  F        W  N  L  Y  Z\n",
    "               P  H  E  A        T  R  S  C  X \n",
    "               G  B* K  U        D  M  J* V\n",
    "          \n",
    "               Q  O  I  F        W  N  L  Y  Z\n",
    "               P  H  E  A        T  R  S  C  X \n",
    "               G  J  B* U        D  M  K* V\n",
    "               \n",
    "#### Left side:"
   ]
  },
  {
   "cell_type": "code",
   "execution_count": 22,
   "metadata": {},
   "outputs": [
    {
     "data": {
      "image/png": "[encoded data removed]",
      "text/plain": [
       "<Figure size 432x288 with 2 Axes>"
      ]
     },
     "metadata": {
      "needs_background": "light"
     },
     "output_type": "display_data"
    },
    {
     "name": "stdout",
     "output_type": "stream",
     "text": [
      "Top permutation: ['Q' 'F' 'O' 'U' 'P' 'I' 'H' 'E' 'G' 'J' 'K' 'A']\n",
      "['F', 'O', 'U', 'I', 'H', 'E', 'J', 'K', 'A'] 0.034592149631990005\n",
      "['F', 'O', 'U', 'H', 'E', 'I', 'J', 'K', 'A'] 0.034583096479243534\n",
      "['F', 'O', 'U', 'H', 'E', 'I', 'K', 'J', 'A'] 0.03456805230739232\n",
      "['F', 'O', 'U', 'I', 'H', 'E', 'K', 'J', 'A'] 0.034567161543539976\n",
      "['F', 'O', 'U', 'H', 'E', 'A', 'J', 'K', 'I'] 0.03453486093592473\n",
      "['F', 'O', 'U', 'H', 'E', 'A', 'K', 'J', 'I'] 0.03451424253951507\n",
      "['U', 'O', 'F', 'I', 'H', 'E', 'J', 'K', 'A'] 0.034423791629650265\n",
      "['U', 'O', 'F', 'H', 'E', 'I', 'J', 'K', 'A'] 0.03440449044525415\n",
      "['U', 'O', 'F', 'I', 'H', 'E', 'K', 'J', 'A'] 0.03439506626559784\n",
      "['U', 'O', 'F', 'H', 'E', 'I', 'K', 'J', 'A'] 0.034385708997800545\n"
     ]
    }
   ],
   "source": [
    "keys2B_vowelsL_L = [1,2,3,4, 5,6,7,8, 9,10,11,12]\n",
    "all_letters2B_vowelsL_L = ['Q','O','I','F', 'P','H','E','A', 'G','J','K','U']  # all letters under consideration (move or fix in place)\n",
    "move_positions2B_vowelsL_L = [1,2,3, 5,6,7, 9,10,11]  # 0-indices to selected keys to assign letters to\n",
    "fixed_positions2B_vowelsL_L = [0, 4, 8]  # 0-indices to keys with fixed letter assignments\n",
    "top_permutation2B_vowelsL_L, letter_permutations2B_vowelsL_L, scores2B_vowelsL_L = permute_and_optimize(keys2B_vowelsL_L, SpeedStrengthFlow24x24, bigrams, all_letters2B_vowelsL_L, move_positions2B_vowelsL_L, fixed_positions2B_vowelsL_L, ntop=10, verbose=False)"
   ]
  },
  {
   "cell_type": "code",
   "execution_count": 95,
   "metadata": {},
   "outputs": [
    {
     "name": "stdout",
     "output_type": "stream",
     "text": [
      "Top permutation: ['Q' 'F' 'O' 'U' 'P' 'I' 'H' 'E' 'W' 'J' 'K' 'A']\n",
      "['F', 'O', 'U', 'I', 'H', 'E', 'J', 'K', 'A'] 0.035174561154048004\n",
      "['F', 'O', 'U', 'I', 'H', 'E', 'K', 'J', 'A'] 0.03514951206669507\n",
      "['F', 'O', 'U', 'H', 'E', 'I', 'J', 'K', 'A'] 0.035140978632791135\n",
      "['F', 'O', 'U', 'H', 'E', 'I', 'K', 'J', 'A'] 0.03512587346203702\n",
      "['F', 'O', 'U', 'H', 'E', 'A', 'J', 'K', 'I'] 0.03509274308947233\n",
      "['F', 'O', 'U', 'H', 'E', 'A', 'K', 'J', 'I'] 0.03507206369415976\n",
      "['U', 'O', 'F', 'I', 'H', 'E', 'J', 'K', 'A'] 0.034993019174596234\n",
      "['F', 'I', 'U', 'H', 'E', 'O', 'J', 'K', 'A'] 0.03497899056006822\n",
      "['F', 'I', 'U', 'H', 'E', 'O', 'K', 'J', 'A'] 0.03497671470886014\n",
      "['U', 'O', 'F', 'I', 'H', 'E', 'K', 'J', 'A'] 0.03496423281164089\n"
     ]
    }
   ],
   "source": [
    "keys2B_vowelsL_L_WG = [1,2,3,4, 5,6,7,8, 9,10,11,12]\n",
    "all_letters2B_vowelsL_L_WG = ['Q','O','I','F', 'P','H','E','A', 'W','J','K','U']  # all letters under consideration (move or fix in place)\n",
    "move_positions2B_vowelsL_L_WG = [1,2,3, 5,6,7, 9,10,11]  # 0-indices to selected keys to assign letters to\n",
    "fixed_positions2B_vowelsL_L_WG = [0, 4, 8]  # 0-indices to keys with fixed letter assignments\n",
    "top_permutation2B_vowelsL_L_WG, letter_permutations2B_vowelsL_L_WG, scores2B_vowelsL_L_WG = permute_and_optimize(keys2B_vowelsL_L_WG, SpeedStrengthFlow24x24, bigrams, all_letters2B_vowelsL_L_WG, move_positions2B_vowelsL_L_WG, fixed_positions2B_vowelsL_L_WG, ntop=10, verbose=False)"
   ]
  },
  {
   "cell_type": "code",
   "execution_count": 96,
   "metadata": {},
   "outputs": [
    {
     "name": "stdout",
     "output_type": "stream",
     "text": [
      "Top permutation: ['Q' 'W' 'O' 'U' 'P' 'I' 'H' 'E' 'G' 'J' 'K' 'A']\n",
      "['W', 'O', 'U', 'I', 'H', 'E', 'J', 'K', 'A'] 0.033186979603992785\n",
      "['W', 'O', 'U', 'I', 'H', 'E', 'K', 'J', 'A'] 0.03316190523835018\n",
      "['W', 'O', 'U', 'H', 'E', 'A', 'J', 'K', 'I'] 0.03312936113338059\n",
      "['W', 'O', 'U', 'H', 'E', 'I', 'J', 'K', 'A'] 0.03312211460134156\n",
      "['W', 'O', 'U', 'H', 'E', 'A', 'K', 'J', 'I'] 0.033108656459778354\n",
      "['W', 'O', 'U', 'H', 'E', 'I', 'K', 'J', 'A'] 0.03310698415229777\n",
      "['W', 'I', 'K', 'H', 'E', 'A', 'J', 'U', 'O'] 0.03310344811117779\n",
      "['W', 'I', 'J', 'H', 'E', 'A', 'K', 'U', 'O'] 0.0330747314763012\n",
      "['W', 'O', 'K', 'I', 'H', 'E', 'J', 'U', 'A'] 0.033002752342647476\n",
      "['K', 'O', 'U', 'I', 'H', 'E', 'J', 'W', 'A'] 0.032962792943184854\n"
     ]
    }
   ],
   "source": [
    "keys2B_vowelsL_L_WF = [1,2,3,4, 5,6,7,8, 9,10,11,12]\n",
    "all_letters2B_vowelsL_L_WF = ['Q','O','I','W', 'P','H','E','A', 'G','J','K','U']  # all letters under consideration (move or fix in place)\n",
    "move_positions2B_vowelsL_L_WF = [1,2,3, 5,6,7, 9,10,11]  # 0-indices to selected keys to assign letters to\n",
    "fixed_positions2B_vowelsL_L_WF = [0, 4, 8]  # 0-indices to keys with fixed letter assignments\n",
    "top_permutation2B_vowelsL_L_WF, letter_permutations2B_vowelsL_L_WF, scores2B_vowelsL_L_WF = permute_and_optimize(keys2B_vowelsL_L_WF, SpeedStrengthFlow24x24, bigrams, all_letters2B_vowelsL_L_WF, move_positions2B_vowelsL_L_WF, fixed_positions2B_vowelsL_L_WF, ntop=10, verbose=False)"
   ]
  },
  {
   "cell_type": "code",
   "execution_count": 97,
   "metadata": {},
   "outputs": [
    {
     "name": "stdout",
     "output_type": "stream",
     "text": [
      "Top permutation: ['Q' 'F' 'O' 'U' 'P' 'H' 'E' 'I' 'G' 'K' 'B' 'A']\n",
      "['F', 'O', 'U', 'H', 'E', 'I', 'K', 'B', 'A'] 0.03698597189747347\n",
      "['F', 'O', 'U', 'H', 'E', 'I', 'B', 'K', 'A'] 0.036964056050587016\n",
      "['F', 'O', 'U', 'I', 'H', 'E', 'K', 'B', 'A'] 0.036946132521250154\n",
      "['F', 'O', 'U', 'H', 'E', 'A', 'K', 'B', 'I'] 0.036909779508954306\n",
      "['F', 'O', 'U', 'H', 'E', 'A', 'B', 'K', 'I'] 0.03690545279987131\n",
      "['F', 'O', 'U', 'I', 'H', 'E', 'B', 'K', 'A'] 0.036889415263809636\n",
      "['U', 'O', 'F', 'H', 'E', 'I', 'K', 'B', 'A'] 0.036812665256532734\n",
      "['F', 'I', 'U', 'H', 'E', 'O', 'K', 'B', 'A'] 0.036799439604757005\n",
      "['U', 'O', 'F', 'H', 'E', 'I', 'B', 'K', 'A'] 0.03679491870411308\n",
      "['F', 'O', 'K', 'H', 'E', 'I', 'B', 'U', 'A'] 0.03678752535593233\n"
     ]
    }
   ],
   "source": [
    "keys2B_vowelsL_L_BJ = [1,2,3,4, 5,6,7,8, 9,10,11,12]\n",
    "all_letters2B_vowelsL_L_BJ = ['Q','O','I','F', 'P','H','E','A', 'G','B','K','U']  # all letters under consideration (move or fix in place)\n",
    "move_positions2B_vowelsL_L_BJ = [1,2,3, 5,6,7, 9,10,11]  # 0-indices to selected keys to assign letters to\n",
    "fixed_positions2B_vowelsL_L_BJ = [0, 4, 8]  # 0-indices to keys with fixed letter assignments\n",
    "top_permutation2B_vowelsL_L_BJ, letter_permutations2B_vowelsL_L_BJ, scores2B_vowelsL_L_BJ = permute_and_optimize(keys2B_vowelsL_L_BJ, SpeedStrengthFlow24x24, bigrams, all_letters2B_vowelsL_L_BJ, move_positions2B_vowelsL_L_BJ, fixed_positions2B_vowelsL_L_BJ, ntop=10, verbose=False)"
   ]
  },
  {
   "cell_type": "code",
   "execution_count": 98,
   "metadata": {},
   "outputs": [
    {
     "name": "stdout",
     "output_type": "stream",
     "text": [
      "Top permutation: ['Q' 'F' 'O' 'U' 'P' 'H' 'E' 'I' 'G' 'J' 'B' 'A']\n",
      "['F', 'O', 'U', 'H', 'E', 'I', 'J', 'B', 'A'] 0.03643839096839818\n",
      "['F', 'O', 'U', 'I', 'H', 'E', 'J', 'B', 'A'] 0.036434885973033994\n",
      "['F', 'O', 'U', 'H', 'E', 'I', 'B', 'J', 'A'] 0.03640508183587428\n",
      "['F', 'O', 'U', 'H', 'E', 'A', 'J', 'B', 'I'] 0.03635738856352617\n",
      "['F', 'O', 'U', 'I', 'H', 'E', 'B', 'J', 'A'] 0.036356831513357196\n",
      "['F', 'O', 'U', 'H', 'E', 'A', 'B', 'J', 'I'] 0.03633609434424726\n",
      "['U', 'O', 'F', 'I', 'H', 'E', 'J', 'B', 'A'] 0.0362708773555365\n",
      "['U', 'O', 'F', 'H', 'E', 'I', 'J', 'B', 'A'] 0.036264134319251046\n",
      "['F', 'I', 'U', 'H', 'E', 'O', 'J', 'B', 'A'] 0.03625805127990357\n",
      "['F', 'O', 'J', 'H', 'E', 'I', 'B', 'U', 'A'] 0.03624831531392256\n"
     ]
    }
   ],
   "source": [
    "keys2B_vowelsL_L_BK = [1,2,3,4, 5,6,7,8, 9,10,11,12]\n",
    "all_letters2B_vowelsL_L_BK = ['Q','O','I','F', 'P','H','E','A', 'G','J','B','U']  # all letters under consideration (move or fix in place)\n",
    "move_positions2B_vowelsL_L_BK = [1,2,3, 5,6,7, 9,10,11]  # 0-indices to selected keys to assign letters to\n",
    "fixed_positions2B_vowelsL_L_BK = [0, 4, 8]  # 0-indices to keys with fixed letter assignments\n",
    "top_permutation2B_vowelsL_L_BK, letter_permutations2B_vowelsL_L_BK, scores2B_vowelsL_L_BK = permute_and_optimize(keys2B_vowelsL_L_BK, SpeedStrengthFlow24x24, bigrams, all_letters2B_vowelsL_L_BK, move_positions2B_vowelsL_L_BK, fixed_positions2B_vowelsL_L_BK, ntop=10, verbose=False)"
   ]
  },
  {
   "cell_type": "markdown",
   "metadata": {},
   "source": [
    "#### Right side:"
   ]
  },
  {
   "cell_type": "code",
   "execution_count": 23,
   "metadata": {},
   "outputs": [
    {
     "data": {
      "image/png": "[encoded data removed]",
      "text/plain": [
       "<Figure size 432x288 with 2 Axes>"
      ]
     },
     "metadata": {
      "needs_background": "light"
     },
     "output_type": "display_data"
    },
    {
     "name": "stdout",
     "output_type": "stream",
     "text": [
      "Top permutation: ['M' 'D' 'R' 'T' 'S' 'N' 'L' 'B' 'W']\n",
      "['M', 'D', 'R', 'T', 'S', 'N', 'L', 'B', 'W'] 0.07441363210463592\n",
      "['B', 'L', 'R', 'T', 'S', 'N', 'D', 'M', 'W'] 0.07433585922733589\n",
      "['W', 'D', 'R', 'T', 'S', 'N', 'L', 'M', 'B'] 0.07431673347206355\n",
      "['M', 'D', 'R', 'T', 'S', 'N', 'L', 'W', 'B'] 0.07429466790456687\n",
      "['W', 'D', 'R', 'T', 'S', 'N', 'L', 'B', 'M'] 0.0742895327922152\n",
      "['W', 'L', 'R', 'T', 'S', 'N', 'D', 'M', 'B'] 0.07426542551971703\n",
      "['M', 'L', 'R', 'T', 'S', 'N', 'D', 'W', 'B'] 0.07422840288820186\n",
      "['M', 'L', 'R', 'T', 'S', 'N', 'D', 'B', 'W'] 0.07418979963480953\n",
      "['D', 'N', 'M', 'T', 'S', 'R', 'L', 'B', 'W'] 0.07418045241127444\n",
      "['D', 'N', 'W', 'T', 'S', 'R', 'L', 'M', 'B'] 0.07417606673583153\n"
     ]
    }
   ],
   "source": [
    "keys2B_vowelsL_R = [13,14,15, 17,18,19, 21,22,23]\n",
    "all_letters2B_vowelsL_R = ['W','N','L', 'T','R','S', 'D','M','B']  # all letters under consideration (move or fix in place)\n",
    "move_positions2B_vowelsL_R = [0,1,2, 3,4,5, 6,7,8]  # 0-indices to selected keys to assign letters to\n",
    "fixed_positions2B_vowelsL_R = []  # 0-indices to keys with fixed letter assignments\n",
    "top_permutation2B_vowelsL_R, letter_permutations2B_vowelsL_R, scores2B_vowelsL_R = permute_and_optimize(keys2B_vowelsL_R, SpeedStrengthFlow24x24, bigrams, all_letters2B_vowelsL_R, move_positions2B_vowelsL_R, fixed_positions2B_vowelsL_R, ntop=10, verbose=False)"
   ]
  },
  {
   "cell_type": "code",
   "execution_count": 99,
   "metadata": {},
   "outputs": [
    {
     "name": "stdout",
     "output_type": "stream",
     "text": [
      "Top permutation: ['D' 'N' 'G' 'T' 'S' 'R' 'L' 'M' 'B']\n",
      "['D', 'N', 'G', 'T', 'S', 'R', 'L', 'M', 'B'] 0.08230463905361725\n",
      "['D', 'N', 'G', 'T', 'S', 'R', 'L', 'B', 'M'] 0.08227195854166947\n",
      "['G', 'N', 'D', 'T', 'S', 'R', 'L', 'M', 'B'] 0.08216508428770222\n",
      "['G', 'N', 'D', 'T', 'S', 'R', 'L', 'B', 'M'] 0.082129763878176\n",
      "['G', 'N', 'L', 'T', 'S', 'R', 'D', 'M', 'B'] 0.0820125205657821\n",
      "['G', 'D', 'N', 'T', 'S', 'R', 'L', 'M', 'B'] 0.08197319089001252\n",
      "['G', 'D', 'R', 'T', 'S', 'N', 'L', 'M', 'B'] 0.08194501062500148\n",
      "['G', 'D', 'N', 'T', 'S', 'R', 'L', 'B', 'M'] 0.08193734563185474\n",
      "['G', 'D', 'R', 'T', 'S', 'N', 'L', 'B', 'M'] 0.0819167495914539\n",
      "['M', 'G', 'R', 'T', 'S', 'N', 'D', 'L', 'B'] 0.081903243929584\n"
     ]
    }
   ],
   "source": [
    "keys2B_vowelsL_R_WG = [13,14,15, 17,18,19, 21,22,23]\n",
    "all_letters2B_vowelsL_R_WG = ['G','N','L', 'T','R','S', 'D','M','B']  # all letters under consideration (move or fix in place)\n",
    "move_positions2B_vowelsL_R_WG = [0,1,2, 3,4,5, 6,7,8]  # 0-indices to selected keys to assign letters to\n",
    "fixed_positions2B_vowelsL_R_WG = []  # 0-indices to keys with fixed letter assignments\n",
    "top_permutation2B_vowelsL_R_WG, letter_permutations2B_vowelsL_R_WG, scores2B_vowelsL_R_WG = permute_and_optimize(keys2B_vowelsL_R_WG, SpeedStrengthFlow24x24, bigrams, all_letters2B_vowelsL_R_WG, move_positions2B_vowelsL_R_WG, fixed_positions2B_vowelsL_R_WG, ntop=10, verbose=False)"
   ]
  },
  {
   "cell_type": "code",
   "execution_count": 100,
   "metadata": {},
   "outputs": [
    {
     "name": "stdout",
     "output_type": "stream",
     "text": [
      "Top permutation: ['F' 'L' 'R' 'T' 'S' 'N' 'D' 'M' 'B']\n",
      "['F', 'L', 'R', 'T', 'S', 'N', 'D', 'M', 'B'] 0.07672526941687757\n",
      "['M', 'R', 'F', 'T', 'S', 'N', 'D', 'L', 'B'] 0.07671286376598666\n",
      "['F', 'D', 'R', 'T', 'S', 'N', 'L', 'M', 'B'] 0.07666610485209822\n",
      "['D', 'N', 'F', 'T', 'S', 'R', 'L', 'M', 'B'] 0.07664246571009406\n",
      "['F', 'D', 'R', 'T', 'S', 'N', 'L', 'B', 'M'] 0.07663846884118394\n",
      "['D', 'N', 'F', 'T', 'S', 'R', 'L', 'B', 'M'] 0.07661398387775366\n",
      "['M', 'D', 'R', 'T', 'S', 'N', 'L', 'F', 'B'] 0.07661368280110988\n",
      "['F', 'L', 'R', 'T', 'S', 'N', 'D', 'B', 'M'] 0.07653451446574921\n",
      "['F', 'R', 'L', 'T', 'S', 'N', 'D', 'M', 'B'] 0.0765259238069746\n",
      "['M', 'D', 'R', 'T', 'S', 'N', 'L', 'B', 'F'] 0.07651767607955791\n"
     ]
    }
   ],
   "source": [
    "keys2B_vowelsL_R_WF = [13,14,15, 17,18,19, 21,22,23]\n",
    "all_letters2B_vowelsL_R_WF = ['F','N','L', 'T','R','S', 'D','M','B']  # all letters under consideration (move or fix in place)\n",
    "move_positions2B_vowelsL_R_WF = [0,1,2, 3,4,5, 6,7,8]  # 0-indices to selected keys to assign letters to\n",
    "fixed_positions2B_vowelsL_R_WF = []  # 0-indices to keys with fixed letter assignments\n",
    "top_permutation2B_vowelsL_R_WF, letter_permutations2B_vowelsL_R_WF, scores2B_vowelsL_R_WF = permute_and_optimize(keys2B_vowelsL_R_WF, SpeedStrengthFlow24x24, bigrams, all_letters2B_vowelsL_R_WF, move_positions2B_vowelsL_R_WF, fixed_positions2B_vowelsL_R_WF, ntop=10, verbose=False)"
   ]
  },
  {
   "cell_type": "code",
   "execution_count": 101,
   "metadata": {},
   "outputs": [
    {
     "name": "stdout",
     "output_type": "stream",
     "text": [
      "Top permutation: ['M' 'L' 'R' 'T' 'S' 'N' 'D' 'W' 'J']\n",
      "['M', 'L', 'R', 'T', 'S', 'N', 'D', 'W', 'J'] 0.07108347931164682\n",
      "['M', 'L', 'R', 'T', 'S', 'N', 'D', 'J', 'W'] 0.07107355473541863\n",
      "['W', 'L', 'R', 'T', 'S', 'N', 'D', 'M', 'J'] 0.0710362119619782\n",
      "['M', 'D', 'R', 'T', 'S', 'N', 'L', 'W', 'J'] 0.07102337569302387\n",
      "['M', 'D', 'R', 'T', 'S', 'N', 'L', 'J', 'W'] 0.07100462957132882\n",
      "['M', 'R', 'L', 'T', 'S', 'N', 'D', 'W', 'J'] 0.07097540390806382\n",
      "['M', 'R', 'L', 'T', 'S', 'N', 'D', 'J', 'W'] 0.07096643107782294\n",
      "['W', 'D', 'R', 'T', 'S', 'N', 'L', 'M', 'J'] 0.07096115127933675\n",
      "['M', 'S', 'L', 'T', 'N', 'R', 'D', 'W', 'J'] 0.07095123057848342\n",
      "['M', 'S', 'L', 'T', 'N', 'R', 'D', 'J', 'W'] 0.07094601166694078\n"
     ]
    }
   ],
   "source": [
    "keys2B_vowelsL_R_BJ = [13,14,15, 17,18,19, 21,22,23]\n",
    "all_letters2B_vowelsL_R_BJ = ['W','N','L', 'T','R','S', 'D','M','J']  # all letters under consideration (move or fix in place)\n",
    "move_positions2B_vowelsL_R_BJ = [0,1,2, 3,4,5, 6,7,8]  # 0-indices to selected keys to assign letters to\n",
    "fixed_positions2B_vowelsL_R_BJ = []  # 0-indices to keys with fixed letter assignments\n",
    "top_permutation2B_vowelsL_R_BJ, letter_permutations2B_vowelsL_R_BJ, scores2B_vowelsL_R_BJ = permute_and_optimize(keys2B_vowelsL_R_BJ, SpeedStrengthFlow24x24, bigrams, all_letters2B_vowelsL_R_BJ, move_positions2B_vowelsL_R_BJ, fixed_positions2B_vowelsL_R_BJ, ntop=10, verbose=False)"
   ]
  },
  {
   "cell_type": "code",
   "execution_count": 102,
   "metadata": {},
   "outputs": [
    {
     "name": "stdout",
     "output_type": "stream",
     "text": [
      "Top permutation: ['M' 'L' 'R' 'T' 'S' 'N' 'D' 'K' 'W']\n",
      "['M', 'L', 'R', 'T', 'S', 'N', 'D', 'K', 'W'] 0.07292674295921638\n",
      "['K', 'L', 'R', 'T', 'S', 'N', 'D', 'M', 'W'] 0.07291270793304984\n",
      "['M', 'D', 'R', 'T', 'S', 'N', 'L', 'K', 'W'] 0.07288276434636526\n",
      "['M', 'L', 'R', 'T', 'S', 'N', 'D', 'W', 'K'] 0.07286930121621056\n",
      "['M', 'S', 'L', 'T', 'N', 'R', 'D', 'K', 'W'] 0.07285944993290479\n",
      "['M', 'R', 'L', 'T', 'S', 'N', 'D', 'K', 'W'] 0.07284491413778389\n",
      "['K', 'D', 'R', 'T', 'S', 'N', 'L', 'M', 'W'] 0.07282718562776305\n",
      "['K', 'R', 'L', 'T', 'S', 'N', 'D', 'M', 'W'] 0.07282653334095177\n",
      "['M', 'D', 'R', 'T', 'S', 'N', 'L', 'W', 'K'] 0.0728258899828217\n",
      "['W', 'L', 'R', 'T', 'S', 'N', 'D', 'M', 'K'] 0.0728206359004794\n"
     ]
    }
   ],
   "source": [
    "keys2B_vowelsL_R_BK = [13,14,15, 17,18,19, 21,22,23]\n",
    "all_letters2B_vowelsL_R_BK = ['W','N','L', 'T','R','S', 'D','M','K']  # all letters under consideration (move or fix in place)\n",
    "move_positions2B_vowelsL_R_BK = [0,1,2, 3,4,5, 6,7,8]  # 0-indices to selected keys to assign letters to\n",
    "fixed_positions2B_vowelsL_R_BK = []  # 0-indices to keys with fixed letter assignments\n",
    "top_permutation2B_vowelsL_R_BK, letter_permutations2B_vowelsL_R_BK, scores2B_vowelsL_R_BK = permute_and_optimize(keys2B_vowelsL_R_BK, SpeedStrengthFlow24x24, bigrams, all_letters2B_vowelsL_R_BK, move_positions2B_vowelsL_R_BK, fixed_positions2B_vowelsL_R_BK, ntop=10, verbose=False)"
   ]
  },
  {
   "cell_type": "markdown",
   "metadata": {},
   "source": [
    "### Combine left and right sides for right commands / left vowels:"
   ]
  },
  {
   "cell_type": "code",
   "execution_count": null,
   "metadata": {},
   "outputs": [],
   "source": [
    "ntop=100\n",
    "verbose=False\n",
    "\n",
    "letter_permutations_left = letter_permutations2B_vowelsL_L\n",
    "scores_permutations_left = scores2B_vowelsL_L\n",
    "letter_permutations_right = letter_permutations2B_vowelsL_R\n",
    "scores_permutations_right = scores2B_vowelsL_R\n",
    "move_positions_left = [1,2,3, 5,6,7, 9,10,11]\n",
    "fixed_positions_left = [0, 4, 8]\n",
    "fixed_letters_left = ['Q','P','G']\n",
    "move_positions_right = [0,1,2, 4,5,6, 8,9,10]\n",
    "fixed_positions_right = [3, 7, 11]\n",
    "fixed_letters_right = ['Y','C','V']\n",
    "top_permutation_RL, top_score_RL, scores_RL = optimize_full_layout_with_left_right_top_scores(SpeedStrengthFlow24x24, bigrams, letter_permutations_left, scores_permutations_left, move_positions_left, fixed_letters_left, fixed_positions_left, letter_permutations_right, scores_permutations_right, move_positions_right, fixed_letters_right, fixed_positions_right, ntop, verbose)\n",
    "\n",
    "# Swap W & G:\n",
    "letter_permutations_left = letter_permutations2B_vowelsL_L_WG\n",
    "scores_permutations_left = scores2B_vowelsL_L_WG\n",
    "letter_permutations_right = letter_permutations2B_vowelsL_R_WG\n",
    "scores_permutations_right = scores2B_vowelsL_R_WG\n",
    "move_positions_left = [1,2,3, 5,6,7, 9,10,11]\n",
    "fixed_positions_left = [0, 4, 8]\n",
    "fixed_letters_left = ['Q','P','W']\n",
    "move_positions_right = [0,1,2, 4,5,6, 8,9,10]\n",
    "fixed_positions_right = [3, 7, 11]\n",
    "fixed_letters_right = ['Y','C','V']\n",
    "top_permutation_RL_WG, top_score_RL_WG, scores_RL_WG = optimize_full_layout_with_left_right_top_scores(SpeedStrengthFlow24x24, bigrams, letter_permutations_left, scores_permutations_left, move_positions_left, fixed_letters_left, fixed_positions_left, letter_permutations_right, scores_permutations_right, move_positions_right, fixed_letters_right, fixed_positions_right, ntop, verbose)\n",
    "\n",
    "# Swap W & F:\n",
    "letter_permutations_left = letter_permutations2B_vowelsL_L_WF\n",
    "scores_permutations_left = scores2B_vowelsL_L_WF\n",
    "letter_permutations_right = letter_permutations2B_vowelsL_R_WF\n",
    "scores_permutations_right = scores2B_vowelsL_R_WF\n",
    "move_positions_left = [1,2,3, 5,6,7, 9,10,11]\n",
    "fixed_positions_left = [0, 4, 8]\n",
    "fixed_letters_left = ['Q','P','G']\n",
    "move_positions_right = [0,1,2, 4,5,6, 8,9,10]\n",
    "fixed_positions_right = [3, 7, 11]\n",
    "fixed_letters_right = ['Y','C','V']\n",
    "top_permutation_RL_WF, top_score_RL_WF, scores_RL_WF = optimize_full_layout_with_left_right_top_scores(SpeedStrengthFlow24x24, bigrams, letter_permutations_left, scores_permutations_left, move_positions_left, fixed_letters_left, fixed_positions_left, letter_permutations_right, scores_permutations_right, move_positions_right, fixed_letters_right, fixed_positions_right, ntop, verbose)\n",
    "\n",
    "# Swap B & J:\n",
    "letter_permutations_left = letter_permutations2B_vowelsL_L_BJ\n",
    "scores_permutations_left = scores2B_vowelsL_L_BJ\n",
    "letter_permutations_right = letter_permutations2B_vowelsL_R_BJ\n",
    "scores_permutations_right = scores2B_vowelsL_R_BJ\n",
    "move_positions_left = [1,2,3, 5,6,7, 9,10,11]\n",
    "fixed_positions_left = [0, 4, 8]\n",
    "fixed_letters_left = ['Q','P','G']\n",
    "move_positions_right = [0,1,2, 4,5,6, 8,9,10]\n",
    "fixed_positions_right = [3, 7, 11]\n",
    "fixed_letters_right = ['Y','C','V']\n",
    "top_permutation_RL_BJ, top_score_RL_BJ, scores_RL_BJ = optimize_full_layout_with_left_right_top_scores(SpeedStrengthFlow24x24, bigrams, letter_permutations_left, scores_permutations_left, move_positions_left, fixed_letters_left, fixed_positions_left, letter_permutations_right, scores_permutations_right, move_positions_right, fixed_letters_right, fixed_positions_right, ntop, verbose)\n",
    "\n",
    "# Swap B & K:\n",
    "letter_permutations_left = letter_permutations2B_vowelsL_L_BK\n",
    "scores_permutations_left = scores2B_vowelsL_L_BK\n",
    "letter_permutations_right = letter_permutations2B_vowelsL_R_BK\n",
    "scores_permutations_right = scores2B_vowelsL_R_BK\n",
    "move_positions_left = [1,2,3, 5,6,7, 9,10,11]\n",
    "fixed_positions_left = [0, 4, 8]\n",
    "fixed_letters_left = ['Q','P','G']\n",
    "move_positions_right = [0,1,2, 4,5,6, 8,9,10]\n",
    "fixed_positions_right = [3, 7, 11]\n",
    "fixed_letters_right = ['Y','C','V']\n",
    "top_permutation_RL_BK, top_score_RL_BK, scores_RL_BK = optimize_full_layout_with_left_right_top_scores(SpeedStrengthFlow24x24, bigrams, letter_permutations_left, scores_permutations_left, move_positions_left, fixed_letters_left, fixed_positions_left, letter_permutations_right, scores_permutations_right, move_positions_right, fixed_letters_right, fixed_positions_right, ntop, verbose)"
   ]
  },
  {
   "cell_type": "markdown",
   "metadata": {},
   "source": [
    "## Optimized full layouts\n",
    "\n",
    "#### Left FIXED commands:\n",
    "\n",
    "               W  L  R  M        F  O  U  K  Q        0.04072215980698993\n",
    "               C  S  N  T        I  E  H  D  J\n",
    "               V  Z  X  Y        A  G  B  P\n",
    "    \n",
    "               B  L  R  M        F  O  U  K  Q        0.04070843681615529\n",
    "               C  S  N  T        I  E  H  D  J\n",
    "               V  Z  X  Y        A  G  W  P\n",
    "\n",
    "               W  L  N  D        F  O  U  K  Q        0.04061703531246708\n",
    "               C  S  R  T        I  E  H  M  J\n",
    "               V  Z  X  Y        A  G  B  P\n",
    "\n",
    "               K  O  I  U        G  N  D  B  Q        0.04057926281631105\n",
    "               C  H  E  A        T  R  S  P  J\n",
    "               V  Z  X  Y        L  M  W  F\n",
    "\n",
    "               K  I  O  U        D  N  G  B  Q        0.040496736409710125\n",
    "               C  H  E  A        T  S  R  P  J\n",
    "               V  Z  X  Y        L  M  W  F\n",
    "\n",
    "               B  O  I  U        G  N  D  K  Q        0.04056755871726321\n",
    "               C  H  E  A        T  R  S  P  J\n",
    "               V  Z  X  Y        L  M  W  F\n",
    "\n",
    "#### Left commands, right vowels:\n",
    "\n",
    "               Z  M  N  W        F  O  U  K  Q        0.04092147452542837   ***\n",
    "               C  S  R  T        I  E  H  D  J\n",
    "               Y  X  V  L        A  G  B  P\n",
    "\n",
    "               Z  M  N  V        F  O  U  K  Q        0.040904145001812636  **\n",
    "               C  S  R  T        E  I  H  D  J\n",
    "               Y  X  B  L        A  G  W  P\n",
    "\n",
    "               Z  W  N  D        F  O  U  K  Q        0.04082549708891248\n",
    "               C  S  R  T        I  E  H  M  J\n",
    "               Y  X  V  L        A  G  B  P\n",
    "\n",
    "#### Left commands, left vowels:\n",
    "\n",
    "               Z  U  O  X        G  N  D  B  Q        0.04094844882867137  ****\n",
    "               C  H  E  I        T  R  S  P  J\n",
    "               V  K  Y  A        L  M  W  F\n",
    "\n",
    "               Z  U  I  X        G  N  D  K  Q        0.040952298084477055 *****\n",
    "               C  H  E  A        T  S  R  P  J\n",
    "               B  V  Y  O        L  M  W  F\n",
    "\n",
    "#### Right commands, right vowels:\n",
    "\n",
    "               Q  D  N  G        F  O  U  Y  Z        0.04081125388139753\n",
    "               P  S  R  T        I  E  H  C  X \n",
    "               B  W  M  L        A  K  J  V\n",
    "\n",
    "               Q  L  R  F        K  O  U  Y  Z        0.04080435392027615\n",
    "               P  S  N  T        I  E  H  C  X \n",
    "               B  W  M  D        A  G  J  V\n",
    "\n",
    "               Q  M  N  D        F  O  U  Y  Z        0.040775910392764785\n",
    "               P  R  T  S        I  E  H  C  X \n",
    "               B  K  W  L        A  G  J  V\n",
    "\n",
    "               Q  D  N  G        F  O  U  Y  Z        0.04070992366780311\n",
    "               P  R  T  S        I  E  H  C  X \n",
    "               B  W  M  L        A  B  J  V\n",
    "\n",
    "#### Right commands, left vowels:\n",
    "\n",
    "               Q  U  O  F        B  R  L  Y  Z        0.040826670535937616\n",
    "               P  H  E  I        T  N  S  C  X \n",
    "               G  J  K  A        D  M  W  V\n",
    "\n",
    "               Q  U  O  F        G  N  D  Y  Z        0.04077443752831324\n",
    "               P  H  E  I        S  T  R  C  X \n",
    "               W  J  K  A        L  M  B  V\n",
    "\n",
    "               Q  U  O  K        F  R  L  Y  Z        0.040793962462941064\n",
    "               P  H  E  I        T  N  S  C  X \n",
    "               G  J  W  A        D  M  B  V\n",
    "\n",
    "               Q  U  O  F        W  R  L  Y  Z        0.040823346209599626\n",
    "               P  H  E  I        T  N  S  C  X \n",
    "               G  K  B  A        D  M  J  V\n",
    "\n",
    "               Q  U  O  F        M  R  L  Y  Z        0.0408096565309564\n",
    "               P  H  E  I        T  N  S  C  X \n",
    "               G  J  B  A        D  W  K  V"
   ]
  },
  {
   "cell_type": "markdown",
   "metadata": {},
   "source": [
    "Bigram frequencies for vowels:\n",
    "\n",
    "    OU 24531132241\n",
    "    IO 23542263265  \n",
    "    EA 19403941063  \n",
    "    IE 10845731320  \n",
    "    AI  8922759715   \n",
    "    IA  8072199471    \n",
    "    EI  5169898489   \n",
    "    AU  3356322923   \n",
    "    UI  2852182384    \n",
    "    OI  2474275212   \n",
    "    EO  2044268477   \n",
    "    OA  1620913259    \n",
    "    OE  1089254517   "
   ]
  },
  {
   "cell_type": "code",
   "execution_count": 281,
   "metadata": {},
   "outputs": [
    {
     "name": "stdout",
     "output_type": "stream",
     "text": [
      "t1 =  0.040496736409710125\n",
      "t2 =  0.04050614401091279\n",
      "t3 =  0.04052977520679557\n",
      "t4 =  0.040539892838578034\n",
      "t5 =  0.04048765168520799\n",
      "t6 =  0.04023811497865505\n"
     ]
    }
   ],
   "source": [
    "#           K  I  O  U        D  N  G  B  Q        \n",
    "#           C  H  E  A        T  S  R  P  J\n",
    "#           V  Z  X  Y        L  M  W  F\n",
    "letters1 = ['K','I','O','U', 'C','H','E','A', 'V','Z','X','Y', 'D','N','G','B', 'T','S','R','P', 'L','M','W','F'] # 0.040496736409710125\n",
    "letters2 = ['K','O','I','U', 'C','H','E','A', 'V','Z','X','Y', 'D','N','G','B', 'T','S','R','P', 'L','M','W','F'] # 0.040496736409710125\n",
    "letters3 = ['K','I','O','U', 'C','H','E','A', 'V','Z','X','Y', 'G','N','D','B', 'T','S','R','P', 'L','M','W','F'] # 0.040496736409710125\n",
    "letters4 = ['K','O','I','U', 'C','H','E','A', 'V','Z','X','Y', 'G','N','D','B', 'T','S','R','P', 'L','M','W','F'] # 0.040496736409710125\n",
    "letters5 = ['K','I','O','U', 'C','H','E','A', 'V','X','Z','Y', 'D','N','G','B', 'T','S','R','P', 'L','M','W','F'] # 0.04048765168520799\n",
    "letters6 = ['Q','I','O','U', 'C','H','E','A', 'V','Z','X','Y', 'D','N','G','B', 'T','S','R','P', 'L','M','W','F'] # 0.04023811497865505\n",
    "t1 = score_layout(SpeedStrengthFlow24x24, letters1, bigrams, verbose=False)\n",
    "t2 = score_layout(SpeedStrengthFlow24x24, letters2, bigrams, verbose=False)\n",
    "t3 = score_layout(SpeedStrengthFlow24x24, letters3, bigrams, verbose=False)\n",
    "t4 = score_layout(SpeedStrengthFlow24x24, letters4, bigrams, verbose=False)\n",
    "t5 = score_layout(SpeedStrengthFlow24x24, letters5, bigrams, verbose=False)\n",
    "t6 = score_layout(SpeedStrengthFlow24x24, letters6, bigrams, verbose=False)\n",
    "print('t1 = ', t1)\n",
    "print('t2 = ', t2)\n",
    "print('t3 = ', t3)\n",
    "print('t4 = ', t4)\n",
    "print('t5 = ', t5)\n",
    "print('t6 = ', t6)"
   ]
  },
  {
   "cell_type": "code",
   "execution_count": null,
   "metadata": {},
   "outputs": [],
   "source": []
  },
  {
   "cell_type": "code",
   "execution_count": null,
   "metadata": {},
   "outputs": [],
   "source": []
  },
  {
   "cell_type": "code",
   "execution_count": null,
   "metadata": {},
   "outputs": [],
   "source": []
  },
  {
   "cell_type": "code",
   "execution_count": null,
   "metadata": {},
   "outputs": [],
   "source": []
  },
  {
   "cell_type": "code",
   "execution_count": null,
   "metadata": {},
   "outputs": [],
   "source": []
  },
  {
   "cell_type": "markdown",
   "metadata": {
    "colab_type": "raw",
    "id": "lSk8xYCfDzS6"
   },
   "source": [
    "    \n"
   ]
  },
  {
   "cell_type": "markdown",
   "metadata": {
    "colab_type": "text",
    "id": "o3rN8VX7a8RW"
   },
   "source": [
    "### Compare against previously computed layout\n",
    "#### with command shortcut characters on the left: F C Z Y X V (and A)\n",
    "\n",
    "                   F  I  O  U        D  N  G  W  Q\n",
    "                   C  H  E  A        T  S  R  P  J \n",
    "                   Z  Y  X  V        L  M  K  B\n",
    "\n",
    "Benefits:\n",
    "  - Z,Y,X,V is an extremely easy sequence to remember.\n",
    "  - Z will be in the standard position, which is also easy to remember.\n",
    "  - You can do commands with a single hand (even if it strains the left hand).\n",
    "\n",
    "Disadvantages:\n",
    "  - F is in a weaker position, but is far more frequent than Q, requiring more left little finger movement.\n",
    "  - Z is in a stronger position, but is the least frequent letter.\n",
    "  - Doing command shortcut operations with a single hand is strenuous.\n",
    "\n",
    "Comparing bigrams in the billions with much worse finger transitions \n",
    "for either layout L (left command characters) vs R (right command characters)\n",
    "(same finger*):\n",
    "\n",
    "    LD    7122648226    L*\n",
    "    RY    6985436186        R\n",
    "    MP    6743935008    L\n",
    "    AY    6128842727    L\n",
    "    KE    6027536039        R*\n",
    "    FR    6011200185        R\n",
    "    AV    5778409728    L*\n",
    "    AG    5772552144        R\n",
    "    GR    5548472398    L*\n",
    "    BU    5214802738        R  \n",
    "    OV    5021440160    L\n",
    "    RM    4938158020    L\n",
    "    YO    4226720021    L\n",
    "    GA    4175274057        R*\n",
    "    VA    3946966167    L*\n",
    "    GO    3725558729        R\n",
    "    UG    3606562400        R*\n",
    "    LT    3486149365    L\n",
    "    BI    3005679357        R\n",
    "    AK    2952167845        R\n",
    "    RG    2813274913    L*\n",
    "    IB    2780268452        R\n",
    "    TL    2775935006    L*\n",
    "    KI    2759841743        R\n",
    "    RK    2736041446    L*\n",
    "    OG    2651165734        R\n",
    "    MS    2617582287    L*\n",
    "    RL    2432373251        R*\n",
    "    GU    2418410978        R*\n",
    "    FT    2302659749        R\n",
    "    WN    2227183930        R\n",
    "    VO    2004982879    L\n",
    "    NF    1894270041        R*\n",
    "    SM    1838392669    L*\n",
    "    FL    1830098844        R\n",
    "    IZ    1814164135    L\n",
    "    OK    1813376076        R\n",
    "    NL    1798491132    L*\n",
    "    JU    1655210582        R\n",
    "    SL    1575646777        R\n",
    "    JO    1516687319        R\n",
    "    LF    1507867867        R\n",
    "    NK    1455100124    L\n",
    "    KN    1450401608    L\n",
    "    GS    1443474876    L\n",
    "    HY    1412343465    L*\n",
    "    IK    1209994695        R\n",
    "    XI    1111463633    L\n",
    "    OY    1020190223    L\n",
    "    \n",
    "There are 24 bigrams with much worse finger transitions for the left layout,\n",
    "and 25 for the right layout (11/24 and 6/25 due to use of the same finger),\n",
    "so it's a draw.  We will use our right command character layout:\n",
    "\n",
    "                   Q  I  O  U        D  N  L  Y  Z\n",
    "                   P  H  E  A        T  S  R  C  X \n",
    "                   B  J  K  G        M  F  W  V"
   ]
  },
  {
   "cell_type": "markdown",
   "metadata": {
    "colab_type": "text",
    "id": "TPW3wZw2DzT7"
   },
   "source": [
    "## Step 4: Add punctuation marks and characters above similar-looking numbers  <a name=\"step4\">"
   ]
  },
  {
   "cell_type": "markdown",
   "metadata": {
    "colab_type": "raw",
    "id": "ul_j8VsZDzT7"
   },
   "source": [
    "### Frequency of punctuation marks\n",
    "\n",
    "  - Google N-grams and Twitter analysis: <br>\n",
    "\"Punctuation Input on Touchscreen Keyboards: Analyzing Frequency of Use and Costs\" <br>\n",
    "S Malik, L Findlater - College Park: The Human-Computer Interaction Lab. 2013 <br>\n",
    "https://www.cs.umd.edu/sites/default/files/scholarly_papers/Malik.pdf <br>\n",
    " \"the Twitter corpora included substantially higher punctuation use than the Google corpus,  <br>\n",
    " comprising 7.5% of characters in the mobile tweets and 7.6% in desktop versus only 4.4%...  <br>\n",
    "With the Google corpus,only 6 punctuation symbols (. -’ ( ) “) appeared more frequently than [q]\"\n",
    "\n",
    "  - \"Frequencies for English Punctuation Marks\" by Vivian Cook <br>\n",
    "http://www.viviancook.uk/Punctuation/PunctFigs.htm  <br>\n",
    " \"Based on a writing system corpus some 459 thousand words long.  <br> \n",
    " This includes three novels of different types (276 thousand words),  <br>\n",
    " selections of articles from two newspapers (55 thousand), <br> \n",
    "one bureaucratic report (94 thousand), and assorted academic papers <br>\n",
    "on language topics (34 thousand). More information is in <br>\n",
    "Cook, V.J. (2013) ‘Standard punctuation and the punctuation of the street’ <br>\n",
    "in M. Pawlak and L. Aronin (eds.), Essential Topics in Applied Linguistics and Multilingualism,  <br>\n",
    " Springer International Publishing Switzerland (2013), 267-290\"\n",
    "\n",
    "  - \"Computer Languages Character Frequency\"\n",
    "by Xah Lee.  <br>\n",
    "Date: 2013-05-23. Last updated: 2020-06-29. <br>\n",
    "http://xahlee.info/comp/computer_language_char_distribution.html <br>\n",
    "NOTE: biased toward C (19.8%) and Py (18.5%), which have high use of \"_\".\n",
    "\n",
    "Frequency: \n",
    "\n",
    "      Google:    Cook:            Xah:\n",
    "        %        /1000      All%  JS%   Py%\n",
    "\n",
    "    \"  2.284      26.7       3.9   1.6   6.2\n",
    "    .  1.151      65.3       6.6   9.4  10.3\n",
    "    ,             61.6       5.8   8.9   7.5\n",
    "    -  0.217      15.3       4.1   1.9   3.0\n",
    "    '  0.200      24.3       4.4   4.0   8.6\n",
    "    () 0.140                 7.4   9.8   8.1\n",
    "    ;  0.096       3.2       3.8   8.6\n",
    "    z  0.09         -         -\n",
    "    :  0.087       3.4       3.5   2.8   4.7\n",
    "    ?  0.032       5.6       0.3\n",
    "    /  0.019                 4.0   4.9   1.1\n",
    "    !  0.013       3.3       0.4\n",
    "    _                       11.0   2.9  10.5\n",
    "    =                        4.4  10.7   5.4\n",
    "    *                        3.6   2.1\n",
    "    >                        3.0         1.4\n",
    "    $                        2.7   1.6\n",
    "    #                        2.2         3.2\n",
    "    {}                       1.9   4.2\n",
    "    <                        1.3\n",
    "    &                        1.3\n",
    "    \\                        1.2         1.1\n",
    "    []                       0.9   1.9   1.2\n",
    "    @                        0.8\n",
    "    |                        0.6\n",
    "    +                        0.6   1.9\n",
    "    %                        0.4"
   ]
  },
  {
   "cell_type": "markdown",
   "metadata": {
    "colab_type": "text",
    "id": "sdl3lLOfDzT8"
   },
   "source": [
    "### Add punctuation keys and number keys\n",
    "\n",
    "                #  1  2  3  4  5  6  7  8  9  0  <  >\n",
    "\n",
    "                   Q  I  O  U  '  \"  D  N  L  Y  Z\n",
    "                   P  H  E  A  ,  .  T  S  R  C  X \n",
    "                   B  J  K  G  (  )  M  F  W  V\n"
   ]
  },
  {
   "cell_type": "markdown",
   "metadata": {
    "colab_type": "raw",
    "id": "7lqP4bDvDzT8"
   },
   "source": [
    "Shift to access similar-looking characters above the numbers, and swap the Backspace and Caps lock keys:\n",
    "\n",
    "\n",
    "           ~        !  =  ?  +  $  @  ^  &  %  *  <  >\n",
    "           #        1  2  3  4  5  6  7  8  9  0  [  ]     Caps\n",
    "\n",
    "         Tab        Q  I  O  U  '  \"  D  N  L  Y  Z  -     /\n",
    "         Back       P  H  E  A  ,  .  T  S  R  C  X        Enter\n",
    "         Shift      B  J  K  G  (  )  M  F  W  V           Shift\n",
    "\n",
    "         Ctrl  Fn  Cmd  Alt  Space   Alt  Ctrl       Arrows\n",
    "\n",
    "\n",
    "Shift to access less common, but similar-meaning punctuation (top):\n",
    "\n",
    "          ~    `    \\    ;    :    {    }    |    _\n",
    "          #    '    \"    ,    .    (    )    /    -\n"
   ]
  },
  {
   "cell_type": "code",
   "execution_count": null,
   "metadata": {
    "colab": {},
    "colab_type": "code",
    "id": "OTb_PhuQa8RY"
   },
   "outputs": [],
   "source": []
  }
 ],
 "metadata": {
  "colab": {
   "name": "engram-layout.ipynb",
   "provenance": []
  },
  "kernelspec": {
   "display_name": "Python 3",
   "language": "python",
   "name": "python3"
  },
  "language_info": {
   "codemirror_mode": {
    "name": "ipython",
    "version": 3
   },
   "file_extension": ".py",
   "mimetype": "text/x-python",
   "name": "python",
   "nbconvert_exporter": "python",
   "pygments_lexer": "ipython3",
   "version": "3.7.6"
  }
 },
 "nbformat": 4,
 "nbformat_minor": 4
}
